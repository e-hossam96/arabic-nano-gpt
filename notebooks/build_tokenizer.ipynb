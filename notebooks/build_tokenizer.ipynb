{
 "cells": [
  {
   "cell_type": "markdown",
   "metadata": {},
   "source": [
    "# Build Tokenizer\n",
    "\n",
    "In this notebook, we will create our gpt2-based tokenizer object to work with our data.\n"
   ]
  },
  {
   "cell_type": "code",
   "execution_count": 1,
   "metadata": {},
   "outputs": [],
   "source": [
    "import pandas as pd\n",
    "from rich import print\n",
    "import seaborn as sns\n",
    "from datasets import Dataset\n",
    "from transformers import AutoTokenizer"
   ]
  },
  {
   "cell_type": "code",
   "execution_count": 2,
   "metadata": {},
   "outputs": [],
   "source": [
    "sns.set_theme(context='notebook', style='dark')"
   ]
  },
  {
   "cell_type": "code",
   "execution_count": 3,
   "metadata": {},
   "outputs": [],
   "source": [
    "model_ckpt = 'openai-community/gpt2'"
   ]
  },
  {
   "cell_type": "code",
   "execution_count": 4,
   "metadata": {},
   "outputs": [
    {
     "data": {
      "text/html": [
       "<pre style=\"white-space:pre;overflow-x:auto;line-height:normal;font-family:Menlo,'DejaVu Sans Mono',consolas,'Courier New',monospace\"><span style=\"color: #800080; text-decoration-color: #800080; font-weight: bold\">GPT2TokenizerFast</span><span style=\"font-weight: bold\">(</span><span style=\"color: #808000; text-decoration-color: #808000\">name_or_path</span>=<span style=\"color: #008000; text-decoration-color: #008000\">'openai-community/gpt2'</span>, <span style=\"color: #808000; text-decoration-color: #808000\">vocab_size</span>=<span style=\"color: #008080; text-decoration-color: #008080; font-weight: bold\">50257</span>, <span style=\"color: #808000; text-decoration-color: #808000\">model_max_length</span>=<span style=\"color: #008080; text-decoration-color: #008080; font-weight: bold\">1024</span>, <span style=\"color: #808000; text-decoration-color: #808000\">is_fast</span>=<span style=\"color: #00ff00; text-decoration-color: #00ff00; font-style: italic\">True</span>, \n",
       "<span style=\"color: #808000; text-decoration-color: #808000\">padding_side</span>=<span style=\"color: #008000; text-decoration-color: #008000\">'right'</span>, <span style=\"color: #808000; text-decoration-color: #808000\">truncation_side</span>=<span style=\"color: #008000; text-decoration-color: #008000\">'right'</span>, <span style=\"color: #808000; text-decoration-color: #808000\">special_tokens</span>=<span style=\"font-weight: bold\">{</span><span style=\"color: #008000; text-decoration-color: #008000\">'bos_token'</span>: <span style=\"color: #008000; text-decoration-color: #008000\">'&lt;|endoftext|&gt;'</span><span style=\"color: #000000; text-decoration-color: #000000\">, </span><span style=\"color: #008000; text-decoration-color: #008000\">'eos_token'</span><span style=\"color: #000000; text-decoration-color: #000000\">: </span>\n",
       "<span style=\"color: #008000; text-decoration-color: #008000\">'&lt;|endoftext|&gt;'</span><span style=\"color: #000000; text-decoration-color: #000000\">, </span><span style=\"color: #008000; text-decoration-color: #008000\">'unk_token'</span><span style=\"color: #000000; text-decoration-color: #000000\">: </span><span style=\"color: #008000; text-decoration-color: #008000\">'&lt;|endoftext|&gt;'</span><span style=\"color: #000000; text-decoration-color: #000000; font-weight: bold\">}</span><span style=\"color: #000000; text-decoration-color: #000000\">, </span><span style=\"color: #808000; text-decoration-color: #808000\">clean_up_tokenization_spaces</span><span style=\"color: #000000; text-decoration-color: #000000\">=</span><span style=\"color: #ff0000; text-decoration-color: #ff0000; font-style: italic\">False</span><span style=\"color: #000000; text-decoration-color: #000000; font-weight: bold\">)</span><span style=\"color: #000000; text-decoration-color: #000000\">,  </span><span style=\"color: #808000; text-decoration-color: #808000\">added_tokens_decoder</span><span style=\"color: #000000; text-decoration-color: #000000\">=</span><span style=\"color: #000000; text-decoration-color: #000000; font-weight: bold\">{</span>\n",
       "<span style=\"color: #000000; text-decoration-color: #000000\">        </span><span style=\"color: #008080; text-decoration-color: #008080; font-weight: bold\">50256</span><span style=\"color: #000000; text-decoration-color: #000000\">: </span><span style=\"color: #800080; text-decoration-color: #800080; font-weight: bold\">AddedToken</span><span style=\"color: #000000; text-decoration-color: #000000; font-weight: bold\">(</span><span style=\"color: #008000; text-decoration-color: #008000\">\"&lt;|endoftext|&gt;\"</span>, <span style=\"color: #808000; text-decoration-color: #808000\">rstrip</span>=<span style=\"color: #ff0000; text-decoration-color: #ff0000; font-style: italic\">False</span>, <span style=\"color: #808000; text-decoration-color: #808000\">lstrip</span>=<span style=\"color: #ff0000; text-decoration-color: #ff0000; font-style: italic\">False</span>, <span style=\"color: #808000; text-decoration-color: #808000\">single_word</span>=<span style=\"color: #ff0000; text-decoration-color: #ff0000; font-style: italic\">False</span>, <span style=\"color: #808000; text-decoration-color: #808000\">normalized</span>=<span style=\"color: #00ff00; text-decoration-color: #00ff00; font-style: italic\">True</span>, \n",
       "<span style=\"color: #808000; text-decoration-color: #808000\">special</span>=<span style=\"color: #00ff00; text-decoration-color: #00ff00; font-style: italic\">True</span><span style=\"font-weight: bold\">)</span>,\n",
       "<span style=\"font-weight: bold\">}</span>\n",
       "</pre>\n"
      ],
      "text/plain": [
       "\u001b[1;35mGPT2TokenizerFast\u001b[0m\u001b[1m(\u001b[0m\u001b[33mname_or_path\u001b[0m=\u001b[32m'openai-community/gpt2'\u001b[0m, \u001b[33mvocab_size\u001b[0m=\u001b[1;36m50257\u001b[0m, \u001b[33mmodel_max_length\u001b[0m=\u001b[1;36m1024\u001b[0m, \u001b[33mis_fast\u001b[0m=\u001b[3;92mTrue\u001b[0m, \n",
       "\u001b[33mpadding_side\u001b[0m=\u001b[32m'right'\u001b[0m, \u001b[33mtruncation_side\u001b[0m=\u001b[32m'right'\u001b[0m, \u001b[33mspecial_tokens\u001b[0m=\u001b[1m{\u001b[0m\u001b[32m'bos_token'\u001b[0m: \u001b[32m'\u001b[0m\u001b[32m<\u001b[0m\u001b[32m|endoftext|\u001b[0m\u001b[32m>'\u001b[0m\u001b[39m, \u001b[0m\u001b[32m'eos_token'\u001b[0m\u001b[39m: \u001b[0m\n",
       "\u001b[32m'<|endoftext|>'\u001b[0m\u001b[39m, \u001b[0m\u001b[32m'unk_token'\u001b[0m\u001b[39m: \u001b[0m\u001b[32m'<|endoftext|>'\u001b[0m\u001b[1;39m}\u001b[0m\u001b[39m, \u001b[0m\u001b[33mclean_up_tokenization_spaces\u001b[0m\u001b[39m=\u001b[0m\u001b[3;91mFalse\u001b[0m\u001b[1;39m)\u001b[0m\u001b[39m,  \u001b[0m\u001b[33madded_tokens_decoder\u001b[0m\u001b[39m=\u001b[0m\u001b[1;39m{\u001b[0m\n",
       "\u001b[39m        \u001b[0m\u001b[1;36m50256\u001b[0m\u001b[39m: \u001b[0m\u001b[1;35mAddedToken\u001b[0m\u001b[1;39m(\u001b[0m\u001b[32m\"<|endoftext|\u001b[0m\u001b[32m>\u001b[0m\u001b[32m\"\u001b[0m, \u001b[33mrstrip\u001b[0m=\u001b[3;91mFalse\u001b[0m, \u001b[33mlstrip\u001b[0m=\u001b[3;91mFalse\u001b[0m, \u001b[33msingle_word\u001b[0m=\u001b[3;91mFalse\u001b[0m, \u001b[33mnormalized\u001b[0m=\u001b[3;92mTrue\u001b[0m, \n",
       "\u001b[33mspecial\u001b[0m=\u001b[3;92mTrue\u001b[0m\u001b[1m)\u001b[0m,\n",
       "\u001b[1m}\u001b[0m\n"
      ]
     },
     "metadata": {},
     "output_type": "display_data"
    }
   ],
   "source": [
    "tokenizer = AutoTokenizer.from_pretrained(model_ckpt)  # model_max_length=128\n",
    "print(tokenizer)"
   ]
  },
  {
   "cell_type": "code",
   "execution_count": 5,
   "metadata": {},
   "outputs": [],
   "source": [
    "data = pd.read_csv('../data/wikipeda.csv')"
   ]
  },
  {
   "cell_type": "code",
   "execution_count": 6,
   "metadata": {},
   "outputs": [
    {
     "name": "stdout",
     "output_type": "stream",
     "text": [
      "<class 'pandas.core.frame.DataFrame'>\n",
      "RangeIndex: 652615 entries, 0 to 652614\n",
      "Data columns (total 1 columns):\n",
      " #   Column  Non-Null Count   Dtype \n",
      "---  ------  --------------   ----- \n",
      " 0   text    652615 non-null  object\n",
      "dtypes: object(1)\n",
      "memory usage: 5.0+ MB\n"
     ]
    }
   ],
   "source": [
    "data.info()"
   ]
  },
  {
   "cell_type": "code",
   "execution_count": 7,
   "metadata": {},
   "outputs": [
    {
     "data": {
      "text/html": [
       "<pre style=\"white-space:pre;overflow-x:auto;line-height:normal;font-family:Menlo,'DejaVu Sans Mono',consolas,'Courier New',monospace\"><span style=\"color: #800080; text-decoration-color: #800080; font-weight: bold\">Dataset</span><span style=\"font-weight: bold\">({</span>\n",
       "    features: <span style=\"font-weight: bold\">[</span><span style=\"color: #008000; text-decoration-color: #008000\">'text'</span><span style=\"font-weight: bold\">]</span>,\n",
       "    num_rows: <span style=\"color: #008080; text-decoration-color: #008080; font-weight: bold\">652615</span>\n",
       "<span style=\"font-weight: bold\">})</span>\n",
       "</pre>\n"
      ],
      "text/plain": [
       "\u001b[1;35mDataset\u001b[0m\u001b[1m(\u001b[0m\u001b[1m{\u001b[0m\n",
       "    features: \u001b[1m[\u001b[0m\u001b[32m'text'\u001b[0m\u001b[1m]\u001b[0m,\n",
       "    num_rows: \u001b[1;36m652615\u001b[0m\n",
       "\u001b[1m}\u001b[0m\u001b[1m)\u001b[0m\n"
      ]
     },
     "metadata": {},
     "output_type": "display_data"
    }
   ],
   "source": [
    "data = Dataset.from_pandas(data)\n",
    "print(data)"
   ]
  },
  {
   "cell_type": "code",
   "execution_count": 8,
   "metadata": {},
   "outputs": [
    {
     "data": {
      "text/html": [
       "<pre style=\"white-space:pre;overflow-x:auto;line-height:normal;font-family:Menlo,'DejaVu Sans Mono',consolas,'Courier New',monospace\">الماء مادة شفافة عديمة اللون والرائحة، وهو المكون الأساسي للجداول والبحيرات والبحار والمحيطات وكذلك للسوائل في جميع\n",
       "الكائنات الحية، وهو أكثر المركبات الكيميائية انتشارا على سطح الأرض. يتألف جزيء الماء من ذرة أكسجين مركزية ترتبط بها\n",
       "ذرتا هيدروجين على طرفيها برابطة تساهمية بحيث تكون صيغته الكيميائية H2O. عند الظروف القياسية من الضغط ودرجة الحرارة \n",
       "يكون الماء سائلا؛ أما الحالة الصلبة فتتشكل عند نقطة التجمد، وتدعى بالجليد؛ أما الحالة الغازية فتتشكل عند نقطة \n",
       "الغليان، وتسمى بخار الماء.\n",
       "</pre>\n"
      ],
      "text/plain": [
       "الماء مادة شفافة عديمة اللون والرائحة، وهو المكون الأساسي للجداول والبحيرات والبحار والمحيطات وكذلك للسوائل في جميع\n",
       "الكائنات الحية، وهو أكثر المركبات الكيميائية انتشارا على سطح الأرض. يتألف جزيء الماء من ذرة أكسجين مركزية ترتبط بها\n",
       "ذرتا هيدروجين على طرفيها برابطة تساهمية بحيث تكون صيغته الكيميائية H2O. عند الظروف القياسية من الضغط ودرجة الحرارة \n",
       "يكون الماء سائلا؛ أما الحالة الصلبة فتتشكل عند نقطة التجمد، وتدعى بالجليد؛ أما الحالة الغازية فتتشكل عند نقطة \n",
       "الغليان، وتسمى بخار الماء.\n"
      ]
     },
     "metadata": {},
     "output_type": "display_data"
    }
   ],
   "source": [
    "sample_text = data['text'][0]\n",
    "print(sample_text)"
   ]
  },
  {
   "cell_type": "code",
   "execution_count": 9,
   "metadata": {},
   "outputs": [],
   "source": [
    "def get_data_iterator(data, batch_size: int = 512):\n",
    "    for i in range(0, len(data), batch_size):\n",
    "        yield data[i: i + batch_size]['text']\n",
    "\n",
    "\n",
    "data_generator = get_data_iterator(data)"
   ]
  },
  {
   "cell_type": "code",
   "execution_count": 10,
   "metadata": {},
   "outputs": [
    {
     "name": "stdout",
     "output_type": "stream",
     "text": [
      "\n",
      "\n",
      "\n"
     ]
    }
   ],
   "source": [
    "new_tokenizer = tokenizer.train_new_from_iterator(data_generator, vocab_size=6144)"
   ]
  },
  {
   "cell_type": "code",
   "execution_count": 11,
   "metadata": {},
   "outputs": [
    {
     "data": {
      "text/html": [
       "<pre style=\"white-space:pre;overflow-x:auto;line-height:normal;font-family:Menlo,'DejaVu Sans Mono',consolas,'Courier New',monospace\"><span style=\"color: #800080; text-decoration-color: #800080; font-weight: bold\">GPT2TokenizerFast</span><span style=\"font-weight: bold\">(</span><span style=\"color: #808000; text-decoration-color: #808000\">name_or_path</span>=<span style=\"color: #008000; text-decoration-color: #008000\">'openai-community/gpt2'</span>, <span style=\"color: #808000; text-decoration-color: #808000\">vocab_size</span>=<span style=\"color: #008080; text-decoration-color: #008080; font-weight: bold\">6144</span>, <span style=\"color: #808000; text-decoration-color: #808000\">model_max_length</span>=<span style=\"color: #008080; text-decoration-color: #008080; font-weight: bold\">1024</span>, <span style=\"color: #808000; text-decoration-color: #808000\">is_fast</span>=<span style=\"color: #00ff00; text-decoration-color: #00ff00; font-style: italic\">True</span>, \n",
       "<span style=\"color: #808000; text-decoration-color: #808000\">padding_side</span>=<span style=\"color: #008000; text-decoration-color: #008000\">'right'</span>, <span style=\"color: #808000; text-decoration-color: #808000\">truncation_side</span>=<span style=\"color: #008000; text-decoration-color: #008000\">'right'</span>, <span style=\"color: #808000; text-decoration-color: #808000\">special_tokens</span>=<span style=\"font-weight: bold\">{</span><span style=\"color: #008000; text-decoration-color: #008000\">'bos_token'</span>: <span style=\"color: #008000; text-decoration-color: #008000\">'&lt;|endoftext|&gt;'</span><span style=\"color: #000000; text-decoration-color: #000000\">, </span><span style=\"color: #008000; text-decoration-color: #008000\">'eos_token'</span><span style=\"color: #000000; text-decoration-color: #000000\">: </span>\n",
       "<span style=\"color: #008000; text-decoration-color: #008000\">'&lt;|endoftext|&gt;'</span><span style=\"color: #000000; text-decoration-color: #000000\">, </span><span style=\"color: #008000; text-decoration-color: #008000\">'unk_token'</span><span style=\"color: #000000; text-decoration-color: #000000\">: </span><span style=\"color: #008000; text-decoration-color: #008000\">'&lt;|endoftext|&gt;'</span><span style=\"color: #000000; text-decoration-color: #000000; font-weight: bold\">}</span><span style=\"color: #000000; text-decoration-color: #000000\">, </span><span style=\"color: #808000; text-decoration-color: #808000\">clean_up_tokenization_spaces</span><span style=\"color: #000000; text-decoration-color: #000000\">=</span><span style=\"color: #ff0000; text-decoration-color: #ff0000; font-style: italic\">False</span><span style=\"color: #000000; text-decoration-color: #000000; font-weight: bold\">)</span><span style=\"color: #000000; text-decoration-color: #000000\">,  </span><span style=\"color: #808000; text-decoration-color: #808000\">added_tokens_decoder</span><span style=\"color: #000000; text-decoration-color: #000000\">=</span><span style=\"color: #000000; text-decoration-color: #000000; font-weight: bold\">{</span>\n",
       "<span style=\"color: #000000; text-decoration-color: #000000\">        </span><span style=\"color: #008080; text-decoration-color: #008080; font-weight: bold\">0</span><span style=\"color: #000000; text-decoration-color: #000000\">: </span><span style=\"color: #800080; text-decoration-color: #800080; font-weight: bold\">AddedToken</span><span style=\"color: #000000; text-decoration-color: #000000; font-weight: bold\">(</span><span style=\"color: #008000; text-decoration-color: #008000\">\"&lt;|endoftext|&gt;\"</span>, <span style=\"color: #808000; text-decoration-color: #808000\">rstrip</span>=<span style=\"color: #ff0000; text-decoration-color: #ff0000; font-style: italic\">False</span>, <span style=\"color: #808000; text-decoration-color: #808000\">lstrip</span>=<span style=\"color: #ff0000; text-decoration-color: #ff0000; font-style: italic\">False</span>, <span style=\"color: #808000; text-decoration-color: #808000\">single_word</span>=<span style=\"color: #ff0000; text-decoration-color: #ff0000; font-style: italic\">False</span>, <span style=\"color: #808000; text-decoration-color: #808000\">normalized</span>=<span style=\"color: #00ff00; text-decoration-color: #00ff00; font-style: italic\">True</span>, \n",
       "<span style=\"color: #808000; text-decoration-color: #808000\">special</span>=<span style=\"color: #00ff00; text-decoration-color: #00ff00; font-style: italic\">True</span><span style=\"font-weight: bold\">)</span>,\n",
       "<span style=\"font-weight: bold\">}</span>\n",
       "</pre>\n"
      ],
      "text/plain": [
       "\u001b[1;35mGPT2TokenizerFast\u001b[0m\u001b[1m(\u001b[0m\u001b[33mname_or_path\u001b[0m=\u001b[32m'openai-community/gpt2'\u001b[0m, \u001b[33mvocab_size\u001b[0m=\u001b[1;36m6144\u001b[0m, \u001b[33mmodel_max_length\u001b[0m=\u001b[1;36m1024\u001b[0m, \u001b[33mis_fast\u001b[0m=\u001b[3;92mTrue\u001b[0m, \n",
       "\u001b[33mpadding_side\u001b[0m=\u001b[32m'right'\u001b[0m, \u001b[33mtruncation_side\u001b[0m=\u001b[32m'right'\u001b[0m, \u001b[33mspecial_tokens\u001b[0m=\u001b[1m{\u001b[0m\u001b[32m'bos_token'\u001b[0m: \u001b[32m'\u001b[0m\u001b[32m<\u001b[0m\u001b[32m|endoftext|\u001b[0m\u001b[32m>'\u001b[0m\u001b[39m, \u001b[0m\u001b[32m'eos_token'\u001b[0m\u001b[39m: \u001b[0m\n",
       "\u001b[32m'<|endoftext|>'\u001b[0m\u001b[39m, \u001b[0m\u001b[32m'unk_token'\u001b[0m\u001b[39m: \u001b[0m\u001b[32m'<|endoftext|>'\u001b[0m\u001b[1;39m}\u001b[0m\u001b[39m, \u001b[0m\u001b[33mclean_up_tokenization_spaces\u001b[0m\u001b[39m=\u001b[0m\u001b[3;91mFalse\u001b[0m\u001b[1;39m)\u001b[0m\u001b[39m,  \u001b[0m\u001b[33madded_tokens_decoder\u001b[0m\u001b[39m=\u001b[0m\u001b[1;39m{\u001b[0m\n",
       "\u001b[39m        \u001b[0m\u001b[1;36m0\u001b[0m\u001b[39m: \u001b[0m\u001b[1;35mAddedToken\u001b[0m\u001b[1;39m(\u001b[0m\u001b[32m\"<|endoftext|\u001b[0m\u001b[32m>\u001b[0m\u001b[32m\"\u001b[0m, \u001b[33mrstrip\u001b[0m=\u001b[3;91mFalse\u001b[0m, \u001b[33mlstrip\u001b[0m=\u001b[3;91mFalse\u001b[0m, \u001b[33msingle_word\u001b[0m=\u001b[3;91mFalse\u001b[0m, \u001b[33mnormalized\u001b[0m=\u001b[3;92mTrue\u001b[0m, \n",
       "\u001b[33mspecial\u001b[0m=\u001b[3;92mTrue\u001b[0m\u001b[1m)\u001b[0m,\n",
       "\u001b[1m}\u001b[0m\n"
      ]
     },
     "metadata": {},
     "output_type": "display_data"
    }
   ],
   "source": [
    "print(new_tokenizer)"
   ]
  },
  {
   "cell_type": "code",
   "execution_count": 12,
   "metadata": {},
   "outputs": [
    {
     "name": "stderr",
     "output_type": "stream",
     "text": [
      "Parameter 'function'=<function <lambda> at 0x7fb8e2150860> of the transform datasets.arrow_dataset.Dataset._map_single couldn't be hashed properly, a random hash was used instead. Make sure your transforms and parameters are serializable with pickle or dill for the dataset fingerprinting and caching to work. If you reuse this transform, the caching mechanism will consider it to be different from the previous calls and recompute everything. This warning is only showed once. Subsequent hashing failures won't be showed.\n"
     ]
    },
    {
     "data": {
      "application/vnd.jupyter.widget-view+json": {
       "model_id": "37a1b58721414320900074f691e1aa26",
       "version_major": 2,
       "version_minor": 0
      },
      "text/plain": [
       "Map:   0%|          | 0/652615 [00:00<?, ? examples/s]"
      ]
     },
     "metadata": {},
     "output_type": "display_data"
    },
    {
     "name": "stderr",
     "output_type": "stream",
     "text": [
      "Token indices sequence length is longer than the specified maximum sequence length for this model (1512 > 1024). Running this sequence through the model will result in indexing errors\n"
     ]
    },
    {
     "data": {
      "text/html": [
       "<pre style=\"white-space:pre;overflow-x:auto;line-height:normal;font-family:Menlo,'DejaVu Sans Mono',consolas,'Courier New',monospace\"><span style=\"color: #800080; text-decoration-color: #800080; font-weight: bold\">Dataset</span><span style=\"font-weight: bold\">({</span>\n",
       "    features: <span style=\"font-weight: bold\">[</span><span style=\"color: #008000; text-decoration-color: #008000\">'text'</span>, <span style=\"color: #008000; text-decoration-color: #008000\">'input_ids'</span>, <span style=\"color: #008000; text-decoration-color: #008000\">'attention_mask'</span><span style=\"font-weight: bold\">]</span>,\n",
       "    num_rows: <span style=\"color: #008080; text-decoration-color: #008080; font-weight: bold\">652615</span>\n",
       "<span style=\"font-weight: bold\">})</span>\n",
       "</pre>\n"
      ],
      "text/plain": [
       "\u001b[1;35mDataset\u001b[0m\u001b[1m(\u001b[0m\u001b[1m{\u001b[0m\n",
       "    features: \u001b[1m[\u001b[0m\u001b[32m'text'\u001b[0m, \u001b[32m'input_ids'\u001b[0m, \u001b[32m'attention_mask'\u001b[0m\u001b[1m]\u001b[0m,\n",
       "    num_rows: \u001b[1;36m652615\u001b[0m\n",
       "\u001b[1m}\u001b[0m\u001b[1m)\u001b[0m\n"
      ]
     },
     "metadata": {},
     "output_type": "display_data"
    }
   ],
   "source": [
    "tokenized_data = data.map(lambda x: new_tokenizer(x['text']), batched=True)\n",
    "print(tokenized_data)"
   ]
  },
  {
   "cell_type": "code",
   "execution_count": 13,
   "metadata": {},
   "outputs": [
    {
     "data": {
      "text/html": [
       "<pre style=\"white-space:pre;overflow-x:auto;line-height:normal;font-family:Menlo,'DejaVu Sans Mono',consolas,'Courier New',monospace\"><span style=\"font-weight: bold\">[</span>\n",
       "    <span style=\"color: #008080; text-decoration-color: #008080; font-weight: bold\">469</span>,\n",
       "    <span style=\"color: #008080; text-decoration-color: #008080; font-weight: bold\">336</span>,\n",
       "    <span style=\"color: #008080; text-decoration-color: #008080; font-weight: bold\">4281</span>,\n",
       "    <span style=\"color: #008080; text-decoration-color: #008080; font-weight: bold\">359</span>,\n",
       "    <span style=\"color: #008080; text-decoration-color: #008080; font-weight: bold\">270</span>,\n",
       "    <span style=\"color: #008080; text-decoration-color: #008080; font-weight: bold\">587</span>,\n",
       "    <span style=\"color: #008080; text-decoration-color: #008080; font-weight: bold\">2309</span>,\n",
       "    <span style=\"color: #008080; text-decoration-color: #008080; font-weight: bold\">800</span>,\n",
       "    <span style=\"color: #008080; text-decoration-color: #008080; font-weight: bold\">3884</span>,\n",
       "    <span style=\"color: #008080; text-decoration-color: #008080; font-weight: bold\">1595</span>,\n",
       "    <span style=\"color: #008080; text-decoration-color: #008080; font-weight: bold\">6044</span>,\n",
       "    <span style=\"color: #008080; text-decoration-color: #008080; font-weight: bold\">287</span>,\n",
       "    <span style=\"color: #008080; text-decoration-color: #008080; font-weight: bold\">661</span>,\n",
       "    <span style=\"color: #008080; text-decoration-color: #008080; font-weight: bold\">4902</span>,\n",
       "    <span style=\"color: #008080; text-decoration-color: #008080; font-weight: bold\">4354</span>,\n",
       "    <span style=\"color: #008080; text-decoration-color: #008080; font-weight: bold\">2849</span>,\n",
       "    <span style=\"color: #008080; text-decoration-color: #008080; font-weight: bold\">719</span>,\n",
       "    <span style=\"color: #008080; text-decoration-color: #008080; font-weight: bold\">315</span>,\n",
       "    <span style=\"color: #008080; text-decoration-color: #008080; font-weight: bold\">318</span>,\n",
       "    <span style=\"color: #008080; text-decoration-color: #008080; font-weight: bold\">1519</span>,\n",
       "    <span style=\"color: #008080; text-decoration-color: #008080; font-weight: bold\">1808</span>,\n",
       "    <span style=\"color: #008080; text-decoration-color: #008080; font-weight: bold\">318</span>,\n",
       "    <span style=\"color: #008080; text-decoration-color: #008080; font-weight: bold\">1519</span>,\n",
       "    <span style=\"color: #008080; text-decoration-color: #008080; font-weight: bold\">300</span>,\n",
       "    <span style=\"color: #008080; text-decoration-color: #008080; font-weight: bold\">601</span>,\n",
       "    <span style=\"color: #008080; text-decoration-color: #008080; font-weight: bold\">582</span>,\n",
       "    <span style=\"color: #008080; text-decoration-color: #008080; font-weight: bold\">1649</span>,\n",
       "    <span style=\"color: #008080; text-decoration-color: #008080; font-weight: bold\">1753</span>,\n",
       "    <span style=\"color: #008080; text-decoration-color: #008080; font-weight: bold\">1938</span>,\n",
       "    <span style=\"color: #008080; text-decoration-color: #008080; font-weight: bold\">263</span>,\n",
       "    <span style=\"color: #008080; text-decoration-color: #008080; font-weight: bold\">684</span>,\n",
       "    <span style=\"color: #008080; text-decoration-color: #008080; font-weight: bold\">289</span>,\n",
       "    <span style=\"color: #008080; text-decoration-color: #008080; font-weight: bold\">990</span>,\n",
       "    <span style=\"color: #008080; text-decoration-color: #008080; font-weight: bold\">5462</span>,\n",
       "    <span style=\"color: #008080; text-decoration-color: #008080; font-weight: bold\">5795</span>,\n",
       "    <span style=\"color: #008080; text-decoration-color: #008080; font-weight: bold\">287</span>,\n",
       "    <span style=\"color: #008080; text-decoration-color: #008080; font-weight: bold\">661</span>,\n",
       "    <span style=\"color: #008080; text-decoration-color: #008080; font-weight: bold\">757</span>,\n",
       "    <span style=\"color: #008080; text-decoration-color: #008080; font-weight: bold\">2451</span>,\n",
       "    <span style=\"color: #008080; text-decoration-color: #008080; font-weight: bold\">776</span>,\n",
       "    <span style=\"color: #008080; text-decoration-color: #008080; font-weight: bold\">4282</span>,\n",
       "    <span style=\"color: #008080; text-decoration-color: #008080; font-weight: bold\">706</span>,\n",
       "    <span style=\"color: #008080; text-decoration-color: #008080; font-weight: bold\">302</span>,\n",
       "    <span style=\"color: #008080; text-decoration-color: #008080; font-weight: bold\">1157</span>,\n",
       "    <span style=\"color: #008080; text-decoration-color: #008080; font-weight: bold\">337</span>,\n",
       "    <span style=\"color: #008080; text-decoration-color: #008080; font-weight: bold\">2535</span>,\n",
       "    <span style=\"color: #008080; text-decoration-color: #008080; font-weight: bold\">1297</span>,\n",
       "    <span style=\"color: #008080; text-decoration-color: #008080; font-weight: bold\">14</span>,\n",
       "    <span style=\"color: #008080; text-decoration-color: #008080; font-weight: bold\">672</span>,\n",
       "    <span style=\"color: #008080; text-decoration-color: #008080; font-weight: bold\">3033</span>,\n",
       "    <span style=\"color: #008080; text-decoration-color: #008080; font-weight: bold\">338</span>,\n",
       "    <span style=\"color: #008080; text-decoration-color: #008080; font-weight: bold\">697</span>,\n",
       "    <span style=\"color: #008080; text-decoration-color: #008080; font-weight: bold\">631</span>,\n",
       "    <span style=\"color: #008080; text-decoration-color: #008080; font-weight: bold\">2034</span>,\n",
       "    <span style=\"color: #008080; text-decoration-color: #008080; font-weight: bold\">297</span>,\n",
       "    <span style=\"color: #008080; text-decoration-color: #008080; font-weight: bold\">428</span>,\n",
       "    <span style=\"color: #008080; text-decoration-color: #008080; font-weight: bold\">353</span>,\n",
       "    <span style=\"color: #008080; text-decoration-color: #008080; font-weight: bold\">521</span>,\n",
       "    <span style=\"color: #008080; text-decoration-color: #008080; font-weight: bold\">279</span>,\n",
       "    <span style=\"color: #008080; text-decoration-color: #008080; font-weight: bold\">1674</span>,\n",
       "    <span style=\"color: #008080; text-decoration-color: #008080; font-weight: bold\">1333</span>,\n",
       "    <span style=\"color: #008080; text-decoration-color: #008080; font-weight: bold\">282</span>,\n",
       "    <span style=\"color: #008080; text-decoration-color: #008080; font-weight: bold\">910</span>,\n",
       "    <span style=\"color: #008080; text-decoration-color: #008080; font-weight: bold\">2456</span>,\n",
       "    <span style=\"color: #008080; text-decoration-color: #008080; font-weight: bold\">904</span>,\n",
       "    <span style=\"color: #008080; text-decoration-color: #008080; font-weight: bold\">428</span>,\n",
       "    <span style=\"color: #008080; text-decoration-color: #008080; font-weight: bold\">1458</span>,\n",
       "    <span style=\"color: #008080; text-decoration-color: #008080; font-weight: bold\">257</span>,\n",
       "    <span style=\"color: #008080; text-decoration-color: #008080; font-weight: bold\">330</span>,\n",
       "    <span style=\"color: #008080; text-decoration-color: #008080; font-weight: bold\">2610</span>,\n",
       "    <span style=\"color: #008080; text-decoration-color: #008080; font-weight: bold\">1674</span>,\n",
       "    <span style=\"color: #008080; text-decoration-color: #008080; font-weight: bold\">337</span>,\n",
       "    <span style=\"color: #008080; text-decoration-color: #008080; font-weight: bold\">2324</span>,\n",
       "    <span style=\"color: #008080; text-decoration-color: #008080; font-weight: bold\">372</span>,\n",
       "    <span style=\"color: #008080; text-decoration-color: #008080; font-weight: bold\">316</span>,\n",
       "    <span style=\"color: #008080; text-decoration-color: #008080; font-weight: bold\">711</span>,\n",
       "    <span style=\"color: #008080; text-decoration-color: #008080; font-weight: bold\">2939</span>,\n",
       "    <span style=\"color: #008080; text-decoration-color: #008080; font-weight: bold\">295</span>,\n",
       "    <span style=\"color: #008080; text-decoration-color: #008080; font-weight: bold\">4327</span>,\n",
       "    <span style=\"color: #008080; text-decoration-color: #008080; font-weight: bold\">282</span>,\n",
       "    <span style=\"color: #008080; text-decoration-color: #008080; font-weight: bold\">3149</span>,\n",
       "    <span style=\"color: #008080; text-decoration-color: #008080; font-weight: bold\">1104</span>,\n",
       "    <span style=\"color: #008080; text-decoration-color: #008080; font-weight: bold\">4211</span>,\n",
       "    <span style=\"color: #008080; text-decoration-color: #008080; font-weight: bold\">322</span>,\n",
       "    <span style=\"color: #008080; text-decoration-color: #008080; font-weight: bold\">473</span>,\n",
       "    <span style=\"color: #008080; text-decoration-color: #008080; font-weight: bold\">4282</span>,\n",
       "    <span style=\"color: #008080; text-decoration-color: #008080; font-weight: bold\">2005</span>,\n",
       "    <span style=\"color: #008080; text-decoration-color: #008080; font-weight: bold\">18</span>,\n",
       "    <span style=\"color: #008080; text-decoration-color: #008080; font-weight: bold\">47</span>,\n",
       "    <span style=\"color: #008080; text-decoration-color: #008080; font-weight: bold\">14</span>,\n",
       "    <span style=\"color: #008080; text-decoration-color: #008080; font-weight: bold\">637</span>,\n",
       "    <span style=\"color: #008080; text-decoration-color: #008080; font-weight: bold\">5895</span>,\n",
       "    <span style=\"color: #008080; text-decoration-color: #008080; font-weight: bold\">1642</span>,\n",
       "    <span style=\"color: #008080; text-decoration-color: #008080; font-weight: bold\">841</span>,\n",
       "    <span style=\"color: #008080; text-decoration-color: #008080; font-weight: bold\">297</span>,\n",
       "    <span style=\"color: #008080; text-decoration-color: #008080; font-weight: bold\">4364</span>,\n",
       "    <span style=\"color: #008080; text-decoration-color: #008080; font-weight: bold\">278</span>,\n",
       "    <span style=\"color: #008080; text-decoration-color: #008080; font-weight: bold\">2966</span>,\n",
       "    <span style=\"color: #008080; text-decoration-color: #008080; font-weight: bold\">2648</span>,\n",
       "    <span style=\"color: #008080; text-decoration-color: #008080; font-weight: bold\">975</span>,\n",
       "    <span style=\"color: #008080; text-decoration-color: #008080; font-weight: bold\">2034</span>,\n",
       "    <span style=\"color: #008080; text-decoration-color: #008080; font-weight: bold\">320</span>,\n",
       "    <span style=\"color: #008080; text-decoration-color: #008080; font-weight: bold\">334</span>,\n",
       "    <span style=\"color: #008080; text-decoration-color: #008080; font-weight: bold\">423</span>,\n",
       "    <span style=\"color: #008080; text-decoration-color: #008080; font-weight: bold\">827</span>,\n",
       "    <span style=\"color: #008080; text-decoration-color: #008080; font-weight: bold\">1076</span>,\n",
       "    <span style=\"color: #008080; text-decoration-color: #008080; font-weight: bold\">3423</span>,\n",
       "    <span style=\"color: #008080; text-decoration-color: #008080; font-weight: bold\">3040</span>,\n",
       "    <span style=\"color: #008080; text-decoration-color: #008080; font-weight: bold\">527</span>,\n",
       "    <span style=\"color: #008080; text-decoration-color: #008080; font-weight: bold\">1975</span>,\n",
       "    <span style=\"color: #008080; text-decoration-color: #008080; font-weight: bold\">271</span>,\n",
       "    <span style=\"color: #008080; text-decoration-color: #008080; font-weight: bold\">653</span>,\n",
       "    <span style=\"color: #008080; text-decoration-color: #008080; font-weight: bold\">637</span>,\n",
       "    <span style=\"color: #008080; text-decoration-color: #008080; font-weight: bold\">3031</span>,\n",
       "    <span style=\"color: #008080; text-decoration-color: #008080; font-weight: bold\">1164</span>,\n",
       "    <span style=\"color: #008080; text-decoration-color: #008080; font-weight: bold\">432</span>,\n",
       "    <span style=\"color: #008080; text-decoration-color: #008080; font-weight: bold\">287</span>,\n",
       "    <span style=\"color: #008080; text-decoration-color: #008080; font-weight: bold\">422</span>,\n",
       "    <span style=\"color: #008080; text-decoration-color: #008080; font-weight: bold\">272</span>,\n",
       "    <span style=\"color: #008080; text-decoration-color: #008080; font-weight: bold\">1700</span>,\n",
       "    <span style=\"color: #008080; text-decoration-color: #008080; font-weight: bold\">376</span>,\n",
       "    <span style=\"color: #008080; text-decoration-color: #008080; font-weight: bold\">931</span>,\n",
       "    <span style=\"color: #008080; text-decoration-color: #008080; font-weight: bold\">272</span>,\n",
       "    <span style=\"color: #008080; text-decoration-color: #008080; font-weight: bold\">827</span>,\n",
       "    <span style=\"color: #008080; text-decoration-color: #008080; font-weight: bold\">1076</span>,\n",
       "    <span style=\"color: #008080; text-decoration-color: #008080; font-weight: bold\">3423</span>,\n",
       "    <span style=\"color: #008080; text-decoration-color: #008080; font-weight: bold\">548</span>,\n",
       "    <span style=\"color: #008080; text-decoration-color: #008080; font-weight: bold\">3568</span>,\n",
       "    <span style=\"color: #008080; text-decoration-color: #008080; font-weight: bold\">1975</span>,\n",
       "    <span style=\"color: #008080; text-decoration-color: #008080; font-weight: bold\">271</span>,\n",
       "    <span style=\"color: #008080; text-decoration-color: #008080; font-weight: bold\">653</span>,\n",
       "    <span style=\"color: #008080; text-decoration-color: #008080; font-weight: bold\">637</span>,\n",
       "    <span style=\"color: #008080; text-decoration-color: #008080; font-weight: bold\">3031</span>,\n",
       "    <span style=\"color: #008080; text-decoration-color: #008080; font-weight: bold\">548</span>,\n",
       "    <span style=\"color: #008080; text-decoration-color: #008080; font-weight: bold\">333</span>,\n",
       "    <span style=\"color: #008080; text-decoration-color: #008080; font-weight: bold\">288</span>,\n",
       "    <span style=\"color: #008080; text-decoration-color: #008080; font-weight: bold\">287</span>,\n",
       "    <span style=\"color: #008080; text-decoration-color: #008080; font-weight: bold\">422</span>,\n",
       "    <span style=\"color: #008080; text-decoration-color: #008080; font-weight: bold\">1271</span>,\n",
       "    <span style=\"color: #008080; text-decoration-color: #008080; font-weight: bold\">3490</span>,\n",
       "    <span style=\"color: #008080; text-decoration-color: #008080; font-weight: bold\">300</span>,\n",
       "    <span style=\"color: #008080; text-decoration-color: #008080; font-weight: bold\">2034</span>,\n",
       "    <span style=\"color: #008080; text-decoration-color: #008080; font-weight: bold\">14</span>\n",
       "<span style=\"font-weight: bold\">]</span>\n",
       "</pre>\n"
      ],
      "text/plain": [
       "\u001b[1m[\u001b[0m\n",
       "    \u001b[1;36m469\u001b[0m,\n",
       "    \u001b[1;36m336\u001b[0m,\n",
       "    \u001b[1;36m4281\u001b[0m,\n",
       "    \u001b[1;36m359\u001b[0m,\n",
       "    \u001b[1;36m270\u001b[0m,\n",
       "    \u001b[1;36m587\u001b[0m,\n",
       "    \u001b[1;36m2309\u001b[0m,\n",
       "    \u001b[1;36m800\u001b[0m,\n",
       "    \u001b[1;36m3884\u001b[0m,\n",
       "    \u001b[1;36m1595\u001b[0m,\n",
       "    \u001b[1;36m6044\u001b[0m,\n",
       "    \u001b[1;36m287\u001b[0m,\n",
       "    \u001b[1;36m661\u001b[0m,\n",
       "    \u001b[1;36m4902\u001b[0m,\n",
       "    \u001b[1;36m4354\u001b[0m,\n",
       "    \u001b[1;36m2849\u001b[0m,\n",
       "    \u001b[1;36m719\u001b[0m,\n",
       "    \u001b[1;36m315\u001b[0m,\n",
       "    \u001b[1;36m318\u001b[0m,\n",
       "    \u001b[1;36m1519\u001b[0m,\n",
       "    \u001b[1;36m1808\u001b[0m,\n",
       "    \u001b[1;36m318\u001b[0m,\n",
       "    \u001b[1;36m1519\u001b[0m,\n",
       "    \u001b[1;36m300\u001b[0m,\n",
       "    \u001b[1;36m601\u001b[0m,\n",
       "    \u001b[1;36m582\u001b[0m,\n",
       "    \u001b[1;36m1649\u001b[0m,\n",
       "    \u001b[1;36m1753\u001b[0m,\n",
       "    \u001b[1;36m1938\u001b[0m,\n",
       "    \u001b[1;36m263\u001b[0m,\n",
       "    \u001b[1;36m684\u001b[0m,\n",
       "    \u001b[1;36m289\u001b[0m,\n",
       "    \u001b[1;36m990\u001b[0m,\n",
       "    \u001b[1;36m5462\u001b[0m,\n",
       "    \u001b[1;36m5795\u001b[0m,\n",
       "    \u001b[1;36m287\u001b[0m,\n",
       "    \u001b[1;36m661\u001b[0m,\n",
       "    \u001b[1;36m757\u001b[0m,\n",
       "    \u001b[1;36m2451\u001b[0m,\n",
       "    \u001b[1;36m776\u001b[0m,\n",
       "    \u001b[1;36m4282\u001b[0m,\n",
       "    \u001b[1;36m706\u001b[0m,\n",
       "    \u001b[1;36m302\u001b[0m,\n",
       "    \u001b[1;36m1157\u001b[0m,\n",
       "    \u001b[1;36m337\u001b[0m,\n",
       "    \u001b[1;36m2535\u001b[0m,\n",
       "    \u001b[1;36m1297\u001b[0m,\n",
       "    \u001b[1;36m14\u001b[0m,\n",
       "    \u001b[1;36m672\u001b[0m,\n",
       "    \u001b[1;36m3033\u001b[0m,\n",
       "    \u001b[1;36m338\u001b[0m,\n",
       "    \u001b[1;36m697\u001b[0m,\n",
       "    \u001b[1;36m631\u001b[0m,\n",
       "    \u001b[1;36m2034\u001b[0m,\n",
       "    \u001b[1;36m297\u001b[0m,\n",
       "    \u001b[1;36m428\u001b[0m,\n",
       "    \u001b[1;36m353\u001b[0m,\n",
       "    \u001b[1;36m521\u001b[0m,\n",
       "    \u001b[1;36m279\u001b[0m,\n",
       "    \u001b[1;36m1674\u001b[0m,\n",
       "    \u001b[1;36m1333\u001b[0m,\n",
       "    \u001b[1;36m282\u001b[0m,\n",
       "    \u001b[1;36m910\u001b[0m,\n",
       "    \u001b[1;36m2456\u001b[0m,\n",
       "    \u001b[1;36m904\u001b[0m,\n",
       "    \u001b[1;36m428\u001b[0m,\n",
       "    \u001b[1;36m1458\u001b[0m,\n",
       "    \u001b[1;36m257\u001b[0m,\n",
       "    \u001b[1;36m330\u001b[0m,\n",
       "    \u001b[1;36m2610\u001b[0m,\n",
       "    \u001b[1;36m1674\u001b[0m,\n",
       "    \u001b[1;36m337\u001b[0m,\n",
       "    \u001b[1;36m2324\u001b[0m,\n",
       "    \u001b[1;36m372\u001b[0m,\n",
       "    \u001b[1;36m316\u001b[0m,\n",
       "    \u001b[1;36m711\u001b[0m,\n",
       "    \u001b[1;36m2939\u001b[0m,\n",
       "    \u001b[1;36m295\u001b[0m,\n",
       "    \u001b[1;36m4327\u001b[0m,\n",
       "    \u001b[1;36m282\u001b[0m,\n",
       "    \u001b[1;36m3149\u001b[0m,\n",
       "    \u001b[1;36m1104\u001b[0m,\n",
       "    \u001b[1;36m4211\u001b[0m,\n",
       "    \u001b[1;36m322\u001b[0m,\n",
       "    \u001b[1;36m473\u001b[0m,\n",
       "    \u001b[1;36m4282\u001b[0m,\n",
       "    \u001b[1;36m2005\u001b[0m,\n",
       "    \u001b[1;36m18\u001b[0m,\n",
       "    \u001b[1;36m47\u001b[0m,\n",
       "    \u001b[1;36m14\u001b[0m,\n",
       "    \u001b[1;36m637\u001b[0m,\n",
       "    \u001b[1;36m5895\u001b[0m,\n",
       "    \u001b[1;36m1642\u001b[0m,\n",
       "    \u001b[1;36m841\u001b[0m,\n",
       "    \u001b[1;36m297\u001b[0m,\n",
       "    \u001b[1;36m4364\u001b[0m,\n",
       "    \u001b[1;36m278\u001b[0m,\n",
       "    \u001b[1;36m2966\u001b[0m,\n",
       "    \u001b[1;36m2648\u001b[0m,\n",
       "    \u001b[1;36m975\u001b[0m,\n",
       "    \u001b[1;36m2034\u001b[0m,\n",
       "    \u001b[1;36m320\u001b[0m,\n",
       "    \u001b[1;36m334\u001b[0m,\n",
       "    \u001b[1;36m423\u001b[0m,\n",
       "    \u001b[1;36m827\u001b[0m,\n",
       "    \u001b[1;36m1076\u001b[0m,\n",
       "    \u001b[1;36m3423\u001b[0m,\n",
       "    \u001b[1;36m3040\u001b[0m,\n",
       "    \u001b[1;36m527\u001b[0m,\n",
       "    \u001b[1;36m1975\u001b[0m,\n",
       "    \u001b[1;36m271\u001b[0m,\n",
       "    \u001b[1;36m653\u001b[0m,\n",
       "    \u001b[1;36m637\u001b[0m,\n",
       "    \u001b[1;36m3031\u001b[0m,\n",
       "    \u001b[1;36m1164\u001b[0m,\n",
       "    \u001b[1;36m432\u001b[0m,\n",
       "    \u001b[1;36m287\u001b[0m,\n",
       "    \u001b[1;36m422\u001b[0m,\n",
       "    \u001b[1;36m272\u001b[0m,\n",
       "    \u001b[1;36m1700\u001b[0m,\n",
       "    \u001b[1;36m376\u001b[0m,\n",
       "    \u001b[1;36m931\u001b[0m,\n",
       "    \u001b[1;36m272\u001b[0m,\n",
       "    \u001b[1;36m827\u001b[0m,\n",
       "    \u001b[1;36m1076\u001b[0m,\n",
       "    \u001b[1;36m3423\u001b[0m,\n",
       "    \u001b[1;36m548\u001b[0m,\n",
       "    \u001b[1;36m3568\u001b[0m,\n",
       "    \u001b[1;36m1975\u001b[0m,\n",
       "    \u001b[1;36m271\u001b[0m,\n",
       "    \u001b[1;36m653\u001b[0m,\n",
       "    \u001b[1;36m637\u001b[0m,\n",
       "    \u001b[1;36m3031\u001b[0m,\n",
       "    \u001b[1;36m548\u001b[0m,\n",
       "    \u001b[1;36m333\u001b[0m,\n",
       "    \u001b[1;36m288\u001b[0m,\n",
       "    \u001b[1;36m287\u001b[0m,\n",
       "    \u001b[1;36m422\u001b[0m,\n",
       "    \u001b[1;36m1271\u001b[0m,\n",
       "    \u001b[1;36m3490\u001b[0m,\n",
       "    \u001b[1;36m300\u001b[0m,\n",
       "    \u001b[1;36m2034\u001b[0m,\n",
       "    \u001b[1;36m14\u001b[0m\n",
       "\u001b[1m]\u001b[0m\n"
      ]
     },
     "metadata": {},
     "output_type": "display_data"
    }
   ],
   "source": [
    "print(tokenized_data[0]['input_ids'])"
   ]
  },
  {
   "cell_type": "code",
   "execution_count": 14,
   "metadata": {},
   "outputs": [
    {
     "data": {
      "text/html": [
       "<pre style=\"white-space:pre;overflow-x:auto;line-height:normal;font-family:Menlo,'DejaVu Sans Mono',consolas,'Courier New',monospace\"><span style=\"font-weight: bold\">{</span><span style=\"color: #008000; text-decoration-color: #008000\">'bos_token'</span>: <span style=\"color: #008000; text-decoration-color: #008000\">'&lt;|endoftext|&gt;'</span><span style=\"color: #000000; text-decoration-color: #000000\">, </span><span style=\"color: #008000; text-decoration-color: #008000\">'eos_token'</span><span style=\"color: #000000; text-decoration-color: #000000\">: </span><span style=\"color: #008000; text-decoration-color: #008000\">'&lt;|endoftext|&gt;'</span><span style=\"color: #000000; text-decoration-color: #000000\">, </span><span style=\"color: #008000; text-decoration-color: #008000\">'unk_token'</span><span style=\"color: #000000; text-decoration-color: #000000\">: </span><span style=\"color: #008000; text-decoration-color: #008000\">'&lt;|endoftext|&gt;'</span><span style=\"font-weight: bold\">}</span>\n",
       "</pre>\n"
      ],
      "text/plain": [
       "\u001b[1m{\u001b[0m\u001b[32m'bos_token'\u001b[0m: \u001b[32m'\u001b[0m\u001b[32m<\u001b[0m\u001b[32m|endoftext|\u001b[0m\u001b[32m>'\u001b[0m\u001b[39m, \u001b[0m\u001b[32m'eos_token'\u001b[0m\u001b[39m: \u001b[0m\u001b[32m'<|endoftext|>'\u001b[0m\u001b[39m, \u001b[0m\u001b[32m'unk_token'\u001b[0m\u001b[39m: \u001b[0m\u001b[32m'<|endoftext|\u001b[0m\u001b[32m>\u001b[0m\u001b[32m'\u001b[0m\u001b[1m}\u001b[0m\n"
      ]
     },
     "metadata": {},
     "output_type": "display_data"
    }
   ],
   "source": [
    "print(new_tokenizer.special_tokens_map)"
   ]
  },
  {
   "cell_type": "code",
   "execution_count": 15,
   "metadata": {},
   "outputs": [
    {
     "data": {
      "application/vnd.jupyter.widget-view+json": {
       "model_id": "cd701ceb4d974a13ac50dd3177aac66e",
       "version_major": 2,
       "version_minor": 0
      },
      "text/plain": [
       "Map:   0%|          | 0/652615 [00:00<?, ? examples/s]"
      ]
     },
     "metadata": {},
     "output_type": "display_data"
    },
    {
     "data": {
      "text/html": [
       "<pre style=\"white-space:pre;overflow-x:auto;line-height:normal;font-family:Menlo,'DejaVu Sans Mono',consolas,'Courier New',monospace\"><span style=\"color: #800080; text-decoration-color: #800080; font-weight: bold\">Dataset</span><span style=\"font-weight: bold\">({</span>\n",
       "    features: <span style=\"font-weight: bold\">[</span><span style=\"color: #008000; text-decoration-color: #008000\">'text'</span>, <span style=\"color: #008000; text-decoration-color: #008000\">'input_ids'</span>, <span style=\"color: #008000; text-decoration-color: #008000\">'attention_mask'</span>, <span style=\"color: #008000; text-decoration-color: #008000\">'num_tokens'</span><span style=\"font-weight: bold\">]</span>,\n",
       "    num_rows: <span style=\"color: #008080; text-decoration-color: #008080; font-weight: bold\">652615</span>\n",
       "<span style=\"font-weight: bold\">})</span>\n",
       "</pre>\n"
      ],
      "text/plain": [
       "\u001b[1;35mDataset\u001b[0m\u001b[1m(\u001b[0m\u001b[1m{\u001b[0m\n",
       "    features: \u001b[1m[\u001b[0m\u001b[32m'text'\u001b[0m, \u001b[32m'input_ids'\u001b[0m, \u001b[32m'attention_mask'\u001b[0m, \u001b[32m'num_tokens'\u001b[0m\u001b[1m]\u001b[0m,\n",
       "    num_rows: \u001b[1;36m652615\u001b[0m\n",
       "\u001b[1m}\u001b[0m\u001b[1m)\u001b[0m\n"
      ]
     },
     "metadata": {},
     "output_type": "display_data"
    }
   ],
   "source": [
    "tokenized_data = tokenized_data.map(lambda x: {'num_tokens': [len(ids) for ids in x['input_ids']]}, batched=True)\n",
    "print(tokenized_data)"
   ]
  },
  {
   "cell_type": "code",
   "execution_count": 16,
   "metadata": {},
   "outputs": [
    {
     "data": {
      "text/plain": [
       "<Axes: ylabel='Count'>"
      ]
     },
     "execution_count": 16,
     "metadata": {},
     "output_type": "execute_result"
    },
    {
     "data": {
      "image/png": "[encoded data removed]",
      "text/plain": [
       "<Figure size 640x480 with 1 Axes>"
      ]
     },
     "metadata": {},
     "output_type": "display_data"
    }
   ],
   "source": [
    "sns.histplot(tokenized_data['num_tokens'], bins=50)"
   ]
  },
  {
   "cell_type": "code",
   "execution_count": 17,
   "metadata": {},
   "outputs": [
    {
     "data": {
      "text/plain": [
       "1512"
      ]
     },
     "execution_count": 17,
     "metadata": {},
     "output_type": "execute_result"
    }
   ],
   "source": [
    "max(tokenized_data['num_tokens'])"
   ]
  },
  {
   "cell_type": "code",
   "execution_count": 19,
   "metadata": {},
   "outputs": [],
   "source": [
    "model_max_length = (max(tokenized_data['num_tokens']) // 512) * 512\n",
    "if model_max_length == 0:\n",
    "    model_max_length = 512"
   ]
  },
  {
   "cell_type": "code",
   "execution_count": 20,
   "metadata": {},
   "outputs": [],
   "source": [
    "new_tokenizer.model_max_length = model_max_length"
   ]
  },
  {
   "cell_type": "code",
   "execution_count": 21,
   "metadata": {},
   "outputs": [
    {
     "data": {
      "text/html": [
       "<pre style=\"white-space:pre;overflow-x:auto;line-height:normal;font-family:Menlo,'DejaVu Sans Mono',consolas,'Courier New',monospace\"><span style=\"color: #800080; text-decoration-color: #800080; font-weight: bold\">GPT2TokenizerFast</span><span style=\"font-weight: bold\">(</span><span style=\"color: #808000; text-decoration-color: #808000\">name_or_path</span>=<span style=\"color: #008000; text-decoration-color: #008000\">'openai-community/gpt2'</span>, <span style=\"color: #808000; text-decoration-color: #808000\">vocab_size</span>=<span style=\"color: #008080; text-decoration-color: #008080; font-weight: bold\">6144</span>, <span style=\"color: #808000; text-decoration-color: #808000\">model_max_length</span>=<span style=\"color: #008080; text-decoration-color: #008080; font-weight: bold\">1024</span>, <span style=\"color: #808000; text-decoration-color: #808000\">is_fast</span>=<span style=\"color: #00ff00; text-decoration-color: #00ff00; font-style: italic\">True</span>, \n",
       "<span style=\"color: #808000; text-decoration-color: #808000\">padding_side</span>=<span style=\"color: #008000; text-decoration-color: #008000\">'right'</span>, <span style=\"color: #808000; text-decoration-color: #808000\">truncation_side</span>=<span style=\"color: #008000; text-decoration-color: #008000\">'right'</span>, <span style=\"color: #808000; text-decoration-color: #808000\">special_tokens</span>=<span style=\"font-weight: bold\">{</span><span style=\"color: #008000; text-decoration-color: #008000\">'bos_token'</span>: <span style=\"color: #008000; text-decoration-color: #008000\">'&lt;|endoftext|&gt;'</span><span style=\"color: #000000; text-decoration-color: #000000\">, </span><span style=\"color: #008000; text-decoration-color: #008000\">'eos_token'</span><span style=\"color: #000000; text-decoration-color: #000000\">: </span>\n",
       "<span style=\"color: #008000; text-decoration-color: #008000\">'&lt;|endoftext|&gt;'</span><span style=\"color: #000000; text-decoration-color: #000000\">, </span><span style=\"color: #008000; text-decoration-color: #008000\">'unk_token'</span><span style=\"color: #000000; text-decoration-color: #000000\">: </span><span style=\"color: #008000; text-decoration-color: #008000\">'&lt;|endoftext|&gt;'</span><span style=\"color: #000000; text-decoration-color: #000000; font-weight: bold\">}</span><span style=\"color: #000000; text-decoration-color: #000000\">, </span><span style=\"color: #808000; text-decoration-color: #808000\">clean_up_tokenization_spaces</span><span style=\"color: #000000; text-decoration-color: #000000\">=</span><span style=\"color: #ff0000; text-decoration-color: #ff0000; font-style: italic\">False</span><span style=\"color: #000000; text-decoration-color: #000000; font-weight: bold\">)</span><span style=\"color: #000000; text-decoration-color: #000000\">,  </span><span style=\"color: #808000; text-decoration-color: #808000\">added_tokens_decoder</span><span style=\"color: #000000; text-decoration-color: #000000\">=</span><span style=\"color: #000000; text-decoration-color: #000000; font-weight: bold\">{</span>\n",
       "<span style=\"color: #000000; text-decoration-color: #000000\">        </span><span style=\"color: #008080; text-decoration-color: #008080; font-weight: bold\">0</span><span style=\"color: #000000; text-decoration-color: #000000\">: </span><span style=\"color: #800080; text-decoration-color: #800080; font-weight: bold\">AddedToken</span><span style=\"color: #000000; text-decoration-color: #000000; font-weight: bold\">(</span><span style=\"color: #008000; text-decoration-color: #008000\">\"&lt;|endoftext|&gt;\"</span>, <span style=\"color: #808000; text-decoration-color: #808000\">rstrip</span>=<span style=\"color: #ff0000; text-decoration-color: #ff0000; font-style: italic\">False</span>, <span style=\"color: #808000; text-decoration-color: #808000\">lstrip</span>=<span style=\"color: #ff0000; text-decoration-color: #ff0000; font-style: italic\">False</span>, <span style=\"color: #808000; text-decoration-color: #808000\">single_word</span>=<span style=\"color: #ff0000; text-decoration-color: #ff0000; font-style: italic\">False</span>, <span style=\"color: #808000; text-decoration-color: #808000\">normalized</span>=<span style=\"color: #00ff00; text-decoration-color: #00ff00; font-style: italic\">True</span>, \n",
       "<span style=\"color: #808000; text-decoration-color: #808000\">special</span>=<span style=\"color: #00ff00; text-decoration-color: #00ff00; font-style: italic\">True</span><span style=\"font-weight: bold\">)</span>,\n",
       "<span style=\"font-weight: bold\">}</span>\n",
       "</pre>\n"
      ],
      "text/plain": [
       "\u001b[1;35mGPT2TokenizerFast\u001b[0m\u001b[1m(\u001b[0m\u001b[33mname_or_path\u001b[0m=\u001b[32m'openai-community/gpt2'\u001b[0m, \u001b[33mvocab_size\u001b[0m=\u001b[1;36m6144\u001b[0m, \u001b[33mmodel_max_length\u001b[0m=\u001b[1;36m1024\u001b[0m, \u001b[33mis_fast\u001b[0m=\u001b[3;92mTrue\u001b[0m, \n",
       "\u001b[33mpadding_side\u001b[0m=\u001b[32m'right'\u001b[0m, \u001b[33mtruncation_side\u001b[0m=\u001b[32m'right'\u001b[0m, \u001b[33mspecial_tokens\u001b[0m=\u001b[1m{\u001b[0m\u001b[32m'bos_token'\u001b[0m: \u001b[32m'\u001b[0m\u001b[32m<\u001b[0m\u001b[32m|endoftext|\u001b[0m\u001b[32m>'\u001b[0m\u001b[39m, \u001b[0m\u001b[32m'eos_token'\u001b[0m\u001b[39m: \u001b[0m\n",
       "\u001b[32m'<|endoftext|>'\u001b[0m\u001b[39m, \u001b[0m\u001b[32m'unk_token'\u001b[0m\u001b[39m: \u001b[0m\u001b[32m'<|endoftext|>'\u001b[0m\u001b[1;39m}\u001b[0m\u001b[39m, \u001b[0m\u001b[33mclean_up_tokenization_spaces\u001b[0m\u001b[39m=\u001b[0m\u001b[3;91mFalse\u001b[0m\u001b[1;39m)\u001b[0m\u001b[39m,  \u001b[0m\u001b[33madded_tokens_decoder\u001b[0m\u001b[39m=\u001b[0m\u001b[1;39m{\u001b[0m\n",
       "\u001b[39m        \u001b[0m\u001b[1;36m0\u001b[0m\u001b[39m: \u001b[0m\u001b[1;35mAddedToken\u001b[0m\u001b[1;39m(\u001b[0m\u001b[32m\"<|endoftext|\u001b[0m\u001b[32m>\u001b[0m\u001b[32m\"\u001b[0m, \u001b[33mrstrip\u001b[0m=\u001b[3;91mFalse\u001b[0m, \u001b[33mlstrip\u001b[0m=\u001b[3;91mFalse\u001b[0m, \u001b[33msingle_word\u001b[0m=\u001b[3;91mFalse\u001b[0m, \u001b[33mnormalized\u001b[0m=\u001b[3;92mTrue\u001b[0m, \n",
       "\u001b[33mspecial\u001b[0m=\u001b[3;92mTrue\u001b[0m\u001b[1m)\u001b[0m,\n",
       "\u001b[1m}\u001b[0m\n"
      ]
     },
     "metadata": {},
     "output_type": "display_data"
    }
   ],
   "source": [
    "print(new_tokenizer)"
   ]
  },
  {
   "cell_type": "code",
   "execution_count": 22,
   "metadata": {},
   "outputs": [
    {
     "data": {
      "text/plain": [
       "('../models/nano-gpt-tokenizer/tokenizer_config.json',\n",
       " '../models/nano-gpt-tokenizer/special_tokens_map.json',\n",
       " '../models/nano-gpt-tokenizer/vocab.json',\n",
       " '../models/nano-gpt-tokenizer/merges.txt',\n",
       " '../models/nano-gpt-tokenizer/added_tokens.json',\n",
       " '../models/nano-gpt-tokenizer/tokenizer.json')"
      ]
     },
     "execution_count": 22,
     "metadata": {},
     "output_type": "execute_result"
    }
   ],
   "source": [
    "new_tokenizer.save_pretrained('../models/nano-gpt-tokenizer')"
   ]
  }
 ],
 "metadata": {
  "kernelspec": {
   "display_name": "Python 3 (ipykernel)",
   "language": "python",
   "name": "python3"
  },
  "language_info": {
   "codemirror_mode": {
    "name": "ipython",
    "version": 3
   },
   "file_extension": ".py",
   "mimetype": "text/x-python",
   "name": "python",
   "nbconvert_exporter": "python",
   "pygments_lexer": "ipython3",
   "version": "3.11.9"
  },
  "widgets": {
   "application/vnd.jupyter.widget-state+json": {
    "state": {
     "017fe22048f442c89dab15b0b1fd77aa": {
      "model_module": "@jupyter-widgets/base",
      "model_module_version": "2.0.0",
      "model_name": "LayoutModel",
      "state": {}
     },
     "19dd504d666d4341a194bccf25c5eaa9": {
      "model_module": "@jupyter-widgets/base",
      "model_module_version": "2.0.0",
      "model_name": "LayoutModel",
      "state": {}
     },
     "1aa5786d1ed7456ca250e49fc9ed785e": {
      "model_module": "@jupyter-widgets/base",
      "model_module_version": "2.0.0",
      "model_name": "LayoutModel",
      "state": {}
     },
     "20015e958c2e4704b1f920bdd5f00383": {
      "model_module": "@jupyter-widgets/controls",
      "model_module_version": "2.0.0",
      "model_name": "FloatProgressModel",
      "state": {
       "bar_style": "success",
       "layout": "IPY_MODEL_24eb36c613f1417f90a709aff8cbcaba",
       "max": 652615,
       "style": "IPY_MODEL_f9d1f9388f3242238aec440e073fe23b",
       "value": 652615
      }
     },
     "23282c202a0c4ea0a27b610bc806f9cb": {
      "model_module": "@jupyter-widgets/controls",
      "model_module_version": "2.0.0",
      "model_name": "HTMLModel",
      "state": {
       "layout": "IPY_MODEL_017fe22048f442c89dab15b0b1fd77aa",
       "style": "IPY_MODEL_55cf91b899eb4e1a97007cd041472095",
       "value": " 652615/652615 [00:20&lt;00:00, 37604.73 examples/s]"
      }
     },
     "24eb36c613f1417f90a709aff8cbcaba": {
      "model_module": "@jupyter-widgets/base",
      "model_module_version": "2.0.0",
      "model_name": "LayoutModel",
      "state": {}
     },
     "37a1b58721414320900074f691e1aa26": {
      "model_module": "@jupyter-widgets/controls",
      "model_module_version": "2.0.0",
      "model_name": "HBoxModel",
      "state": {
       "children": [
        "IPY_MODEL_a27ed3c1dba44544a1a8e15ca2284e86",
        "IPY_MODEL_e07455105fb34d4c9feda10613df2f2a",
        "IPY_MODEL_3b4002bd61aa4d06948471856682360d"
       ],
       "layout": "IPY_MODEL_fc73e9ce43f2472bad985db0396b26fb"
      }
     },
     "3b4002bd61aa4d06948471856682360d": {
      "model_module": "@jupyter-widgets/controls",
      "model_module_version": "2.0.0",
      "model_name": "HTMLModel",
      "state": {
       "layout": "IPY_MODEL_b5a74169289b4fb9ad00e1fef23fea39",
       "style": "IPY_MODEL_492055b0e81d4859a350b4de7c2c4310",
       "value": " 652615/652615 [00:42&lt;00:00, 29178.61 examples/s]"
      }
     },
     "492055b0e81d4859a350b4de7c2c4310": {
      "model_module": "@jupyter-widgets/controls",
      "model_module_version": "2.0.0",
      "model_name": "HTMLStyleModel",
      "state": {
       "description_width": "",
       "font_size": null,
       "text_color": null
      }
     },
     "55cf91b899eb4e1a97007cd041472095": {
      "model_module": "@jupyter-widgets/controls",
      "model_module_version": "2.0.0",
      "model_name": "HTMLStyleModel",
      "state": {
       "description_width": "",
       "font_size": null,
       "text_color": null
      }
     },
     "6beee20cdf234c2a97eb34d4c39f26b3": {
      "model_module": "@jupyter-widgets/controls",
      "model_module_version": "2.0.0",
      "model_name": "HTMLStyleModel",
      "state": {
       "description_width": "",
       "font_size": null,
       "text_color": null
      }
     },
     "6d34d0a4f2824052b5fcd781f83bd43d": {
      "model_module": "@jupyter-widgets/controls",
      "model_module_version": "2.0.0",
      "model_name": "ProgressStyleModel",
      "state": {
       "description_width": ""
      }
     },
     "78786af33d4f49d1ad6896727e825735": {
      "model_module": "@jupyter-widgets/base",
      "model_module_version": "2.0.0",
      "model_name": "LayoutModel",
      "state": {}
     },
     "997efa2958ae40afb66453675cca9fb3": {
      "model_module": "@jupyter-widgets/controls",
      "model_module_version": "2.0.0",
      "model_name": "HTMLStyleModel",
      "state": {
       "description_width": "",
       "font_size": null,
       "text_color": null
      }
     },
     "a27ed3c1dba44544a1a8e15ca2284e86": {
      "model_module": "@jupyter-widgets/controls",
      "model_module_version": "2.0.0",
      "model_name": "HTMLModel",
      "state": {
       "layout": "IPY_MODEL_1aa5786d1ed7456ca250e49fc9ed785e",
       "style": "IPY_MODEL_997efa2958ae40afb66453675cca9fb3",
       "value": "Map: 100%"
      }
     },
     "a8fd52181b7a4aa694b463ace0578f96": {
      "model_module": "@jupyter-widgets/base",
      "model_module_version": "2.0.0",
      "model_name": "LayoutModel",
      "state": {}
     },
     "b5a74169289b4fb9ad00e1fef23fea39": {
      "model_module": "@jupyter-widgets/base",
      "model_module_version": "2.0.0",
      "model_name": "LayoutModel",
      "state": {}
     },
     "cd701ceb4d974a13ac50dd3177aac66e": {
      "model_module": "@jupyter-widgets/controls",
      "model_module_version": "2.0.0",
      "model_name": "HBoxModel",
      "state": {
       "children": [
        "IPY_MODEL_f56ffb16442944d0a006219ff61132b3",
        "IPY_MODEL_20015e958c2e4704b1f920bdd5f00383",
        "IPY_MODEL_23282c202a0c4ea0a27b610bc806f9cb"
       ],
       "layout": "IPY_MODEL_19dd504d666d4341a194bccf25c5eaa9"
      }
     },
     "e07455105fb34d4c9feda10613df2f2a": {
      "model_module": "@jupyter-widgets/controls",
      "model_module_version": "2.0.0",
      "model_name": "FloatProgressModel",
      "state": {
       "bar_style": "success",
       "layout": "IPY_MODEL_78786af33d4f49d1ad6896727e825735",
       "max": 652615,
       "style": "IPY_MODEL_6d34d0a4f2824052b5fcd781f83bd43d",
       "value": 652615
      }
     },
     "f56ffb16442944d0a006219ff61132b3": {
      "model_module": "@jupyter-widgets/controls",
      "model_module_version": "2.0.0",
      "model_name": "HTMLModel",
      "state": {
       "layout": "IPY_MODEL_a8fd52181b7a4aa694b463ace0578f96",
       "style": "IPY_MODEL_6beee20cdf234c2a97eb34d4c39f26b3",
       "value": "Map: 100%"
      }
     },
     "f9d1f9388f3242238aec440e073fe23b": {
      "model_module": "@jupyter-widgets/controls",
      "model_module_version": "2.0.0",
      "model_name": "ProgressStyleModel",
      "state": {
       "description_width": ""
      }
     },
     "fc73e9ce43f2472bad985db0396b26fb": {
      "model_module": "@jupyter-widgets/base",
      "model_module_version": "2.0.0",
      "model_name": "LayoutModel",
      "state": {}
     }
    },
    "version_major": 2,
    "version_minor": 0
   }
  }
 },
 "nbformat": 4,
 "nbformat_minor": 4
}
