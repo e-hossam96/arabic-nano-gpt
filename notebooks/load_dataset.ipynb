{
 "cells": [
  {
   "cell_type": "markdown",
   "metadata": {},
   "source": [
    "# Load Dataset\n",
    "\n",
    "In this notebook, we will load the dataset and display some plots to understand its statistics.\n"
   ]
  },
  {
   "cell_type": "code",
   "execution_count": 1,
   "metadata": {},
   "outputs": [],
   "source": [
    "import re\n",
    "import pandas as pd\n",
    "import seaborn as sns\n",
    "from rich import print\n",
    "from datasets import load_dataset\n",
    "from pyarabic.araby import strip_tashkeel\n",
    "from pyarabic.araby import sentence_tokenize as sent_tokenize"
   ]
  },
  {
   "cell_type": "code",
   "execution_count": 2,
   "metadata": {},
   "outputs": [],
   "source": [
    "sns.set_theme(context='notebook', style='dark')"
   ]
  },
  {
   "cell_type": "code",
   "execution_count": 3,
   "metadata": {},
   "outputs": [],
   "source": [
    "data_ckpt, sub_data = 'wikimedia/wikipedia', '20231101.ar'"
   ]
  },
  {
   "cell_type": "code",
   "execution_count": 4,
   "metadata": {},
   "outputs": [],
   "source": [
    "ds = load_dataset(data_ckpt, sub_data, split='train')"
   ]
  },
  {
   "cell_type": "code",
   "execution_count": 5,
   "metadata": {},
   "outputs": [
    {
     "data": {
      "text/html": [
       "<pre style=\"white-space:pre;overflow-x:auto;line-height:normal;font-family:Menlo,'DejaVu Sans Mono',consolas,'Courier New',monospace\"><span style=\"color: #800080; text-decoration-color: #800080; font-weight: bold\">Dataset</span><span style=\"font-weight: bold\">({</span>\n",
       "    features: <span style=\"font-weight: bold\">[</span><span style=\"color: #008000; text-decoration-color: #008000\">'id'</span>, <span style=\"color: #008000; text-decoration-color: #008000\">'url'</span>, <span style=\"color: #008000; text-decoration-color: #008000\">'title'</span>, <span style=\"color: #008000; text-decoration-color: #008000\">'text'</span><span style=\"font-weight: bold\">]</span>,\n",
       "    num_rows: <span style=\"color: #008080; text-decoration-color: #008080; font-weight: bold\">1219201</span>\n",
       "<span style=\"font-weight: bold\">})</span>\n",
       "</pre>\n"
      ],
      "text/plain": [
       "\u001b[1;35mDataset\u001b[0m\u001b[1m(\u001b[0m\u001b[1m{\u001b[0m\n",
       "    features: \u001b[1m[\u001b[0m\u001b[32m'id'\u001b[0m, \u001b[32m'url'\u001b[0m, \u001b[32m'title'\u001b[0m, \u001b[32m'text'\u001b[0m\u001b[1m]\u001b[0m,\n",
       "    num_rows: \u001b[1;36m1219201\u001b[0m\n",
       "\u001b[1m}\u001b[0m\u001b[1m)\u001b[0m\n"
      ]
     },
     "metadata": {},
     "output_type": "display_data"
    }
   ],
   "source": [
    "print(ds)"
   ]
  },
  {
   "cell_type": "code",
   "execution_count": 6,
   "metadata": {},
   "outputs": [
    {
     "data": {
      "text/html": [
       "<pre style=\"white-space:pre;overflow-x:auto;line-height:normal;font-family:Menlo,'DejaVu Sans Mono',consolas,'Courier New',monospace\"><span style=\"font-weight: bold\">{</span>\n",
       "    <span style=\"color: #008000; text-decoration-color: #008000\">'id'</span>: <span style=\"color: #800080; text-decoration-color: #800080; font-weight: bold\">Value</span><span style=\"font-weight: bold\">(</span><span style=\"color: #808000; text-decoration-color: #808000\">dtype</span>=<span style=\"color: #008000; text-decoration-color: #008000\">'string'</span>, <span style=\"color: #808000; text-decoration-color: #808000\">id</span>=<span style=\"color: #800080; text-decoration-color: #800080; font-style: italic\">None</span><span style=\"font-weight: bold\">)</span>,\n",
       "    <span style=\"color: #008000; text-decoration-color: #008000\">'url'</span>: <span style=\"color: #800080; text-decoration-color: #800080; font-weight: bold\">Value</span><span style=\"font-weight: bold\">(</span><span style=\"color: #808000; text-decoration-color: #808000\">dtype</span>=<span style=\"color: #008000; text-decoration-color: #008000\">'string'</span>, <span style=\"color: #808000; text-decoration-color: #808000\">id</span>=<span style=\"color: #800080; text-decoration-color: #800080; font-style: italic\">None</span><span style=\"font-weight: bold\">)</span>,\n",
       "    <span style=\"color: #008000; text-decoration-color: #008000\">'title'</span>: <span style=\"color: #800080; text-decoration-color: #800080; font-weight: bold\">Value</span><span style=\"font-weight: bold\">(</span><span style=\"color: #808000; text-decoration-color: #808000\">dtype</span>=<span style=\"color: #008000; text-decoration-color: #008000\">'string'</span>, <span style=\"color: #808000; text-decoration-color: #808000\">id</span>=<span style=\"color: #800080; text-decoration-color: #800080; font-style: italic\">None</span><span style=\"font-weight: bold\">)</span>,\n",
       "    <span style=\"color: #008000; text-decoration-color: #008000\">'text'</span>: <span style=\"color: #800080; text-decoration-color: #800080; font-weight: bold\">Value</span><span style=\"font-weight: bold\">(</span><span style=\"color: #808000; text-decoration-color: #808000\">dtype</span>=<span style=\"color: #008000; text-decoration-color: #008000\">'string'</span>, <span style=\"color: #808000; text-decoration-color: #808000\">id</span>=<span style=\"color: #800080; text-decoration-color: #800080; font-style: italic\">None</span><span style=\"font-weight: bold\">)</span>\n",
       "<span style=\"font-weight: bold\">}</span>\n",
       "</pre>\n"
      ],
      "text/plain": [
       "\u001b[1m{\u001b[0m\n",
       "    \u001b[32m'id'\u001b[0m: \u001b[1;35mValue\u001b[0m\u001b[1m(\u001b[0m\u001b[33mdtype\u001b[0m=\u001b[32m'string'\u001b[0m, \u001b[33mid\u001b[0m=\u001b[3;35mNone\u001b[0m\u001b[1m)\u001b[0m,\n",
       "    \u001b[32m'url'\u001b[0m: \u001b[1;35mValue\u001b[0m\u001b[1m(\u001b[0m\u001b[33mdtype\u001b[0m=\u001b[32m'string'\u001b[0m, \u001b[33mid\u001b[0m=\u001b[3;35mNone\u001b[0m\u001b[1m)\u001b[0m,\n",
       "    \u001b[32m'title'\u001b[0m: \u001b[1;35mValue\u001b[0m\u001b[1m(\u001b[0m\u001b[33mdtype\u001b[0m=\u001b[32m'string'\u001b[0m, \u001b[33mid\u001b[0m=\u001b[3;35mNone\u001b[0m\u001b[1m)\u001b[0m,\n",
       "    \u001b[32m'text'\u001b[0m: \u001b[1;35mValue\u001b[0m\u001b[1m(\u001b[0m\u001b[33mdtype\u001b[0m=\u001b[32m'string'\u001b[0m, \u001b[33mid\u001b[0m=\u001b[3;35mNone\u001b[0m\u001b[1m)\u001b[0m\n",
       "\u001b[1m}\u001b[0m\n"
      ]
     },
     "metadata": {},
     "output_type": "display_data"
    }
   ],
   "source": [
    "print(ds.features)"
   ]
  },
  {
   "cell_type": "code",
   "execution_count": 7,
   "metadata": {},
   "outputs": [
    {
     "data": {
      "text/html": [
       "<pre style=\"white-space:pre;overflow-x:auto;line-height:normal;font-family:Menlo,'DejaVu Sans Mono',consolas,'Courier New',monospace\"><span style=\"color: #800080; text-decoration-color: #800080; font-weight: bold\">DatasetInfo</span><span style=\"font-weight: bold\">(</span>\n",
       "    <span style=\"color: #808000; text-decoration-color: #808000\">description</span>=<span style=\"color: #008000; text-decoration-color: #008000\">''</span>,\n",
       "    <span style=\"color: #808000; text-decoration-color: #808000\">citation</span>=<span style=\"color: #008000; text-decoration-color: #008000\">''</span>,\n",
       "    <span style=\"color: #808000; text-decoration-color: #808000\">homepage</span>=<span style=\"color: #008000; text-decoration-color: #008000\">''</span>,\n",
       "    <span style=\"color: #808000; text-decoration-color: #808000\">license</span>=<span style=\"color: #008000; text-decoration-color: #008000\">''</span>,\n",
       "    <span style=\"color: #808000; text-decoration-color: #808000\">features</span>=<span style=\"font-weight: bold\">{</span>\n",
       "        <span style=\"color: #008000; text-decoration-color: #008000\">'id'</span>: <span style=\"color: #800080; text-decoration-color: #800080; font-weight: bold\">Value</span><span style=\"font-weight: bold\">(</span><span style=\"color: #808000; text-decoration-color: #808000\">dtype</span>=<span style=\"color: #008000; text-decoration-color: #008000\">'string'</span>, <span style=\"color: #808000; text-decoration-color: #808000\">id</span>=<span style=\"color: #800080; text-decoration-color: #800080; font-style: italic\">None</span><span style=\"font-weight: bold\">)</span>,\n",
       "        <span style=\"color: #008000; text-decoration-color: #008000\">'url'</span>: <span style=\"color: #800080; text-decoration-color: #800080; font-weight: bold\">Value</span><span style=\"font-weight: bold\">(</span><span style=\"color: #808000; text-decoration-color: #808000\">dtype</span>=<span style=\"color: #008000; text-decoration-color: #008000\">'string'</span>, <span style=\"color: #808000; text-decoration-color: #808000\">id</span>=<span style=\"color: #800080; text-decoration-color: #800080; font-style: italic\">None</span><span style=\"font-weight: bold\">)</span>,\n",
       "        <span style=\"color: #008000; text-decoration-color: #008000\">'title'</span>: <span style=\"color: #800080; text-decoration-color: #800080; font-weight: bold\">Value</span><span style=\"font-weight: bold\">(</span><span style=\"color: #808000; text-decoration-color: #808000\">dtype</span>=<span style=\"color: #008000; text-decoration-color: #008000\">'string'</span>, <span style=\"color: #808000; text-decoration-color: #808000\">id</span>=<span style=\"color: #800080; text-decoration-color: #800080; font-style: italic\">None</span><span style=\"font-weight: bold\">)</span>,\n",
       "        <span style=\"color: #008000; text-decoration-color: #008000\">'text'</span>: <span style=\"color: #800080; text-decoration-color: #800080; font-weight: bold\">Value</span><span style=\"font-weight: bold\">(</span><span style=\"color: #808000; text-decoration-color: #808000\">dtype</span>=<span style=\"color: #008000; text-decoration-color: #008000\">'string'</span>, <span style=\"color: #808000; text-decoration-color: #808000\">id</span>=<span style=\"color: #800080; text-decoration-color: #800080; font-style: italic\">None</span><span style=\"font-weight: bold\">)</span>\n",
       "    <span style=\"font-weight: bold\">}</span>,\n",
       "    <span style=\"color: #808000; text-decoration-color: #808000\">post_processed</span>=<span style=\"color: #800080; text-decoration-color: #800080; font-style: italic\">None</span>,\n",
       "    <span style=\"color: #808000; text-decoration-color: #808000\">supervised_keys</span>=<span style=\"color: #800080; text-decoration-color: #800080; font-style: italic\">None</span>,\n",
       "    <span style=\"color: #808000; text-decoration-color: #808000\">builder_name</span>=<span style=\"color: #008000; text-decoration-color: #008000\">'parquet'</span>,\n",
       "    <span style=\"color: #808000; text-decoration-color: #808000\">dataset_name</span>=<span style=\"color: #008000; text-decoration-color: #008000\">'wikipedia'</span>,\n",
       "    <span style=\"color: #808000; text-decoration-color: #808000\">config_name</span>=<span style=\"color: #008000; text-decoration-color: #008000\">'20231101.ar'</span>,\n",
       "    <span style=\"color: #808000; text-decoration-color: #808000\">version</span>=<span style=\"color: #008080; text-decoration-color: #008080; font-weight: bold\">0.0</span>.<span style=\"color: #008080; text-decoration-color: #008080; font-weight: bold\">0</span>,\n",
       "    <span style=\"color: #808000; text-decoration-color: #808000\">splits</span>=<span style=\"font-weight: bold\">{</span>\n",
       "        <span style=\"color: #008000; text-decoration-color: #008000\">'train'</span>: <span style=\"color: #800080; text-decoration-color: #800080; font-weight: bold\">SplitInfo</span><span style=\"font-weight: bold\">(</span>\n",
       "            <span style=\"color: #808000; text-decoration-color: #808000\">name</span>=<span style=\"color: #008000; text-decoration-color: #008000\">'train'</span>,\n",
       "            <span style=\"color: #808000; text-decoration-color: #808000\">num_bytes</span>=<span style=\"color: #008080; text-decoration-color: #008080; font-weight: bold\">3124486159</span>,\n",
       "            <span style=\"color: #808000; text-decoration-color: #808000\">num_examples</span>=<span style=\"color: #008080; text-decoration-color: #008080; font-weight: bold\">1219201</span>,\n",
       "            <span style=\"color: #808000; text-decoration-color: #808000\">shard_lengths</span>=<span style=\"font-weight: bold\">[</span><span style=\"color: #008080; text-decoration-color: #008080; font-weight: bold\">78000</span>, <span style=\"color: #008080; text-decoration-color: #008080; font-weight: bold\">134172</span>, <span style=\"color: #008080; text-decoration-color: #008080; font-weight: bold\">216172</span>, <span style=\"color: #008080; text-decoration-color: #008080; font-weight: bold\">270344</span>, <span style=\"color: #008080; text-decoration-color: #008080; font-weight: bold\">331171</span>, <span style=\"color: #008080; text-decoration-color: #008080; font-weight: bold\">158171</span>, <span style=\"color: #008080; text-decoration-color: #008080; font-weight: bold\">31171</span><span style=\"font-weight: bold\">]</span>,\n",
       "            <span style=\"color: #808000; text-decoration-color: #808000\">dataset_name</span>=<span style=\"color: #008000; text-decoration-color: #008000\">'wikipedia'</span>\n",
       "        <span style=\"font-weight: bold\">)</span>\n",
       "    <span style=\"font-weight: bold\">}</span>,\n",
       "    <span style=\"color: #808000; text-decoration-color: #808000\">download_checksums</span>=<span style=\"font-weight: bold\">{</span>\n",
       "        <span style=\"color: #008000; text-decoration-color: #008000\">'hf://datasets/wikimedia/wikipedia@b04c8d1ceb2f5cd4588862100d08de323dccfbaa/20231101.ar/train-00000-of-0000</span>\n",
       "<span style=\"color: #008000; text-decoration-color: #008000\">7.parquet'</span>: <span style=\"font-weight: bold\">{</span>\n",
       "            <span style=\"color: #008000; text-decoration-color: #008000\">'num_bytes'</span>: <span style=\"color: #008080; text-decoration-color: #008080; font-weight: bold\">408241089</span>,\n",
       "            <span style=\"color: #008000; text-decoration-color: #008000\">'checksum'</span>: <span style=\"color: #800080; text-decoration-color: #800080; font-style: italic\">None</span>\n",
       "        <span style=\"font-weight: bold\">}</span>,\n",
       "        <span style=\"color: #008000; text-decoration-color: #008000\">'hf://datasets/wikimedia/wikipedia@b04c8d1ceb2f5cd4588862100d08de323dccfbaa/20231101.ar/train-00001-of-0000</span>\n",
       "<span style=\"color: #008000; text-decoration-color: #008000\">7.parquet'</span>: <span style=\"font-weight: bold\">{</span>\n",
       "            <span style=\"color: #008000; text-decoration-color: #008000\">'num_bytes'</span>: <span style=\"color: #008080; text-decoration-color: #008080; font-weight: bold\">172208447</span>,\n",
       "            <span style=\"color: #008000; text-decoration-color: #008000\">'checksum'</span>: <span style=\"color: #800080; text-decoration-color: #800080; font-style: italic\">None</span>\n",
       "        <span style=\"font-weight: bold\">}</span>,\n",
       "        <span style=\"color: #008000; text-decoration-color: #008000\">'hf://datasets/wikimedia/wikipedia@b04c8d1ceb2f5cd4588862100d08de323dccfbaa/20231101.ar/train-00002-of-0000</span>\n",
       "<span style=\"color: #008000; text-decoration-color: #008000\">7.parquet'</span>: <span style=\"font-weight: bold\">{</span>\n",
       "            <span style=\"color: #008000; text-decoration-color: #008000\">'num_bytes'</span>: <span style=\"color: #008080; text-decoration-color: #008080; font-weight: bold\">144792516</span>,\n",
       "            <span style=\"color: #008000; text-decoration-color: #008000\">'checksum'</span>: <span style=\"color: #800080; text-decoration-color: #800080; font-style: italic\">None</span>\n",
       "        <span style=\"font-weight: bold\">}</span>,\n",
       "        <span style=\"color: #008000; text-decoration-color: #008000\">'hf://datasets/wikimedia/wikipedia@b04c8d1ceb2f5cd4588862100d08de323dccfbaa/20231101.ar/train-00003-of-0000</span>\n",
       "<span style=\"color: #008000; text-decoration-color: #008000\">7.parquet'</span>: <span style=\"font-weight: bold\">{</span>\n",
       "            <span style=\"color: #008000; text-decoration-color: #008000\">'num_bytes'</span>: <span style=\"color: #008080; text-decoration-color: #008080; font-weight: bold\">130751823</span>,\n",
       "            <span style=\"color: #008000; text-decoration-color: #008000\">'checksum'</span>: <span style=\"color: #800080; text-decoration-color: #800080; font-style: italic\">None</span>\n",
       "        <span style=\"font-weight: bold\">}</span>,\n",
       "        <span style=\"color: #008000; text-decoration-color: #008000\">'hf://datasets/wikimedia/wikipedia@b04c8d1ceb2f5cd4588862100d08de323dccfbaa/20231101.ar/train-00004-of-0000</span>\n",
       "<span style=\"color: #008000; text-decoration-color: #008000\">7.parquet'</span>: <span style=\"font-weight: bold\">{</span>\n",
       "            <span style=\"color: #008000; text-decoration-color: #008000\">'num_bytes'</span>: <span style=\"color: #008080; text-decoration-color: #008080; font-weight: bold\">65094867</span>,\n",
       "            <span style=\"color: #008000; text-decoration-color: #008000\">'checksum'</span>: <span style=\"color: #800080; text-decoration-color: #800080; font-style: italic\">None</span>\n",
       "        <span style=\"font-weight: bold\">}</span>,\n",
       "        <span style=\"color: #008000; text-decoration-color: #008000\">'hf://datasets/wikimedia/wikipedia@b04c8d1ceb2f5cd4588862100d08de323dccfbaa/20231101.ar/train-00005-of-0000</span>\n",
       "<span style=\"color: #008000; text-decoration-color: #008000\">7.parquet'</span>: <span style=\"font-weight: bold\">{</span>\n",
       "            <span style=\"color: #008000; text-decoration-color: #008000\">'num_bytes'</span>: <span style=\"color: #008080; text-decoration-color: #008080; font-weight: bold\">156441726</span>,\n",
       "            <span style=\"color: #008000; text-decoration-color: #008000\">'checksum'</span>: <span style=\"color: #800080; text-decoration-color: #800080; font-style: italic\">None</span>\n",
       "        <span style=\"font-weight: bold\">}</span>,\n",
       "        <span style=\"color: #008000; text-decoration-color: #008000\">'hf://datasets/wikimedia/wikipedia@b04c8d1ceb2f5cd4588862100d08de323dccfbaa/20231101.ar/train-00006-of-0000</span>\n",
       "<span style=\"color: #008000; text-decoration-color: #008000\">7.parquet'</span>: <span style=\"font-weight: bold\">{</span>\n",
       "            <span style=\"color: #008000; text-decoration-color: #008000\">'num_bytes'</span>: <span style=\"color: #008080; text-decoration-color: #008080; font-weight: bold\">245773803</span>,\n",
       "            <span style=\"color: #008000; text-decoration-color: #008000\">'checksum'</span>: <span style=\"color: #800080; text-decoration-color: #800080; font-style: italic\">None</span>\n",
       "        <span style=\"font-weight: bold\">}</span>\n",
       "    <span style=\"font-weight: bold\">}</span>,\n",
       "    <span style=\"color: #808000; text-decoration-color: #808000\">download_size</span>=<span style=\"color: #008080; text-decoration-color: #008080; font-weight: bold\">1323304271</span>,\n",
       "    <span style=\"color: #808000; text-decoration-color: #808000\">post_processing_size</span>=<span style=\"color: #800080; text-decoration-color: #800080; font-style: italic\">None</span>,\n",
       "    <span style=\"color: #808000; text-decoration-color: #808000\">dataset_size</span>=<span style=\"color: #008080; text-decoration-color: #008080; font-weight: bold\">3124486159</span>,\n",
       "    <span style=\"color: #808000; text-decoration-color: #808000\">size_in_bytes</span>=<span style=\"color: #008080; text-decoration-color: #008080; font-weight: bold\">4447790430</span>\n",
       "<span style=\"font-weight: bold\">)</span>\n",
       "</pre>\n"
      ],
      "text/plain": [
       "\u001b[1;35mDatasetInfo\u001b[0m\u001b[1m(\u001b[0m\n",
       "    \u001b[33mdescription\u001b[0m=\u001b[32m''\u001b[0m,\n",
       "    \u001b[33mcitation\u001b[0m=\u001b[32m''\u001b[0m,\n",
       "    \u001b[33mhomepage\u001b[0m=\u001b[32m''\u001b[0m,\n",
       "    \u001b[33mlicense\u001b[0m=\u001b[32m''\u001b[0m,\n",
       "    \u001b[33mfeatures\u001b[0m=\u001b[1m{\u001b[0m\n",
       "        \u001b[32m'id'\u001b[0m: \u001b[1;35mValue\u001b[0m\u001b[1m(\u001b[0m\u001b[33mdtype\u001b[0m=\u001b[32m'string'\u001b[0m, \u001b[33mid\u001b[0m=\u001b[3;35mNone\u001b[0m\u001b[1m)\u001b[0m,\n",
       "        \u001b[32m'url'\u001b[0m: \u001b[1;35mValue\u001b[0m\u001b[1m(\u001b[0m\u001b[33mdtype\u001b[0m=\u001b[32m'string'\u001b[0m, \u001b[33mid\u001b[0m=\u001b[3;35mNone\u001b[0m\u001b[1m)\u001b[0m,\n",
       "        \u001b[32m'title'\u001b[0m: \u001b[1;35mValue\u001b[0m\u001b[1m(\u001b[0m\u001b[33mdtype\u001b[0m=\u001b[32m'string'\u001b[0m, \u001b[33mid\u001b[0m=\u001b[3;35mNone\u001b[0m\u001b[1m)\u001b[0m,\n",
       "        \u001b[32m'text'\u001b[0m: \u001b[1;35mValue\u001b[0m\u001b[1m(\u001b[0m\u001b[33mdtype\u001b[0m=\u001b[32m'string'\u001b[0m, \u001b[33mid\u001b[0m=\u001b[3;35mNone\u001b[0m\u001b[1m)\u001b[0m\n",
       "    \u001b[1m}\u001b[0m,\n",
       "    \u001b[33mpost_processed\u001b[0m=\u001b[3;35mNone\u001b[0m,\n",
       "    \u001b[33msupervised_keys\u001b[0m=\u001b[3;35mNone\u001b[0m,\n",
       "    \u001b[33mbuilder_name\u001b[0m=\u001b[32m'parquet'\u001b[0m,\n",
       "    \u001b[33mdataset_name\u001b[0m=\u001b[32m'wikipedia'\u001b[0m,\n",
       "    \u001b[33mconfig_name\u001b[0m=\u001b[32m'20231101.ar'\u001b[0m,\n",
       "    \u001b[33mversion\u001b[0m=\u001b[1;36m0\u001b[0m\u001b[1;36m.0\u001b[0m.\u001b[1;36m0\u001b[0m,\n",
       "    \u001b[33msplits\u001b[0m=\u001b[1m{\u001b[0m\n",
       "        \u001b[32m'train'\u001b[0m: \u001b[1;35mSplitInfo\u001b[0m\u001b[1m(\u001b[0m\n",
       "            \u001b[33mname\u001b[0m=\u001b[32m'train'\u001b[0m,\n",
       "            \u001b[33mnum_bytes\u001b[0m=\u001b[1;36m3124486159\u001b[0m,\n",
       "            \u001b[33mnum_examples\u001b[0m=\u001b[1;36m1219201\u001b[0m,\n",
       "            \u001b[33mshard_lengths\u001b[0m=\u001b[1m[\u001b[0m\u001b[1;36m78000\u001b[0m, \u001b[1;36m134172\u001b[0m, \u001b[1;36m216172\u001b[0m, \u001b[1;36m270344\u001b[0m, \u001b[1;36m331171\u001b[0m, \u001b[1;36m158171\u001b[0m, \u001b[1;36m31171\u001b[0m\u001b[1m]\u001b[0m,\n",
       "            \u001b[33mdataset_name\u001b[0m=\u001b[32m'wikipedia'\u001b[0m\n",
       "        \u001b[1m)\u001b[0m\n",
       "    \u001b[1m}\u001b[0m,\n",
       "    \u001b[33mdownload_checksums\u001b[0m=\u001b[1m{\u001b[0m\n",
       "        \u001b[32m'hf://datasets/wikimedia/wikipedia@b04c8d1ceb2f5cd4588862100d08de323dccfbaa/20231101.ar/train-00000-of-0000\u001b[0m\n",
       "\u001b[32m7.parquet'\u001b[0m: \u001b[1m{\u001b[0m\n",
       "            \u001b[32m'num_bytes'\u001b[0m: \u001b[1;36m408241089\u001b[0m,\n",
       "            \u001b[32m'checksum'\u001b[0m: \u001b[3;35mNone\u001b[0m\n",
       "        \u001b[1m}\u001b[0m,\n",
       "        \u001b[32m'hf://datasets/wikimedia/wikipedia@b04c8d1ceb2f5cd4588862100d08de323dccfbaa/20231101.ar/train-00001-of-0000\u001b[0m\n",
       "\u001b[32m7.parquet'\u001b[0m: \u001b[1m{\u001b[0m\n",
       "            \u001b[32m'num_bytes'\u001b[0m: \u001b[1;36m172208447\u001b[0m,\n",
       "            \u001b[32m'checksum'\u001b[0m: \u001b[3;35mNone\u001b[0m\n",
       "        \u001b[1m}\u001b[0m,\n",
       "        \u001b[32m'hf://datasets/wikimedia/wikipedia@b04c8d1ceb2f5cd4588862100d08de323dccfbaa/20231101.ar/train-00002-of-0000\u001b[0m\n",
       "\u001b[32m7.parquet'\u001b[0m: \u001b[1m{\u001b[0m\n",
       "            \u001b[32m'num_bytes'\u001b[0m: \u001b[1;36m144792516\u001b[0m,\n",
       "            \u001b[32m'checksum'\u001b[0m: \u001b[3;35mNone\u001b[0m\n",
       "        \u001b[1m}\u001b[0m,\n",
       "        \u001b[32m'hf://datasets/wikimedia/wikipedia@b04c8d1ceb2f5cd4588862100d08de323dccfbaa/20231101.ar/train-00003-of-0000\u001b[0m\n",
       "\u001b[32m7.parquet'\u001b[0m: \u001b[1m{\u001b[0m\n",
       "            \u001b[32m'num_bytes'\u001b[0m: \u001b[1;36m130751823\u001b[0m,\n",
       "            \u001b[32m'checksum'\u001b[0m: \u001b[3;35mNone\u001b[0m\n",
       "        \u001b[1m}\u001b[0m,\n",
       "        \u001b[32m'hf://datasets/wikimedia/wikipedia@b04c8d1ceb2f5cd4588862100d08de323dccfbaa/20231101.ar/train-00004-of-0000\u001b[0m\n",
       "\u001b[32m7.parquet'\u001b[0m: \u001b[1m{\u001b[0m\n",
       "            \u001b[32m'num_bytes'\u001b[0m: \u001b[1;36m65094867\u001b[0m,\n",
       "            \u001b[32m'checksum'\u001b[0m: \u001b[3;35mNone\u001b[0m\n",
       "        \u001b[1m}\u001b[0m,\n",
       "        \u001b[32m'hf://datasets/wikimedia/wikipedia@b04c8d1ceb2f5cd4588862100d08de323dccfbaa/20231101.ar/train-00005-of-0000\u001b[0m\n",
       "\u001b[32m7.parquet'\u001b[0m: \u001b[1m{\u001b[0m\n",
       "            \u001b[32m'num_bytes'\u001b[0m: \u001b[1;36m156441726\u001b[0m,\n",
       "            \u001b[32m'checksum'\u001b[0m: \u001b[3;35mNone\u001b[0m\n",
       "        \u001b[1m}\u001b[0m,\n",
       "        \u001b[32m'hf://datasets/wikimedia/wikipedia@b04c8d1ceb2f5cd4588862100d08de323dccfbaa/20231101.ar/train-00006-of-0000\u001b[0m\n",
       "\u001b[32m7.parquet'\u001b[0m: \u001b[1m{\u001b[0m\n",
       "            \u001b[32m'num_bytes'\u001b[0m: \u001b[1;36m245773803\u001b[0m,\n",
       "            \u001b[32m'checksum'\u001b[0m: \u001b[3;35mNone\u001b[0m\n",
       "        \u001b[1m}\u001b[0m\n",
       "    \u001b[1m}\u001b[0m,\n",
       "    \u001b[33mdownload_size\u001b[0m=\u001b[1;36m1323304271\u001b[0m,\n",
       "    \u001b[33mpost_processing_size\u001b[0m=\u001b[3;35mNone\u001b[0m,\n",
       "    \u001b[33mdataset_size\u001b[0m=\u001b[1;36m3124486159\u001b[0m,\n",
       "    \u001b[33msize_in_bytes\u001b[0m=\u001b[1;36m4447790430\u001b[0m\n",
       "\u001b[1m)\u001b[0m\n"
      ]
     },
     "metadata": {},
     "output_type": "display_data"
    }
   ],
   "source": [
    "print(ds.info)"
   ]
  },
  {
   "cell_type": "code",
   "execution_count": 8,
   "metadata": {
    "scrolled": true
   },
   "outputs": [
    {
     "data": {
      "text/html": [
       "<pre style=\"white-space:pre;overflow-x:auto;line-height:normal;font-family:Menlo,'DejaVu Sans Mono',consolas,'Courier New',monospace\">الماء مادةٌ شفافةٌ عديمة اللون والرائحة، وهو المكوّن الأساسي للجداول والبحيرات والبحار والمحيطات وكذلك للسوائل في جميع\n",
       "الكائنات الحيّة، وهو أكثر المركّبات الكيميائيّة انتشاراً على سطح الأرض. يتألّف جزيء الماء من ذرّة أكسجين مركزية ترتبط بها\n",
       "ذرّتا هيدروجين على طرفيها برابطة تساهميّة بحيث تكون صيغته الكيميائية H2O. عند الظروف القياسية من الضغط ودرجة الحرارة\n",
       "يكون الماء سائلاً؛ أمّا الحالة الصلبة فتتشكّل عند نقطة التجمّد، وتدعى بالجليد؛ أمّا الحالة الغازية فتتشكّل عند نقطة\n",
       "الغليان، وتسمّى بخار الماء.\n",
       "\n",
       "إنّ الماء هو أساس وجود الحياة على كوكب الأرض، وهو يغطّي <span style=\"color: #008080; text-decoration-color: #008080; font-weight: bold\">71</span>% من سطحها، وتمثّل مياه البحار والمحيطات أكبر نسبة للماء على\n",
       "الأرض، حيث تبلغ حوالي <span style=\"color: #008080; text-decoration-color: #008080; font-weight: bold\">96.5</span>%. وتتوزّع النسب الباقية بين المياه الجوفيّة وبين جليد المناطق القطبيّة <span style=\"font-weight: bold\">(</span><span style=\"color: #008080; text-decoration-color: #008080; font-weight: bold\">1.7</span>% لكليهما<span style=\"font-weight: bold\">)</span>، مع\n",
       "وجود نسبة صغيرة على شكل بخار ماء معلّق في الهواء على هيئة سحاب <span style=\"font-weight: bold\">(</span>غيوم<span style=\"font-weight: bold\">)</span>، وأحياناً أخرى على هيئة ضباب أو ندى، بالإضافة\n",
       "إلى الزخات المطريّة أو الثلجيّة. تبلغ نسبة الماء العذب حوالي <span style=\"color: #008080; text-decoration-color: #008080; font-weight: bold\">2.5</span>% فقط من الماء الموجود على الأرض، وأغلب هذه الكمّيّة\n",
       "<span style=\"font-weight: bold\">(</span>حوالي <span style=\"color: #008080; text-decoration-color: #008080; font-weight: bold\">99</span>%<span style=\"font-weight: bold\">)</span> موجودة في الكتل الجليديّة في المناطق القطبيّة، في حين تتواجد <span style=\"color: #008080; text-decoration-color: #008080; font-weight: bold\">0.3</span>% من الماء العذب في الأنهار والبحيرات وفي\n",
       "الغلاف الجوّي.\n",
       "\n",
       "أما في الطبيعة، فتتغيّر حالة الماء بين الحالات الثلاثة للمادة على سطح الأرض باستمرار من خلال ما يعرف باسم الدورة \n",
       "المائيّة <span style=\"font-weight: bold\">(</span>أو دورة الماء<span style=\"font-weight: bold\">)</span>، والتي تتضمّن حدوث تبخّر ونتح <span style=\"font-weight: bold\">(</span>نتح تبخّري<span style=\"font-weight: bold\">)</span> ثم تكثيف فهطول ثم جريان لتصل إلى المصبّ في المسطّحات\n",
       "المائيّة.\n",
       "\n",
       "شكّل الحصول على مصدر نقي من مياه الشرب أمراً مهمّاً لنشوء الحضارات عبر التاريخ. وفي العقود الأخيرة، سجلت حالات شحّ في\n",
       "المياه العذبة في مناطق عديدة من العالم، ولقد قدّرت إحصاءات الأمم المتّحدة أنّ حوالي مليار شخص على سطح الأرض لا يزالون\n",
       "يفتقرون الوسائل المتاحة للوصول إلى مصدر آمن لمياه الشرب، وأنّ حوالي <span style=\"color: #008080; text-decoration-color: #008080; font-weight: bold\">2.5</span> مليار يفتقرون إلى وسيلة ملائمة من أجل تطهير\n",
       "المياه.\n",
       "\n",
       "الخواص الفيزيائية والكيميائية \n",
       "\n",
       "يمكن إيراد الخواص الكيميائيّة والفيزيائيّة الأساسيّة للماء على شكل النقاط التالية:\n",
       " الماء سائل عند ظروف الضغط والحرارة القياسيّة المحيطة وذلك عند <span style=\"color: #008080; text-decoration-color: #008080; font-weight: bold\">298.15</span> كلفن <span style=\"font-weight: bold\">(</span><span style=\"color: #008080; text-decoration-color: #008080; font-weight: bold\">25</span> °س<span style=\"font-weight: bold\">)</span> وضغط <span style=\"color: #008080; text-decoration-color: #008080; font-weight: bold\">100</span>,<span style=\"color: #008080; text-decoration-color: #008080; font-weight: bold\">000</span> باسكال <span style=\"font-weight: bold\">(</span><span style=\"color: #008080; text-decoration-color: #008080; font-weight: bold\">1</span> بار، <span style=\"color: #008080; text-decoration-color: #008080; font-weight: bold\">14.5</span>\n",
       "بساي، <span style=\"color: #008080; text-decoration-color: #008080; font-weight: bold\">0.99</span> جو<span style=\"font-weight: bold\">)</span>، وهو عديم المذاق، كما أنّه عديم اللون عندما يكون بكمّيّات صغيرة، إلّا أنّه يأخذ لوناً أزرق عند ازدياد عمق\n",
       "الطبقات، وتلك خاصّيّة في أصل وجوهر الماء، ويعود سببها إلى امتصاص انتقائي في المجال الأحمر من الطيف المرئي وتبعثر \n",
       "للضوء الأبيض، أمّا بخار الماء فهو أساساً غاز عديم اللون.\n",
       " تتكون بنية الماء الجزيئيّة نظريّاً بحيث تقع ذرّة الأكسجين في مركز بنية جزيئيّة رباعيّة السطوح تقع فيها ذرّتا الهيدروجين\n",
       "بالإضافة إلى الزوجين الإلكترونيّين <span style=\"font-weight: bold\">(</span>الموجودين على ذرّة الأكسجين<span style=\"font-weight: bold\">)</span> على زوايا الشكل رباعي السطوح. ولكنّ الشائع أنّ البنية\n",
       "الجزيئيّة للماء منحنية وغير خطّيّة، إذ تبلغ زاوية الرابطة H-O-H مقدار <span style=\"color: #008080; text-decoration-color: #008080; font-weight: bold\">104.45</span>°. تلك القيمة من زاوية الرابطة أصغر من \n",
       "القيمة النظاميّة لرباعي السطوح <span style=\"color: #008080; text-decoration-color: #008080; font-weight: bold\">109.47</span>، ويعود ذلك إلى تدافع الزوجين الإلكترونيين ليشغلا أبعد مسافة ممكنة عن بعضهما \n",
       "حسب نظرية فيسبر. يبلغ طول الرابطة O-H في جزيء الماء <span style=\"color: #008080; text-decoration-color: #008080; font-weight: bold\">95.84</span> بيكومتر.\n",
       "\n",
       " بما أنّ كهرسلبية ذرّة الأكسجين حسب مقياس باولنغ <span style=\"font-weight: bold\">(</span><span style=\"color: #008080; text-decoration-color: #008080; font-weight: bold\">3.5</span><span style=\"font-weight: bold\">)</span> أعلى من ذرّة الهيدروجين <span style=\"font-weight: bold\">(</span><span style=\"color: #008080; text-decoration-color: #008080; font-weight: bold\">2.1</span><span style=\"font-weight: bold\">)</span>، تحمل ذرّة الأكسجين شحنة سالبة\n",
       "جزئية؛ في حين تحمل ذرّة الهيدروجين شحنة موجبة جزئية، بالتالي يكون الماء جزيئاً قطبيّاً ذا عزم ثنائي قطب يبلغ مقداره\n",
       "<span style=\"color: #008080; text-decoration-color: #008080; font-weight: bold\">1.84</span> ديباي. يستطيع الماء على أساس ذلك أن يشكّل روابط هيدروجينيّة بين جزيئيّة. تؤدّي هذه العوامل إلى وجود قوّة ترابط بين\n",
       "جزيئيّة قويّة، ممّا يفسّر ظهور خاصّيّة التوتّر السطحي الكبيرة للماء، بالإضافة إلى الخاصّيّة الشعريّة. تفسّر خاصّيّة التوتّر\n",
       "السطحي للماء ظاهرة إمكانيّة وقوف الحشرات خفيفة الوزن على سطح الماء، بالإضافة إلى إمكانيّة تشكّل القطرات؛ في حين أنّ\n",
       "الخاصّيّة الشعريّة، والتي تشير إلى ميل الماء إلى الصعود إلى أعلى أنبوب شعري رفيع بشكل معاكس لقوة الجاذبية، خاصية مهمة\n",
       "وحيوية عند النباتات الوعائية مثل الأشجار.\n",
       " يعدّ الماء من المذيبات القطبيّة الجيّدة، وعادةً ما يشار إليه على أنّه «مذيب عام». تُعرَّف المواد الكيميائيّة القابلة\n",
       "للانحلال <span style=\"font-weight: bold\">(</span>الذوبان<span style=\"font-weight: bold\">)</span> في الماء بأنّها مواد محبّة للماء <span style=\"font-weight: bold\">(</span>هيدروفيليّة<span style=\"font-weight: bold\">)</span>، مثل الأملاح والسكّريّات والأحماض والقلويّات وبعض\n",
       "الغازات مثل الأكسجين وثنائي أكسيد الكربون. بالمقابل، تعرّف المواد الكيميائيّة التي تكون غير قابلة للامتزاج مع الماء\n",
       "<span style=\"font-weight: bold\">(</span>مثل الدهنيّات <span style=\"font-weight: bold\">(</span>الزيوت والشحوم وغيرها<span style=\"font-weight: bold\">)</span> بأنّها كارهة للماء <span style=\"font-weight: bold\">(</span>هيدروفوبيّة<span style=\"font-weight: bold\">)</span>. من جهة أخرى يمتزج الماء مع العديد من السوائل\n",
       "كالكحولات <span style=\"font-weight: bold\">(</span>الإيثانول مثلاً<span style=\"font-weight: bold\">)</span> بكافة النسب مشكّلاً مزيجاً له صفات معيّنة، منها كونه ثابت الغليان <span style=\"font-weight: bold\">(</span>مزيج أزيوتروبي<span style=\"font-weight: bold\">)</span>. ولكن\n",
       "بالمقابل لا يمتزج الماء مع أغلب الزيوت العضويّة، إذ تشكّل الأخيرة طبقة ذات كثافة أقل تطفو على سطح الماء.\n",
       "\n",
       " تعتمد قيمة نقطة غليان الماء <span style=\"font-weight: bold\">(</span>كما هو الحال في كافة السوائل<span style=\"font-weight: bold\">)</span> على قيمة الضغط الجوّي المحيط. على سبيل المثال، فإنّ الماء\n",
       "النقيّ يغلي عند مستوى سطح البحر عند الدرجة <span style=\"color: #008080; text-decoration-color: #008080; font-weight: bold\">100</span> °س، في حين أنّه يغلي عند الدرجة <span style=\"color: #008080; text-decoration-color: #008080; font-weight: bold\">68</span> °س عند قمّة جبل إيفرست <span style=\"font-weight: bold\">(</span><span style=\"color: #008080; text-decoration-color: #008080; font-weight: bold\">8</span>,<span style=\"color: #008080; text-decoration-color: #008080; font-weight: bold\">848</span> م فوق\n",
       "سطح البحر<span style=\"font-weight: bold\">)</span>. عند إذابة المواد القابلة للانحلال في الماء ترتفع نقطة غليان الماء وتنخفض نقطة تجمّده.\n",
       " تبلغ قيمة السعة الحراريّة النوعيّة للماء <span style=\"color: #008080; text-decoration-color: #008080; font-weight: bold\">4181.3</span> جول/<span style=\"font-weight: bold\">(</span>كغ·كلفن<span style=\"font-weight: bold\">)</span>، وهي قيمة مرتفعة نسبياً بالمقارنة مع باقي المركّبات \n",
       "الكيميائيّة، كما أنّ حرارة التبخّر لديه مرتفعة <span style=\"font-weight: bold\">(</span><span style=\"color: #008080; text-decoration-color: #008080; font-weight: bold\">2257</span> كيلوجول/كغ<span style=\"font-weight: bold\">)</span> أيضاً. يعود ارتفاع هذه القيم إلى الروابط الهيدروجينيّة\n",
       "بين جزيئات الماء. تساهم تلك القيم المرتفعة في جعل مناخ الأرض معتدلاً وذلك بامتصاص التباينات والتأرجحات الكبيرة في \n",
       "درجة الحرارة.\n",
       " للماء كثافة مقدارها <span style=\"color: #008080; text-decoration-color: #008080; font-weight: bold\">1000</span> كغ/م3 <span style=\"font-weight: bold\">(</span>تعادل <span style=\"color: #008080; text-decoration-color: #008080; font-weight: bold\">1</span> غ/مل<span style=\"font-weight: bold\">)</span> عند الدرجة <span style=\"color: #008080; text-decoration-color: #008080; font-weight: bold\">4</span>° س، أمّا الجليد فكثافته تبلغ <span style=\"color: #008080; text-decoration-color: #008080; font-weight: bold\">917</span> كغ/م3. تكون لكثافة \n",
       "الماء قيمة أعظمية عند الدرجة <span style=\"color: #008080; text-decoration-color: #008080; font-weight: bold\">3.98</span> °س، وبعد ذلك تميل للتناقص، وذلك على العكس من أغلب المواد النقيّة الأخرى، والتي \n",
       "تزداد كثافتها عندما تنخفض درجة حرارتها. يعود التناقص في قيمة الكثافة إلى البنية المفتوحة غير المتراصّة للجليد والذي\n",
       "يبدأ بالتشكّل تدريجيّاً في الماء ذي درجة الحرارة المنخفضة <span style=\"font-weight: bold\">(</span>دون <span style=\"color: #008080; text-decoration-color: #008080; font-weight: bold\">3.98</span> °س<span style=\"font-weight: bold\">)</span>، إذ لا توجد طاقة حرارية كافية لتأمين توجّهات\n",
       "الحركة العشوائيّة للجزيئات، ممّا يؤدّي إلى اصطفافها على المستوى الجزيئي ولكن ببنية مفتوحة منتظمة، ممّا يؤدّي إلى ازدياد\n",
       "الحجم العام للسائل؛ ولذلك فإنّه بين درجتي الحرارة <span style=\"color: #008080; text-decoration-color: #008080; font-weight: bold\">3.98</span> °س و <span style=\"color: #008080; text-decoration-color: #008080; font-weight: bold\">0</span> °س يزداد الحجم مع تناقص درجة الحرارة. يتمدّد الماء \n",
       "ليشغل حجماً أكبر بنسبة <span style=\"color: #008080; text-decoration-color: #008080; font-weight: bold\">9</span>% من حجم الجليد، بالتالي ستكون كثافة الجليد أقلّ من كثافة الماء، لذلك يطفو الجليد على سطح \n",
       "الماء السائل، كما هو الحال في الجبال الجليديّة.\n",
       " للماء النقي موصليّة كهربائيّة ضعيفة، ولكنّها تزداد عند إذابة كمّيّة قليلة من مادّة أيونيّة مثل كلوريد الصوديوم.\n",
       " عند تطبيق طاقة كافية على الماء تفوق كمّيّة الحرارة القياسيّة للتكوين والتي تبلغ <span style=\"color: #008080; text-decoration-color: #008080; font-weight: bold\">285.8</span> كيلوجول/مول <span style=\"font-weight: bold\">(</span><span style=\"color: #008080; text-decoration-color: #008080; font-weight: bold\">15.9</span> ميغاجول/كغ<span style=\"font-weight: bold\">)</span>\n",
       "يحدث عندئذ انفصال لجزيء الماء إلى مكوّناته من الهيدروجين والأكسجين، وهذا ما يحدث عند تطبيق جهد مرتفع من التيّار \n",
       "الكهربائي بشروط معيّنة للحصول على ظاهرة التحليل الكهربائي للماء. إنّ الطاقة اللازمة لفصل الماء إلى الهيدروجين \n",
       "والأكسجين عبر التحليل الكهربائي أو وسيلة أخرى تفوق الطاقة المستحصلة من تفاعل اتحاد العنصرين المذكورين. يمكن أن يتم \n",
       "التحليل الكهربائي للماء على مستوى تعليمي عبر جهاز هوفمان لتحليل الماء:\n",
       "\n",
       " \n",
       " يصنّف الماء كيميائيّاً على أنّه أكسيد للهيدروجين، وهو يتشكّل عندما يحترق الهيدروجين أو أيّ مركّب حاوٍ عليه بالأكسجين، وهو\n",
       "مزيج انفجاري. تستطيع العناصر الكيميائيّة الأكثر كهرسلبية من الهيدروجين مثل الليثيوم والصوديوم والكالسيوم والبوتاسيوم\n",
       "والسيزيوم أن تزيح الهيدروجين من الماء مشكّلة بذلك الهيدروكسيدات الموافقة.\n",
       " يوصف الماء بأنّه عَسِر عندما تكون نسبة الأملاح المعدنيّة في الماء عالية، وخاصّة أملاح الكالسيوم <span style=\"font-weight: bold\">(</span>Ca+<span style=\"color: #008080; text-decoration-color: #008080; font-weight: bold\">2</span><span style=\"font-weight: bold\">)</span> والمغنسيوم \n",
       "<span style=\"font-weight: bold\">(</span>Mg+<span style=\"color: #008080; text-decoration-color: #008080; font-weight: bold\">2</span><span style=\"font-weight: bold\">)</span>، بالإضافة إلى بعض الأملاح المنحلّة من البيكربونات والكبريتات. بالمقابل، يوصف الماء غير العسر أنه «ماء يَسِر»،\n",
       "ويختلف تعريفه حسب الدولة، فهو الذي تركيزه من الأملاح أخفض من <span style=\"color: #008080; text-decoration-color: #008080; font-weight: bold\">100</span> مغ/ل في المملكة المتّحدة، وأخفض من <span style=\"color: #008080; text-decoration-color: #008080; font-weight: bold\">60</span> مغ/ل في \n",
       "الولايات المتّحدة الأمريكيّة. لهذه الخاصّيّة أهمّيّة في الصناعة بشكل خاص وخاصة في المراجل عند التبخير، كما أنّ لها تأثير\n",
       "على الصحّة، لذلك تخضع عادة إلى عملية إزالة للعسر.\n",
       " يمكن إجراء تفاعل كشف عن الماء بأساليب لاعضويّة تقليديّة، إذ أنّ الماء يلوّن ملح كبريتات النحاس الثنائي اللامائي أبيض\n",
       "اللون إلى اللون الأزرق، كما يتحوّل لون الورق المشبّع بملح كلوريد الكوبالت الثنائي اللامائي من الأزرق إلى الأحمر عند\n",
       "التماس مع الماء. أمّا تحليليّلاً فتحدّد كمّيّة الماء باستخدام طريقة كارل-فيشر.\n",
       " التعادل الحمضي: الماء سائل متعادل كيميائيّاً، إذ أنّ درجة الحموضة أو القاعدية فيه هي <span style=\"color: #008080; text-decoration-color: #008080; font-weight: bold\">7</span>، وهذا يعني أنّه لا يمكن اعتبار\n",
       "الماء مادّة حمضيّة أو قاعديّة، لأنه مادّة متعادلة كيميائيّاً.\n",
       " حسب توزّع نظائر الهيدروجين وتركيبها فيمكن لجزيء الماء أن يكون بالإضافة إلى الشكل الشائع «الخفيف» على شكل ماء ثقيل \n",
       "عندما يكون نظير الهيدروجين الديوتيريوم مكان الأول في جزيء الماء <span style=\"font-weight: bold\">(</span>D2O<span style=\"font-weight: bold\">)</span>، كما يمكن أن يكون على الشكل ماء فائق الثقل \n",
       "عندما يحلّ التريتيوم مكان الهيدروجين في جزيء الماء <span style=\"font-weight: bold\">(</span>T2O<span style=\"font-weight: bold\">)</span>.\n",
       "\n",
       "الماء في الكون \n",
       "\n",
       "باستثناء الماء الموجود على سطح الأرض، فإنّ معظم الماء الموجود في الكون هو نتاج ثانوي لولادة النجوم، والتي يترافق \n",
       "حدوثها بنشوء رياح تندفع خارجاً بقوّة، حاملةً معها الغاز والغبار. عندما يصطدم ذلك الدفق من المواد بالغاز المحيط بالجرم\n",
       "المولود يؤدّي ذلك إلى نشوء أمواج صدمة، ما يعمل على تسخين الغاز. يتشكل الماء الملاحظ في الكون بتلك الطريقة وبشكل سريع\n",
       "في ذلك الغاز المتكاثف الساخن. ظهر في سنة <span style=\"color: #008080; text-decoration-color: #008080; font-weight: bold\">2011</span> تقرير عن اكتشاف سحابة هائلة من بخار الماء في الكون وبكمّيّات تفوق \n",
       "الكمّيّة الموجودة على الأرض ب <span style=\"color: #008080; text-decoration-color: #008080; font-weight: bold\">140</span> تريليون مرّة، في محيط نجم زائف يبعد حوالي <span style=\"color: #008080; text-decoration-color: #008080; font-weight: bold\">12</span> مليار سنة ضوئيّة عن الأرض. وقد استنتج من\n",
       "ذلك أنّ الماء موجود في الكون منذ بداية نشأته.\n",
       "\n",
       "يوجد الماء في الكون على العموم بحالاته الثلاثة الصلبة، والسائلة، والغازيّة، بالإضافة لإمكانيّة افتراضيّة لوجوده على\n",
       "شكل يدعى «ماء فائق التأيّن»، حيث يتبلور الأكسجين وتبقى أيونات الهيدروجين عائمةً بشكل حرّ داخل الشبكة البلوريّة \n",
       "للأكسجين. يوجد هذا الشكل افتراضياً تحت ضغط ودرجة حرارة كبيرين كما هو الحال في البنية الداخليّة لكوكبي أورانوس ونبتون.\n",
       "يعد وجود الماء بحالاته الثلاثة في نفس الوقت أحد أسباب وجود الحياة على سطح كوكب الأرض. ويرجع ذلك لموقع الأرض في \n",
       "النطاق الصالح للحياة في النظام الشمسي، بحيث لو أنّها كانت أقرب إلى الشمس أو أبعد منها بنسبة <span style=\"color: #008080; text-decoration-color: #008080; font-weight: bold\">5</span>% من المسافة الحاليّة \n",
       "<span style=\"font-weight: bold\">(</span>أي حوالي <span style=\"color: #008080; text-decoration-color: #008080; font-weight: bold\">8</span> ملايين كم<span style=\"font-weight: bold\">)</span> فإنّ الظروف التي تسمح بوجود الأشكال الثلاثة لن تكون متوفّرة، ممّا سيؤثّر على وجود الحياة.\n",
       "\n",
       "على شكل بخار ماء \n",
       "يوجد الماء بحالته الغازيّة على هيئة بخار ماء، وقد عثر في الكون على هذا الشكل من الماء في الغلاف الجوّي للعديد من \n",
       "الأجرام في مجرّة درب التبّانة؛ وذلك في كلّ من:\n",
       "\n",
       " الغلاف الجوّي للشمس وذلك بكمّيّات نزرة قابلة للقياس.\n",
       " الغلاف الجوّي لعطارد بنسبة <span style=\"color: #008080; text-decoration-color: #008080; font-weight: bold\">3.4</span>%، ولكن توجد كمّيّات أكبر في الغلاف الخارجي.\n",
       " الغلاف الجوّي للزهرة بنسبة <span style=\"color: #008080; text-decoration-color: #008080; font-weight: bold\">0.002</span>%.\n",
       " الغلاف الجوّي للأرض بنسبة تقارب <span style=\"color: #008080; text-decoration-color: #008080; font-weight: bold\">0.40</span>% بالنسبة لكامل طبقات الغلاف الجوّي، إلّا أنّها تتراوح بين <span style=\"color: #008080; text-decoration-color: #008080; font-weight: bold\">1</span>-<span style=\"color: #008080; text-decoration-color: #008080; font-weight: bold\">4</span>% بالقرب من السطح،\n",
       "بالإضافة إلى وجود كمّيّات نزرة في الغلاف الجوّي للقمر.\n",
       " الغلاف الجوّي للمريخ بنسبة <span style=\"color: #008080; text-decoration-color: #008080; font-weight: bold\">0.03</span> %.\n",
       " الغلاف الجوّي للمشتري وذلك فقط في المواد المتطايرة بنسبة <span style=\"color: #008080; text-decoration-color: #008080; font-weight: bold\">0.0004</span>%، وكذلك في قمره أوروبا.\n",
       " الغلاف الجوّي لزحل وذلك فقط في المواد المتطايرة، وكذلك في أقماره تيتان وديون وإنسيلادوس.\n",
       " الغلاف الجوّي لأورانوس بكمّيّات نزرة دون <span style=\"color: #008080; text-decoration-color: #008080; font-weight: bold\">50</span> بار.\n",
       " الغلاف الجوّي لنبتون وذلك في الطبقات العميقة.\n",
       "\n",
       "يوجد بخار الماء أيضاً في العديد من الأجرام الفلكيّة الأخرى داخل المجموعة الشمسيّة كما في الغلاف الجوي للكوكب القزم \n",
       "سيريس، بالإضافة إلى الأجرام خارج المجموعة الشمسيّة بما في ذلك الغلاف الجوّي لكل من HD <span style=\"color: #008080; text-decoration-color: #008080; font-weight: bold\">189733</span> b، وHD <span style=\"color: #008080; text-decoration-color: #008080; font-weight: bold\">209458</span> b، و Tau\n",
       "Boötis b، و HAT-P-11b، و XO-1b، وواسب-12b و WASP-17b و WASP-19b.\n",
       "\n",
       "يوجد بخار الماء أيضاً في الغلاف الجوّي للنجوم وذلك بشكل لا يقتصر على النجوم الباردة فقط، إذ أنّه اكتشف حتى في النجوم\n",
       "الضخمة العملاقة مثل منكب الجوزاء ونجم الراقص في كوكبة الملتهب وقلب العقرب والسمّاك الرامح. كما اكتشف بخار الماء أيضاً\n",
       "في الأقراص النجميّة الدوّارة بما في ذلك أكثر من نصف نجوم تي الثور مثل AA Tauri، و TW Hydrae، و IRC +<span style=\"color: #008080; text-decoration-color: #008080; font-weight: bold\">10216</span>، و APM \n",
       "<span style=\"color: #008080; text-decoration-color: #008080; font-weight: bold\">08279</span>+<span style=\"color: #008080; text-decoration-color: #008080; font-weight: bold\">5255</span>، و S Persei.\n",
       "\n",
       "على شكل ماء سائل \n",
       "\n",
       "يوجد الماء السائل في الكون بشكل رئيسي على كوكب الأرض حيث يغطّي أكثر من <span style=\"color: #008080; text-decoration-color: #008080; font-weight: bold\">71</span>% من مساحته، بالإضافة إلى ذلك توجد كمّيّات\n",
       "كبيرة من الماء داخل الأرض وذلك في الطبقات العميقة تحت القشرة الأرضيّة. كما أنّ هناك دلائل على وجوده على سطح المريخ \n",
       "أيضاً ولكن بكمّيّات قليلة. هناك أبحاث تشير إلى أنّ الماء السائل قد يوجد بكمّيّات معتبرة في قمر إنسيلادوس الذي يدور في فلك\n",
       "زحل، حيث توجد طبقة سماكتها حوالي <span style=\"color: #008080; text-decoration-color: #008080; font-weight: bold\">10</span> كم في عمق <span style=\"color: #008080; text-decoration-color: #008080; font-weight: bold\">30</span>-<span style=\"color: #008080; text-decoration-color: #008080; font-weight: bold\">40</span> كم تحت سطح القطب الجنوبي لذلك القمر، كما يوجد في طبقة تحت سطح \n",
       "قمر تيتان، ومن المحتمل أن يكون ممزوجاً مع الأمونيا. أمّا قمر المشتري أوروبا فلسطحه ميّزات تشير إلى إمكانيّة وجود مياه\n",
       "محيط سائلة تحت سطحيّة، كما يمكن للماء السائل أن يوجد على قمر المشتري غانيميد في طبقة محصورة بين الجليد مرتفع الضغط \n",
       "والصخر.\n",
       "\n",
       "على شكل جليد \n",
       "يوجد الماء على شكل جليد في الكون في العديد من الأجرام والكواكب مثل كوكب المريخ وذلك تحت الحطام الصخري وعند القطبين،\n",
       "كما يوجد في حلقات زحل، وفي قطبي عطارد.\n",
       "\n",
       "كما يوجد الجليد على شكل صفائح جليديّة في الأرض وفي الفوّهات والصخور البركانيّة في القمر، وفي أقمار أخرى مثل قمر شارون.\n",
       "\n",
       "الماء في الأرض \n",
       "\n",
       "يوجد الماء على سطح الأرض في المسطّحات المائيّة والتي يمكن أن تكون على عدّة أشكال طبيعيّة مثل المحيطات والبحار والبحيرات\n",
       "والأنهار والجداول والبرك وغير ذلك، مع العلم أنّ أغلب الماء الموجود على سطح الأرض هو على شكل مياه مالحة في المحيطات \n",
       "والبحار، وخاصة في نصف الأرض الجنوبي حيث يوجد نصف الكرة المائي. تعرف كمّيّة الماء الكلّيّة الموجودة على الأرض ككلّ باسم\n",
       "غلاف الأرض المائي، ويقدّر حجمه بحوالي <span style=\"color: #008080; text-decoration-color: #008080; font-weight: bold\">1338</span> مليون كم3، ومعظم هذه الكمّيّة <span style=\"font-weight: bold\">(</span><span style=\"color: #008080; text-decoration-color: #008080; font-weight: bold\">97</span>%<span style=\"font-weight: bold\">)</span> عبارة عن ماء مالح في المحيطات، أما <span style=\"color: #008080; text-decoration-color: #008080; font-weight: bold\">3</span>%\n",
       "المتبقيّة، والتي تكافئ حوالي <span style=\"color: #008080; text-decoration-color: #008080; font-weight: bold\">48</span> مليون كم3 فهي ماء عذب، وحوالي ثلثي الماء العذب المتوفّر على الأرض هو جليد في القطبين\n",
       "على شكل مثالج وجبال جليديّة. تشكّل المياه الجوفيّة أغلب نسبة الثلث المتبقي من المياه العذبة <span style=\"font-weight: bold\">(</span><span style=\"color: #008080; text-decoration-color: #008080; font-weight: bold\">23.4</span> مليون كم3<span style=\"font-weight: bold\">)</span>، بحيث أنّ\n",
       "النسبة المتبقيّة من الماء العذب الموجودة في مجاري الأنهار وفي البحيرات الداخليّة <span style=\"font-weight: bold\">(</span><span style=\"color: #008080; text-decoration-color: #008080; font-weight: bold\">190</span> ألف كم3<span style=\"font-weight: bold\">)</span> وفي الغلاف الجوّي على\n",
       "شكل بخار ماء <span style=\"font-weight: bold\">(</span><span style=\"color: #008080; text-decoration-color: #008080; font-weight: bold\">13</span> ألف كم3<span style=\"font-weight: bold\">)</span> وفي الغلاف الصخري <span style=\"font-weight: bold\">(</span><span style=\"color: #008080; text-decoration-color: #008080; font-weight: bold\">16</span> ألف كم3<span style=\"font-weight: bold\">)</span> تبدو صغيرة نسبيّاً. إنّ أغلب ماء الأرض هو على شكل سائل \n",
       "<span style=\"font-weight: bold\">(</span><span style=\"color: #008080; text-decoration-color: #008080; font-weight: bold\">98.2</span>%<span style=\"font-weight: bold\">)</span>، والباقي على شكل صلب <span style=\"font-weight: bold\">(</span><span style=\"color: #008080; text-decoration-color: #008080; font-weight: bold\">1.8</span> %<span style=\"font-weight: bold\">)</span>، مع وجود نسبة ضئيلة <span style=\"font-weight: bold\">(</span><span style=\"color: #008080; text-decoration-color: #008080; font-weight: bold\">0.001</span> %<span style=\"font-weight: bold\">)</span> على شكل بخار ماء. تجدر الإشارة إلى أنّ هذه النسب\n",
       "تقريبيّة وتشير إلى الحالة الراهنة، إذ حدثت تفاوتات كبيرة في تاريخ مناخ الكرة الأرضيّة.\n",
       "\n",
       "دورة الماء \n",
       "\n",
       "يشير مصطلح دورة الماء إلى التغيّر المستمرّ لحالات الماء ضمن الغلاف المائي للأرض وذلك بين الغلاف الجوّي للأرض والتربة\n",
       "والمياه السطحيّة والجوفيّة، بالإضافة إلى دور النباتات في تلك العمليّة.\n",
       "\n",
       "تتضمّن دورة الماء انتقال الماء بشكل مستمر ودون انقطاع عبر العمليّات التالية:\n",
       " تبخّر الماء من المحيطات والمسطّحات المائيّة، بالإضافة إلى عمليّة النتح من نباتات اليابسة على شكل بخار ماء إلى الهواء.\n",
       " تكاثف بخار الماء من الهواء وحدوث هطولات تضمن عودة الماء بالتساقط على الأرض.\n",
       " جريان وصولاً إلى المحيطات والمسطّحات المائيّة.\n",
       "\n",
       "يتكاثف أغلب بخار الماء الموجود فوق المحيطات ويعود إليها، ولكن أحياناً ما تحمل الرياح بخار الماء إلى اليابسة بحيث \n",
       "يمكن أن يحدث الهطول والتساقط عليها، وهذا الأمر يتعلّق بالمنطقة الجغرافيّة ومناخ المنطقة. يمكن للهطولات أن تكون على \n",
       "أشكال مختلفة، أشهرها الهطولات المطريّة، ولكن قد يحدث الهطول على شكل ثلج أو بَرَد، كما يسهم تشكل الضباب والندى في عملية\n",
       "الهطول أيضاً. بالمقابل، يحدث القحط والجفاف عندما تمرّ فترات زمنيّة طويلة نسبيّاً قد تصل لشهور وأحياناً لسنوات دون هطول،\n",
       "ممّا يؤدّي إلى نقصان في مخزونها المائي تحت المعدّل الطبيعي لتلك المنطقة الجغرافيّة.\n",
       "\n",
       "عند حدوث جريان الماء تتجمّع المياه على شكل مستجمعات، والتي تنجرف إلى الأنهار ومنها تكمل طريقها حسب مصبّها إلى \n",
       "المحيطات أو تتبخّر منها مباشرة. يعرف نموذج النقل الهيدرولوجي بأنّه إجراء عمليّة نمذجة رياضيّة لمحاكاة تدفّق نهر أو جدول،\n",
       "وحساب العوامل المؤثّرة على جودة الماء. يمكن أن يؤدّي الجريان إلى تعرية البيئة المحيطة ممّا يؤدّي إلى تشكيل الوديان أو\n",
       "مناطق جغرافية مميّزة وخصبة مثل الدلتا على سبيل المثال. يحدث الفيضان عندما تهطل كمّيّة كبيرة من الأمطار الغزيرة على \n",
       "أراضي منبسطة، بحيث أنّ معدّل الهطول في فترة زمنية يكون أكبر من معدّل التصريف، ممّا يؤدّي إلى ارتفاع مستوى المياه في\n",
       "الأنهار وغمرها للمناطق المحيطة.\n",
       "\n",
       "التأثير على المناخ \n",
       "يقوم الماء بدور محوري في التأثير على مناخ الأرض، وهو أساس كافّة الظواهر المتعلّقة بالطقس وحالة الجوّ، ويعود ذلك إلى\n",
       "خاصّيّة الماء المتميّزة والمتمثّلة بالحركيّة والسعة الحراريّة العالية. يتمّ تخزين طاقة الشمس في مياه المحيطات، حيث يؤدّي\n",
       "ذلك إلى تبخّر المياه، إلّا أنّ نسبة التعرّض للشمس تتفاوت من مكان لآخر حسب المنطقة الجغرافيّة، ممّا يؤدّي إلى تفاوت في درجة\n",
       "حرارة المياه وفي نسبة الملوحة، والذي يسبّب في النهاية بحدوث تيّارات محيطيّة تنقل معها كمّيّات كبيرة من الطاقة <span style=\"font-weight: bold\">(</span>على شكل\n",
       "حرارة<span style=\"font-weight: bold\">)</span>، مثل تيار الخليج وتيار همبولت. إنّ حدوث تيار الخليج الدافئ له تأثير كبير على مناخ أوروبا، إذ لولاه لكان \n",
       "المناخ هناك قطبياً.\n",
       "\n",
       "عندما تسخن مياه المحيطات يتبخّر الماء، وينتج نوعان من بخار الماء: «الجافّ» غير المتكاثف و«الرطب» المتكاثف على شكل \n",
       "سحاب وضباب، والذي يحوي وينقل الطاقة على شكل حرارة كامنة، والتي لها تأثير كبير على الظواهر الجوّية مثل الرطوبة الجوّيّة\n",
       "والعواصف الرعديّة.\n",
       "\n",
       "تؤدّي الهطولات المطريّة و/أو الثلجيّة إلى تأمين المحتوى المائي في المناطق الجغرافيّة، وتكون نسبة النتح التبخرّي إلى\n",
       "الهطولات مهمّة في تحديد مناخ المنطقة الجغرافيّة إن كانت قاحلة <span style=\"font-weight: bold\">(</span>سهوب وصحاري<span style=\"font-weight: bold\">)</span> أو رطبة <span style=\"font-weight: bold\">(</span>غابات<span style=\"font-weight: bold\">)</span>، وذلك للتأثير المباشر على\n",
       "الغطاء النباتي.\n",
       "\n",
       "ماء البحر والمد والجزر \n",
       "\n",
       "يحوي ماء البحر على نسبة من الأملاح الطبيعيّة <span style=\"font-weight: bold\">(</span>ما متوسطه <span style=\"color: #008080; text-decoration-color: #008080; font-weight: bold\">3.5</span>%، أكثرها وفرةً ملح كلوريد الصوديوم<span style=\"font-weight: bold\">)</span>، بالإضافة إلى كمّيّات\n",
       "أصغر من مواد أخرى. تتراوح نسبة الملوحة في مياه البحار من <span style=\"color: #008080; text-decoration-color: #008080; font-weight: bold\">0.7</span>% في بحر البلطيق إلى <span style=\"color: #008080; text-decoration-color: #008080; font-weight: bold\">4.0</span>% في البحر الأحمر، في حين تصل \n",
       "نسبة الأملاح في البحر الميّت إلى حوالي <span style=\"color: #008080; text-decoration-color: #008080; font-weight: bold\">35</span>%.\n",
       "\n",
       "يسمّى ارتفاع منسوب مياه البحر عند الشاطئ وانحساره باسم ظاهرة المدّ والجزر على الترتيب. ويعود سببها إلى قوّة ناشئة \n",
       "ومتولّدة عن قوّة جاذبيّة القمر والشمس، والتي تؤثّر على مياه المحيطات. يؤدّي حدوث ظاهرة المدّ والجزر إلى تغيّر في عمق\n",
       "المسطّحات المائيّة المجاورة للشواطئ وخاصة عند مصاب الأنهار، ممّا يؤدّي إلى حدوث تيّارات اهتزازيّة تعرف باسم المجاري\n",
       "المدّيّة. إنّ التغيّر في منسوب مياه البحر أثناء المدّ والجزر في مكان جغرافي ما يتعلّق بحركة القمر والشمس ووموقعهما في\n",
       "لحظة معيّنة بالنسبة للأرض، ويترافق ذلك مع تأثير كوريوليس الحاصل من دوران الأرض حول نفسها، بالإضافة إلى العامل \n",
       "المتعلّق بمدى عمق تلك النقطة الجغرافيّة. تسمّى المنطقة الساحليّة التي تغمر تحت تأثير المدّ وينحسر عنها الماء أثناء الجزر\n",
       "باسم البحر الوحلي، وهي منطقة ذات أهمّيّة بيئيّة كبيرة.\n",
       "\n",
       "الماء وعلوم الأرض \n",
       "يعرف العلم الذي يعنى بدراسة المياه وتوزيعها فوق الأرض وصفاتها وخواصها الطبيعيّة والكيميائيّة وتفاعلها مع البيئة \n",
       "والكائنات الحيّة باسم علم المياه، في حين أنّ علم وصف المياه يختصّ بدراسة التوزيع والحركة على الأرض، أمّا دراسة المياه\n",
       "الجوفيّة من حيث التوزيع والحركة فهو علم الهيدروجيولوجيا. في حال كان التخصّص في دراسة الجليد فيعرف العلم باسم علم \n",
       "الجليد، وفي حال التخصّص بالمياه الداخلية فيعرف العلم باسم علم المسطّحات المائيّة الداخليّة، أمّا دراسة توزّع الماء في\n",
       "المحيطات والخواص المتعلّقة فهو مجال اهتمام علم المحيطات.\n",
       "\n",
       "يدخل الماء في العديد من العمليّات الجيولوجيّة المهمّة، حيث يوجد الماء في العديد من الصخور، ويؤثّر ذلك في تشكيل الصدوع،\n",
       "كما يسهم الماء في حدوث عمليّات التجوية الكيميائيّة والفيزيائيّة. تستطيع مياه الأمطار أن تتخلّل بعض أنواع الصخور المشكّلة\n",
       "للقشرة الأرضيّة بحيث تصل إلى طبقات المياه الجوفية. عندما تكون المياه الجوفيّة الموجودة في أعماق الأرض ضمن طبقات \n",
       "جيولوجيّة ساخنة فإنّ الماء يصعد إلى سطح الأرض على شكل مياه حمئة أو فوّارات حارّة.\n",
       "\n",
       "الأهمّيّة الحيويّة \n",
       "\n",
       "الماء هو الحياة، ويمكن تفسير تلك المقولة من وجهة حيويّة بناءً على عدة خواص مميّزة يقوم بها الماء، والتي هي أساسيّة \n",
       "لاستمرار الحياة على وجه الأرض. من بين تلك الخواص الحيويّة قيامه بدور مذيب عام، إذ أنّ أغلب المواد الحيويّة تكون مذابة\n",
       "أو معلّقة فيه، ولهذا الأمر أهمّيّة في العمليّات الاستقلابيّة، كما يشكّل الماء وسطاً حيوياً يسمح بقيام تفاعلات عضويّة حيويّة\n",
       "تؤدّي في النهاية إلى تأمين التناسخ الذاتي، ممّا يضمن استمرار التناسل وبقاء الكائنات الحية.\n",
       "\n",
       "يعدّ الماء أساسيّاً لحدوث عملية التركيب الضوئي وبالتالي التنفس الخلوي عند الكائنات الحيّة. تقوم خلايا النباتات أثناء\n",
       "عمليّة التركيب الضوئي باستخدام طاقة الشمس لفصم الهيدروجين عن الأكسجين في جزيء الماء، حيث يتحدّ الهيدروجين مع ثنائي \n",
       "أكسيد الكربون CO2 ليشكّل الغلوكوز ويحرّر الأكسجين. بالمقابل تستخدم الكائنات الحيّة الأكسجين لتحرق السكر <span style=\"font-weight: bold\">(</span>الكربوهيدرات\n",
       "بشكل عام<span style=\"font-weight: bold\">)</span> لتحرر الماء وغاز ثنائي أكسيد الكربون من أجل تأمين الطاقة لاستمرار الحياة. للماء أيضاً دور مهمّ في تأمين وسط\n",
       "معتدل أس هيدروجيني ~ <span style=\"color: #008080; text-decoration-color: #008080; font-weight: bold\">7</span>، وبالتالي في عمل الإنزيمات. بالنهاية تحتاج كلّ الكائنات الحيّة إلى كمّيّات من الماء للقيام \n",
       "بعمليّاتها الحيويّة، مثل التخلص من الفضلات على سبيل المثال.\n",
       "\n",
       "الماء أساس الحياة \n",
       "\n",
       "بدأت أول أشكال الحياة في الماء ومنها تطوّرت إلى أشكال الحياة المعروفة الآن. من الأمثلة المعروفة على أشكال الحياة \n",
       "البدائيّة وجود نوع من بكتيريا مختزلة للكبريت وهي بدائيّة النواة وذاتيّة التغذية وتنتج الطاقة من حدوث تفاعل \n",
       "أكسدة-اختزال بين كبريتيد الهيدروجين وثنائي أكسيد الكربون بوجود أشعة الشمس ممّا أسهم في الحصول على منتجات للكربون \n",
       "بالإضافة إلى الماء.\n",
       "\n",
       " \n",
       "\n",
       "تلا ذلك وجود البكتريا الزرقاء وجميع أنواع حقيقيّات النوى ذاتيّة التغذية التي استخدمت الماء وثنائي أكسيد الكربون في \n",
       "تفاعل إنتاج الطاقة بوجود الضوء للحصول على الأكسجين والسكّر:\n",
       "\n",
       " \n",
       "\n",
       "من خلال هذه العمليّة ارتفع منسوب غاز الأكسجين في الماء وفي الغلاف الجوّي، وبذلك أصبح من الممكن الحصول على الطاقة عن\n",
       "طريق التنفّس الخلوي.\n",
       "\n",
       " \n",
       "\n",
       "على هذا الأساس أصبح الماء هو الوسط الرئيسي في جميع الكائنات الحيّة من أجل تمام عمليات الاستقلاب الكيميائيّة الحيويّة\n",
       "للحصول على الطاقة وتخزينها. ويتمثّل ذلك في العمليّات الحيويّة التالية: التركيب الضوئي وتحلّل السكّر وتحلّل الدهن ودورة\n",
       "حمض الستريك ودورة اليوريا. يعود الفضل في ذلك إلى كون الماء من المذيبات القطبيّة ممّا يسهم في إذابة الإلكتروليتات \n",
       "والمركّبّات القطبيّة، ومن جهة أخرى تسهم لزوجة وكثافة الماء الملائمة في كونه وسطاً ناقلاً للمركّبات اللاقطبيّة غير القابلة\n",
       "للذوبان في الماء، مثل المغذّيّات والدهون ونتائج التقويض والهدم الاستقلابي والهرمونات. بالتالي فالماء هو أساس الأوساط\n",
       "الناقلة مثل الدم والبلازما واللمف عند الثديّيات والنسيج الوعائي الخشبي عند النباتات.\n",
       "\n",
       "يقوم الماء بالإضافة إلى ذلك في ضبط حرارة جسم الكائنات الحيّة وذلك على شكل إدماع <span style=\"font-weight: bold\">(</span>تعرّق النبات<span style=\"font-weight: bold\">)</span> أو على شكل عَرَق عند\n",
       "البشر والحيوانات. من جهة أخرى تستخدم النباتات وبعض الحيوانات اللافقارية ظاهرة ضغط الامتلاء <span style=\"font-weight: bold\">(</span>أو ضغط الانتباج<span style=\"font-weight: bold\">)</span> \n",
       "بالاعتماد على امتلاء محتوى الخليّة بالماء للقيام بتحريك بسيط للأعضاء. تلاحظ هذه الظاهرة لدى بعض النباتات عند تحريك \n",
       "الأوراق، كما تلاحظ أيضاً عند شوكيات الجلد مثل قنفذ البحر ونجم البحر وخيار البحر.\n",
       "\n",
       "الحياة المائيّة \n",
       "\n",
       "تزخر مياه الأرض السطحيّة بعدّة أشكال من التنوّع الحيوي فيها، وتتناقص كلما ازداد العمق. تعتمد الحياة المائيّة في البحار\n",
       "والمحيطات في وجودها على الماء كعامل أساسي للكتلة الحيويّة، ويكون العامل المحدّد للإنتاجيّة هو كمّيّة ومقدار المغذّيّات\n",
       "النباتيّة المذابة مثل الفوسفات ومركّبات النتروجين مثل الأمونيوم والنترات بالإضافة إلى ثنائي أكسيد الكربون CO2.\n",
       "\n",
       "تنمو بعض النباتات في الماء مثل الطحالب وتعدّ أساساً للعديد من النظم البيئيّة تحت سطح الماء؛ كما تعيش العوالق \n",
       "<span style=\"font-weight: bold\">(</span>البلانكتون<span style=\"font-weight: bold\">)</span> أيضاً تحت سطح الماء، وهي متعضّيّات صغيرة جداً، وهي ذات أهمّيّة بالغة، إذ تعدّ الأساس في وجود السلسلة الغذائيّة\n",
       "في المحيطات. إنّ أوّل ظهور للشكل البدائي للحياة كان في الماء؛ مع وجود أصناف عديدة من الأسماك والعديد من اللافقاريات\n",
       "التي تعيش في الماء فقط بالإضافة إلى وجود البرمائيّات والتي تقضي حياتها بين اليابسة والمياه. يستمر التدرّج في كبر وحجم\n",
       "الأنواع حتى الوصول إلى الثديّيات البحريّة.\n",
       "\n",
       "تحتاج الفقاريّات المائيّة إلى الأكسجين لحياتها، وهي تفعل ذلك بطرق مختلفة. للأسماك مثلاً خياشيم بدلاً من الرئتين والتي\n",
       "تتمكّن من خلالها أن تعيش تحت الماء، رغم أنّه يتوفّر لدى بعض الأسماك مثل الأسماك الرئويّة كلا نظامي التنفّس. أمّا الثديّيات\n",
       "البحريّة مثل الدلفين والحوت وثعالب الماء وزعنفيّات الأقدام فهي تحتاج للصعود إلى السطح بشكل دوري لتنفّس الهواء. تقوم\n",
       "بعض البرمائيّات بالتنفّس عن طريق امتصاص الأكسجين من خلال جلدها. تمتلك اللافقاريّات العديد من التحويرات كي تبقى على قيد\n",
       "الحياة في بيئات ذات مياه فقيرة بالأكسجين وذلك باستخدام أنابيب تنفّس مثلاً.\n",
       "\n",
       "يؤدّي تعلّق كثافة الماء بدرجة الحرارة إلى حدوث ظاهرة التطبُّق وإلى حدوث تيّارات مائيّة داخل كتلة الماء الموجودة في المسطّح\n",
       "المائي، والتي تعد ذات أهمّيّة كبيرة للموائل والأمكنة الحيوية في المياه العذبة وفي مياه المحيطات المالحة على حد سواء.\n",
       "إن شذوذ الكثافة لدى الماء يمكّن الكائنات البحريّة من البقاء على قيد الحياة في فصل الشتاء، إذ أنّ البيئات المائيّة بذلك\n",
       "لن تهبط عند التجمّد إلى القاع إنّما ستطفو على السطح.\n",
       "\n",
       "الحياة البريّة \n",
       "يعدّ الماء أساسيّاً وعاملاً محدّداً للإنتاجية في النظم البيئيّة على الأرض، إذ أنّه ضروري الوجود من أجل عمليّة الاستقلاب عند\n",
       "الأحياء <span style=\"font-weight: bold\">(</span>الغلاف الحيوي<span style=\"font-weight: bold\">)</span>، كما له دور أساسي في تشكيل وتطبيع أماكن تواجدها، إن كان في غلاف الأرض الترابي أو الجوّي. \n",
       "تقوم الهطولات المطريّة و/أو الثلجيّة بتغذية المسطّحات المائيّة والمياه الجوفيّة كمصدر حيوي من أجل نمو النباتات ولتأمين\n",
       "مياه شرب للحيوانات.\n",
       "\n",
       "يتم الاستفادة من خواص الماء من قبل العديد من الكائنات الحيّة، فعلى سبيل المثال تستغل الحشرات والعنكبيّات خاصّيّة التوتّر\n",
       "السطحي للماء في حياتها اليوميّة بشكل كبير.\n",
       "\n",
       "الإنسان \n",
       "\n",
       "إنّ حوالي ثلثي جسم الإنسان وزناً هو ماء، ممّا يبرز الأهمّيّة الحيويّة له بالنسبة لبقاء البشريّة. تتراوح نسبة الماء في\n",
       "الجسم بين <span style=\"color: #008080; text-decoration-color: #008080; font-weight: bold\">55</span>% إلى <span style=\"color: #008080; text-decoration-color: #008080; font-weight: bold\">78</span>% وذلك حسب الحجم. عندما تنقص كمّيّة الماء في الجسم يشعر الإنسان بالعطش؛ إذ لا يستطيع الإنسان أن\n",
       "يعيش دون شرب ماء لفترة طويلة. يؤدّي نقصان كمّيّة الماء في الجسم إلى آثار صحّيّة سلبيّة كبيرة، مثل حدوث التجفاف، ممّا يؤدّي\n",
       "إلى تعطّل بعض وظائف الجسم التي تحتاج الماء كي تعمل بانتظام. يؤدّي عدم شرب كمّيّات كافية من الماء إلى حدوث شعور بالدوار\n",
       "والغثيان، واضطرابات في التروية الدموية، بالإضافة إلى تشنّجات عضليّة.\n",
       "\n",
       "تتفاوت التقديرات حول الكمّيّة الموصى بها لشرب الماء يوميّاً، ولكن لا ينبغي أن تقل عن <span style=\"color: #008080; text-decoration-color: #008080; font-weight: bold\">1.5</span> ليتر من الماء يوميّاً، وهي كمّيّة\n",
       "تقديريّة وسطيّة لتجنّب حدوث الجفاف <span style=\"font-weight: bold\">(</span><span style=\"color: #008080; text-decoration-color: #008080; font-weight: bold\">6</span>-<span style=\"color: #008080; text-decoration-color: #008080; font-weight: bold\">7</span> كاسات من الماء يوميّاً<span style=\"font-weight: bold\">)</span>. وللآن لا توجد أدلّة علميّة كافية تلزم الإنسان بشرب كمّيّة\n",
       "محدّدة من الماء يوميّاً، مثل القول أنه ينبغي شرب <span style=\"color: #008080; text-decoration-color: #008080; font-weight: bold\">8</span> كاسات من الماء كلّ يوم. من جهة أخرى، هناك عدد من الدراسات التي ربطت\n",
       "بين الاستهلاك المرتفع لماء الشرب مع حدوث اضطرابات ومشاكل في الوزن. ربّما تزداد الكمّيّة الموصى بها حسب المناخ، ففي \n",
       "البلدان ذات المناخ الحارّ يرتفع الطلب اليومي على شرب الماء، كما تزداد حاجة الجسم إلى الماء عند مزاولة جهد عضلي مثل \n",
       "الرياضة. بالمقابل، يؤدّي شرب كمّيّات فائضة من الماء عن الحاجة بشكل مبالغ يزيد عن <span style=\"color: #008080; text-decoration-color: #008080; font-weight: bold\">20</span> ليتر في اليوم إلى حدوث تسمّم بالماء\n",
       "وذلك بسبب حدوث اختلال توازن الكهرليتات ونقصان كمّيّة الأملاح في الجسم، وخاصّة نقص صوديوم الدم، ممّا يؤدّي إلى حدوث حالة\n",
       "تلف دائم في الخلايا العصبيّة تنتهي بالوفاة.\n",
       "\n",
       "الأهمّيّة بالنسبة للحضارة البشريّة \n",
       "\n",
       "للماء دور حيوي في بقاء وتقدّم الحضارة الإنسانيّة؛ حيث ازدهرت الحضارات البشريّة عبر العصور في وديان الأنهار الكبيرة \n",
       "الرئيسيّة؛ كما هو الحال في حضارة بلاد الرافدين، والتي تعرف باسم مهد الحضارة، إذ أنّها شهدت ازدهار عدّة حضارات وذلك \n",
       "بسبب الموقع الجغرافي المتميّز بين نهري دجلة والفرات، وقيل أنّها سمّيّت بالعراق أي «الشاطئ» لكثرة ووفرة مياهها، التي\n",
       "شكلت عامل جذب للعديد من الأقوام الذين سكنوها وشادوا فيها أرقى الحضارات. كما أنّ حضارة المصريّين القدماء كانت قد تركّزت\n",
       "على ضفاف مجرى نهر النيل. بالإضافة إلى وادي السند في الهند وباكستان، ووادي هوانج في الصين. أنشأت كلّ هذه الحضارات \n",
       "أنظمة ريّ ساهمت في تطوير الأرض وجعلتها منتجة. وقد انهارت الحضارات حين نضوب موارد المياه أو عند إساءة استخدامها؛ إذ \n",
       "يعتقد كثير من المؤرّخين أنّ سقوط حضارة السومريّين في بلاد ما بين النهرين كان بسبب ضعف المهارة والخبرة في عمليّات الريّ.\n",
       "فقد تركّز الملح من مياه الريّ في الأرض بعد تبخّر المياه وأخذ يتراكم في التربة. وكان من الممكن تفادي تركّز الملح في \n",
       "التربة بغسل الملح بماء إضافي، وإذا لم يتمّ صرف ماء الأرض تصبح مشبّعة بالماء. فشل السومريون في تحقيق التوازن اللازم \n",
       "بين تركّز الملح في التربة وبين عمليات صرف المياه منها، وأدّت زيادة تركّز الملح في التربة وكذلك تشبّعها بالماء إلى \n",
       "الإضرار بالمحاصيل. ومن ثم انخفض الناتج الزراعي تدريجيّاً وتفاقم نقص الغذاء، ومع انهيار الزراعة انهارت الحضارة \n",
       "السومريّة.\n",
       "\n",
       "هناك عدد جيّد من حواضر المدن الكبيرة في العصر الحديث والتي يعود جزء من نجاحها إلى الموقع الجغرافي المائي المميّز، \n",
       "الذي يمكّن من الحركة التجاريّة كما هو الحال في هونغ كونغ وطوكيو وشنغهاي وروتردام ومونتريال.\n",
       "\n",
       "يستخدم الماء العذب بشكل رئيسي في المجتمعات البشريّة كمصدر آمن لمياه الشرب، بالإضافة إلى استخدامه في قضاء الحاجات \n",
       "المنزليّة الأساسيّة فيما يخصّ الطبخ والنظافة الخاصّة والاستحمام. أمّا على صعيد خارجي فسيتخدم الماء بشكل أساسي في \n",
       "الزراعة، وخاصة من أجل الريّ، وكذلك في الصناعة وخاصة صناعة الغذاء.\n",
       "\n",
       "تاريخ استخدام الماء \n",
       "\n",
       "منذ فجر الحضارة البشريّة أولى الإنسان أهمّيّة كبيرة لتطوير وسائل وطرق من أجل جلب المياه وتخزينها وذلك للأهمّيّة الحيويّة\n",
       "الكبيرة لهذه المادّة في حياة الإنسان. خلال العصر الحجري الحديث تمكّن الإنسان لأوّل مرة من حفر الآبار الدائمة، حيث كان\n",
       "يرفع الماء إلى الأعلى باستخدام الشادوف أو السواقي أو النواعير. كما انتشرت الآبار المدرّجة في عدّة مناطق في الهند، \n",
       "بالإضافة إلى وجود نظام تصريف معقّد للمياه في بعض المناطق في شبه القارة الهنديّة، كما هو الحال في موهينجو دارو في \n",
       "حضارة وادي السند. كما عثر على نظام تصريف متقن للمياه أيضاً في آثار سكارا براي في إسكتلندا، والتي تعود إلى العصر \n",
       "الحجري الحديث.\n",
       "\n",
       "كانت حضارة الإغريق القدماء في كريت، والتي تعرف باسم الحضارة المينوسيّة، من أوائل الحضارات التي استخدمت أنابيب من \n",
       "الخزف من أجل تزويد وتصريف المياه. كما استخدم الإغريق في اليونان والأناضول نظام تصريف منزلي على شكل رشّاشات مضغوطة \n",
       "لغرض الاستحمام. شقّ الرومان القدماء قنوات لجرّ الماء، وأنشأوا القنوات والخزّانات المائيّة في أرجاء إمبراطوريّتهم، ولا\n",
       "تزال العديد من الآثار الرومانيّة في مجال صرف المياه حاضرةً في العديد من الدول العربيّة على سبيل المثال في بلاد الشام\n",
       "وعلى طول ساحل الشمال الإفريقي. تمكّن الرومان بذلك من إنشاء نظام لجلب وتصريف المياه للمنازل وفي الساحات العامّة، حيث\n",
       "صمّمت النوافير والسبل العامّة. استخدم الرومان قديماً الرصاص لصنع الأنابيب، ممّا أدّى إلى انتشار حدوث حالات من تسمّم\n",
       "الرصاص في ذلك الوقت. حفر الفرس أيضاً القنوات المائيّة في المدن والبلدات، كما قاموا ببناء خزّانات من اللِّبْن تدعى باسم\n",
       "«آب انبار».\n",
       "\n",
       "استمرّ التوسّع في شقّ القنوات وحفر الآبار مع ازدهار الحضارة الإسلاميّة، ومع التوسّع في إنشاء المواضئ في المساجد لأداء\n",
       "الصلوات، كما أنشئت الترع وحفرت العيون في الطرق والسبل العامّة، كما هو الحال في عين زبيدة التي حفرت خصيصاً للحجاج. \n",
       "بالإضافة إلى ذلك انتشر براعة المهندسون في الأندلس على وجه الخصوص في تصميم النوافير وإيجاد حيل هندسيّة أضفت لمسات \n",
       "بديعة في فنّ العمارة كما هو الحال في نافورة بهو السباع في قصر الحمراء في غرناطة.\n",
       "\n",
       "كان التطوّر في تقنيّات استخدام المياه متزامناً في عدد من الحضارات، حيث تمكّن شعب المايا في بالينكي من تطوير قنوات مائيّة\n",
       "تحت أرضيّة ومن تصميم نظام تصريف شبيه بنظام المرحاض الحديث. مع تقدّم العلوم والتطوّر في مواد البناء وعلوم الهندسة، \n",
       "بالإضافة إلى تحديث أساليب معالجة المياه أصبح من الممكن توفير أشكال مناسبة لتخزين المياه وتمديدها إلى البيوت وأماكن \n",
       "الإقامة، بحيث أصبح الوصول إليها سهلاً في العديد من المدن المتحضّرة.\n",
       "\n",
       "الاستخدامات الأساسيّة\n",
       "\n",
       "الاستخدامات المنزليّة \n",
       "\n",
       "يستخدم الماء على صعيد منزلي للشرب والطبخ والاستحمام ولغسل الملابس بشكل أساسي. يعني مفهوم صناعة المياه تزويد ماء \n",
       "الشرب وخدمات الصرف الصحي <span style=\"font-weight: bold\">(</span>بما في ذلك معالجة الصرف الصحي<span style=\"font-weight: bold\">)</span> إلى المنازل بوسائل مختلفة. تتضمّن الوسائل التي تؤمّن إمداد\n",
       "المياه كل من الآبار والخزّانات الأرضيّة من أجل الحصاد المائي والتخزين بواسطة خزّانات وأبراج المياه والتغذية عن طريق\n",
       "شبكات وأنابيب المياه بالإضافة إلى وسائل تنقية المياه. تتولّى بلديّات المدن مسؤولية توزيع المياه للاستخدامات المنزليّة\n",
       "أو يمكن أن يتم الأمر عن طريق صهاريج. لغرض الترشيد في الموارد المائيّة العذبة تقوم بعض المدن مثل هونغ كونغ باستخدام \n",
       "مياه البحر دون معالجة من أجل شطف المراحيض في المنازل والمرافق العامّة.\n",
       "\n",
       "كان ماء الشرب في السابق يجمع عادةً من الينابيع والجداول أو من حفر الآبار أو بضخّه من البحيرات والأنهار. في العصر \n",
       "الراهن يتطلّب الأمر معالجة المياه وتنقيتها لإزالة الشوائب باستخدام مرشّحات المياه والتي تكون عادة من الرمل، كما يتطلّب\n",
       "الأمر أيضاً تعقيم المياه للتخلّص من المواد الضارّة المنحلّة والميكروبات وذلك باستخدام كلورة المياه أو أساليب أخرى. يمكن\n",
       "معالجة المياه أيضاً باستخدام التناضح العكسي أو بتحلية مياه البحر.\n",
       "\n",
       "يمثّل الماء أمراً جوهرياً فيما يخص أمور النظافة بشكل عام والنظافة الشخصيّة بشكل خاص، وذلك فيما يتعلّق بالاستحمام وغسل\n",
       "الملابس وتنظيف المنازل بالإضافة إلى جلي الأواني، حيث يستخدم لذلك بالإضافة إلى الماء الصابون والمواد المنظّفة \n",
       "الملائمة. كما يعدّ الماء أساسيّاً للطبخ حيث يستخدم بطرق مختلفة من أجل تحضير الطعام وذلك إمّا بسلق الخضار والبيض في ماء\n",
       "مغلي، أو بإجراء الطهي عن طريق التبخير، أو السلق على نار هادئة، أو بالغلي عند درجات حرارة تقارب نقطة غليان الماء.\n",
       "\n",
       "الزراعة \n",
       "\n",
       "يعد الري الاستخدام الأهمّ للماء في الزراعة، وهو أساسي لإنتاج المحاصيل الغذائيّة. قد يصل سحب الماء من أجل ريّ المزروعات\n",
       "في بعض البلدان الناميّة إلى حوالي <span style=\"color: #008080; text-decoration-color: #008080; font-weight: bold\">90</span>% من السحب الإجمالي، وحتى في الدول المتقدّمة تصل نسبة سحب المياه من أجل الريّ إلى\n",
       "نسبة معتبرة، إذ أنّه في الولايات المتّحدة الأمريكيّة تصل نسبة السحب من المياه العذبة من أجل الري إلى حوالي <span style=\"color: #008080; text-decoration-color: #008080; font-weight: bold\">30</span>%.\n",
       "\n",
       "ازدادت أهمّيّة الوعي حول الترشيد في استخدام الموارد المائيّة في العقود الأخيرة، خاصّة مع ازدياد عدد سكان الأرض وازدياد\n",
       "حاجتهم بالتالي إلى الماء للشرب وللري للحصول على الغذاء، ممّا دعا إلى حاجة تطوير وسائل مثل الري بالتنقيط. أدّى التمدّد\n",
       "الحضري بالإضافة إلى ارتفاع الطلب على المياه من قطاعات أخرى، مثل إنتاج الطاقة البديلة <span style=\"font-weight: bold\">(</span>الوقود الحيوي<span style=\"font-weight: bold\">)</span>، إلى الحديث عن\n",
       "مفهوم ذروة الماء. يتوقّع في المستقبل أن يزداد الطلب على الماء بشكل أكبر ممّا هو عليه الآن وذلك لتأمين غذاء كاف مع \n",
       "تزايد عدد سكان الأرض، والذي يخمّن أن يصل إلى <span style=\"color: #008080; text-decoration-color: #008080; font-weight: bold\">9</span> بلايين في حلول سنة <span style=\"color: #008080; text-decoration-color: #008080; font-weight: bold\">2050</span>.\n",
       "\n",
       "أجري تقييم لأسلوب إدارة المياه في الاستخدام الزراعي سنة <span style=\"color: #008080; text-decoration-color: #008080; font-weight: bold\">2007</span> من طرف المعهد الدولي لإدارة المياه في سريلانكا من أجل \n",
       "معرفة إن كان للعالم موارد من الماء كافيّة لتأمين الغذاء للعدد المتزايد من السكان في العالم. قامت عملية التقييم على \n",
       "أساس وفرة المصادر المائيّة في تلك السنة لاستخدامها في الزراعة على صعيد العالم، وقدّمت تحديداً للمواقع التي تعاني من\n",
       "ندرة المياه، حيث وجد أن خمس تعداد السكان في العالم، أي أكثر من <span style=\"color: #008080; text-decoration-color: #008080; font-weight: bold\">1.2</span> مليار نسمة، يعيشون في مناطق تعاني من ندرة مادّيّة\n",
       "للمياه حيث لا توجد كمّيّة كافية من الماء لتلبية كافّة الحاجيّات الضروريّة. كما وجد أنّ <span style=\"color: #008080; text-decoration-color: #008080; font-weight: bold\">1.6</span> مليار نسمة في العالم يعيشون في\n",
       "مناطق ندرة اقتصاديّة للمياه، حيث أنّ نقص الاستثمارات وضعف الحالة الاقتصاديّة يجعل من المستحيل على الهيئات الحكوميّة في\n",
       "تلك المناطق أن تلبّي حاجة الطلب إلى المياه. خلص التقرير إلى أنّ الاستمرار على نفس الوتيرة الحاليّة من إنتاج الغذاء \n",
       "واستخدام مياه الري من أجل زراعة المحاصيل ستؤدّي بالنهاية إلى حدوث أزمات في العديد من المناطق في العالم، وأنّه يمكّن\n",
       "تجنّب ذلك عندما يقوم المزارعون بزيادة الكفاءة والإنتاجيّة وذلك بالتقليل قدر الإمكان من الهدر بالترشيد واستخدام وسائل\n",
       "حديثة في الريّ.\n",
       "\n",
       "الصناعة \n",
       "للماء أهمّيّة كبيرة في الصناعة وله العديد من التطبيقات. يستخدم الماء بشكل أساسي كمادّة تبريد ووسط في المبادلات \n",
       "الحراريّة نظراً لوفرته وللسعة الحراريّة المرتفعة سواءً للتبريد أو التسخين. يمكن الحصول على الماء البارد من مصادر طبيعيّة\n",
       "متوفّرة كنهر جار أو بحيرة قريبة أو من البحر، كما أن تسخين الماء لنقل الحرارة عمليّة فعّالة عن طريق تبخير وتكثيف الماء\n",
       "وذلك بسبب حرارة التبخر العالية له. بالمقابل، إنّ من سيّئات استخدام البخار هو تعرّض المواد المعدنيّة المستخدمة في \n",
       "الصناعة مثل الفولاذ والنحاس للتآكل عند استخدام ماء غير معالج. في كافّة المحطّات الحراريّة يكون الماء هو السائل \n",
       "المستخدم لنقل الحرارة بدخوله في دورة مغلقة بين المرجل والعنفات والمكثّف، كما يستخدم أيضاً كمادّة حراريّة ناقلة في أبراج\n",
       "التبريد. في المحطّات والمفاعلات النوويّة يستخدم الماء كمهدّئ للنيوترونات وكمادّة تبريد في نفس الوقت.\n",
       "\n",
       "يدخل الماء العديد من التطبيقات المهمّة في الصناعات الكيميائيّة وذلك على شكل مذيب أو كاشف كيميائي؛ كما يستخدم في مختلف\n",
       "العمليّات الكيميائيّة كوسط للتفاعل على العموم وعلى الخصوص من أجل التنظيف والشطف <span style=\"font-weight: bold\">(</span>عادة مع مواد منظّفة أو محاليل قلويّة<span style=\"font-weight: bold\">)</span>\n",
       "أو للإذابة أو للاستخلاص ولإعادة التبلور. كما يستخدم الماء كوسط من أجل التحليل والطلي الكهربائي وفي صناعة البطّاريات.\n",
       "\n",
       "في العمليّات التقنيّة المختلفة يستخدم الماء كوسط لربط وتشكيل الجبس والإسمنت، بالإضافة إلى استخدامه في التصديع والقطع\n",
       "والتنظيف عندما يوضع تحت ضغط مرتفع، بالإضافة إلى استخدامه كوسط لنقل الضغط في بعض التطبيقات الهيدروليكيّة.\n",
       "\n",
       "يستفاد من الطاقة المائيّة على هيئة طاقة كهرمائيّة في توليد الكهرباء، وذلك من القوّة الناشئة عن دفع المياه للعنفات التي\n",
       "تكون موصولة بمولّد كهربائي. تعدّ الطاقة الكهرمائية إحدى الطاقات النظيفة المتجدّدة، والتي يحصل عليها عادة من إنشاء \n",
       "السدود على الأنهار.\n",
       "\n",
       "التجارة والنقل \n",
       "\n",
       "تستخدم المعابر المائيّة كوسيلة لنقل البضائع وللسفر. كان السفر في الماضي بواسطة السفن لغرض الاستكشاف والتجارة وسيلة \n",
       "أساسيّة لقطع المسافات البعيدة التي تفصل بينها البحار. في الوقت الحالي يقتصر السفر بواسطة السفن الكبيرة لغرض السياحة،\n",
       "في حين أنّ النصيب الأكبر من حركة السفن في الوقت الحالي هو لغرض تجاري. تمتاز بعض المعابر المائية بموقع إستراتيجي \n",
       "يمنحها أهمّيّة تجاريّة كبيرة مثل قناة السويس وقناة بنما.\n",
       "\n",
       "يدرج في الوقت الحالي استخدام الماء كسلعة تجاريّة، إذ تتمّ في بعض المناطق شراء الحقوق التجاريّة لينابيع وجداول المياه\n",
       "المعدنيّة العذبة أو المياه الجوفيّة وتعبئتها في قارورة <span style=\"font-weight: bold\">(</span>قنينة<span style=\"font-weight: bold\">)</span> زجاجيّة أو بلاستيكيّة وبيعها على هيئة مياه معبّأة، قد\n",
       "تكون أحياناً مكربنة <span style=\"font-weight: bold\">(</span>فوّارة<span style=\"font-weight: bold\">)</span> بإضافة غاز ثنائي أكسيد الكربون إليها. ينتشر استخدام المياه المعبّأة بشكل أساسي في البلدان\n",
       "التي تعاني من شحّ في الموارد الطبيعيّة للمياه العذبة، ممّا أدى إلى انتشار مفهوم «خصخصة المياه».\n",
       "\n",
       "مع قلّة الموارد المائيّة واضطرار الدول الناميّة إلى تصدير المنتجات الزراعيّة التي استخدمت المياه العذبة لريّها؛ ظهر\n",
       "مفهوم الماء الافتراضي، وهو الكمّيّة المستهلكة من المياه لإنتاج محصول زراعي معيّن. على سبيل المثال يتطلّب <span style=\"color: #008080; text-decoration-color: #008080; font-weight: bold\">1600</span> متر مكعّب\n",
       "من الماء وسطيّاً لإنتاج طن واحد من القمح. يفيد هذا المفهوم في ضرورة معرفة اختيار نوع المحاصيل الزراعيّة وتصنيفها إلى\n",
       "التي ينبغي زراعتها وتصديرها والتي ينبغي استيرادها.\n",
       "\n",
       "استخدامات أخرى\n",
       "\n",
       "مكافحة الحريق \n",
       "\n",
       "يستخدم الماء من أجل مكافحة الحريق وذلك بسبب وفرته وخموله الكيميائي النسبي ولارتفاع حرارة التبخّر. يعود التأثير \n",
       "الإخمادي للماء بسبب استهلاك الطاقة الناتجة عن تفاعل الاحتراق في تبخيره وتحويله إلى بخار ماء وبذلك يخمد الحريق. \n",
       "بالمقابل ينبغي تجنّب استخدام الماء عند إخماد حرائق الزيوت والوقود والمذيبات العضويّة، إذ أنّه في تلك الحالة يستخدم \n",
       "مطافئ الحريق التي تعتمد على حجب الأكسجين.\n",
       "\n",
       "لدى استخدام الماء في إخماد الحرائق ينبغي الأخذ بالحسبان مخاطر حدوث انفجار بخاري، والذي يعود سببه إلى فرط الإحماء في\n",
       "زمن قصير وتشكّل كمّيّات كبيرة من البخار في حيّز مكاني ضيق. كما ينبغي توخّي الحذر من حدوث انفجارات بسبب غاز الهيدروجين\n",
       "الناتج عن تفكّك الماء، والذي يحدث عندما يستخدم الماء لإطفاء حرائق مواد قابلة للتفاعل معه؛ مثل حرائق الفلزّات والفحم.\n",
       "\n",
       "استخدامات علميّة \n",
       "استخدم الماء في السابق كأساس لتعريف وحدة الوزن الغرام، وذلك سنة <span style=\"color: #008080; text-decoration-color: #008080; font-weight: bold\">1795</span> في فرنسا، إذ عُرّف حينها أنّه يساوي «الوزن المطلق\n",
       "لحجم ماء نقي مساو لحجم مكعّب طول ضلعه واحد على المئة من المتر عند درجة حرارة ذوبان الجليد». لدوافع عمليّة ارتأى \n",
       "العلماء آنذاك صنع مقياس معدني كتلته أكبر بألف مرة، وهو الكيلوغرام. كما تمّ الاعتماد على النقطة الثلاثيّة للماء في \n",
       "تعريف مقياس كلفن لدرجة الحرارة، وبذلك نشأ مفهوم درجة الحرارة المطلقة، والتي لها نفس مقياس درجات سيلزيوس ولكن تجعل \n",
       "نقطة تجمد الماء <span style=\"font-weight: bold\">(</span><span style=\"color: #008080; text-decoration-color: #008080; font-weight: bold\">0</span> °س<span style=\"font-weight: bold\">)</span> عند <span style=\"color: #008080; text-decoration-color: #008080; font-weight: bold\">273.15</span> كلفن. يتكوّن الماء الطبيعي من نظائر هيدروجين-<span style=\"color: #008080; text-decoration-color: #008080; font-weight: bold\">1</span> وأكسجين-<span style=\"color: #008080; text-decoration-color: #008080; font-weight: bold\">16</span>، ولكن هناك كمّيّات ضئيلة\n",
       "من النظائر الأثقل لعنصري الهيدروجين والأكسجين والتي تدخل في تركيب الماء الثقيل، ممّا قد يؤثّر على خواص الماء. ممّا \n",
       "استدعى من الهيئات العلميّة وضع مقياس أو معيار اتّفق عليه وسمّي باسم معيار فيينا لمياه المحيط.\n",
       "\n",
       "للماء دور هام ومحوري في مجال علم الغذاء، ويستخدم للتعبير عن ذلك مفهوم النشاط المائي <span style=\"font-weight: bold\">(</span>أو فاعليّة الماء<span style=\"font-weight: bold\">)</span>. تؤثّر المواد\n",
       "المذابة في الماء على النشاط المائي، ممّا يؤثّر في النهاية على التفاعلات الكيميائيّة وعلى نموّ الميكروبات في الطعام.\n",
       "يعرّف النشاط المائي على أنّه نسبة ضغط البخار الجزئي للماء في المادّة الاستهلاكيّة إلى ضغط البخار للماء النقي. يفيد \n",
       "معرفة النشاط المائي للأغذية في معرفة كيفيّة حفظ الأغذية ووقايتها من الميكروبات وفي تقدير فترة الصلاحية.\n",
       "\n",
       "الترفيه \n",
       "يستخدم الماء كعنصر مهمّ في التزيين والديكور الخارجي وذلك بإنشاء الجداول والشلّالات الصناعية بالإضافة إلى النوافير في\n",
       "الساحات والحدائق العامّة. تعدّ المناطق وفيرة المياه أماكن جذب للناس للنزهات والاصطياف ولقضاء الوقت وللترفيه عن النفس،\n",
       "وذلك على ضفاف الأنهار والبحيرات وعلى الشواطئ؛ كما يقصد الناس المتنزّهات المائيّة لغرض التسلية والاستمتاع.\n",
       "\n",
       "هناك العديد من الرياضات المائيّة التي تعتمد على الماء لممارستها، مثل رياضة السباحة والتزلّج على الماء وركوب الأمواج\n",
       "والغطس. كما أنّ هناك بعض الرياضات تلعب على الجليد مثل هوكي الجليد والتزلج على الجليد، بالإضافة إلى الرياضات الشتويّة\n",
       "التي تلعب على الثلج بشكل رئيسي.\n",
       "\n",
       "إدارة المياه \n",
       "\n",
       "يقصد بإدارة المياه المفهوم الشامل المتعلّق بإدارة الموارد المائيّة من حيث التخطيط والتطوير والتوزيع بالشكل الأمثل \n",
       "بشكل يوافق نهج الترشيد في الاستهلاك وأسلوب التعامل مع الأزمات ونقص الموارد وتلوّث المياه. كما يمكن التوسّع في مفهوم\n",
       "الإدارة أيضاً بحيث يشمل مراعاة الظروف البيئيّة التي تؤمّن حدوث دورة المياه في الطبيعة ودورة الاستهلاك البشريّة على أفضل\n",
       "وجه. تتولّى الهيئات الحكومية المختصّة عادةً مسؤولية وضع آليات ناظمة لتنقية المياه ومعالجتها وتوزيعها إلى المنازل في\n",
       "المدن عبر شبكات، والتي يتم ضبط معدّل الاستهلاك الفردي أو الصناعي للماء فيها عن طريق عدّادات، والتي تفيد في معرفة كلفة\n",
       "الاستهلاك مقابل خدمة التمديد. كما تتولّى تلك الهيئات أيضاً مسؤولية تصريف المياه بإنشاء مجاري مخصّصة لنقلها، بالإضافة\n",
       "إلى إنشاء محطّات مخصّصة لمعالجتها.\n",
       "\n",
       "تسمّى مجموعة القوانين التي تضبط وتنظّم شؤون إدارة الموارد المائيّة على صعيد محلّي باسم قانون المياه، والذي يمكن تعميمه\n",
       "عند حدوث تقاطعات مع دول أخرى مشاركة للمورد المائي أو عند ضرورة انتهاج سياسة حكوميّة في هذا الصدد فتصنّف القوانين \n",
       "والمعاهدات تحت بند السياسات المائيّة. تعاني دول المنطقة العربيّة عموماً من شحّ في مواردها المائيّة، ممّا دفع العديد منها\n",
       "لسنّ سياسات مائيّة متعلّقة كما هو الحال في المغرب ومصر على سبيل المثال.\n",
       "\n",
       "أزمة المياه \n",
       "\n",
       "يمثّل الماء مورداً إستراتيجيّاً مهمّاً لجميع دول العالم، وكان ولا يزال سبباً للعديد من النزاعات السياسيّة. تعاني حوالي <span style=\"color: #008080; text-decoration-color: #008080; font-weight: bold\">50</span>\n",
       "دولة، أي حوالي ثلث سكان العالم، من نقص متوسّط إلى حادّ في المياه، مع وجود <span style=\"color: #008080; text-decoration-color: #008080; font-weight: bold\">17</span> دولة من تلك الدول والتي تقوم باستخراج \n",
       "كمّيّات من الماء سنوياً تفوق التي تُستردّ إليها من دورة الماء الطبيعيّة. في سنة <span style=\"color: #008080; text-decoration-color: #008080; font-weight: bold\">1990</span> تمكن <span style=\"color: #008080; text-decoration-color: #008080; font-weight: bold\">1.6</span> مليار نسمة فقط من الحصول\n",
       "على مصدر آمن للماء العذب. مع ازدياد الوعي طرأ تحسّن في نسبة الأشخاص في الدول الناميّة القادرين على الحصول على المياه\n",
       "المأمونة، وذلك من مجرد <span style=\"color: #008080; text-decoration-color: #008080; font-weight: bold\">30</span>% سنة <span style=\"color: #008080; text-decoration-color: #008080; font-weight: bold\">1970</span>، إلى <span style=\"color: #008080; text-decoration-color: #008080; font-weight: bold\">71</span>% سنة <span style=\"color: #008080; text-decoration-color: #008080; font-weight: bold\">1990</span>، و <span style=\"color: #008080; text-decoration-color: #008080; font-weight: bold\">79</span>% سنة <span style=\"color: #008080; text-decoration-color: #008080; font-weight: bold\">2000</span> و <span style=\"color: #008080; text-decoration-color: #008080; font-weight: bold\">84</span>% سنة <span style=\"color: #008080; text-decoration-color: #008080; font-weight: bold\">2004</span>، وهذا الميل آخذ في الاستمرار؛ \n",
       "خاصّة أنّه كان أحد الأهداف الإنمائيّة للألفيّة التي وضعتها الأمم المتّحدة.\n",
       "\n",
       "مع ازدياد عدد السكان في الأرض ومع حدوث شحّ في الموارد المائيّة في عدد من دول العالم، وخاصة الناميّة منها، أقدمت الأمم\n",
       "المتّحدة بطلب من بوليفيا على سنّ قانون حقّ المياه <span style=\"font-weight: bold\">(</span>أو بشكل مفصّل حق الإنسان في المياه والصرف الصحي HRWS<span style=\"font-weight: bold\">)</span> وذلك في <span style=\"color: #008080; text-decoration-color: #008080; font-weight: bold\">28</span>\n",
       "تموز/يوليو <span style=\"color: #008080; text-decoration-color: #008080; font-weight: bold\">2010</span>، وعدّ ذلك حقّاً من حقوق الإنسان. قدّمت الأمم المتّحدة تقريراً سنة <span style=\"color: #008080; text-decoration-color: #008080; font-weight: bold\">2006</span> مفاده أنّ الموارد المائيّة الموجودة\n",
       "كافية للجميع، ولكن الوصول إليها يعطّل بسبب سوء الإدارة والفساد. كما قُدّمت دعوات إلى الهيئات الإغاثية المانحة برفع \n",
       "كفاءة المساعدات والمشاريع التنمويّة في البلدان التي تعاني من شحّ الموارد المائيّة، وإلى حكومات الدول بوضع سياسات فعّالة\n",
       "في إدارة المياه.\n",
       "\n",
       "هناك العديد من الاتفاقيّات الدوليّة المتعلّقة بالمياه مثل اتفاقيّة الأمم المتّحدة لمكافحة التصحّر واتفاقيّة ماربول للحدّ من\n",
       "تلوّث المياه من السفن، واتفاقيّة رامسار للحفاظ والاستخدام المستدام للمناطق الرطبة؛ كما خصّص يوم <span style=\"color: #008080; text-decoration-color: #008080; font-weight: bold\">22</span> آذار/مارس كيوم \n",
       "عالمي للماء، والثامن من حزيران/يونيو من كلّ عام كيوم عالمي للمحيطات. بالإضافة إلى ذلك هناك عدد من الهيئات والمنظّمات\n",
       "غير الحكوميّة التي تعنى بشؤون المياه وإدارتها مثل المعهد الدولي لإدارة المياه.\n",
       "\n",
       "تلوّث المياه \n",
       "\n",
       "يعرّف ماء الشرب بأنّه الماء الصالح للاستخدام والاستهلاك البشري في الأمور الأساسيّة كالشرب والاستخدامات المنزليّة \n",
       "الأساسيّة. يمكن تحويل الماء غير الصالح للشرب وجعله صالحاً لذلك بالترشيح أو بالتقطير أو بوسائل معالجة المياه الأخرى.\n",
       "يدعى الماء غير الصالح للشرب والصالح للاستخدام المنزلي لأمور النظافة باسم «مصدر ماء آمن» <span style=\"font-weight: bold\">(</span>أو مياه مأمونة<span style=\"font-weight: bold\">)</span>، وهي مياه \n",
       "يمكن تعقيمها بعد استخدامها بواسطة معالجة كيميائيّة بالكلور أو الأوزون أو الأشعّة فوق البنفسجيّة. تحدّد جودة الماء \n",
       "وملاءمته للاستخدام عادةً بإجراء التحاليل الكيميائية الموافقة في المختبرات الاختصاصية.\n",
       "\n",
       "يشار إلى المياه غير الصالحة للشرب والناتجة بعد الاستهلاك البشري لها باسم المياه الرماديّة، وهي التي يمكن معالجتها \n",
       "بسهولة نسبيّاً، في حين أنّ تعبير المياه السوداء يشير إلى مياه الصرف الصحّي التي تتطلّب معالجة شاملة، مع الإشارة إلى وجود\n",
       "اختلاف في تعريف هذه المسمّيات وذلك حسب القوانين الناظمة لكل بلد. عند غياب المعالجة الكافية والرقابة الحكومية تحدث \n",
       "حالات تلوّث للمياه على مستوى فردي وصناعي، خاصّة في الدول الناميّة، حيث أبرز تقرير سنة <span style=\"color: #008080; text-decoration-color: #008080; font-weight: bold\">2002</span> أنّ <span style=\"color: #008080; text-decoration-color: #008080; font-weight: bold\">90</span>% من مياه الصرف تترك\n",
       "بلا معالجة لتصب في الجداول والأنهار الجارية أو تترك لترشح إلى المياه الجوفيّة لتلوّثها.\n",
       "\n",
       "إنّ تخفيض جودة المياه له آثار كارثية على صحّة الإنسان بشكل خاص وعلى البيئة بشكل عام. قدّرت منظّمة الصحّة العالميّة مثلاً\n",
       "أنّ حوالي <span style=\"color: #008080; text-decoration-color: #008080; font-weight: bold\">1.4</span> مليون طفل يموتون سنويّاً بسبب الإسهال الحاصل من الماء الملوّث.\n",
       "\n",
       "في الحياة والثقافة العامة \n",
       "بالإضافة إلى الأهمّيّة المادّيّة للماء في مختلف جوانب الحياة، فإنّ له مكانة في معتقدات البشر وثقافاتهم على مرّ العصور.\n",
       "\n",
       "الماء في الديانات \n",
       "\n",
       "للماء أهمّيّة كبيرة في أغلب الديانات، وهو ذو صلة وثيقة بالنظافة والطهارة والتحلّل من الذنوب، وذلك في الديانات \n",
       "السماوية، بالإضافة إلى الهندوسيّة <span style=\"font-weight: bold\">(</span>وذلك بالاغتسال في نهر الغانج<span style=\"font-weight: bold\">)</span> والسيخيّة والطاويّة والشنتو وغيرها.\n",
       "\n",
       "يحظى الماء في الإسلام بمكانة كبيرة، إذ به يتمّ الوضوء قبل كل صلاة، وفي حال تعذّر وجوده يستعان يالتيمّم بالتراب الطاهر.\n",
       "كما يستعمل الماء للتطهّر من النجاسات بالغسل ولغسل الأموات قبل الدفن. وردت كلمة الماء في القرآن <span style=\"color: #008080; text-decoration-color: #008080; font-weight: bold\">63</span> مرة وغالباً ما كان\n",
       "ورودها بمعنى النعمة، لما للماء من أهمّيّة بالغة. ومن أبرز الآيات التي ذكر الماء فيها: ، وقد فسّر العلماء هذا بأنّ الله\n",
       "جعل الماء سبباً للحياة. وقال بعض المفسّرين في ذلك: «وجعلنا من الماء كلّ شيء حيّ، أي: وأحيينا بالماء الذي ينزل من السماء\n",
       "كلّ شيء حيّ، أي من الحيوان ويدخل فيه النبات والشجر، يعني أنه سبب لحياة كلّ شي»، وقال آخرون أنّه تذكير بنعمة الله على\n",
       "البشر. وورد كذلك في سورة النور  وفسّر هذا على أن المقصود هو النطفة، وجاء أيضًا:  وكذلك: . ويتّفق العلماء المعاصرون أنّ\n",
       "تلويث الماء بشتّى طرق التلوّث المختلفة هو إفساد في الأرض لما يترتّب عليه من أضرار جسيمة لكلّ من يستخدم هذا الماء الملوّث\n",
       "من البشر إلى جانب بقيّة الأحياء الحيوانيّة والنباتيّة والمائيّة، وهو بالتالي أمر حرام نظراً لأنّ الإسلام نهى عن الإفساد\n",
       "في الأرض نهياً قاطعاً. كما أجمع العلماء على أنّ التبوّل في المياه أو التغوّط فيها أمرٌ منهيٌّ عنه نظراً للمفاسد التي تترتّب\n",
       "على ذلك والأضرار التي تلحق بعامّة الناس، وسندهم في ذلك الحديث النبوي: . وإلى جانب هذه الأهمّيّة لمصادر المياه عموماً في\n",
       "الإسلام، تأتي أهمّيّة خاصّة لبئر زمزم، الواقع ضمن الحرم المكّي على بعد <span style=\"color: #008080; text-decoration-color: #008080; font-weight: bold\">20</span> متراً من الكعبة، إذ يعتبر ماء تلك البئر مباركاً\n",
       "عند المسلمين لما يحمله من معانِ دينيّة، فوفق المعتقد الإسلامي كان الملاك جبريل هو من فجّر تلك البئر بعقبه لإسماعيل \n",
       "وأمّه هاجر، حيث تركهما نبي الله وخليله إبراهيم بأمر من الله في ذلك الوادي القفر الذي لا زرع فيه ولا ماء، وذلك حين \n",
       "نفد ما معهما من زاد وماء.\n",
       "\n",
       "في المسيحيّة يستعمل الماء للتعميد، إذ يعتقد أنّه من الأسرار المقدسة. والتعميد هو غمر الجسد أو قسم منه بالماء ضمن طقوس\n",
       "كنسيّة، ومن خلاله يبقى المرء مسيحيّاً للأبد. وقد فسّر العلماء ذلك عبر ربطهم المياه بخلق الحياة، بشكل شبيه بما ورد في\n",
       "القرآن، فقد جاء في سفر التكوين:  وجاء أيضاً في وصف الأرض قبل الخليقة: ، وقال المفسّرون أنّ الحياة خرجت من الماء على\n",
       "هذا الشكل، وأنّ هناك ربطًا ما بين الماء وروح الله. ويستند المسيحيّون إلى ما ورد في إنجيل يوحنا من أنّ التعميد بالمياه\n",
       "ضروري للميلاد الثاني، أي دخول الشخص في المسيحية، فقد ورد في هذا المجال: ، وفسّر العلماء ذلك بأنّ الولادة المذكورة هنا\n",
       "إنّما ذكرت صراحة وليس رمزيّاً. كذلك، يعدّ التبرّك بالماء المقدّس من الأمور ذات الأهمّيّة والمكانة عند أغلب الكنائس \n",
       "المسيحيّة.\n",
       "\n",
       "وكذلك في الديانة اليهوديّة، يستعمل الماء للتطهّر والاغتسال، كما يتمّ غسل الموتى قبل الدفن أيضاً. وقد قدّست التوراة \n",
       "المياه بسبب ما ذكر سلفاً في سفر التكوين عن بداية الخليقة، فـ. وفي اليهوديّة أيضاً يستخدم الماء لتطهّر الفرد من نجاسات\n",
       "الدنيا وخطاياه، وتغسيل اليدين قبيل الأكل مثلاً واجب في اليهوديّة، للتطهّر قبل تذوّق نعمة الربّ، واليهود أيضاً لهم شكل من\n",
       "أشكال الغسل وهو الميكفاه، والرجل اليهودي المتديّن يمارس الميكفاه كلّ نهار جمعة وقبل الاحتفالات الدينيّة المهمّة، أمّا\n",
       "المرأة، فتغتسل قبل الزواج، وبعد الإنجاب، وبعد عبورها لدورتها الشهريّة أيضاً.\n",
       "\n",
       "الماء في الثقافة \n",
       "\n",
       "اشتغل الفلاسفة اليونان في تفسير وجود الماء في الحياة، فاقترح طاليس، والذي كان يتّبع المدرسة الفلسفيّة الأحاديّة <span style=\"font-weight: bold\">(</span>أو\n",
       "الواحدية<span style=\"font-weight: bold\">)</span>، أنّ الأرض قد انبثقت من الماء، ولم يقتصر الأمر على الأرض وحدها بل اعتقد أنّ كلّ الأشياء مصنوعة من الماء. أمّا\n",
       "أفلاطون فتصوّر أنّ شكل الماء عشرونيّ السطوح، ولذلك فهو قادر على الجريان بخلاف الأرض مكعّبة الشكل حسب اعتقاده آنذاك.\n",
       "\n",
       "كان الفيلسوف اليوناني إيمبيدوكليس أوّل من قدّم مفهوم نظرية العناصر الأربعة التي يتكوّن منها العالم، والتي سادت لفترة\n",
       "طويلة من الزمن. تعتمد النظرية على أربعة مواد وهي الماء والنار والهواء والتراب. أمّا في نظريّة الأخلاط الأربعة فاقترن\n",
       "الماء مع البلغم بكونه بارداً ورطباً. كان الماء أيضاً من العناصر التقليدية في نظريّة العناصر الخمسة حسب الفلسفة الصينيّة\n",
       "التقليديّة، وذلك بالإضافة إلى النار والتراب والمعدن والخشب. كما أنّ الماء يدخل في العديد من الفلسفات والمعتقدات مثل\n",
       "الطاوية، حيث ضرب به المثل في كتاب داوديجنغ بجمعه للأضداد كيف أنّه ضعيف ورئيف في حين؛ وكيف أنّه قويّ وشديد في حين آخر.\n",
       "\n",
       "دخل الماء في العديد من الأساطير والخرافات والحكايا الشعبيّة والروحيّات، منها أسطورة ماء الحياة للأخوين غريم \n",
       "الألمانيّين، والتي فيها إشارة إلى ينبوع الشباب، الذي يعيد الشباب لكل من يشربه أو يستحمّ به.\n",
       "\n",
       "الماء في اللغة العربية \n",
       "\n",
       "يعود الأصل اللغوي لكلمة ماء في اللغة العربية إلى الجذر: <span style=\"font-weight: bold\">(</span>م وهـ<span style=\"font-weight: bold\">)</span>، تحرّكت الواو وانفتح ما قبلها فقُلبت ألفاً، فصار: \n",
       "<span style=\"font-weight: bold\">(</span>ماه<span style=\"font-weight: bold\">)</span>، ثم أبدلت الهاء همزة فصار: <span style=\"font-weight: bold\">(</span>ماء<span style=\"font-weight: bold\">)</span>، وتجمع الكلمة على مياه وأمواه.\n",
       "\n",
       "ورد للماء عدد من المرادفات، ذُكرت في كتاب معجم أسماء الأشياء المسمّى «اللطائف في اللغة»؛ ومنها: الأبَاب، البِلال، \n",
       "العَتيق؛ ويقال عن الماء الكثير أنّه: السَّعْبَر، والطَرطَبِيس، والغُذارِم، والغَمْر، والجُباجِب؛ أمّا الماء القليل: فهو: الشَّوْل،\n",
       "والسَّمَلَة، والجُزْعَة. يقال عن الماء العذب البارد أنه: زلُال، ويسمّى أيضاً: البُسْر، والقَرُور، والسَّلْسال؛ في حين أن الماء الحار\n",
       "هو: السَّخين، والحَنيذ. يسمّى الماء العذب: الرَواء، والفُرات، والبَضيع، والفظيع، والنَّمير. بالمقابل، فإنّ الماء غير العذب\n",
       "هو: الآجِن، والصُّقْعُر، والطاهِل، والآسِن، والماج، والزُّعَاق.\n",
       "\n",
       "يستخدم لفظ الماء في العديد من التعابير والأمثال العربية؛ فمثلاً يقال ماء الوجه للدلالة على الحياء أو الكرامة، ومن \n",
       "ذلك تعبير «أراق ماء وجهه»، ويقابله «حفظ ماء وجهه». يقال أيضاً «عادت المياه إلى مجاريها» للإشارة إلى حدوث صلح بعد \n",
       "نزاع، وعند عجز الإنسان عن التكلّم في موقف ما، يقال: «في فمي ماء!»، ويقال «فسَّر الماء بالماء» للدلالة على إسفاف الكلام\n",
       "وعدم تقديم إضافة معرفيّة للسامع أو للقارئ، ويعود التعبير الأخير إلى وصف بيت الشعر:\n",
       "\n",
       "والذي ردّ عليه القاضي ابن الذروي قائلاً:\n",
       "\n",
       "وذلك في حادثةٍ مشهورة؛ على الرغم من أن البيت الأخير نسبه البعض إلى ابن الوردي، مثلما فعل البهاء العاملي في كتابه \n",
       "الكشكول.\n",
       "\n",
       "على العموم، ورد ذكر الماء كثيراً في الشعر العربي في مناسبات أخرى عديدة.\n",
       "\n",
       "الماء في الأغنية العربية \n",
       "بسبب دخوله في كافة أشكال الحياة اليومية، كان للماء نصيب وحضور في الأغنية العربية وذلك سواء بالفصحى أو بمختلف \n",
       "باللهجات.\n",
       "\n",
       "ربما من أشهر الأغاني العربية بالفصحى التي تتضمن لفظ الماء أغنية «رسالة من تحت الماء» لعبد الحليم حافظ، من كلمات \n",
       "الشاعر نزار قباني وألحان محمد الموجي. ومن الأغاني الشهيرة بالعامية المصرية أغنية محمد عبد الوهاب «المي تروي \n",
       "العطشان». كما درج استخدام لفظ الماء بالعامية في أغاني بلاد الشام، وذلك بشكل مقترن بعين الماء على الأغلب، مثل أغنية \n",
       "«عين المي عين» و«ديروا المي» للسيّدة فيروز وأغنية «على عين المي» لنصري شمس الدين، بالإضافة إلى أغنية ذياب مشهور \n",
       "«عالماية عالماية».\n",
       "\n",
       "اقرأ أيضًا \n",
       " أصل الماء على كوكب الأرض\n",
       " مخطط تصنيفي للماء\n",
       " ماء الينابيع\n",
       " ماء سائل خارج الأرض\n",
       " مياه الحقن\n",
       " لون الماء\n",
       "\n",
       "المراجع\n",
       "\n",
       "باللغة الإنكليزية\n",
       "\n",
       "باللغة العربية\n",
       "\n",
       "وصلات خارجية \n",
       "\n",
       " إحصاءات المياه من منظمة التعاون الاقتصادي والتنمية.\n",
       " صفحة بيانات المياه في العالم.\n",
       " قاعدة بيانات المياه الشاملة من منظمة الأغذية والزراعة.\n",
       "\n",
       " \n",
       "مذيبات لاعضوية\n",
       "مركبات الأكسجين\n",
       "مركبات الهيدروجين\n",
       "مشروبات\n",
       "</pre>\n"
      ],
      "text/plain": [
       "الماء مادةٌ شفافةٌ عديمة اللون والرائحة، وهو المكوّن الأساسي للجداول والبحيرات والبحار والمحيطات وكذلك للسوائل في جميع\n",
       "الكائنات الحيّة، وهو أكثر المركّبات الكيميائيّة انتشاراً على سطح الأرض. يتألّف جزيء الماء من ذرّة أكسجين مركزية ترتبط بها\n",
       "ذرّتا هيدروجين على طرفيها برابطة تساهميّة بحيث تكون صيغته الكيميائية H2O. عند الظروف القياسية من الضغط ودرجة الحرارة\n",
       "يكون الماء سائلاً؛ أمّا الحالة الصلبة فتتشكّل عند نقطة التجمّد، وتدعى بالجليد؛ أمّا الحالة الغازية فتتشكّل عند نقطة\n",
       "الغليان، وتسمّى بخار الماء.\n",
       "\n",
       "إنّ الماء هو أساس وجود الحياة على كوكب الأرض، وهو يغطّي \u001b[1;36m71\u001b[0m% من سطحها، وتمثّل مياه البحار والمحيطات أكبر نسبة للماء على\n",
       "الأرض، حيث تبلغ حوالي \u001b[1;36m96.5\u001b[0m%. وتتوزّع النسب الباقية بين المياه الجوفيّة وبين جليد المناطق القطبيّة \u001b[1m(\u001b[0m\u001b[1;36m1.7\u001b[0m% لكليهما\u001b[1m)\u001b[0m، مع\n",
       "وجود نسبة صغيرة على شكل بخار ماء معلّق في الهواء على هيئة سحاب \u001b[1m(\u001b[0mغيوم\u001b[1m)\u001b[0m، وأحياناً أخرى على هيئة ضباب أو ندى، بالإضافة\n",
       "إلى الزخات المطريّة أو الثلجيّة. تبلغ نسبة الماء العذب حوالي \u001b[1;36m2.5\u001b[0m% فقط من الماء الموجود على الأرض، وأغلب هذه الكمّيّة\n",
       "\u001b[1m(\u001b[0mحوالي \u001b[1;36m99\u001b[0m%\u001b[1m)\u001b[0m موجودة في الكتل الجليديّة في المناطق القطبيّة، في حين تتواجد \u001b[1;36m0.3\u001b[0m% من الماء العذب في الأنهار والبحيرات وفي\n",
       "الغلاف الجوّي.\n",
       "\n",
       "أما في الطبيعة، فتتغيّر حالة الماء بين الحالات الثلاثة للمادة على سطح الأرض باستمرار من خلال ما يعرف باسم الدورة \n",
       "المائيّة \u001b[1m(\u001b[0mأو دورة الماء\u001b[1m)\u001b[0m، والتي تتضمّن حدوث تبخّر ونتح \u001b[1m(\u001b[0mنتح تبخّري\u001b[1m)\u001b[0m ثم تكثيف فهطول ثم جريان لتصل إلى المصبّ في المسطّحات\n",
       "المائيّة.\n",
       "\n",
       "شكّل الحصول على مصدر نقي من مياه الشرب أمراً مهمّاً لنشوء الحضارات عبر التاريخ. وفي العقود الأخيرة، سجلت حالات شحّ في\n",
       "المياه العذبة في مناطق عديدة من العالم، ولقد قدّرت إحصاءات الأمم المتّحدة أنّ حوالي مليار شخص على سطح الأرض لا يزالون\n",
       "يفتقرون الوسائل المتاحة للوصول إلى مصدر آمن لمياه الشرب، وأنّ حوالي \u001b[1;36m2.5\u001b[0m مليار يفتقرون إلى وسيلة ملائمة من أجل تطهير\n",
       "المياه.\n",
       "\n",
       "الخواص الفيزيائية والكيميائية \n",
       "\n",
       "يمكن إيراد الخواص الكيميائيّة والفيزيائيّة الأساسيّة للماء على شكل النقاط التالية:\n",
       " الماء سائل عند ظروف الضغط والحرارة القياسيّة المحيطة وذلك عند \u001b[1;36m298.15\u001b[0m كلفن \u001b[1m(\u001b[0m\u001b[1;36m25\u001b[0m °س\u001b[1m)\u001b[0m وضغط \u001b[1;36m100\u001b[0m,\u001b[1;36m000\u001b[0m باسكال \u001b[1m(\u001b[0m\u001b[1;36m1\u001b[0m بار، \u001b[1;36m14.5\u001b[0m\n",
       "بساي، \u001b[1;36m0.99\u001b[0m جو\u001b[1m)\u001b[0m، وهو عديم المذاق، كما أنّه عديم اللون عندما يكون بكمّيّات صغيرة، إلّا أنّه يأخذ لوناً أزرق عند ازدياد عمق\n",
       "الطبقات، وتلك خاصّيّة في أصل وجوهر الماء، ويعود سببها إلى امتصاص انتقائي في المجال الأحمر من الطيف المرئي وتبعثر \n",
       "للضوء الأبيض، أمّا بخار الماء فهو أساساً غاز عديم اللون.\n",
       " تتكون بنية الماء الجزيئيّة نظريّاً بحيث تقع ذرّة الأكسجين في مركز بنية جزيئيّة رباعيّة السطوح تقع فيها ذرّتا الهيدروجين\n",
       "بالإضافة إلى الزوجين الإلكترونيّين \u001b[1m(\u001b[0mالموجودين على ذرّة الأكسجين\u001b[1m)\u001b[0m على زوايا الشكل رباعي السطوح. ولكنّ الشائع أنّ البنية\n",
       "الجزيئيّة للماء منحنية وغير خطّيّة، إذ تبلغ زاوية الرابطة H-O-H مقدار \u001b[1;36m104.45\u001b[0m°. تلك القيمة من زاوية الرابطة أصغر من \n",
       "القيمة النظاميّة لرباعي السطوح \u001b[1;36m109.47\u001b[0m، ويعود ذلك إلى تدافع الزوجين الإلكترونيين ليشغلا أبعد مسافة ممكنة عن بعضهما \n",
       "حسب نظرية فيسبر. يبلغ طول الرابطة O-H في جزيء الماء \u001b[1;36m95.84\u001b[0m بيكومتر.\n",
       "\n",
       " بما أنّ كهرسلبية ذرّة الأكسجين حسب مقياس باولنغ \u001b[1m(\u001b[0m\u001b[1;36m3.5\u001b[0m\u001b[1m)\u001b[0m أعلى من ذرّة الهيدروجين \u001b[1m(\u001b[0m\u001b[1;36m2.1\u001b[0m\u001b[1m)\u001b[0m، تحمل ذرّة الأكسجين شحنة سالبة\n",
       "جزئية؛ في حين تحمل ذرّة الهيدروجين شحنة موجبة جزئية، بالتالي يكون الماء جزيئاً قطبيّاً ذا عزم ثنائي قطب يبلغ مقداره\n",
       "\u001b[1;36m1.84\u001b[0m ديباي. يستطيع الماء على أساس ذلك أن يشكّل روابط هيدروجينيّة بين جزيئيّة. تؤدّي هذه العوامل إلى وجود قوّة ترابط بين\n",
       "جزيئيّة قويّة، ممّا يفسّر ظهور خاصّيّة التوتّر السطحي الكبيرة للماء، بالإضافة إلى الخاصّيّة الشعريّة. تفسّر خاصّيّة التوتّر\n",
       "السطحي للماء ظاهرة إمكانيّة وقوف الحشرات خفيفة الوزن على سطح الماء، بالإضافة إلى إمكانيّة تشكّل القطرات؛ في حين أنّ\n",
       "الخاصّيّة الشعريّة، والتي تشير إلى ميل الماء إلى الصعود إلى أعلى أنبوب شعري رفيع بشكل معاكس لقوة الجاذبية، خاصية مهمة\n",
       "وحيوية عند النباتات الوعائية مثل الأشجار.\n",
       " يعدّ الماء من المذيبات القطبيّة الجيّدة، وعادةً ما يشار إليه على أنّه «مذيب عام». تُعرَّف المواد الكيميائيّة القابلة\n",
       "للانحلال \u001b[1m(\u001b[0mالذوبان\u001b[1m)\u001b[0m في الماء بأنّها مواد محبّة للماء \u001b[1m(\u001b[0mهيدروفيليّة\u001b[1m)\u001b[0m، مثل الأملاح والسكّريّات والأحماض والقلويّات وبعض\n",
       "الغازات مثل الأكسجين وثنائي أكسيد الكربون. بالمقابل، تعرّف المواد الكيميائيّة التي تكون غير قابلة للامتزاج مع الماء\n",
       "\u001b[1m(\u001b[0mمثل الدهنيّات \u001b[1m(\u001b[0mالزيوت والشحوم وغيرها\u001b[1m)\u001b[0m بأنّها كارهة للماء \u001b[1m(\u001b[0mهيدروفوبيّة\u001b[1m)\u001b[0m. من جهة أخرى يمتزج الماء مع العديد من السوائل\n",
       "كالكحولات \u001b[1m(\u001b[0mالإيثانول مثلاً\u001b[1m)\u001b[0m بكافة النسب مشكّلاً مزيجاً له صفات معيّنة، منها كونه ثابت الغليان \u001b[1m(\u001b[0mمزيج أزيوتروبي\u001b[1m)\u001b[0m. ولكن\n",
       "بالمقابل لا يمتزج الماء مع أغلب الزيوت العضويّة، إذ تشكّل الأخيرة طبقة ذات كثافة أقل تطفو على سطح الماء.\n",
       "\n",
       " تعتمد قيمة نقطة غليان الماء \u001b[1m(\u001b[0mكما هو الحال في كافة السوائل\u001b[1m)\u001b[0m على قيمة الضغط الجوّي المحيط. على سبيل المثال، فإنّ الماء\n",
       "النقيّ يغلي عند مستوى سطح البحر عند الدرجة \u001b[1;36m100\u001b[0m °س، في حين أنّه يغلي عند الدرجة \u001b[1;36m68\u001b[0m °س عند قمّة جبل إيفرست \u001b[1m(\u001b[0m\u001b[1;36m8\u001b[0m,\u001b[1;36m848\u001b[0m م فوق\n",
       "سطح البحر\u001b[1m)\u001b[0m. عند إذابة المواد القابلة للانحلال في الماء ترتفع نقطة غليان الماء وتنخفض نقطة تجمّده.\n",
       " تبلغ قيمة السعة الحراريّة النوعيّة للماء \u001b[1;36m4181.3\u001b[0m جول/\u001b[1m(\u001b[0mكغ·كلفن\u001b[1m)\u001b[0m، وهي قيمة مرتفعة نسبياً بالمقارنة مع باقي المركّبات \n",
       "الكيميائيّة، كما أنّ حرارة التبخّر لديه مرتفعة \u001b[1m(\u001b[0m\u001b[1;36m2257\u001b[0m كيلوجول/كغ\u001b[1m)\u001b[0m أيضاً. يعود ارتفاع هذه القيم إلى الروابط الهيدروجينيّة\n",
       "بين جزيئات الماء. تساهم تلك القيم المرتفعة في جعل مناخ الأرض معتدلاً وذلك بامتصاص التباينات والتأرجحات الكبيرة في \n",
       "درجة الحرارة.\n",
       " للماء كثافة مقدارها \u001b[1;36m1000\u001b[0m كغ/م3 \u001b[1m(\u001b[0mتعادل \u001b[1;36m1\u001b[0m غ/مل\u001b[1m)\u001b[0m عند الدرجة \u001b[1;36m4\u001b[0m° س، أمّا الجليد فكثافته تبلغ \u001b[1;36m917\u001b[0m كغ/م3. تكون لكثافة \n",
       "الماء قيمة أعظمية عند الدرجة \u001b[1;36m3.98\u001b[0m °س، وبعد ذلك تميل للتناقص، وذلك على العكس من أغلب المواد النقيّة الأخرى، والتي \n",
       "تزداد كثافتها عندما تنخفض درجة حرارتها. يعود التناقص في قيمة الكثافة إلى البنية المفتوحة غير المتراصّة للجليد والذي\n",
       "يبدأ بالتشكّل تدريجيّاً في الماء ذي درجة الحرارة المنخفضة \u001b[1m(\u001b[0mدون \u001b[1;36m3.98\u001b[0m °س\u001b[1m)\u001b[0m، إذ لا توجد طاقة حرارية كافية لتأمين توجّهات\n",
       "الحركة العشوائيّة للجزيئات، ممّا يؤدّي إلى اصطفافها على المستوى الجزيئي ولكن ببنية مفتوحة منتظمة، ممّا يؤدّي إلى ازدياد\n",
       "الحجم العام للسائل؛ ولذلك فإنّه بين درجتي الحرارة \u001b[1;36m3.98\u001b[0m °س و \u001b[1;36m0\u001b[0m °س يزداد الحجم مع تناقص درجة الحرارة. يتمدّد الماء \n",
       "ليشغل حجماً أكبر بنسبة \u001b[1;36m9\u001b[0m% من حجم الجليد، بالتالي ستكون كثافة الجليد أقلّ من كثافة الماء، لذلك يطفو الجليد على سطح \n",
       "الماء السائل، كما هو الحال في الجبال الجليديّة.\n",
       " للماء النقي موصليّة كهربائيّة ضعيفة، ولكنّها تزداد عند إذابة كمّيّة قليلة من مادّة أيونيّة مثل كلوريد الصوديوم.\n",
       " عند تطبيق طاقة كافية على الماء تفوق كمّيّة الحرارة القياسيّة للتكوين والتي تبلغ \u001b[1;36m285.8\u001b[0m كيلوجول/مول \u001b[1m(\u001b[0m\u001b[1;36m15.9\u001b[0m ميغاجول/كغ\u001b[1m)\u001b[0m\n",
       "يحدث عندئذ انفصال لجزيء الماء إلى مكوّناته من الهيدروجين والأكسجين، وهذا ما يحدث عند تطبيق جهد مرتفع من التيّار \n",
       "الكهربائي بشروط معيّنة للحصول على ظاهرة التحليل الكهربائي للماء. إنّ الطاقة اللازمة لفصل الماء إلى الهيدروجين \n",
       "والأكسجين عبر التحليل الكهربائي أو وسيلة أخرى تفوق الطاقة المستحصلة من تفاعل اتحاد العنصرين المذكورين. يمكن أن يتم \n",
       "التحليل الكهربائي للماء على مستوى تعليمي عبر جهاز هوفمان لتحليل الماء:\n",
       "\n",
       " \n",
       " يصنّف الماء كيميائيّاً على أنّه أكسيد للهيدروجين، وهو يتشكّل عندما يحترق الهيدروجين أو أيّ مركّب حاوٍ عليه بالأكسجين، وهو\n",
       "مزيج انفجاري. تستطيع العناصر الكيميائيّة الأكثر كهرسلبية من الهيدروجين مثل الليثيوم والصوديوم والكالسيوم والبوتاسيوم\n",
       "والسيزيوم أن تزيح الهيدروجين من الماء مشكّلة بذلك الهيدروكسيدات الموافقة.\n",
       " يوصف الماء بأنّه عَسِر عندما تكون نسبة الأملاح المعدنيّة في الماء عالية، وخاصّة أملاح الكالسيوم \u001b[1m(\u001b[0mCa+\u001b[1;36m2\u001b[0m\u001b[1m)\u001b[0m والمغنسيوم \n",
       "\u001b[1m(\u001b[0mMg+\u001b[1;36m2\u001b[0m\u001b[1m)\u001b[0m، بالإضافة إلى بعض الأملاح المنحلّة من البيكربونات والكبريتات. بالمقابل، يوصف الماء غير العسر أنه «ماء يَسِر»،\n",
       "ويختلف تعريفه حسب الدولة، فهو الذي تركيزه من الأملاح أخفض من \u001b[1;36m100\u001b[0m مغ/ل في المملكة المتّحدة، وأخفض من \u001b[1;36m60\u001b[0m مغ/ل في \n",
       "الولايات المتّحدة الأمريكيّة. لهذه الخاصّيّة أهمّيّة في الصناعة بشكل خاص وخاصة في المراجل عند التبخير، كما أنّ لها تأثير\n",
       "على الصحّة، لذلك تخضع عادة إلى عملية إزالة للعسر.\n",
       " يمكن إجراء تفاعل كشف عن الماء بأساليب لاعضويّة تقليديّة، إذ أنّ الماء يلوّن ملح كبريتات النحاس الثنائي اللامائي أبيض\n",
       "اللون إلى اللون الأزرق، كما يتحوّل لون الورق المشبّع بملح كلوريد الكوبالت الثنائي اللامائي من الأزرق إلى الأحمر عند\n",
       "التماس مع الماء. أمّا تحليليّلاً فتحدّد كمّيّة الماء باستخدام طريقة كارل-فيشر.\n",
       " التعادل الحمضي: الماء سائل متعادل كيميائيّاً، إذ أنّ درجة الحموضة أو القاعدية فيه هي \u001b[1;36m7\u001b[0m، وهذا يعني أنّه لا يمكن اعتبار\n",
       "الماء مادّة حمضيّة أو قاعديّة، لأنه مادّة متعادلة كيميائيّاً.\n",
       " حسب توزّع نظائر الهيدروجين وتركيبها فيمكن لجزيء الماء أن يكون بالإضافة إلى الشكل الشائع «الخفيف» على شكل ماء ثقيل \n",
       "عندما يكون نظير الهيدروجين الديوتيريوم مكان الأول في جزيء الماء \u001b[1m(\u001b[0mD2O\u001b[1m)\u001b[0m، كما يمكن أن يكون على الشكل ماء فائق الثقل \n",
       "عندما يحلّ التريتيوم مكان الهيدروجين في جزيء الماء \u001b[1m(\u001b[0mT2O\u001b[1m)\u001b[0m.\n",
       "\n",
       "الماء في الكون \n",
       "\n",
       "باستثناء الماء الموجود على سطح الأرض، فإنّ معظم الماء الموجود في الكون هو نتاج ثانوي لولادة النجوم، والتي يترافق \n",
       "حدوثها بنشوء رياح تندفع خارجاً بقوّة، حاملةً معها الغاز والغبار. عندما يصطدم ذلك الدفق من المواد بالغاز المحيط بالجرم\n",
       "المولود يؤدّي ذلك إلى نشوء أمواج صدمة، ما يعمل على تسخين الغاز. يتشكل الماء الملاحظ في الكون بتلك الطريقة وبشكل سريع\n",
       "في ذلك الغاز المتكاثف الساخن. ظهر في سنة \u001b[1;36m2011\u001b[0m تقرير عن اكتشاف سحابة هائلة من بخار الماء في الكون وبكمّيّات تفوق \n",
       "الكمّيّة الموجودة على الأرض ب \u001b[1;36m140\u001b[0m تريليون مرّة، في محيط نجم زائف يبعد حوالي \u001b[1;36m12\u001b[0m مليار سنة ضوئيّة عن الأرض. وقد استنتج من\n",
       "ذلك أنّ الماء موجود في الكون منذ بداية نشأته.\n",
       "\n",
       "يوجد الماء في الكون على العموم بحالاته الثلاثة الصلبة، والسائلة، والغازيّة، بالإضافة لإمكانيّة افتراضيّة لوجوده على\n",
       "شكل يدعى «ماء فائق التأيّن»، حيث يتبلور الأكسجين وتبقى أيونات الهيدروجين عائمةً بشكل حرّ داخل الشبكة البلوريّة \n",
       "للأكسجين. يوجد هذا الشكل افتراضياً تحت ضغط ودرجة حرارة كبيرين كما هو الحال في البنية الداخليّة لكوكبي أورانوس ونبتون.\n",
       "يعد وجود الماء بحالاته الثلاثة في نفس الوقت أحد أسباب وجود الحياة على سطح كوكب الأرض. ويرجع ذلك لموقع الأرض في \n",
       "النطاق الصالح للحياة في النظام الشمسي، بحيث لو أنّها كانت أقرب إلى الشمس أو أبعد منها بنسبة \u001b[1;36m5\u001b[0m% من المسافة الحاليّة \n",
       "\u001b[1m(\u001b[0mأي حوالي \u001b[1;36m8\u001b[0m ملايين كم\u001b[1m)\u001b[0m فإنّ الظروف التي تسمح بوجود الأشكال الثلاثة لن تكون متوفّرة، ممّا سيؤثّر على وجود الحياة.\n",
       "\n",
       "على شكل بخار ماء \n",
       "يوجد الماء بحالته الغازيّة على هيئة بخار ماء، وقد عثر في الكون على هذا الشكل من الماء في الغلاف الجوّي للعديد من \n",
       "الأجرام في مجرّة درب التبّانة؛ وذلك في كلّ من:\n",
       "\n",
       " الغلاف الجوّي للشمس وذلك بكمّيّات نزرة قابلة للقياس.\n",
       " الغلاف الجوّي لعطارد بنسبة \u001b[1;36m3.4\u001b[0m%، ولكن توجد كمّيّات أكبر في الغلاف الخارجي.\n",
       " الغلاف الجوّي للزهرة بنسبة \u001b[1;36m0.002\u001b[0m%.\n",
       " الغلاف الجوّي للأرض بنسبة تقارب \u001b[1;36m0.40\u001b[0m% بالنسبة لكامل طبقات الغلاف الجوّي، إلّا أنّها تتراوح بين \u001b[1;36m1\u001b[0m-\u001b[1;36m4\u001b[0m% بالقرب من السطح،\n",
       "بالإضافة إلى وجود كمّيّات نزرة في الغلاف الجوّي للقمر.\n",
       " الغلاف الجوّي للمريخ بنسبة \u001b[1;36m0.03\u001b[0m %.\n",
       " الغلاف الجوّي للمشتري وذلك فقط في المواد المتطايرة بنسبة \u001b[1;36m0.0004\u001b[0m%، وكذلك في قمره أوروبا.\n",
       " الغلاف الجوّي لزحل وذلك فقط في المواد المتطايرة، وكذلك في أقماره تيتان وديون وإنسيلادوس.\n",
       " الغلاف الجوّي لأورانوس بكمّيّات نزرة دون \u001b[1;36m50\u001b[0m بار.\n",
       " الغلاف الجوّي لنبتون وذلك في الطبقات العميقة.\n",
       "\n",
       "يوجد بخار الماء أيضاً في العديد من الأجرام الفلكيّة الأخرى داخل المجموعة الشمسيّة كما في الغلاف الجوي للكوكب القزم \n",
       "سيريس، بالإضافة إلى الأجرام خارج المجموعة الشمسيّة بما في ذلك الغلاف الجوّي لكل من HD \u001b[1;36m189733\u001b[0m b، وHD \u001b[1;36m209458\u001b[0m b، و Tau\n",
       "Boötis b، و HAT-P-11b، و XO-1b، وواسب-12b و WASP-17b و WASP-19b.\n",
       "\n",
       "يوجد بخار الماء أيضاً في الغلاف الجوّي للنجوم وذلك بشكل لا يقتصر على النجوم الباردة فقط، إذ أنّه اكتشف حتى في النجوم\n",
       "الضخمة العملاقة مثل منكب الجوزاء ونجم الراقص في كوكبة الملتهب وقلب العقرب والسمّاك الرامح. كما اكتشف بخار الماء أيضاً\n",
       "في الأقراص النجميّة الدوّارة بما في ذلك أكثر من نصف نجوم تي الثور مثل AA Tauri، و TW Hydrae، و IRC +\u001b[1;36m10216\u001b[0m، و APM \n",
       "\u001b[1;36m08279\u001b[0m+\u001b[1;36m5255\u001b[0m، و S Persei.\n",
       "\n",
       "على شكل ماء سائل \n",
       "\n",
       "يوجد الماء السائل في الكون بشكل رئيسي على كوكب الأرض حيث يغطّي أكثر من \u001b[1;36m71\u001b[0m% من مساحته، بالإضافة إلى ذلك توجد كمّيّات\n",
       "كبيرة من الماء داخل الأرض وذلك في الطبقات العميقة تحت القشرة الأرضيّة. كما أنّ هناك دلائل على وجوده على سطح المريخ \n",
       "أيضاً ولكن بكمّيّات قليلة. هناك أبحاث تشير إلى أنّ الماء السائل قد يوجد بكمّيّات معتبرة في قمر إنسيلادوس الذي يدور في فلك\n",
       "زحل، حيث توجد طبقة سماكتها حوالي \u001b[1;36m10\u001b[0m كم في عمق \u001b[1;36m30\u001b[0m-\u001b[1;36m40\u001b[0m كم تحت سطح القطب الجنوبي لذلك القمر، كما يوجد في طبقة تحت سطح \n",
       "قمر تيتان، ومن المحتمل أن يكون ممزوجاً مع الأمونيا. أمّا قمر المشتري أوروبا فلسطحه ميّزات تشير إلى إمكانيّة وجود مياه\n",
       "محيط سائلة تحت سطحيّة، كما يمكن للماء السائل أن يوجد على قمر المشتري غانيميد في طبقة محصورة بين الجليد مرتفع الضغط \n",
       "والصخر.\n",
       "\n",
       "على شكل جليد \n",
       "يوجد الماء على شكل جليد في الكون في العديد من الأجرام والكواكب مثل كوكب المريخ وذلك تحت الحطام الصخري وعند القطبين،\n",
       "كما يوجد في حلقات زحل، وفي قطبي عطارد.\n",
       "\n",
       "كما يوجد الجليد على شكل صفائح جليديّة في الأرض وفي الفوّهات والصخور البركانيّة في القمر، وفي أقمار أخرى مثل قمر شارون.\n",
       "\n",
       "الماء في الأرض \n",
       "\n",
       "يوجد الماء على سطح الأرض في المسطّحات المائيّة والتي يمكن أن تكون على عدّة أشكال طبيعيّة مثل المحيطات والبحار والبحيرات\n",
       "والأنهار والجداول والبرك وغير ذلك، مع العلم أنّ أغلب الماء الموجود على سطح الأرض هو على شكل مياه مالحة في المحيطات \n",
       "والبحار، وخاصة في نصف الأرض الجنوبي حيث يوجد نصف الكرة المائي. تعرف كمّيّة الماء الكلّيّة الموجودة على الأرض ككلّ باسم\n",
       "غلاف الأرض المائي، ويقدّر حجمه بحوالي \u001b[1;36m1338\u001b[0m مليون كم3، ومعظم هذه الكمّيّة \u001b[1m(\u001b[0m\u001b[1;36m97\u001b[0m%\u001b[1m)\u001b[0m عبارة عن ماء مالح في المحيطات، أما \u001b[1;36m3\u001b[0m%\n",
       "المتبقيّة، والتي تكافئ حوالي \u001b[1;36m48\u001b[0m مليون كم3 فهي ماء عذب، وحوالي ثلثي الماء العذب المتوفّر على الأرض هو جليد في القطبين\n",
       "على شكل مثالج وجبال جليديّة. تشكّل المياه الجوفيّة أغلب نسبة الثلث المتبقي من المياه العذبة \u001b[1m(\u001b[0m\u001b[1;36m23.4\u001b[0m مليون كم3\u001b[1m)\u001b[0m، بحيث أنّ\n",
       "النسبة المتبقيّة من الماء العذب الموجودة في مجاري الأنهار وفي البحيرات الداخليّة \u001b[1m(\u001b[0m\u001b[1;36m190\u001b[0m ألف كم3\u001b[1m)\u001b[0m وفي الغلاف الجوّي على\n",
       "شكل بخار ماء \u001b[1m(\u001b[0m\u001b[1;36m13\u001b[0m ألف كم3\u001b[1m)\u001b[0m وفي الغلاف الصخري \u001b[1m(\u001b[0m\u001b[1;36m16\u001b[0m ألف كم3\u001b[1m)\u001b[0m تبدو صغيرة نسبيّاً. إنّ أغلب ماء الأرض هو على شكل سائل \n",
       "\u001b[1m(\u001b[0m\u001b[1;36m98.2\u001b[0m%\u001b[1m)\u001b[0m، والباقي على شكل صلب \u001b[1m(\u001b[0m\u001b[1;36m1.8\u001b[0m %\u001b[1m)\u001b[0m، مع وجود نسبة ضئيلة \u001b[1m(\u001b[0m\u001b[1;36m0.001\u001b[0m %\u001b[1m)\u001b[0m على شكل بخار ماء. تجدر الإشارة إلى أنّ هذه النسب\n",
       "تقريبيّة وتشير إلى الحالة الراهنة، إذ حدثت تفاوتات كبيرة في تاريخ مناخ الكرة الأرضيّة.\n",
       "\n",
       "دورة الماء \n",
       "\n",
       "يشير مصطلح دورة الماء إلى التغيّر المستمرّ لحالات الماء ضمن الغلاف المائي للأرض وذلك بين الغلاف الجوّي للأرض والتربة\n",
       "والمياه السطحيّة والجوفيّة، بالإضافة إلى دور النباتات في تلك العمليّة.\n",
       "\n",
       "تتضمّن دورة الماء انتقال الماء بشكل مستمر ودون انقطاع عبر العمليّات التالية:\n",
       " تبخّر الماء من المحيطات والمسطّحات المائيّة، بالإضافة إلى عمليّة النتح من نباتات اليابسة على شكل بخار ماء إلى الهواء.\n",
       " تكاثف بخار الماء من الهواء وحدوث هطولات تضمن عودة الماء بالتساقط على الأرض.\n",
       " جريان وصولاً إلى المحيطات والمسطّحات المائيّة.\n",
       "\n",
       "يتكاثف أغلب بخار الماء الموجود فوق المحيطات ويعود إليها، ولكن أحياناً ما تحمل الرياح بخار الماء إلى اليابسة بحيث \n",
       "يمكن أن يحدث الهطول والتساقط عليها، وهذا الأمر يتعلّق بالمنطقة الجغرافيّة ومناخ المنطقة. يمكن للهطولات أن تكون على \n",
       "أشكال مختلفة، أشهرها الهطولات المطريّة، ولكن قد يحدث الهطول على شكل ثلج أو بَرَد، كما يسهم تشكل الضباب والندى في عملية\n",
       "الهطول أيضاً. بالمقابل، يحدث القحط والجفاف عندما تمرّ فترات زمنيّة طويلة نسبيّاً قد تصل لشهور وأحياناً لسنوات دون هطول،\n",
       "ممّا يؤدّي إلى نقصان في مخزونها المائي تحت المعدّل الطبيعي لتلك المنطقة الجغرافيّة.\n",
       "\n",
       "عند حدوث جريان الماء تتجمّع المياه على شكل مستجمعات، والتي تنجرف إلى الأنهار ومنها تكمل طريقها حسب مصبّها إلى \n",
       "المحيطات أو تتبخّر منها مباشرة. يعرف نموذج النقل الهيدرولوجي بأنّه إجراء عمليّة نمذجة رياضيّة لمحاكاة تدفّق نهر أو جدول،\n",
       "وحساب العوامل المؤثّرة على جودة الماء. يمكن أن يؤدّي الجريان إلى تعرية البيئة المحيطة ممّا يؤدّي إلى تشكيل الوديان أو\n",
       "مناطق جغرافية مميّزة وخصبة مثل الدلتا على سبيل المثال. يحدث الفيضان عندما تهطل كمّيّة كبيرة من الأمطار الغزيرة على \n",
       "أراضي منبسطة، بحيث أنّ معدّل الهطول في فترة زمنية يكون أكبر من معدّل التصريف، ممّا يؤدّي إلى ارتفاع مستوى المياه في\n",
       "الأنهار وغمرها للمناطق المحيطة.\n",
       "\n",
       "التأثير على المناخ \n",
       "يقوم الماء بدور محوري في التأثير على مناخ الأرض، وهو أساس كافّة الظواهر المتعلّقة بالطقس وحالة الجوّ، ويعود ذلك إلى\n",
       "خاصّيّة الماء المتميّزة والمتمثّلة بالحركيّة والسعة الحراريّة العالية. يتمّ تخزين طاقة الشمس في مياه المحيطات، حيث يؤدّي\n",
       "ذلك إلى تبخّر المياه، إلّا أنّ نسبة التعرّض للشمس تتفاوت من مكان لآخر حسب المنطقة الجغرافيّة، ممّا يؤدّي إلى تفاوت في درجة\n",
       "حرارة المياه وفي نسبة الملوحة، والذي يسبّب في النهاية بحدوث تيّارات محيطيّة تنقل معها كمّيّات كبيرة من الطاقة \u001b[1m(\u001b[0mعلى شكل\n",
       "حرارة\u001b[1m)\u001b[0m، مثل تيار الخليج وتيار همبولت. إنّ حدوث تيار الخليج الدافئ له تأثير كبير على مناخ أوروبا، إذ لولاه لكان \n",
       "المناخ هناك قطبياً.\n",
       "\n",
       "عندما تسخن مياه المحيطات يتبخّر الماء، وينتج نوعان من بخار الماء: «الجافّ» غير المتكاثف و«الرطب» المتكاثف على شكل \n",
       "سحاب وضباب، والذي يحوي وينقل الطاقة على شكل حرارة كامنة، والتي لها تأثير كبير على الظواهر الجوّية مثل الرطوبة الجوّيّة\n",
       "والعواصف الرعديّة.\n",
       "\n",
       "تؤدّي الهطولات المطريّة و/أو الثلجيّة إلى تأمين المحتوى المائي في المناطق الجغرافيّة، وتكون نسبة النتح التبخرّي إلى\n",
       "الهطولات مهمّة في تحديد مناخ المنطقة الجغرافيّة إن كانت قاحلة \u001b[1m(\u001b[0mسهوب وصحاري\u001b[1m)\u001b[0m أو رطبة \u001b[1m(\u001b[0mغابات\u001b[1m)\u001b[0m، وذلك للتأثير المباشر على\n",
       "الغطاء النباتي.\n",
       "\n",
       "ماء البحر والمد والجزر \n",
       "\n",
       "يحوي ماء البحر على نسبة من الأملاح الطبيعيّة \u001b[1m(\u001b[0mما متوسطه \u001b[1;36m3.5\u001b[0m%، أكثرها وفرةً ملح كلوريد الصوديوم\u001b[1m)\u001b[0m، بالإضافة إلى كمّيّات\n",
       "أصغر من مواد أخرى. تتراوح نسبة الملوحة في مياه البحار من \u001b[1;36m0.7\u001b[0m% في بحر البلطيق إلى \u001b[1;36m4.0\u001b[0m% في البحر الأحمر، في حين تصل \n",
       "نسبة الأملاح في البحر الميّت إلى حوالي \u001b[1;36m35\u001b[0m%.\n",
       "\n",
       "يسمّى ارتفاع منسوب مياه البحر عند الشاطئ وانحساره باسم ظاهرة المدّ والجزر على الترتيب. ويعود سببها إلى قوّة ناشئة \n",
       "ومتولّدة عن قوّة جاذبيّة القمر والشمس، والتي تؤثّر على مياه المحيطات. يؤدّي حدوث ظاهرة المدّ والجزر إلى تغيّر في عمق\n",
       "المسطّحات المائيّة المجاورة للشواطئ وخاصة عند مصاب الأنهار، ممّا يؤدّي إلى حدوث تيّارات اهتزازيّة تعرف باسم المجاري\n",
       "المدّيّة. إنّ التغيّر في منسوب مياه البحر أثناء المدّ والجزر في مكان جغرافي ما يتعلّق بحركة القمر والشمس ووموقعهما في\n",
       "لحظة معيّنة بالنسبة للأرض، ويترافق ذلك مع تأثير كوريوليس الحاصل من دوران الأرض حول نفسها، بالإضافة إلى العامل \n",
       "المتعلّق بمدى عمق تلك النقطة الجغرافيّة. تسمّى المنطقة الساحليّة التي تغمر تحت تأثير المدّ وينحسر عنها الماء أثناء الجزر\n",
       "باسم البحر الوحلي، وهي منطقة ذات أهمّيّة بيئيّة كبيرة.\n",
       "\n",
       "الماء وعلوم الأرض \n",
       "يعرف العلم الذي يعنى بدراسة المياه وتوزيعها فوق الأرض وصفاتها وخواصها الطبيعيّة والكيميائيّة وتفاعلها مع البيئة \n",
       "والكائنات الحيّة باسم علم المياه، في حين أنّ علم وصف المياه يختصّ بدراسة التوزيع والحركة على الأرض، أمّا دراسة المياه\n",
       "الجوفيّة من حيث التوزيع والحركة فهو علم الهيدروجيولوجيا. في حال كان التخصّص في دراسة الجليد فيعرف العلم باسم علم \n",
       "الجليد، وفي حال التخصّص بالمياه الداخلية فيعرف العلم باسم علم المسطّحات المائيّة الداخليّة، أمّا دراسة توزّع الماء في\n",
       "المحيطات والخواص المتعلّقة فهو مجال اهتمام علم المحيطات.\n",
       "\n",
       "يدخل الماء في العديد من العمليّات الجيولوجيّة المهمّة، حيث يوجد الماء في العديد من الصخور، ويؤثّر ذلك في تشكيل الصدوع،\n",
       "كما يسهم الماء في حدوث عمليّات التجوية الكيميائيّة والفيزيائيّة. تستطيع مياه الأمطار أن تتخلّل بعض أنواع الصخور المشكّلة\n",
       "للقشرة الأرضيّة بحيث تصل إلى طبقات المياه الجوفية. عندما تكون المياه الجوفيّة الموجودة في أعماق الأرض ضمن طبقات \n",
       "جيولوجيّة ساخنة فإنّ الماء يصعد إلى سطح الأرض على شكل مياه حمئة أو فوّارات حارّة.\n",
       "\n",
       "الأهمّيّة الحيويّة \n",
       "\n",
       "الماء هو الحياة، ويمكن تفسير تلك المقولة من وجهة حيويّة بناءً على عدة خواص مميّزة يقوم بها الماء، والتي هي أساسيّة \n",
       "لاستمرار الحياة على وجه الأرض. من بين تلك الخواص الحيويّة قيامه بدور مذيب عام، إذ أنّ أغلب المواد الحيويّة تكون مذابة\n",
       "أو معلّقة فيه، ولهذا الأمر أهمّيّة في العمليّات الاستقلابيّة، كما يشكّل الماء وسطاً حيوياً يسمح بقيام تفاعلات عضويّة حيويّة\n",
       "تؤدّي في النهاية إلى تأمين التناسخ الذاتي، ممّا يضمن استمرار التناسل وبقاء الكائنات الحية.\n",
       "\n",
       "يعدّ الماء أساسيّاً لحدوث عملية التركيب الضوئي وبالتالي التنفس الخلوي عند الكائنات الحيّة. تقوم خلايا النباتات أثناء\n",
       "عمليّة التركيب الضوئي باستخدام طاقة الشمس لفصم الهيدروجين عن الأكسجين في جزيء الماء، حيث يتحدّ الهيدروجين مع ثنائي \n",
       "أكسيد الكربون CO2 ليشكّل الغلوكوز ويحرّر الأكسجين. بالمقابل تستخدم الكائنات الحيّة الأكسجين لتحرق السكر \u001b[1m(\u001b[0mالكربوهيدرات\n",
       "بشكل عام\u001b[1m)\u001b[0m لتحرر الماء وغاز ثنائي أكسيد الكربون من أجل تأمين الطاقة لاستمرار الحياة. للماء أيضاً دور مهمّ في تأمين وسط\n",
       "معتدل أس هيدروجيني ~ \u001b[1;36m7\u001b[0m، وبالتالي في عمل الإنزيمات. بالنهاية تحتاج كلّ الكائنات الحيّة إلى كمّيّات من الماء للقيام \n",
       "بعمليّاتها الحيويّة، مثل التخلص من الفضلات على سبيل المثال.\n",
       "\n",
       "الماء أساس الحياة \n",
       "\n",
       "بدأت أول أشكال الحياة في الماء ومنها تطوّرت إلى أشكال الحياة المعروفة الآن. من الأمثلة المعروفة على أشكال الحياة \n",
       "البدائيّة وجود نوع من بكتيريا مختزلة للكبريت وهي بدائيّة النواة وذاتيّة التغذية وتنتج الطاقة من حدوث تفاعل \n",
       "أكسدة-اختزال بين كبريتيد الهيدروجين وثنائي أكسيد الكربون بوجود أشعة الشمس ممّا أسهم في الحصول على منتجات للكربون \n",
       "بالإضافة إلى الماء.\n",
       "\n",
       " \n",
       "\n",
       "تلا ذلك وجود البكتريا الزرقاء وجميع أنواع حقيقيّات النوى ذاتيّة التغذية التي استخدمت الماء وثنائي أكسيد الكربون في \n",
       "تفاعل إنتاج الطاقة بوجود الضوء للحصول على الأكسجين والسكّر:\n",
       "\n",
       " \n",
       "\n",
       "من خلال هذه العمليّة ارتفع منسوب غاز الأكسجين في الماء وفي الغلاف الجوّي، وبذلك أصبح من الممكن الحصول على الطاقة عن\n",
       "طريق التنفّس الخلوي.\n",
       "\n",
       " \n",
       "\n",
       "على هذا الأساس أصبح الماء هو الوسط الرئيسي في جميع الكائنات الحيّة من أجل تمام عمليات الاستقلاب الكيميائيّة الحيويّة\n",
       "للحصول على الطاقة وتخزينها. ويتمثّل ذلك في العمليّات الحيويّة التالية: التركيب الضوئي وتحلّل السكّر وتحلّل الدهن ودورة\n",
       "حمض الستريك ودورة اليوريا. يعود الفضل في ذلك إلى كون الماء من المذيبات القطبيّة ممّا يسهم في إذابة الإلكتروليتات \n",
       "والمركّبّات القطبيّة، ومن جهة أخرى تسهم لزوجة وكثافة الماء الملائمة في كونه وسطاً ناقلاً للمركّبات اللاقطبيّة غير القابلة\n",
       "للذوبان في الماء، مثل المغذّيّات والدهون ونتائج التقويض والهدم الاستقلابي والهرمونات. بالتالي فالماء هو أساس الأوساط\n",
       "الناقلة مثل الدم والبلازما واللمف عند الثديّيات والنسيج الوعائي الخشبي عند النباتات.\n",
       "\n",
       "يقوم الماء بالإضافة إلى ذلك في ضبط حرارة جسم الكائنات الحيّة وذلك على شكل إدماع \u001b[1m(\u001b[0mتعرّق النبات\u001b[1m)\u001b[0m أو على شكل عَرَق عند\n",
       "البشر والحيوانات. من جهة أخرى تستخدم النباتات وبعض الحيوانات اللافقارية ظاهرة ضغط الامتلاء \u001b[1m(\u001b[0mأو ضغط الانتباج\u001b[1m)\u001b[0m \n",
       "بالاعتماد على امتلاء محتوى الخليّة بالماء للقيام بتحريك بسيط للأعضاء. تلاحظ هذه الظاهرة لدى بعض النباتات عند تحريك \n",
       "الأوراق، كما تلاحظ أيضاً عند شوكيات الجلد مثل قنفذ البحر ونجم البحر وخيار البحر.\n",
       "\n",
       "الحياة المائيّة \n",
       "\n",
       "تزخر مياه الأرض السطحيّة بعدّة أشكال من التنوّع الحيوي فيها، وتتناقص كلما ازداد العمق. تعتمد الحياة المائيّة في البحار\n",
       "والمحيطات في وجودها على الماء كعامل أساسي للكتلة الحيويّة، ويكون العامل المحدّد للإنتاجيّة هو كمّيّة ومقدار المغذّيّات\n",
       "النباتيّة المذابة مثل الفوسفات ومركّبات النتروجين مثل الأمونيوم والنترات بالإضافة إلى ثنائي أكسيد الكربون CO2.\n",
       "\n",
       "تنمو بعض النباتات في الماء مثل الطحالب وتعدّ أساساً للعديد من النظم البيئيّة تحت سطح الماء؛ كما تعيش العوالق \n",
       "\u001b[1m(\u001b[0mالبلانكتون\u001b[1m)\u001b[0m أيضاً تحت سطح الماء، وهي متعضّيّات صغيرة جداً، وهي ذات أهمّيّة بالغة، إذ تعدّ الأساس في وجود السلسلة الغذائيّة\n",
       "في المحيطات. إنّ أوّل ظهور للشكل البدائي للحياة كان في الماء؛ مع وجود أصناف عديدة من الأسماك والعديد من اللافقاريات\n",
       "التي تعيش في الماء فقط بالإضافة إلى وجود البرمائيّات والتي تقضي حياتها بين اليابسة والمياه. يستمر التدرّج في كبر وحجم\n",
       "الأنواع حتى الوصول إلى الثديّيات البحريّة.\n",
       "\n",
       "تحتاج الفقاريّات المائيّة إلى الأكسجين لحياتها، وهي تفعل ذلك بطرق مختلفة. للأسماك مثلاً خياشيم بدلاً من الرئتين والتي\n",
       "تتمكّن من خلالها أن تعيش تحت الماء، رغم أنّه يتوفّر لدى بعض الأسماك مثل الأسماك الرئويّة كلا نظامي التنفّس. أمّا الثديّيات\n",
       "البحريّة مثل الدلفين والحوت وثعالب الماء وزعنفيّات الأقدام فهي تحتاج للصعود إلى السطح بشكل دوري لتنفّس الهواء. تقوم\n",
       "بعض البرمائيّات بالتنفّس عن طريق امتصاص الأكسجين من خلال جلدها. تمتلك اللافقاريّات العديد من التحويرات كي تبقى على قيد\n",
       "الحياة في بيئات ذات مياه فقيرة بالأكسجين وذلك باستخدام أنابيب تنفّس مثلاً.\n",
       "\n",
       "يؤدّي تعلّق كثافة الماء بدرجة الحرارة إلى حدوث ظاهرة التطبُّق وإلى حدوث تيّارات مائيّة داخل كتلة الماء الموجودة في المسطّح\n",
       "المائي، والتي تعد ذات أهمّيّة كبيرة للموائل والأمكنة الحيوية في المياه العذبة وفي مياه المحيطات المالحة على حد سواء.\n",
       "إن شذوذ الكثافة لدى الماء يمكّن الكائنات البحريّة من البقاء على قيد الحياة في فصل الشتاء، إذ أنّ البيئات المائيّة بذلك\n",
       "لن تهبط عند التجمّد إلى القاع إنّما ستطفو على السطح.\n",
       "\n",
       "الحياة البريّة \n",
       "يعدّ الماء أساسيّاً وعاملاً محدّداً للإنتاجية في النظم البيئيّة على الأرض، إذ أنّه ضروري الوجود من أجل عمليّة الاستقلاب عند\n",
       "الأحياء \u001b[1m(\u001b[0mالغلاف الحيوي\u001b[1m)\u001b[0m، كما له دور أساسي في تشكيل وتطبيع أماكن تواجدها، إن كان في غلاف الأرض الترابي أو الجوّي. \n",
       "تقوم الهطولات المطريّة و/أو الثلجيّة بتغذية المسطّحات المائيّة والمياه الجوفيّة كمصدر حيوي من أجل نمو النباتات ولتأمين\n",
       "مياه شرب للحيوانات.\n",
       "\n",
       "يتم الاستفادة من خواص الماء من قبل العديد من الكائنات الحيّة، فعلى سبيل المثال تستغل الحشرات والعنكبيّات خاصّيّة التوتّر\n",
       "السطحي للماء في حياتها اليوميّة بشكل كبير.\n",
       "\n",
       "الإنسان \n",
       "\n",
       "إنّ حوالي ثلثي جسم الإنسان وزناً هو ماء، ممّا يبرز الأهمّيّة الحيويّة له بالنسبة لبقاء البشريّة. تتراوح نسبة الماء في\n",
       "الجسم بين \u001b[1;36m55\u001b[0m% إلى \u001b[1;36m78\u001b[0m% وذلك حسب الحجم. عندما تنقص كمّيّة الماء في الجسم يشعر الإنسان بالعطش؛ إذ لا يستطيع الإنسان أن\n",
       "يعيش دون شرب ماء لفترة طويلة. يؤدّي نقصان كمّيّة الماء في الجسم إلى آثار صحّيّة سلبيّة كبيرة، مثل حدوث التجفاف، ممّا يؤدّي\n",
       "إلى تعطّل بعض وظائف الجسم التي تحتاج الماء كي تعمل بانتظام. يؤدّي عدم شرب كمّيّات كافية من الماء إلى حدوث شعور بالدوار\n",
       "والغثيان، واضطرابات في التروية الدموية، بالإضافة إلى تشنّجات عضليّة.\n",
       "\n",
       "تتفاوت التقديرات حول الكمّيّة الموصى بها لشرب الماء يوميّاً، ولكن لا ينبغي أن تقل عن \u001b[1;36m1.5\u001b[0m ليتر من الماء يوميّاً، وهي كمّيّة\n",
       "تقديريّة وسطيّة لتجنّب حدوث الجفاف \u001b[1m(\u001b[0m\u001b[1;36m6\u001b[0m-\u001b[1;36m7\u001b[0m كاسات من الماء يوميّاً\u001b[1m)\u001b[0m. وللآن لا توجد أدلّة علميّة كافية تلزم الإنسان بشرب كمّيّة\n",
       "محدّدة من الماء يوميّاً، مثل القول أنه ينبغي شرب \u001b[1;36m8\u001b[0m كاسات من الماء كلّ يوم. من جهة أخرى، هناك عدد من الدراسات التي ربطت\n",
       "بين الاستهلاك المرتفع لماء الشرب مع حدوث اضطرابات ومشاكل في الوزن. ربّما تزداد الكمّيّة الموصى بها حسب المناخ، ففي \n",
       "البلدان ذات المناخ الحارّ يرتفع الطلب اليومي على شرب الماء، كما تزداد حاجة الجسم إلى الماء عند مزاولة جهد عضلي مثل \n",
       "الرياضة. بالمقابل، يؤدّي شرب كمّيّات فائضة من الماء عن الحاجة بشكل مبالغ يزيد عن \u001b[1;36m20\u001b[0m ليتر في اليوم إلى حدوث تسمّم بالماء\n",
       "وذلك بسبب حدوث اختلال توازن الكهرليتات ونقصان كمّيّة الأملاح في الجسم، وخاصّة نقص صوديوم الدم، ممّا يؤدّي إلى حدوث حالة\n",
       "تلف دائم في الخلايا العصبيّة تنتهي بالوفاة.\n",
       "\n",
       "الأهمّيّة بالنسبة للحضارة البشريّة \n",
       "\n",
       "للماء دور حيوي في بقاء وتقدّم الحضارة الإنسانيّة؛ حيث ازدهرت الحضارات البشريّة عبر العصور في وديان الأنهار الكبيرة \n",
       "الرئيسيّة؛ كما هو الحال في حضارة بلاد الرافدين، والتي تعرف باسم مهد الحضارة، إذ أنّها شهدت ازدهار عدّة حضارات وذلك \n",
       "بسبب الموقع الجغرافي المتميّز بين نهري دجلة والفرات، وقيل أنّها سمّيّت بالعراق أي «الشاطئ» لكثرة ووفرة مياهها، التي\n",
       "شكلت عامل جذب للعديد من الأقوام الذين سكنوها وشادوا فيها أرقى الحضارات. كما أنّ حضارة المصريّين القدماء كانت قد تركّزت\n",
       "على ضفاف مجرى نهر النيل. بالإضافة إلى وادي السند في الهند وباكستان، ووادي هوانج في الصين. أنشأت كلّ هذه الحضارات \n",
       "أنظمة ريّ ساهمت في تطوير الأرض وجعلتها منتجة. وقد انهارت الحضارات حين نضوب موارد المياه أو عند إساءة استخدامها؛ إذ \n",
       "يعتقد كثير من المؤرّخين أنّ سقوط حضارة السومريّين في بلاد ما بين النهرين كان بسبب ضعف المهارة والخبرة في عمليّات الريّ.\n",
       "فقد تركّز الملح من مياه الريّ في الأرض بعد تبخّر المياه وأخذ يتراكم في التربة. وكان من الممكن تفادي تركّز الملح في \n",
       "التربة بغسل الملح بماء إضافي، وإذا لم يتمّ صرف ماء الأرض تصبح مشبّعة بالماء. فشل السومريون في تحقيق التوازن اللازم \n",
       "بين تركّز الملح في التربة وبين عمليات صرف المياه منها، وأدّت زيادة تركّز الملح في التربة وكذلك تشبّعها بالماء إلى \n",
       "الإضرار بالمحاصيل. ومن ثم انخفض الناتج الزراعي تدريجيّاً وتفاقم نقص الغذاء، ومع انهيار الزراعة انهارت الحضارة \n",
       "السومريّة.\n",
       "\n",
       "هناك عدد جيّد من حواضر المدن الكبيرة في العصر الحديث والتي يعود جزء من نجاحها إلى الموقع الجغرافي المائي المميّز، \n",
       "الذي يمكّن من الحركة التجاريّة كما هو الحال في هونغ كونغ وطوكيو وشنغهاي وروتردام ومونتريال.\n",
       "\n",
       "يستخدم الماء العذب بشكل رئيسي في المجتمعات البشريّة كمصدر آمن لمياه الشرب، بالإضافة إلى استخدامه في قضاء الحاجات \n",
       "المنزليّة الأساسيّة فيما يخصّ الطبخ والنظافة الخاصّة والاستحمام. أمّا على صعيد خارجي فسيتخدم الماء بشكل أساسي في \n",
       "الزراعة، وخاصة من أجل الريّ، وكذلك في الصناعة وخاصة صناعة الغذاء.\n",
       "\n",
       "تاريخ استخدام الماء \n",
       "\n",
       "منذ فجر الحضارة البشريّة أولى الإنسان أهمّيّة كبيرة لتطوير وسائل وطرق من أجل جلب المياه وتخزينها وذلك للأهمّيّة الحيويّة\n",
       "الكبيرة لهذه المادّة في حياة الإنسان. خلال العصر الحجري الحديث تمكّن الإنسان لأوّل مرة من حفر الآبار الدائمة، حيث كان\n",
       "يرفع الماء إلى الأعلى باستخدام الشادوف أو السواقي أو النواعير. كما انتشرت الآبار المدرّجة في عدّة مناطق في الهند، \n",
       "بالإضافة إلى وجود نظام تصريف معقّد للمياه في بعض المناطق في شبه القارة الهنديّة، كما هو الحال في موهينجو دارو في \n",
       "حضارة وادي السند. كما عثر على نظام تصريف متقن للمياه أيضاً في آثار سكارا براي في إسكتلندا، والتي تعود إلى العصر \n",
       "الحجري الحديث.\n",
       "\n",
       "كانت حضارة الإغريق القدماء في كريت، والتي تعرف باسم الحضارة المينوسيّة، من أوائل الحضارات التي استخدمت أنابيب من \n",
       "الخزف من أجل تزويد وتصريف المياه. كما استخدم الإغريق في اليونان والأناضول نظام تصريف منزلي على شكل رشّاشات مضغوطة \n",
       "لغرض الاستحمام. شقّ الرومان القدماء قنوات لجرّ الماء، وأنشأوا القنوات والخزّانات المائيّة في أرجاء إمبراطوريّتهم، ولا\n",
       "تزال العديد من الآثار الرومانيّة في مجال صرف المياه حاضرةً في العديد من الدول العربيّة على سبيل المثال في بلاد الشام\n",
       "وعلى طول ساحل الشمال الإفريقي. تمكّن الرومان بذلك من إنشاء نظام لجلب وتصريف المياه للمنازل وفي الساحات العامّة، حيث\n",
       "صمّمت النوافير والسبل العامّة. استخدم الرومان قديماً الرصاص لصنع الأنابيب، ممّا أدّى إلى انتشار حدوث حالات من تسمّم\n",
       "الرصاص في ذلك الوقت. حفر الفرس أيضاً القنوات المائيّة في المدن والبلدات، كما قاموا ببناء خزّانات من اللِّبْن تدعى باسم\n",
       "«آب انبار».\n",
       "\n",
       "استمرّ التوسّع في شقّ القنوات وحفر الآبار مع ازدهار الحضارة الإسلاميّة، ومع التوسّع في إنشاء المواضئ في المساجد لأداء\n",
       "الصلوات، كما أنشئت الترع وحفرت العيون في الطرق والسبل العامّة، كما هو الحال في عين زبيدة التي حفرت خصيصاً للحجاج. \n",
       "بالإضافة إلى ذلك انتشر براعة المهندسون في الأندلس على وجه الخصوص في تصميم النوافير وإيجاد حيل هندسيّة أضفت لمسات \n",
       "بديعة في فنّ العمارة كما هو الحال في نافورة بهو السباع في قصر الحمراء في غرناطة.\n",
       "\n",
       "كان التطوّر في تقنيّات استخدام المياه متزامناً في عدد من الحضارات، حيث تمكّن شعب المايا في بالينكي من تطوير قنوات مائيّة\n",
       "تحت أرضيّة ومن تصميم نظام تصريف شبيه بنظام المرحاض الحديث. مع تقدّم العلوم والتطوّر في مواد البناء وعلوم الهندسة، \n",
       "بالإضافة إلى تحديث أساليب معالجة المياه أصبح من الممكن توفير أشكال مناسبة لتخزين المياه وتمديدها إلى البيوت وأماكن \n",
       "الإقامة، بحيث أصبح الوصول إليها سهلاً في العديد من المدن المتحضّرة.\n",
       "\n",
       "الاستخدامات الأساسيّة\n",
       "\n",
       "الاستخدامات المنزليّة \n",
       "\n",
       "يستخدم الماء على صعيد منزلي للشرب والطبخ والاستحمام ولغسل الملابس بشكل أساسي. يعني مفهوم صناعة المياه تزويد ماء \n",
       "الشرب وخدمات الصرف الصحي \u001b[1m(\u001b[0mبما في ذلك معالجة الصرف الصحي\u001b[1m)\u001b[0m إلى المنازل بوسائل مختلفة. تتضمّن الوسائل التي تؤمّن إمداد\n",
       "المياه كل من الآبار والخزّانات الأرضيّة من أجل الحصاد المائي والتخزين بواسطة خزّانات وأبراج المياه والتغذية عن طريق\n",
       "شبكات وأنابيب المياه بالإضافة إلى وسائل تنقية المياه. تتولّى بلديّات المدن مسؤولية توزيع المياه للاستخدامات المنزليّة\n",
       "أو يمكن أن يتم الأمر عن طريق صهاريج. لغرض الترشيد في الموارد المائيّة العذبة تقوم بعض المدن مثل هونغ كونغ باستخدام \n",
       "مياه البحر دون معالجة من أجل شطف المراحيض في المنازل والمرافق العامّة.\n",
       "\n",
       "كان ماء الشرب في السابق يجمع عادةً من الينابيع والجداول أو من حفر الآبار أو بضخّه من البحيرات والأنهار. في العصر \n",
       "الراهن يتطلّب الأمر معالجة المياه وتنقيتها لإزالة الشوائب باستخدام مرشّحات المياه والتي تكون عادة من الرمل، كما يتطلّب\n",
       "الأمر أيضاً تعقيم المياه للتخلّص من المواد الضارّة المنحلّة والميكروبات وذلك باستخدام كلورة المياه أو أساليب أخرى. يمكن\n",
       "معالجة المياه أيضاً باستخدام التناضح العكسي أو بتحلية مياه البحر.\n",
       "\n",
       "يمثّل الماء أمراً جوهرياً فيما يخص أمور النظافة بشكل عام والنظافة الشخصيّة بشكل خاص، وذلك فيما يتعلّق بالاستحمام وغسل\n",
       "الملابس وتنظيف المنازل بالإضافة إلى جلي الأواني، حيث يستخدم لذلك بالإضافة إلى الماء الصابون والمواد المنظّفة \n",
       "الملائمة. كما يعدّ الماء أساسيّاً للطبخ حيث يستخدم بطرق مختلفة من أجل تحضير الطعام وذلك إمّا بسلق الخضار والبيض في ماء\n",
       "مغلي، أو بإجراء الطهي عن طريق التبخير، أو السلق على نار هادئة، أو بالغلي عند درجات حرارة تقارب نقطة غليان الماء.\n",
       "\n",
       "الزراعة \n",
       "\n",
       "يعد الري الاستخدام الأهمّ للماء في الزراعة، وهو أساسي لإنتاج المحاصيل الغذائيّة. قد يصل سحب الماء من أجل ريّ المزروعات\n",
       "في بعض البلدان الناميّة إلى حوالي \u001b[1;36m90\u001b[0m% من السحب الإجمالي، وحتى في الدول المتقدّمة تصل نسبة سحب المياه من أجل الريّ إلى\n",
       "نسبة معتبرة، إذ أنّه في الولايات المتّحدة الأمريكيّة تصل نسبة السحب من المياه العذبة من أجل الري إلى حوالي \u001b[1;36m30\u001b[0m%.\n",
       "\n",
       "ازدادت أهمّيّة الوعي حول الترشيد في استخدام الموارد المائيّة في العقود الأخيرة، خاصّة مع ازدياد عدد سكان الأرض وازدياد\n",
       "حاجتهم بالتالي إلى الماء للشرب وللري للحصول على الغذاء، ممّا دعا إلى حاجة تطوير وسائل مثل الري بالتنقيط. أدّى التمدّد\n",
       "الحضري بالإضافة إلى ارتفاع الطلب على المياه من قطاعات أخرى، مثل إنتاج الطاقة البديلة \u001b[1m(\u001b[0mالوقود الحيوي\u001b[1m)\u001b[0m، إلى الحديث عن\n",
       "مفهوم ذروة الماء. يتوقّع في المستقبل أن يزداد الطلب على الماء بشكل أكبر ممّا هو عليه الآن وذلك لتأمين غذاء كاف مع \n",
       "تزايد عدد سكان الأرض، والذي يخمّن أن يصل إلى \u001b[1;36m9\u001b[0m بلايين في حلول سنة \u001b[1;36m2050\u001b[0m.\n",
       "\n",
       "أجري تقييم لأسلوب إدارة المياه في الاستخدام الزراعي سنة \u001b[1;36m2007\u001b[0m من طرف المعهد الدولي لإدارة المياه في سريلانكا من أجل \n",
       "معرفة إن كان للعالم موارد من الماء كافيّة لتأمين الغذاء للعدد المتزايد من السكان في العالم. قامت عملية التقييم على \n",
       "أساس وفرة المصادر المائيّة في تلك السنة لاستخدامها في الزراعة على صعيد العالم، وقدّمت تحديداً للمواقع التي تعاني من\n",
       "ندرة المياه، حيث وجد أن خمس تعداد السكان في العالم، أي أكثر من \u001b[1;36m1.2\u001b[0m مليار نسمة، يعيشون في مناطق تعاني من ندرة مادّيّة\n",
       "للمياه حيث لا توجد كمّيّة كافية من الماء لتلبية كافّة الحاجيّات الضروريّة. كما وجد أنّ \u001b[1;36m1.6\u001b[0m مليار نسمة في العالم يعيشون في\n",
       "مناطق ندرة اقتصاديّة للمياه، حيث أنّ نقص الاستثمارات وضعف الحالة الاقتصاديّة يجعل من المستحيل على الهيئات الحكوميّة في\n",
       "تلك المناطق أن تلبّي حاجة الطلب إلى المياه. خلص التقرير إلى أنّ الاستمرار على نفس الوتيرة الحاليّة من إنتاج الغذاء \n",
       "واستخدام مياه الري من أجل زراعة المحاصيل ستؤدّي بالنهاية إلى حدوث أزمات في العديد من المناطق في العالم، وأنّه يمكّن\n",
       "تجنّب ذلك عندما يقوم المزارعون بزيادة الكفاءة والإنتاجيّة وذلك بالتقليل قدر الإمكان من الهدر بالترشيد واستخدام وسائل\n",
       "حديثة في الريّ.\n",
       "\n",
       "الصناعة \n",
       "للماء أهمّيّة كبيرة في الصناعة وله العديد من التطبيقات. يستخدم الماء بشكل أساسي كمادّة تبريد ووسط في المبادلات \n",
       "الحراريّة نظراً لوفرته وللسعة الحراريّة المرتفعة سواءً للتبريد أو التسخين. يمكن الحصول على الماء البارد من مصادر طبيعيّة\n",
       "متوفّرة كنهر جار أو بحيرة قريبة أو من البحر، كما أن تسخين الماء لنقل الحرارة عمليّة فعّالة عن طريق تبخير وتكثيف الماء\n",
       "وذلك بسبب حرارة التبخر العالية له. بالمقابل، إنّ من سيّئات استخدام البخار هو تعرّض المواد المعدنيّة المستخدمة في \n",
       "الصناعة مثل الفولاذ والنحاس للتآكل عند استخدام ماء غير معالج. في كافّة المحطّات الحراريّة يكون الماء هو السائل \n",
       "المستخدم لنقل الحرارة بدخوله في دورة مغلقة بين المرجل والعنفات والمكثّف، كما يستخدم أيضاً كمادّة حراريّة ناقلة في أبراج\n",
       "التبريد. في المحطّات والمفاعلات النوويّة يستخدم الماء كمهدّئ للنيوترونات وكمادّة تبريد في نفس الوقت.\n",
       "\n",
       "يدخل الماء العديد من التطبيقات المهمّة في الصناعات الكيميائيّة وذلك على شكل مذيب أو كاشف كيميائي؛ كما يستخدم في مختلف\n",
       "العمليّات الكيميائيّة كوسط للتفاعل على العموم وعلى الخصوص من أجل التنظيف والشطف \u001b[1m(\u001b[0mعادة مع مواد منظّفة أو محاليل قلويّة\u001b[1m)\u001b[0m\n",
       "أو للإذابة أو للاستخلاص ولإعادة التبلور. كما يستخدم الماء كوسط من أجل التحليل والطلي الكهربائي وفي صناعة البطّاريات.\n",
       "\n",
       "في العمليّات التقنيّة المختلفة يستخدم الماء كوسط لربط وتشكيل الجبس والإسمنت، بالإضافة إلى استخدامه في التصديع والقطع\n",
       "والتنظيف عندما يوضع تحت ضغط مرتفع، بالإضافة إلى استخدامه كوسط لنقل الضغط في بعض التطبيقات الهيدروليكيّة.\n",
       "\n",
       "يستفاد من الطاقة المائيّة على هيئة طاقة كهرمائيّة في توليد الكهرباء، وذلك من القوّة الناشئة عن دفع المياه للعنفات التي\n",
       "تكون موصولة بمولّد كهربائي. تعدّ الطاقة الكهرمائية إحدى الطاقات النظيفة المتجدّدة، والتي يحصل عليها عادة من إنشاء \n",
       "السدود على الأنهار.\n",
       "\n",
       "التجارة والنقل \n",
       "\n",
       "تستخدم المعابر المائيّة كوسيلة لنقل البضائع وللسفر. كان السفر في الماضي بواسطة السفن لغرض الاستكشاف والتجارة وسيلة \n",
       "أساسيّة لقطع المسافات البعيدة التي تفصل بينها البحار. في الوقت الحالي يقتصر السفر بواسطة السفن الكبيرة لغرض السياحة،\n",
       "في حين أنّ النصيب الأكبر من حركة السفن في الوقت الحالي هو لغرض تجاري. تمتاز بعض المعابر المائية بموقع إستراتيجي \n",
       "يمنحها أهمّيّة تجاريّة كبيرة مثل قناة السويس وقناة بنما.\n",
       "\n",
       "يدرج في الوقت الحالي استخدام الماء كسلعة تجاريّة، إذ تتمّ في بعض المناطق شراء الحقوق التجاريّة لينابيع وجداول المياه\n",
       "المعدنيّة العذبة أو المياه الجوفيّة وتعبئتها في قارورة \u001b[1m(\u001b[0mقنينة\u001b[1m)\u001b[0m زجاجيّة أو بلاستيكيّة وبيعها على هيئة مياه معبّأة، قد\n",
       "تكون أحياناً مكربنة \u001b[1m(\u001b[0mفوّارة\u001b[1m)\u001b[0m بإضافة غاز ثنائي أكسيد الكربون إليها. ينتشر استخدام المياه المعبّأة بشكل أساسي في البلدان\n",
       "التي تعاني من شحّ في الموارد الطبيعيّة للمياه العذبة، ممّا أدى إلى انتشار مفهوم «خصخصة المياه».\n",
       "\n",
       "مع قلّة الموارد المائيّة واضطرار الدول الناميّة إلى تصدير المنتجات الزراعيّة التي استخدمت المياه العذبة لريّها؛ ظهر\n",
       "مفهوم الماء الافتراضي، وهو الكمّيّة المستهلكة من المياه لإنتاج محصول زراعي معيّن. على سبيل المثال يتطلّب \u001b[1;36m1600\u001b[0m متر مكعّب\n",
       "من الماء وسطيّاً لإنتاج طن واحد من القمح. يفيد هذا المفهوم في ضرورة معرفة اختيار نوع المحاصيل الزراعيّة وتصنيفها إلى\n",
       "التي ينبغي زراعتها وتصديرها والتي ينبغي استيرادها.\n",
       "\n",
       "استخدامات أخرى\n",
       "\n",
       "مكافحة الحريق \n",
       "\n",
       "يستخدم الماء من أجل مكافحة الحريق وذلك بسبب وفرته وخموله الكيميائي النسبي ولارتفاع حرارة التبخّر. يعود التأثير \n",
       "الإخمادي للماء بسبب استهلاك الطاقة الناتجة عن تفاعل الاحتراق في تبخيره وتحويله إلى بخار ماء وبذلك يخمد الحريق. \n",
       "بالمقابل ينبغي تجنّب استخدام الماء عند إخماد حرائق الزيوت والوقود والمذيبات العضويّة، إذ أنّه في تلك الحالة يستخدم \n",
       "مطافئ الحريق التي تعتمد على حجب الأكسجين.\n",
       "\n",
       "لدى استخدام الماء في إخماد الحرائق ينبغي الأخذ بالحسبان مخاطر حدوث انفجار بخاري، والذي يعود سببه إلى فرط الإحماء في\n",
       "زمن قصير وتشكّل كمّيّات كبيرة من البخار في حيّز مكاني ضيق. كما ينبغي توخّي الحذر من حدوث انفجارات بسبب غاز الهيدروجين\n",
       "الناتج عن تفكّك الماء، والذي يحدث عندما يستخدم الماء لإطفاء حرائق مواد قابلة للتفاعل معه؛ مثل حرائق الفلزّات والفحم.\n",
       "\n",
       "استخدامات علميّة \n",
       "استخدم الماء في السابق كأساس لتعريف وحدة الوزن الغرام، وذلك سنة \u001b[1;36m1795\u001b[0m في فرنسا، إذ عُرّف حينها أنّه يساوي «الوزن المطلق\n",
       "لحجم ماء نقي مساو لحجم مكعّب طول ضلعه واحد على المئة من المتر عند درجة حرارة ذوبان الجليد». لدوافع عمليّة ارتأى \n",
       "العلماء آنذاك صنع مقياس معدني كتلته أكبر بألف مرة، وهو الكيلوغرام. كما تمّ الاعتماد على النقطة الثلاثيّة للماء في \n",
       "تعريف مقياس كلفن لدرجة الحرارة، وبذلك نشأ مفهوم درجة الحرارة المطلقة، والتي لها نفس مقياس درجات سيلزيوس ولكن تجعل \n",
       "نقطة تجمد الماء \u001b[1m(\u001b[0m\u001b[1;36m0\u001b[0m °س\u001b[1m)\u001b[0m عند \u001b[1;36m273.15\u001b[0m كلفن. يتكوّن الماء الطبيعي من نظائر هيدروجين-\u001b[1;36m1\u001b[0m وأكسجين-\u001b[1;36m16\u001b[0m، ولكن هناك كمّيّات ضئيلة\n",
       "من النظائر الأثقل لعنصري الهيدروجين والأكسجين والتي تدخل في تركيب الماء الثقيل، ممّا قد يؤثّر على خواص الماء. ممّا \n",
       "استدعى من الهيئات العلميّة وضع مقياس أو معيار اتّفق عليه وسمّي باسم معيار فيينا لمياه المحيط.\n",
       "\n",
       "للماء دور هام ومحوري في مجال علم الغذاء، ويستخدم للتعبير عن ذلك مفهوم النشاط المائي \u001b[1m(\u001b[0mأو فاعليّة الماء\u001b[1m)\u001b[0m. تؤثّر المواد\n",
       "المذابة في الماء على النشاط المائي، ممّا يؤثّر في النهاية على التفاعلات الكيميائيّة وعلى نموّ الميكروبات في الطعام.\n",
       "يعرّف النشاط المائي على أنّه نسبة ضغط البخار الجزئي للماء في المادّة الاستهلاكيّة إلى ضغط البخار للماء النقي. يفيد \n",
       "معرفة النشاط المائي للأغذية في معرفة كيفيّة حفظ الأغذية ووقايتها من الميكروبات وفي تقدير فترة الصلاحية.\n",
       "\n",
       "الترفيه \n",
       "يستخدم الماء كعنصر مهمّ في التزيين والديكور الخارجي وذلك بإنشاء الجداول والشلّالات الصناعية بالإضافة إلى النوافير في\n",
       "الساحات والحدائق العامّة. تعدّ المناطق وفيرة المياه أماكن جذب للناس للنزهات والاصطياف ولقضاء الوقت وللترفيه عن النفس،\n",
       "وذلك على ضفاف الأنهار والبحيرات وعلى الشواطئ؛ كما يقصد الناس المتنزّهات المائيّة لغرض التسلية والاستمتاع.\n",
       "\n",
       "هناك العديد من الرياضات المائيّة التي تعتمد على الماء لممارستها، مثل رياضة السباحة والتزلّج على الماء وركوب الأمواج\n",
       "والغطس. كما أنّ هناك بعض الرياضات تلعب على الجليد مثل هوكي الجليد والتزلج على الجليد، بالإضافة إلى الرياضات الشتويّة\n",
       "التي تلعب على الثلج بشكل رئيسي.\n",
       "\n",
       "إدارة المياه \n",
       "\n",
       "يقصد بإدارة المياه المفهوم الشامل المتعلّق بإدارة الموارد المائيّة من حيث التخطيط والتطوير والتوزيع بالشكل الأمثل \n",
       "بشكل يوافق نهج الترشيد في الاستهلاك وأسلوب التعامل مع الأزمات ونقص الموارد وتلوّث المياه. كما يمكن التوسّع في مفهوم\n",
       "الإدارة أيضاً بحيث يشمل مراعاة الظروف البيئيّة التي تؤمّن حدوث دورة المياه في الطبيعة ودورة الاستهلاك البشريّة على أفضل\n",
       "وجه. تتولّى الهيئات الحكومية المختصّة عادةً مسؤولية وضع آليات ناظمة لتنقية المياه ومعالجتها وتوزيعها إلى المنازل في\n",
       "المدن عبر شبكات، والتي يتم ضبط معدّل الاستهلاك الفردي أو الصناعي للماء فيها عن طريق عدّادات، والتي تفيد في معرفة كلفة\n",
       "الاستهلاك مقابل خدمة التمديد. كما تتولّى تلك الهيئات أيضاً مسؤولية تصريف المياه بإنشاء مجاري مخصّصة لنقلها، بالإضافة\n",
       "إلى إنشاء محطّات مخصّصة لمعالجتها.\n",
       "\n",
       "تسمّى مجموعة القوانين التي تضبط وتنظّم شؤون إدارة الموارد المائيّة على صعيد محلّي باسم قانون المياه، والذي يمكن تعميمه\n",
       "عند حدوث تقاطعات مع دول أخرى مشاركة للمورد المائي أو عند ضرورة انتهاج سياسة حكوميّة في هذا الصدد فتصنّف القوانين \n",
       "والمعاهدات تحت بند السياسات المائيّة. تعاني دول المنطقة العربيّة عموماً من شحّ في مواردها المائيّة، ممّا دفع العديد منها\n",
       "لسنّ سياسات مائيّة متعلّقة كما هو الحال في المغرب ومصر على سبيل المثال.\n",
       "\n",
       "أزمة المياه \n",
       "\n",
       "يمثّل الماء مورداً إستراتيجيّاً مهمّاً لجميع دول العالم، وكان ولا يزال سبباً للعديد من النزاعات السياسيّة. تعاني حوالي \u001b[1;36m50\u001b[0m\n",
       "دولة، أي حوالي ثلث سكان العالم، من نقص متوسّط إلى حادّ في المياه، مع وجود \u001b[1;36m17\u001b[0m دولة من تلك الدول والتي تقوم باستخراج \n",
       "كمّيّات من الماء سنوياً تفوق التي تُستردّ إليها من دورة الماء الطبيعيّة. في سنة \u001b[1;36m1990\u001b[0m تمكن \u001b[1;36m1.6\u001b[0m مليار نسمة فقط من الحصول\n",
       "على مصدر آمن للماء العذب. مع ازدياد الوعي طرأ تحسّن في نسبة الأشخاص في الدول الناميّة القادرين على الحصول على المياه\n",
       "المأمونة، وذلك من مجرد \u001b[1;36m30\u001b[0m% سنة \u001b[1;36m1970\u001b[0m، إلى \u001b[1;36m71\u001b[0m% سنة \u001b[1;36m1990\u001b[0m، و \u001b[1;36m79\u001b[0m% سنة \u001b[1;36m2000\u001b[0m و \u001b[1;36m84\u001b[0m% سنة \u001b[1;36m2004\u001b[0m، وهذا الميل آخذ في الاستمرار؛ \n",
       "خاصّة أنّه كان أحد الأهداف الإنمائيّة للألفيّة التي وضعتها الأمم المتّحدة.\n",
       "\n",
       "مع ازدياد عدد السكان في الأرض ومع حدوث شحّ في الموارد المائيّة في عدد من دول العالم، وخاصة الناميّة منها، أقدمت الأمم\n",
       "المتّحدة بطلب من بوليفيا على سنّ قانون حقّ المياه \u001b[1m(\u001b[0mأو بشكل مفصّل حق الإنسان في المياه والصرف الصحي HRWS\u001b[1m)\u001b[0m وذلك في \u001b[1;36m28\u001b[0m\n",
       "تموز/يوليو \u001b[1;36m2010\u001b[0m، وعدّ ذلك حقّاً من حقوق الإنسان. قدّمت الأمم المتّحدة تقريراً سنة \u001b[1;36m2006\u001b[0m مفاده أنّ الموارد المائيّة الموجودة\n",
       "كافية للجميع، ولكن الوصول إليها يعطّل بسبب سوء الإدارة والفساد. كما قُدّمت دعوات إلى الهيئات الإغاثية المانحة برفع \n",
       "كفاءة المساعدات والمشاريع التنمويّة في البلدان التي تعاني من شحّ الموارد المائيّة، وإلى حكومات الدول بوضع سياسات فعّالة\n",
       "في إدارة المياه.\n",
       "\n",
       "هناك العديد من الاتفاقيّات الدوليّة المتعلّقة بالمياه مثل اتفاقيّة الأمم المتّحدة لمكافحة التصحّر واتفاقيّة ماربول للحدّ من\n",
       "تلوّث المياه من السفن، واتفاقيّة رامسار للحفاظ والاستخدام المستدام للمناطق الرطبة؛ كما خصّص يوم \u001b[1;36m22\u001b[0m آذار/مارس كيوم \n",
       "عالمي للماء، والثامن من حزيران/يونيو من كلّ عام كيوم عالمي للمحيطات. بالإضافة إلى ذلك هناك عدد من الهيئات والمنظّمات\n",
       "غير الحكوميّة التي تعنى بشؤون المياه وإدارتها مثل المعهد الدولي لإدارة المياه.\n",
       "\n",
       "تلوّث المياه \n",
       "\n",
       "يعرّف ماء الشرب بأنّه الماء الصالح للاستخدام والاستهلاك البشري في الأمور الأساسيّة كالشرب والاستخدامات المنزليّة \n",
       "الأساسيّة. يمكن تحويل الماء غير الصالح للشرب وجعله صالحاً لذلك بالترشيح أو بالتقطير أو بوسائل معالجة المياه الأخرى.\n",
       "يدعى الماء غير الصالح للشرب والصالح للاستخدام المنزلي لأمور النظافة باسم «مصدر ماء آمن» \u001b[1m(\u001b[0mأو مياه مأمونة\u001b[1m)\u001b[0m، وهي مياه \n",
       "يمكن تعقيمها بعد استخدامها بواسطة معالجة كيميائيّة بالكلور أو الأوزون أو الأشعّة فوق البنفسجيّة. تحدّد جودة الماء \n",
       "وملاءمته للاستخدام عادةً بإجراء التحاليل الكيميائية الموافقة في المختبرات الاختصاصية.\n",
       "\n",
       "يشار إلى المياه غير الصالحة للشرب والناتجة بعد الاستهلاك البشري لها باسم المياه الرماديّة، وهي التي يمكن معالجتها \n",
       "بسهولة نسبيّاً، في حين أنّ تعبير المياه السوداء يشير إلى مياه الصرف الصحّي التي تتطلّب معالجة شاملة، مع الإشارة إلى وجود\n",
       "اختلاف في تعريف هذه المسمّيات وذلك حسب القوانين الناظمة لكل بلد. عند غياب المعالجة الكافية والرقابة الحكومية تحدث \n",
       "حالات تلوّث للمياه على مستوى فردي وصناعي، خاصّة في الدول الناميّة، حيث أبرز تقرير سنة \u001b[1;36m2002\u001b[0m أنّ \u001b[1;36m90\u001b[0m% من مياه الصرف تترك\n",
       "بلا معالجة لتصب في الجداول والأنهار الجارية أو تترك لترشح إلى المياه الجوفيّة لتلوّثها.\n",
       "\n",
       "إنّ تخفيض جودة المياه له آثار كارثية على صحّة الإنسان بشكل خاص وعلى البيئة بشكل عام. قدّرت منظّمة الصحّة العالميّة مثلاً\n",
       "أنّ حوالي \u001b[1;36m1.4\u001b[0m مليون طفل يموتون سنويّاً بسبب الإسهال الحاصل من الماء الملوّث.\n",
       "\n",
       "في الحياة والثقافة العامة \n",
       "بالإضافة إلى الأهمّيّة المادّيّة للماء في مختلف جوانب الحياة، فإنّ له مكانة في معتقدات البشر وثقافاتهم على مرّ العصور.\n",
       "\n",
       "الماء في الديانات \n",
       "\n",
       "للماء أهمّيّة كبيرة في أغلب الديانات، وهو ذو صلة وثيقة بالنظافة والطهارة والتحلّل من الذنوب، وذلك في الديانات \n",
       "السماوية، بالإضافة إلى الهندوسيّة \u001b[1m(\u001b[0mوذلك بالاغتسال في نهر الغانج\u001b[1m)\u001b[0m والسيخيّة والطاويّة والشنتو وغيرها.\n",
       "\n",
       "يحظى الماء في الإسلام بمكانة كبيرة، إذ به يتمّ الوضوء قبل كل صلاة، وفي حال تعذّر وجوده يستعان يالتيمّم بالتراب الطاهر.\n",
       "كما يستعمل الماء للتطهّر من النجاسات بالغسل ولغسل الأموات قبل الدفن. وردت كلمة الماء في القرآن \u001b[1;36m63\u001b[0m مرة وغالباً ما كان\n",
       "ورودها بمعنى النعمة، لما للماء من أهمّيّة بالغة. ومن أبرز الآيات التي ذكر الماء فيها: ، وقد فسّر العلماء هذا بأنّ الله\n",
       "جعل الماء سبباً للحياة. وقال بعض المفسّرين في ذلك: «وجعلنا من الماء كلّ شيء حيّ، أي: وأحيينا بالماء الذي ينزل من السماء\n",
       "كلّ شيء حيّ، أي من الحيوان ويدخل فيه النبات والشجر، يعني أنه سبب لحياة كلّ شي»، وقال آخرون أنّه تذكير بنعمة الله على\n",
       "البشر. وورد كذلك في سورة النور  وفسّر هذا على أن المقصود هو النطفة، وجاء أيضًا:  وكذلك: . ويتّفق العلماء المعاصرون أنّ\n",
       "تلويث الماء بشتّى طرق التلوّث المختلفة هو إفساد في الأرض لما يترتّب عليه من أضرار جسيمة لكلّ من يستخدم هذا الماء الملوّث\n",
       "من البشر إلى جانب بقيّة الأحياء الحيوانيّة والنباتيّة والمائيّة، وهو بالتالي أمر حرام نظراً لأنّ الإسلام نهى عن الإفساد\n",
       "في الأرض نهياً قاطعاً. كما أجمع العلماء على أنّ التبوّل في المياه أو التغوّط فيها أمرٌ منهيٌّ عنه نظراً للمفاسد التي تترتّب\n",
       "على ذلك والأضرار التي تلحق بعامّة الناس، وسندهم في ذلك الحديث النبوي: . وإلى جانب هذه الأهمّيّة لمصادر المياه عموماً في\n",
       "الإسلام، تأتي أهمّيّة خاصّة لبئر زمزم، الواقع ضمن الحرم المكّي على بعد \u001b[1;36m20\u001b[0m متراً من الكعبة، إذ يعتبر ماء تلك البئر مباركاً\n",
       "عند المسلمين لما يحمله من معانِ دينيّة، فوفق المعتقد الإسلامي كان الملاك جبريل هو من فجّر تلك البئر بعقبه لإسماعيل \n",
       "وأمّه هاجر، حيث تركهما نبي الله وخليله إبراهيم بأمر من الله في ذلك الوادي القفر الذي لا زرع فيه ولا ماء، وذلك حين \n",
       "نفد ما معهما من زاد وماء.\n",
       "\n",
       "في المسيحيّة يستعمل الماء للتعميد، إذ يعتقد أنّه من الأسرار المقدسة. والتعميد هو غمر الجسد أو قسم منه بالماء ضمن طقوس\n",
       "كنسيّة، ومن خلاله يبقى المرء مسيحيّاً للأبد. وقد فسّر العلماء ذلك عبر ربطهم المياه بخلق الحياة، بشكل شبيه بما ورد في\n",
       "القرآن، فقد جاء في سفر التكوين:  وجاء أيضاً في وصف الأرض قبل الخليقة: ، وقال المفسّرون أنّ الحياة خرجت من الماء على\n",
       "هذا الشكل، وأنّ هناك ربطًا ما بين الماء وروح الله. ويستند المسيحيّون إلى ما ورد في إنجيل يوحنا من أنّ التعميد بالمياه\n",
       "ضروري للميلاد الثاني، أي دخول الشخص في المسيحية، فقد ورد في هذا المجال: ، وفسّر العلماء ذلك بأنّ الولادة المذكورة هنا\n",
       "إنّما ذكرت صراحة وليس رمزيّاً. كذلك، يعدّ التبرّك بالماء المقدّس من الأمور ذات الأهمّيّة والمكانة عند أغلب الكنائس \n",
       "المسيحيّة.\n",
       "\n",
       "وكذلك في الديانة اليهوديّة، يستعمل الماء للتطهّر والاغتسال، كما يتمّ غسل الموتى قبل الدفن أيضاً. وقد قدّست التوراة \n",
       "المياه بسبب ما ذكر سلفاً في سفر التكوين عن بداية الخليقة، فـ. وفي اليهوديّة أيضاً يستخدم الماء لتطهّر الفرد من نجاسات\n",
       "الدنيا وخطاياه، وتغسيل اليدين قبيل الأكل مثلاً واجب في اليهوديّة، للتطهّر قبل تذوّق نعمة الربّ، واليهود أيضاً لهم شكل من\n",
       "أشكال الغسل وهو الميكفاه، والرجل اليهودي المتديّن يمارس الميكفاه كلّ نهار جمعة وقبل الاحتفالات الدينيّة المهمّة، أمّا\n",
       "المرأة، فتغتسل قبل الزواج، وبعد الإنجاب، وبعد عبورها لدورتها الشهريّة أيضاً.\n",
       "\n",
       "الماء في الثقافة \n",
       "\n",
       "اشتغل الفلاسفة اليونان في تفسير وجود الماء في الحياة، فاقترح طاليس، والذي كان يتّبع المدرسة الفلسفيّة الأحاديّة \u001b[1m(\u001b[0mأو\n",
       "الواحدية\u001b[1m)\u001b[0m، أنّ الأرض قد انبثقت من الماء، ولم يقتصر الأمر على الأرض وحدها بل اعتقد أنّ كلّ الأشياء مصنوعة من الماء. أمّا\n",
       "أفلاطون فتصوّر أنّ شكل الماء عشرونيّ السطوح، ولذلك فهو قادر على الجريان بخلاف الأرض مكعّبة الشكل حسب اعتقاده آنذاك.\n",
       "\n",
       "كان الفيلسوف اليوناني إيمبيدوكليس أوّل من قدّم مفهوم نظرية العناصر الأربعة التي يتكوّن منها العالم، والتي سادت لفترة\n",
       "طويلة من الزمن. تعتمد النظرية على أربعة مواد وهي الماء والنار والهواء والتراب. أمّا في نظريّة الأخلاط الأربعة فاقترن\n",
       "الماء مع البلغم بكونه بارداً ورطباً. كان الماء أيضاً من العناصر التقليدية في نظريّة العناصر الخمسة حسب الفلسفة الصينيّة\n",
       "التقليديّة، وذلك بالإضافة إلى النار والتراب والمعدن والخشب. كما أنّ الماء يدخل في العديد من الفلسفات والمعتقدات مثل\n",
       "الطاوية، حيث ضرب به المثل في كتاب داوديجنغ بجمعه للأضداد كيف أنّه ضعيف ورئيف في حين؛ وكيف أنّه قويّ وشديد في حين آخر.\n",
       "\n",
       "دخل الماء في العديد من الأساطير والخرافات والحكايا الشعبيّة والروحيّات، منها أسطورة ماء الحياة للأخوين غريم \n",
       "الألمانيّين، والتي فيها إشارة إلى ينبوع الشباب، الذي يعيد الشباب لكل من يشربه أو يستحمّ به.\n",
       "\n",
       "الماء في اللغة العربية \n",
       "\n",
       "يعود الأصل اللغوي لكلمة ماء في اللغة العربية إلى الجذر: \u001b[1m(\u001b[0mم وهـ\u001b[1m)\u001b[0m، تحرّكت الواو وانفتح ما قبلها فقُلبت ألفاً، فصار: \n",
       "\u001b[1m(\u001b[0mماه\u001b[1m)\u001b[0m، ثم أبدلت الهاء همزة فصار: \u001b[1m(\u001b[0mماء\u001b[1m)\u001b[0m، وتجمع الكلمة على مياه وأمواه.\n",
       "\n",
       "ورد للماء عدد من المرادفات، ذُكرت في كتاب معجم أسماء الأشياء المسمّى «اللطائف في اللغة»؛ ومنها: الأبَاب، البِلال، \n",
       "العَتيق؛ ويقال عن الماء الكثير أنّه: السَّعْبَر، والطَرطَبِيس، والغُذارِم، والغَمْر، والجُباجِب؛ أمّا الماء القليل: فهو: الشَّوْل،\n",
       "والسَّمَلَة، والجُزْعَة. يقال عن الماء العذب البارد أنه: زلُال، ويسمّى أيضاً: البُسْر، والقَرُور، والسَّلْسال؛ في حين أن الماء الحار\n",
       "هو: السَّخين، والحَنيذ. يسمّى الماء العذب: الرَواء، والفُرات، والبَضيع، والفظيع، والنَّمير. بالمقابل، فإنّ الماء غير العذب\n",
       "هو: الآجِن، والصُّقْعُر، والطاهِل، والآسِن، والماج، والزُّعَاق.\n",
       "\n",
       "يستخدم لفظ الماء في العديد من التعابير والأمثال العربية؛ فمثلاً يقال ماء الوجه للدلالة على الحياء أو الكرامة، ومن \n",
       "ذلك تعبير «أراق ماء وجهه»، ويقابله «حفظ ماء وجهه». يقال أيضاً «عادت المياه إلى مجاريها» للإشارة إلى حدوث صلح بعد \n",
       "نزاع، وعند عجز الإنسان عن التكلّم في موقف ما، يقال: «في فمي ماء!»، ويقال «فسَّر الماء بالماء» للدلالة على إسفاف الكلام\n",
       "وعدم تقديم إضافة معرفيّة للسامع أو للقارئ، ويعود التعبير الأخير إلى وصف بيت الشعر:\n",
       "\n",
       "والذي ردّ عليه القاضي ابن الذروي قائلاً:\n",
       "\n",
       "وذلك في حادثةٍ مشهورة؛ على الرغم من أن البيت الأخير نسبه البعض إلى ابن الوردي، مثلما فعل البهاء العاملي في كتابه \n",
       "الكشكول.\n",
       "\n",
       "على العموم، ورد ذكر الماء كثيراً في الشعر العربي في مناسبات أخرى عديدة.\n",
       "\n",
       "الماء في الأغنية العربية \n",
       "بسبب دخوله في كافة أشكال الحياة اليومية، كان للماء نصيب وحضور في الأغنية العربية وذلك سواء بالفصحى أو بمختلف \n",
       "باللهجات.\n",
       "\n",
       "ربما من أشهر الأغاني العربية بالفصحى التي تتضمن لفظ الماء أغنية «رسالة من تحت الماء» لعبد الحليم حافظ، من كلمات \n",
       "الشاعر نزار قباني وألحان محمد الموجي. ومن الأغاني الشهيرة بالعامية المصرية أغنية محمد عبد الوهاب «المي تروي \n",
       "العطشان». كما درج استخدام لفظ الماء بالعامية في أغاني بلاد الشام، وذلك بشكل مقترن بعين الماء على الأغلب، مثل أغنية \n",
       "«عين المي عين» و«ديروا المي» للسيّدة فيروز وأغنية «على عين المي» لنصري شمس الدين، بالإضافة إلى أغنية ذياب مشهور \n",
       "«عالماية عالماية».\n",
       "\n",
       "اقرأ أيضًا \n",
       " أصل الماء على كوكب الأرض\n",
       " مخطط تصنيفي للماء\n",
       " ماء الينابيع\n",
       " ماء سائل خارج الأرض\n",
       " مياه الحقن\n",
       " لون الماء\n",
       "\n",
       "المراجع\n",
       "\n",
       "باللغة الإنكليزية\n",
       "\n",
       "باللغة العربية\n",
       "\n",
       "وصلات خارجية \n",
       "\n",
       " إحصاءات المياه من منظمة التعاون الاقتصادي والتنمية.\n",
       " صفحة بيانات المياه في العالم.\n",
       " قاعدة بيانات المياه الشاملة من منظمة الأغذية والزراعة.\n",
       "\n",
       " \n",
       "مذيبات لاعضوية\n",
       "مركبات الأكسجين\n",
       "مركبات الهيدروجين\n",
       "مشروبات\n"
      ]
     },
     "metadata": {},
     "output_type": "display_data"
    }
   ],
   "source": [
    "text = ds[0]['text']\n",
    "print(text)"
   ]
  },
  {
   "cell_type": "code",
   "execution_count": 9,
   "metadata": {
    "scrolled": true
   },
   "outputs": [
    {
     "data": {
      "text/html": [
       "<pre style=\"white-space:pre;overflow-x:auto;line-height:normal;font-family:Menlo,'DejaVu Sans Mono',consolas,'Courier New',monospace\">الماء مادةٌ شفافةٌ عديمة اللون والرائحة، وهو المكوّن الأساسي للجداول والبحيرات والبحار والمحيطات وكذلك للسوائل في جميع\n",
       "الكائنات الحيّة، وهو أكثر المركّبات الكيميائيّة انتشاراً على سطح الأرض. يتألّف جزيء الماء من ذرّة أكسجين مركزية ترتبط بها\n",
       "ذرّتا هيدروجين على طرفيها برابطة تساهميّة بحيث تكون صيغته الكيميائية H2O. عند الظروف القياسية من الضغط ودرجة الحرارة\n",
       "يكون الماء سائلاً؛ أمّا الحالة الصلبة فتتشكّل عند نقطة التجمّد، وتدعى بالجليد؛ أمّا الحالة الغازية فتتشكّل عند نقطة\n",
       "الغليان، وتسمّى بخار الماء.\n",
       "</pre>\n"
      ],
      "text/plain": [
       "الماء مادةٌ شفافةٌ عديمة اللون والرائحة، وهو المكوّن الأساسي للجداول والبحيرات والبحار والمحيطات وكذلك للسوائل في جميع\n",
       "الكائنات الحيّة، وهو أكثر المركّبات الكيميائيّة انتشاراً على سطح الأرض. يتألّف جزيء الماء من ذرّة أكسجين مركزية ترتبط بها\n",
       "ذرّتا هيدروجين على طرفيها برابطة تساهميّة بحيث تكون صيغته الكيميائية H2O. عند الظروف القياسية من الضغط ودرجة الحرارة\n",
       "يكون الماء سائلاً؛ أمّا الحالة الصلبة فتتشكّل عند نقطة التجمّد، وتدعى بالجليد؛ أمّا الحالة الغازية فتتشكّل عند نقطة\n",
       "الغليان، وتسمّى بخار الماء.\n"
      ]
     },
     "metadata": {},
     "output_type": "display_data"
    },
    {
     "data": {
      "text/html": [
       "<pre style=\"white-space:pre;overflow-x:auto;line-height:normal;font-family:Menlo,'DejaVu Sans Mono',consolas,'Courier New',monospace\">----------------------------------------------------------------------------------------------------\n",
       "</pre>\n"
      ],
      "text/plain": [
       "----------------------------------------------------------------------------------------------------\n"
      ]
     },
     "metadata": {},
     "output_type": "display_data"
    },
    {
     "data": {
      "text/html": [
       "<pre style=\"white-space:pre;overflow-x:auto;line-height:normal;font-family:Menlo,'DejaVu Sans Mono',consolas,'Courier New',monospace\">إنّ الماء هو أساس وجود الحياة على كوكب الأرض، وهو يغطّي <span style=\"color: #008080; text-decoration-color: #008080; font-weight: bold\">71</span>% من سطحها، وتمثّل مياه البحار والمحيطات أكبر نسبة للماء على\n",
       "الأرض، حيث تبلغ حوالي <span style=\"color: #008080; text-decoration-color: #008080; font-weight: bold\">96.5</span>%. وتتوزّع النسب الباقية بين المياه الجوفيّة وبين جليد المناطق القطبيّة <span style=\"font-weight: bold\">(</span><span style=\"color: #008080; text-decoration-color: #008080; font-weight: bold\">1.7</span>% لكليهما<span style=\"font-weight: bold\">)</span>، مع\n",
       "وجود نسبة صغيرة على شكل بخار ماء معلّق في الهواء على هيئة سحاب <span style=\"font-weight: bold\">(</span>غيوم<span style=\"font-weight: bold\">)</span>، وأحياناً أخرى على هيئة ضباب أو ندى، بالإضافة\n",
       "إلى الزخات المطريّة أو الثلجيّة. تبلغ نسبة الماء العذب حوالي <span style=\"color: #008080; text-decoration-color: #008080; font-weight: bold\">2.5</span>% فقط من الماء الموجود على الأرض، وأغلب هذه الكمّيّة\n",
       "<span style=\"font-weight: bold\">(</span>حوالي <span style=\"color: #008080; text-decoration-color: #008080; font-weight: bold\">99</span>%<span style=\"font-weight: bold\">)</span> موجودة في الكتل الجليديّة في المناطق القطبيّة، في حين تتواجد <span style=\"color: #008080; text-decoration-color: #008080; font-weight: bold\">0.3</span>% من الماء العذب في الأنهار والبحيرات وفي\n",
       "الغلاف الجوّي.\n",
       "</pre>\n"
      ],
      "text/plain": [
       "إنّ الماء هو أساس وجود الحياة على كوكب الأرض، وهو يغطّي \u001b[1;36m71\u001b[0m% من سطحها، وتمثّل مياه البحار والمحيطات أكبر نسبة للماء على\n",
       "الأرض، حيث تبلغ حوالي \u001b[1;36m96.5\u001b[0m%. وتتوزّع النسب الباقية بين المياه الجوفيّة وبين جليد المناطق القطبيّة \u001b[1m(\u001b[0m\u001b[1;36m1.7\u001b[0m% لكليهما\u001b[1m)\u001b[0m، مع\n",
       "وجود نسبة صغيرة على شكل بخار ماء معلّق في الهواء على هيئة سحاب \u001b[1m(\u001b[0mغيوم\u001b[1m)\u001b[0m، وأحياناً أخرى على هيئة ضباب أو ندى، بالإضافة\n",
       "إلى الزخات المطريّة أو الثلجيّة. تبلغ نسبة الماء العذب حوالي \u001b[1;36m2.5\u001b[0m% فقط من الماء الموجود على الأرض، وأغلب هذه الكمّيّة\n",
       "\u001b[1m(\u001b[0mحوالي \u001b[1;36m99\u001b[0m%\u001b[1m)\u001b[0m موجودة في الكتل الجليديّة في المناطق القطبيّة، في حين تتواجد \u001b[1;36m0.3\u001b[0m% من الماء العذب في الأنهار والبحيرات وفي\n",
       "الغلاف الجوّي.\n"
      ]
     },
     "metadata": {},
     "output_type": "display_data"
    },
    {
     "data": {
      "text/html": [
       "<pre style=\"white-space:pre;overflow-x:auto;line-height:normal;font-family:Menlo,'DejaVu Sans Mono',consolas,'Courier New',monospace\">----------------------------------------------------------------------------------------------------\n",
       "</pre>\n"
      ],
      "text/plain": [
       "----------------------------------------------------------------------------------------------------\n"
      ]
     },
     "metadata": {},
     "output_type": "display_data"
    },
    {
     "data": {
      "text/html": [
       "<pre style=\"white-space:pre;overflow-x:auto;line-height:normal;font-family:Menlo,'DejaVu Sans Mono',consolas,'Courier New',monospace\">أما في الطبيعة، فتتغيّر حالة الماء بين الحالات الثلاثة للمادة على سطح الأرض باستمرار من خلال ما يعرف باسم الدورة \n",
       "المائيّة <span style=\"font-weight: bold\">(</span>أو دورة الماء<span style=\"font-weight: bold\">)</span>، والتي تتضمّن حدوث تبخّر ونتح <span style=\"font-weight: bold\">(</span>نتح تبخّري<span style=\"font-weight: bold\">)</span> ثم تكثيف فهطول ثم جريان لتصل إلى المصبّ في المسطّحات\n",
       "المائيّة.\n",
       "</pre>\n"
      ],
      "text/plain": [
       "أما في الطبيعة، فتتغيّر حالة الماء بين الحالات الثلاثة للمادة على سطح الأرض باستمرار من خلال ما يعرف باسم الدورة \n",
       "المائيّة \u001b[1m(\u001b[0mأو دورة الماء\u001b[1m)\u001b[0m، والتي تتضمّن حدوث تبخّر ونتح \u001b[1m(\u001b[0mنتح تبخّري\u001b[1m)\u001b[0m ثم تكثيف فهطول ثم جريان لتصل إلى المصبّ في المسطّحات\n",
       "المائيّة.\n"
      ]
     },
     "metadata": {},
     "output_type": "display_data"
    },
    {
     "data": {
      "text/html": [
       "<pre style=\"white-space:pre;overflow-x:auto;line-height:normal;font-family:Menlo,'DejaVu Sans Mono',consolas,'Courier New',monospace\">----------------------------------------------------------------------------------------------------\n",
       "</pre>\n"
      ],
      "text/plain": [
       "----------------------------------------------------------------------------------------------------\n"
      ]
     },
     "metadata": {},
     "output_type": "display_data"
    },
    {
     "data": {
      "text/html": [
       "<pre style=\"white-space:pre;overflow-x:auto;line-height:normal;font-family:Menlo,'DejaVu Sans Mono',consolas,'Courier New',monospace\">شكّل الحصول على مصدر نقي من مياه الشرب أمراً مهمّاً لنشوء الحضارات عبر التاريخ. وفي العقود الأخيرة، سجلت حالات شحّ في\n",
       "المياه العذبة في مناطق عديدة من العالم، ولقد قدّرت إحصاءات الأمم المتّحدة أنّ حوالي مليار شخص على سطح الأرض لا يزالون\n",
       "يفتقرون الوسائل المتاحة للوصول إلى مصدر آمن لمياه الشرب، وأنّ حوالي <span style=\"color: #008080; text-decoration-color: #008080; font-weight: bold\">2.5</span> مليار يفتقرون إلى وسيلة ملائمة من أجل تطهير\n",
       "المياه.\n",
       "</pre>\n"
      ],
      "text/plain": [
       "شكّل الحصول على مصدر نقي من مياه الشرب أمراً مهمّاً لنشوء الحضارات عبر التاريخ. وفي العقود الأخيرة، سجلت حالات شحّ في\n",
       "المياه العذبة في مناطق عديدة من العالم، ولقد قدّرت إحصاءات الأمم المتّحدة أنّ حوالي مليار شخص على سطح الأرض لا يزالون\n",
       "يفتقرون الوسائل المتاحة للوصول إلى مصدر آمن لمياه الشرب، وأنّ حوالي \u001b[1;36m2.5\u001b[0m مليار يفتقرون إلى وسيلة ملائمة من أجل تطهير\n",
       "المياه.\n"
      ]
     },
     "metadata": {},
     "output_type": "display_data"
    },
    {
     "data": {
      "text/html": [
       "<pre style=\"white-space:pre;overflow-x:auto;line-height:normal;font-family:Menlo,'DejaVu Sans Mono',consolas,'Courier New',monospace\">----------------------------------------------------------------------------------------------------\n",
       "</pre>\n"
      ],
      "text/plain": [
       "----------------------------------------------------------------------------------------------------\n"
      ]
     },
     "metadata": {},
     "output_type": "display_data"
    },
    {
     "data": {
      "text/html": [
       "<pre style=\"white-space:pre;overflow-x:auto;line-height:normal;font-family:Menlo,'DejaVu Sans Mono',consolas,'Courier New',monospace\">الخواص الفيزيائية والكيميائية \n",
       "</pre>\n"
      ],
      "text/plain": [
       "الخواص الفيزيائية والكيميائية \n"
      ]
     },
     "metadata": {},
     "output_type": "display_data"
    },
    {
     "data": {
      "text/html": [
       "<pre style=\"white-space:pre;overflow-x:auto;line-height:normal;font-family:Menlo,'DejaVu Sans Mono',consolas,'Courier New',monospace\">----------------------------------------------------------------------------------------------------\n",
       "</pre>\n"
      ],
      "text/plain": [
       "----------------------------------------------------------------------------------------------------\n"
      ]
     },
     "metadata": {},
     "output_type": "display_data"
    },
    {
     "data": {
      "text/html": [
       "<pre style=\"white-space:pre;overflow-x:auto;line-height:normal;font-family:Menlo,'DejaVu Sans Mono',consolas,'Courier New',monospace\">يمكن إيراد الخواص الكيميائيّة والفيزيائيّة الأساسيّة للماء على شكل النقاط التالية:\n",
       " الماء سائل عند ظروف الضغط والحرارة القياسيّة المحيطة وذلك عند <span style=\"color: #008080; text-decoration-color: #008080; font-weight: bold\">298.15</span> كلفن <span style=\"font-weight: bold\">(</span><span style=\"color: #008080; text-decoration-color: #008080; font-weight: bold\">25</span> °س<span style=\"font-weight: bold\">)</span> وضغط <span style=\"color: #008080; text-decoration-color: #008080; font-weight: bold\">100</span>,<span style=\"color: #008080; text-decoration-color: #008080; font-weight: bold\">000</span> باسكال <span style=\"font-weight: bold\">(</span><span style=\"color: #008080; text-decoration-color: #008080; font-weight: bold\">1</span> بار، <span style=\"color: #008080; text-decoration-color: #008080; font-weight: bold\">14.5</span>\n",
       "بساي، <span style=\"color: #008080; text-decoration-color: #008080; font-weight: bold\">0.99</span> جو<span style=\"font-weight: bold\">)</span>، وهو عديم المذاق، كما أنّه عديم اللون عندما يكون بكمّيّات صغيرة، إلّا أنّه يأخذ لوناً أزرق عند ازدياد عمق\n",
       "الطبقات، وتلك خاصّيّة في أصل وجوهر الماء، ويعود سببها إلى امتصاص انتقائي في المجال الأحمر من الطيف المرئي وتبعثر \n",
       "للضوء الأبيض، أمّا بخار الماء فهو أساساً غاز عديم اللون.\n",
       " تتكون بنية الماء الجزيئيّة نظريّاً بحيث تقع ذرّة الأكسجين في مركز بنية جزيئيّة رباعيّة السطوح تقع فيها ذرّتا الهيدروجين\n",
       "بالإضافة إلى الزوجين الإلكترونيّين <span style=\"font-weight: bold\">(</span>الموجودين على ذرّة الأكسجين<span style=\"font-weight: bold\">)</span> على زوايا الشكل رباعي السطوح. ولكنّ الشائع أنّ البنية\n",
       "الجزيئيّة للماء منحنية وغير خطّيّة، إذ تبلغ زاوية الرابطة H-O-H مقدار <span style=\"color: #008080; text-decoration-color: #008080; font-weight: bold\">104.45</span>°. تلك القيمة من زاوية الرابطة أصغر من \n",
       "القيمة النظاميّة لرباعي السطوح <span style=\"color: #008080; text-decoration-color: #008080; font-weight: bold\">109.47</span>، ويعود ذلك إلى تدافع الزوجين الإلكترونيين ليشغلا أبعد مسافة ممكنة عن بعضهما \n",
       "حسب نظرية فيسبر. يبلغ طول الرابطة O-H في جزيء الماء <span style=\"color: #008080; text-decoration-color: #008080; font-weight: bold\">95.84</span> بيكومتر.\n",
       "</pre>\n"
      ],
      "text/plain": [
       "يمكن إيراد الخواص الكيميائيّة والفيزيائيّة الأساسيّة للماء على شكل النقاط التالية:\n",
       " الماء سائل عند ظروف الضغط والحرارة القياسيّة المحيطة وذلك عند \u001b[1;36m298.15\u001b[0m كلفن \u001b[1m(\u001b[0m\u001b[1;36m25\u001b[0m °س\u001b[1m)\u001b[0m وضغط \u001b[1;36m100\u001b[0m,\u001b[1;36m000\u001b[0m باسكال \u001b[1m(\u001b[0m\u001b[1;36m1\u001b[0m بار، \u001b[1;36m14.5\u001b[0m\n",
       "بساي، \u001b[1;36m0.99\u001b[0m جو\u001b[1m)\u001b[0m، وهو عديم المذاق، كما أنّه عديم اللون عندما يكون بكمّيّات صغيرة، إلّا أنّه يأخذ لوناً أزرق عند ازدياد عمق\n",
       "الطبقات، وتلك خاصّيّة في أصل وجوهر الماء، ويعود سببها إلى امتصاص انتقائي في المجال الأحمر من الطيف المرئي وتبعثر \n",
       "للضوء الأبيض، أمّا بخار الماء فهو أساساً غاز عديم اللون.\n",
       " تتكون بنية الماء الجزيئيّة نظريّاً بحيث تقع ذرّة الأكسجين في مركز بنية جزيئيّة رباعيّة السطوح تقع فيها ذرّتا الهيدروجين\n",
       "بالإضافة إلى الزوجين الإلكترونيّين \u001b[1m(\u001b[0mالموجودين على ذرّة الأكسجين\u001b[1m)\u001b[0m على زوايا الشكل رباعي السطوح. ولكنّ الشائع أنّ البنية\n",
       "الجزيئيّة للماء منحنية وغير خطّيّة، إذ تبلغ زاوية الرابطة H-O-H مقدار \u001b[1;36m104.45\u001b[0m°. تلك القيمة من زاوية الرابطة أصغر من \n",
       "القيمة النظاميّة لرباعي السطوح \u001b[1;36m109.47\u001b[0m، ويعود ذلك إلى تدافع الزوجين الإلكترونيين ليشغلا أبعد مسافة ممكنة عن بعضهما \n",
       "حسب نظرية فيسبر. يبلغ طول الرابطة O-H في جزيء الماء \u001b[1;36m95.84\u001b[0m بيكومتر.\n"
      ]
     },
     "metadata": {},
     "output_type": "display_data"
    },
    {
     "data": {
      "text/html": [
       "<pre style=\"white-space:pre;overflow-x:auto;line-height:normal;font-family:Menlo,'DejaVu Sans Mono',consolas,'Courier New',monospace\">----------------------------------------------------------------------------------------------------\n",
       "</pre>\n"
      ],
      "text/plain": [
       "----------------------------------------------------------------------------------------------------\n"
      ]
     },
     "metadata": {},
     "output_type": "display_data"
    },
    {
     "data": {
      "text/html": [
       "<pre style=\"white-space:pre;overflow-x:auto;line-height:normal;font-family:Menlo,'DejaVu Sans Mono',consolas,'Courier New',monospace\"> بما أنّ كهرسلبية ذرّة الأكسجين حسب مقياس باولنغ <span style=\"font-weight: bold\">(</span><span style=\"color: #008080; text-decoration-color: #008080; font-weight: bold\">3.5</span><span style=\"font-weight: bold\">)</span> أعلى من ذرّة الهيدروجين <span style=\"font-weight: bold\">(</span><span style=\"color: #008080; text-decoration-color: #008080; font-weight: bold\">2.1</span><span style=\"font-weight: bold\">)</span>، تحمل ذرّة الأكسجين شحنة سالبة\n",
       "جزئية؛ في حين تحمل ذرّة الهيدروجين شحنة موجبة جزئية، بالتالي يكون الماء جزيئاً قطبيّاً ذا عزم ثنائي قطب يبلغ مقداره\n",
       "<span style=\"color: #008080; text-decoration-color: #008080; font-weight: bold\">1.84</span> ديباي. يستطيع الماء على أساس ذلك أن يشكّل روابط هيدروجينيّة بين جزيئيّة. تؤدّي هذه العوامل إلى وجود قوّة ترابط بين\n",
       "جزيئيّة قويّة، ممّا يفسّر ظهور خاصّيّة التوتّر السطحي الكبيرة للماء، بالإضافة إلى الخاصّيّة الشعريّة. تفسّر خاصّيّة التوتّر\n",
       "السطحي للماء ظاهرة إمكانيّة وقوف الحشرات خفيفة الوزن على سطح الماء، بالإضافة إلى إمكانيّة تشكّل القطرات؛ في حين أنّ\n",
       "الخاصّيّة الشعريّة، والتي تشير إلى ميل الماء إلى الصعود إلى أعلى أنبوب شعري رفيع بشكل معاكس لقوة الجاذبية، خاصية مهمة\n",
       "وحيوية عند النباتات الوعائية مثل الأشجار.\n",
       " يعدّ الماء من المذيبات القطبيّة الجيّدة، وعادةً ما يشار إليه على أنّه «مذيب عام». تُعرَّف المواد الكيميائيّة القابلة\n",
       "للانحلال <span style=\"font-weight: bold\">(</span>الذوبان<span style=\"font-weight: bold\">)</span> في الماء بأنّها مواد محبّة للماء <span style=\"font-weight: bold\">(</span>هيدروفيليّة<span style=\"font-weight: bold\">)</span>، مثل الأملاح والسكّريّات والأحماض والقلويّات وبعض\n",
       "الغازات مثل الأكسجين وثنائي أكسيد الكربون. بالمقابل، تعرّف المواد الكيميائيّة التي تكون غير قابلة للامتزاج مع الماء\n",
       "<span style=\"font-weight: bold\">(</span>مثل الدهنيّات <span style=\"font-weight: bold\">(</span>الزيوت والشحوم وغيرها<span style=\"font-weight: bold\">)</span> بأنّها كارهة للماء <span style=\"font-weight: bold\">(</span>هيدروفوبيّة<span style=\"font-weight: bold\">)</span>. من جهة أخرى يمتزج الماء مع العديد من السوائل\n",
       "كالكحولات <span style=\"font-weight: bold\">(</span>الإيثانول مثلاً<span style=\"font-weight: bold\">)</span> بكافة النسب مشكّلاً مزيجاً له صفات معيّنة، منها كونه ثابت الغليان <span style=\"font-weight: bold\">(</span>مزيج أزيوتروبي<span style=\"font-weight: bold\">)</span>. ولكن\n",
       "بالمقابل لا يمتزج الماء مع أغلب الزيوت العضويّة، إذ تشكّل الأخيرة طبقة ذات كثافة أقل تطفو على سطح الماء.\n",
       "</pre>\n"
      ],
      "text/plain": [
       " بما أنّ كهرسلبية ذرّة الأكسجين حسب مقياس باولنغ \u001b[1m(\u001b[0m\u001b[1;36m3.5\u001b[0m\u001b[1m)\u001b[0m أعلى من ذرّة الهيدروجين \u001b[1m(\u001b[0m\u001b[1;36m2.1\u001b[0m\u001b[1m)\u001b[0m، تحمل ذرّة الأكسجين شحنة سالبة\n",
       "جزئية؛ في حين تحمل ذرّة الهيدروجين شحنة موجبة جزئية، بالتالي يكون الماء جزيئاً قطبيّاً ذا عزم ثنائي قطب يبلغ مقداره\n",
       "\u001b[1;36m1.84\u001b[0m ديباي. يستطيع الماء على أساس ذلك أن يشكّل روابط هيدروجينيّة بين جزيئيّة. تؤدّي هذه العوامل إلى وجود قوّة ترابط بين\n",
       "جزيئيّة قويّة، ممّا يفسّر ظهور خاصّيّة التوتّر السطحي الكبيرة للماء، بالإضافة إلى الخاصّيّة الشعريّة. تفسّر خاصّيّة التوتّر\n",
       "السطحي للماء ظاهرة إمكانيّة وقوف الحشرات خفيفة الوزن على سطح الماء، بالإضافة إلى إمكانيّة تشكّل القطرات؛ في حين أنّ\n",
       "الخاصّيّة الشعريّة، والتي تشير إلى ميل الماء إلى الصعود إلى أعلى أنبوب شعري رفيع بشكل معاكس لقوة الجاذبية، خاصية مهمة\n",
       "وحيوية عند النباتات الوعائية مثل الأشجار.\n",
       " يعدّ الماء من المذيبات القطبيّة الجيّدة، وعادةً ما يشار إليه على أنّه «مذيب عام». تُعرَّف المواد الكيميائيّة القابلة\n",
       "للانحلال \u001b[1m(\u001b[0mالذوبان\u001b[1m)\u001b[0m في الماء بأنّها مواد محبّة للماء \u001b[1m(\u001b[0mهيدروفيليّة\u001b[1m)\u001b[0m، مثل الأملاح والسكّريّات والأحماض والقلويّات وبعض\n",
       "الغازات مثل الأكسجين وثنائي أكسيد الكربون. بالمقابل، تعرّف المواد الكيميائيّة التي تكون غير قابلة للامتزاج مع الماء\n",
       "\u001b[1m(\u001b[0mمثل الدهنيّات \u001b[1m(\u001b[0mالزيوت والشحوم وغيرها\u001b[1m)\u001b[0m بأنّها كارهة للماء \u001b[1m(\u001b[0mهيدروفوبيّة\u001b[1m)\u001b[0m. من جهة أخرى يمتزج الماء مع العديد من السوائل\n",
       "كالكحولات \u001b[1m(\u001b[0mالإيثانول مثلاً\u001b[1m)\u001b[0m بكافة النسب مشكّلاً مزيجاً له صفات معيّنة، منها كونه ثابت الغليان \u001b[1m(\u001b[0mمزيج أزيوتروبي\u001b[1m)\u001b[0m. ولكن\n",
       "بالمقابل لا يمتزج الماء مع أغلب الزيوت العضويّة، إذ تشكّل الأخيرة طبقة ذات كثافة أقل تطفو على سطح الماء.\n"
      ]
     },
     "metadata": {},
     "output_type": "display_data"
    },
    {
     "data": {
      "text/html": [
       "<pre style=\"white-space:pre;overflow-x:auto;line-height:normal;font-family:Menlo,'DejaVu Sans Mono',consolas,'Courier New',monospace\">----------------------------------------------------------------------------------------------------\n",
       "</pre>\n"
      ],
      "text/plain": [
       "----------------------------------------------------------------------------------------------------\n"
      ]
     },
     "metadata": {},
     "output_type": "display_data"
    },
    {
     "data": {
      "text/html": [
       "<pre style=\"white-space:pre;overflow-x:auto;line-height:normal;font-family:Menlo,'DejaVu Sans Mono',consolas,'Courier New',monospace\"> تعتمد قيمة نقطة غليان الماء <span style=\"font-weight: bold\">(</span>كما هو الحال في كافة السوائل<span style=\"font-weight: bold\">)</span> على قيمة الضغط الجوّي المحيط. على سبيل المثال، فإنّ الماء\n",
       "النقيّ يغلي عند مستوى سطح البحر عند الدرجة <span style=\"color: #008080; text-decoration-color: #008080; font-weight: bold\">100</span> °س، في حين أنّه يغلي عند الدرجة <span style=\"color: #008080; text-decoration-color: #008080; font-weight: bold\">68</span> °س عند قمّة جبل إيفرست <span style=\"font-weight: bold\">(</span><span style=\"color: #008080; text-decoration-color: #008080; font-weight: bold\">8</span>,<span style=\"color: #008080; text-decoration-color: #008080; font-weight: bold\">848</span> م فوق\n",
       "سطح البحر<span style=\"font-weight: bold\">)</span>. عند إذابة المواد القابلة للانحلال في الماء ترتفع نقطة غليان الماء وتنخفض نقطة تجمّده.\n",
       " تبلغ قيمة السعة الحراريّة النوعيّة للماء <span style=\"color: #008080; text-decoration-color: #008080; font-weight: bold\">4181.3</span> جول/<span style=\"font-weight: bold\">(</span>كغ·كلفن<span style=\"font-weight: bold\">)</span>، وهي قيمة مرتفعة نسبياً بالمقارنة مع باقي المركّبات \n",
       "الكيميائيّة، كما أنّ حرارة التبخّر لديه مرتفعة <span style=\"font-weight: bold\">(</span><span style=\"color: #008080; text-decoration-color: #008080; font-weight: bold\">2257</span> كيلوجول/كغ<span style=\"font-weight: bold\">)</span> أيضاً. يعود ارتفاع هذه القيم إلى الروابط الهيدروجينيّة\n",
       "بين جزيئات الماء. تساهم تلك القيم المرتفعة في جعل مناخ الأرض معتدلاً وذلك بامتصاص التباينات والتأرجحات الكبيرة في \n",
       "درجة الحرارة.\n",
       " للماء كثافة مقدارها <span style=\"color: #008080; text-decoration-color: #008080; font-weight: bold\">1000</span> كغ/م3 <span style=\"font-weight: bold\">(</span>تعادل <span style=\"color: #008080; text-decoration-color: #008080; font-weight: bold\">1</span> غ/مل<span style=\"font-weight: bold\">)</span> عند الدرجة <span style=\"color: #008080; text-decoration-color: #008080; font-weight: bold\">4</span>° س، أمّا الجليد فكثافته تبلغ <span style=\"color: #008080; text-decoration-color: #008080; font-weight: bold\">917</span> كغ/م3. تكون لكثافة \n",
       "الماء قيمة أعظمية عند الدرجة <span style=\"color: #008080; text-decoration-color: #008080; font-weight: bold\">3.98</span> °س، وبعد ذلك تميل للتناقص، وذلك على العكس من أغلب المواد النقيّة الأخرى، والتي \n",
       "تزداد كثافتها عندما تنخفض درجة حرارتها. يعود التناقص في قيمة الكثافة إلى البنية المفتوحة غير المتراصّة للجليد والذي\n",
       "يبدأ بالتشكّل تدريجيّاً في الماء ذي درجة الحرارة المنخفضة <span style=\"font-weight: bold\">(</span>دون <span style=\"color: #008080; text-decoration-color: #008080; font-weight: bold\">3.98</span> °س<span style=\"font-weight: bold\">)</span>، إذ لا توجد طاقة حرارية كافية لتأمين توجّهات\n",
       "الحركة العشوائيّة للجزيئات، ممّا يؤدّي إلى اصطفافها على المستوى الجزيئي ولكن ببنية مفتوحة منتظمة، ممّا يؤدّي إلى ازدياد\n",
       "الحجم العام للسائل؛ ولذلك فإنّه بين درجتي الحرارة <span style=\"color: #008080; text-decoration-color: #008080; font-weight: bold\">3.98</span> °س و <span style=\"color: #008080; text-decoration-color: #008080; font-weight: bold\">0</span> °س يزداد الحجم مع تناقص درجة الحرارة. يتمدّد الماء \n",
       "ليشغل حجماً أكبر بنسبة <span style=\"color: #008080; text-decoration-color: #008080; font-weight: bold\">9</span>% من حجم الجليد، بالتالي ستكون كثافة الجليد أقلّ من كثافة الماء، لذلك يطفو الجليد على سطح \n",
       "الماء السائل، كما هو الحال في الجبال الجليديّة.\n",
       " للماء النقي موصليّة كهربائيّة ضعيفة، ولكنّها تزداد عند إذابة كمّيّة قليلة من مادّة أيونيّة مثل كلوريد الصوديوم.\n",
       " عند تطبيق طاقة كافية على الماء تفوق كمّيّة الحرارة القياسيّة للتكوين والتي تبلغ <span style=\"color: #008080; text-decoration-color: #008080; font-weight: bold\">285.8</span> كيلوجول/مول <span style=\"font-weight: bold\">(</span><span style=\"color: #008080; text-decoration-color: #008080; font-weight: bold\">15.9</span> ميغاجول/كغ<span style=\"font-weight: bold\">)</span>\n",
       "يحدث عندئذ انفصال لجزيء الماء إلى مكوّناته من الهيدروجين والأكسجين، وهذا ما يحدث عند تطبيق جهد مرتفع من التيّار \n",
       "الكهربائي بشروط معيّنة للحصول على ظاهرة التحليل الكهربائي للماء. إنّ الطاقة اللازمة لفصل الماء إلى الهيدروجين \n",
       "والأكسجين عبر التحليل الكهربائي أو وسيلة أخرى تفوق الطاقة المستحصلة من تفاعل اتحاد العنصرين المذكورين. يمكن أن يتم \n",
       "التحليل الكهربائي للماء على مستوى تعليمي عبر جهاز هوفمان لتحليل الماء:\n",
       "</pre>\n"
      ],
      "text/plain": [
       " تعتمد قيمة نقطة غليان الماء \u001b[1m(\u001b[0mكما هو الحال في كافة السوائل\u001b[1m)\u001b[0m على قيمة الضغط الجوّي المحيط. على سبيل المثال، فإنّ الماء\n",
       "النقيّ يغلي عند مستوى سطح البحر عند الدرجة \u001b[1;36m100\u001b[0m °س، في حين أنّه يغلي عند الدرجة \u001b[1;36m68\u001b[0m °س عند قمّة جبل إيفرست \u001b[1m(\u001b[0m\u001b[1;36m8\u001b[0m,\u001b[1;36m848\u001b[0m م فوق\n",
       "سطح البحر\u001b[1m)\u001b[0m. عند إذابة المواد القابلة للانحلال في الماء ترتفع نقطة غليان الماء وتنخفض نقطة تجمّده.\n",
       " تبلغ قيمة السعة الحراريّة النوعيّة للماء \u001b[1;36m4181.3\u001b[0m جول/\u001b[1m(\u001b[0mكغ·كلفن\u001b[1m)\u001b[0m، وهي قيمة مرتفعة نسبياً بالمقارنة مع باقي المركّبات \n",
       "الكيميائيّة، كما أنّ حرارة التبخّر لديه مرتفعة \u001b[1m(\u001b[0m\u001b[1;36m2257\u001b[0m كيلوجول/كغ\u001b[1m)\u001b[0m أيضاً. يعود ارتفاع هذه القيم إلى الروابط الهيدروجينيّة\n",
       "بين جزيئات الماء. تساهم تلك القيم المرتفعة في جعل مناخ الأرض معتدلاً وذلك بامتصاص التباينات والتأرجحات الكبيرة في \n",
       "درجة الحرارة.\n",
       " للماء كثافة مقدارها \u001b[1;36m1000\u001b[0m كغ/م3 \u001b[1m(\u001b[0mتعادل \u001b[1;36m1\u001b[0m غ/مل\u001b[1m)\u001b[0m عند الدرجة \u001b[1;36m4\u001b[0m° س، أمّا الجليد فكثافته تبلغ \u001b[1;36m917\u001b[0m كغ/م3. تكون لكثافة \n",
       "الماء قيمة أعظمية عند الدرجة \u001b[1;36m3.98\u001b[0m °س، وبعد ذلك تميل للتناقص، وذلك على العكس من أغلب المواد النقيّة الأخرى، والتي \n",
       "تزداد كثافتها عندما تنخفض درجة حرارتها. يعود التناقص في قيمة الكثافة إلى البنية المفتوحة غير المتراصّة للجليد والذي\n",
       "يبدأ بالتشكّل تدريجيّاً في الماء ذي درجة الحرارة المنخفضة \u001b[1m(\u001b[0mدون \u001b[1;36m3.98\u001b[0m °س\u001b[1m)\u001b[0m، إذ لا توجد طاقة حرارية كافية لتأمين توجّهات\n",
       "الحركة العشوائيّة للجزيئات، ممّا يؤدّي إلى اصطفافها على المستوى الجزيئي ولكن ببنية مفتوحة منتظمة، ممّا يؤدّي إلى ازدياد\n",
       "الحجم العام للسائل؛ ولذلك فإنّه بين درجتي الحرارة \u001b[1;36m3.98\u001b[0m °س و \u001b[1;36m0\u001b[0m °س يزداد الحجم مع تناقص درجة الحرارة. يتمدّد الماء \n",
       "ليشغل حجماً أكبر بنسبة \u001b[1;36m9\u001b[0m% من حجم الجليد، بالتالي ستكون كثافة الجليد أقلّ من كثافة الماء، لذلك يطفو الجليد على سطح \n",
       "الماء السائل، كما هو الحال في الجبال الجليديّة.\n",
       " للماء النقي موصليّة كهربائيّة ضعيفة، ولكنّها تزداد عند إذابة كمّيّة قليلة من مادّة أيونيّة مثل كلوريد الصوديوم.\n",
       " عند تطبيق طاقة كافية على الماء تفوق كمّيّة الحرارة القياسيّة للتكوين والتي تبلغ \u001b[1;36m285.8\u001b[0m كيلوجول/مول \u001b[1m(\u001b[0m\u001b[1;36m15.9\u001b[0m ميغاجول/كغ\u001b[1m)\u001b[0m\n",
       "يحدث عندئذ انفصال لجزيء الماء إلى مكوّناته من الهيدروجين والأكسجين، وهذا ما يحدث عند تطبيق جهد مرتفع من التيّار \n",
       "الكهربائي بشروط معيّنة للحصول على ظاهرة التحليل الكهربائي للماء. إنّ الطاقة اللازمة لفصل الماء إلى الهيدروجين \n",
       "والأكسجين عبر التحليل الكهربائي أو وسيلة أخرى تفوق الطاقة المستحصلة من تفاعل اتحاد العنصرين المذكورين. يمكن أن يتم \n",
       "التحليل الكهربائي للماء على مستوى تعليمي عبر جهاز هوفمان لتحليل الماء:\n"
      ]
     },
     "metadata": {},
     "output_type": "display_data"
    },
    {
     "data": {
      "text/html": [
       "<pre style=\"white-space:pre;overflow-x:auto;line-height:normal;font-family:Menlo,'DejaVu Sans Mono',consolas,'Courier New',monospace\">----------------------------------------------------------------------------------------------------\n",
       "</pre>\n"
      ],
      "text/plain": [
       "----------------------------------------------------------------------------------------------------\n"
      ]
     },
     "metadata": {},
     "output_type": "display_data"
    },
    {
     "data": {
      "text/html": [
       "<pre style=\"white-space:pre;overflow-x:auto;line-height:normal;font-family:Menlo,'DejaVu Sans Mono',consolas,'Courier New',monospace\"> \n",
       " يصنّف الماء كيميائيّاً على أنّه أكسيد للهيدروجين، وهو يتشكّل عندما يحترق الهيدروجين أو أيّ مركّب حاوٍ عليه بالأكسجين، وهو\n",
       "مزيج انفجاري. تستطيع العناصر الكيميائيّة الأكثر كهرسلبية من الهيدروجين مثل الليثيوم والصوديوم والكالسيوم والبوتاسيوم\n",
       "والسيزيوم أن تزيح الهيدروجين من الماء مشكّلة بذلك الهيدروكسيدات الموافقة.\n",
       " يوصف الماء بأنّه عَسِر عندما تكون نسبة الأملاح المعدنيّة في الماء عالية، وخاصّة أملاح الكالسيوم <span style=\"font-weight: bold\">(</span>Ca+<span style=\"color: #008080; text-decoration-color: #008080; font-weight: bold\">2</span><span style=\"font-weight: bold\">)</span> والمغنسيوم \n",
       "<span style=\"font-weight: bold\">(</span>Mg+<span style=\"color: #008080; text-decoration-color: #008080; font-weight: bold\">2</span><span style=\"font-weight: bold\">)</span>، بالإضافة إلى بعض الأملاح المنحلّة من البيكربونات والكبريتات. بالمقابل، يوصف الماء غير العسر أنه «ماء يَسِر»،\n",
       "ويختلف تعريفه حسب الدولة، فهو الذي تركيزه من الأملاح أخفض من <span style=\"color: #008080; text-decoration-color: #008080; font-weight: bold\">100</span> مغ/ل في المملكة المتّحدة، وأخفض من <span style=\"color: #008080; text-decoration-color: #008080; font-weight: bold\">60</span> مغ/ل في \n",
       "الولايات المتّحدة الأمريكيّة. لهذه الخاصّيّة أهمّيّة في الصناعة بشكل خاص وخاصة في المراجل عند التبخير، كما أنّ لها تأثير\n",
       "على الصحّة، لذلك تخضع عادة إلى عملية إزالة للعسر.\n",
       " يمكن إجراء تفاعل كشف عن الماء بأساليب لاعضويّة تقليديّة، إذ أنّ الماء يلوّن ملح كبريتات النحاس الثنائي اللامائي أبيض\n",
       "اللون إلى اللون الأزرق، كما يتحوّل لون الورق المشبّع بملح كلوريد الكوبالت الثنائي اللامائي من الأزرق إلى الأحمر عند\n",
       "التماس مع الماء. أمّا تحليليّلاً فتحدّد كمّيّة الماء باستخدام طريقة كارل-فيشر.\n",
       " التعادل الحمضي: الماء سائل متعادل كيميائيّاً، إذ أنّ درجة الحموضة أو القاعدية فيه هي <span style=\"color: #008080; text-decoration-color: #008080; font-weight: bold\">7</span>، وهذا يعني أنّه لا يمكن اعتبار\n",
       "الماء مادّة حمضيّة أو قاعديّة، لأنه مادّة متعادلة كيميائيّاً.\n",
       " حسب توزّع نظائر الهيدروجين وتركيبها فيمكن لجزيء الماء أن يكون بالإضافة إلى الشكل الشائع «الخفيف» على شكل ماء ثقيل \n",
       "عندما يكون نظير الهيدروجين الديوتيريوم مكان الأول في جزيء الماء <span style=\"font-weight: bold\">(</span>D2O<span style=\"font-weight: bold\">)</span>، كما يمكن أن يكون على الشكل ماء فائق الثقل \n",
       "عندما يحلّ التريتيوم مكان الهيدروجين في جزيء الماء <span style=\"font-weight: bold\">(</span>T2O<span style=\"font-weight: bold\">)</span>.\n",
       "</pre>\n"
      ],
      "text/plain": [
       " \n",
       " يصنّف الماء كيميائيّاً على أنّه أكسيد للهيدروجين، وهو يتشكّل عندما يحترق الهيدروجين أو أيّ مركّب حاوٍ عليه بالأكسجين، وهو\n",
       "مزيج انفجاري. تستطيع العناصر الكيميائيّة الأكثر كهرسلبية من الهيدروجين مثل الليثيوم والصوديوم والكالسيوم والبوتاسيوم\n",
       "والسيزيوم أن تزيح الهيدروجين من الماء مشكّلة بذلك الهيدروكسيدات الموافقة.\n",
       " يوصف الماء بأنّه عَسِر عندما تكون نسبة الأملاح المعدنيّة في الماء عالية، وخاصّة أملاح الكالسيوم \u001b[1m(\u001b[0mCa+\u001b[1;36m2\u001b[0m\u001b[1m)\u001b[0m والمغنسيوم \n",
       "\u001b[1m(\u001b[0mMg+\u001b[1;36m2\u001b[0m\u001b[1m)\u001b[0m، بالإضافة إلى بعض الأملاح المنحلّة من البيكربونات والكبريتات. بالمقابل، يوصف الماء غير العسر أنه «ماء يَسِر»،\n",
       "ويختلف تعريفه حسب الدولة، فهو الذي تركيزه من الأملاح أخفض من \u001b[1;36m100\u001b[0m مغ/ل في المملكة المتّحدة، وأخفض من \u001b[1;36m60\u001b[0m مغ/ل في \n",
       "الولايات المتّحدة الأمريكيّة. لهذه الخاصّيّة أهمّيّة في الصناعة بشكل خاص وخاصة في المراجل عند التبخير، كما أنّ لها تأثير\n",
       "على الصحّة، لذلك تخضع عادة إلى عملية إزالة للعسر.\n",
       " يمكن إجراء تفاعل كشف عن الماء بأساليب لاعضويّة تقليديّة، إذ أنّ الماء يلوّن ملح كبريتات النحاس الثنائي اللامائي أبيض\n",
       "اللون إلى اللون الأزرق، كما يتحوّل لون الورق المشبّع بملح كلوريد الكوبالت الثنائي اللامائي من الأزرق إلى الأحمر عند\n",
       "التماس مع الماء. أمّا تحليليّلاً فتحدّد كمّيّة الماء باستخدام طريقة كارل-فيشر.\n",
       " التعادل الحمضي: الماء سائل متعادل كيميائيّاً، إذ أنّ درجة الحموضة أو القاعدية فيه هي \u001b[1;36m7\u001b[0m، وهذا يعني أنّه لا يمكن اعتبار\n",
       "الماء مادّة حمضيّة أو قاعديّة، لأنه مادّة متعادلة كيميائيّاً.\n",
       " حسب توزّع نظائر الهيدروجين وتركيبها فيمكن لجزيء الماء أن يكون بالإضافة إلى الشكل الشائع «الخفيف» على شكل ماء ثقيل \n",
       "عندما يكون نظير الهيدروجين الديوتيريوم مكان الأول في جزيء الماء \u001b[1m(\u001b[0mD2O\u001b[1m)\u001b[0m، كما يمكن أن يكون على الشكل ماء فائق الثقل \n",
       "عندما يحلّ التريتيوم مكان الهيدروجين في جزيء الماء \u001b[1m(\u001b[0mT2O\u001b[1m)\u001b[0m.\n"
      ]
     },
     "metadata": {},
     "output_type": "display_data"
    },
    {
     "data": {
      "text/html": [
       "<pre style=\"white-space:pre;overflow-x:auto;line-height:normal;font-family:Menlo,'DejaVu Sans Mono',consolas,'Courier New',monospace\">----------------------------------------------------------------------------------------------------\n",
       "</pre>\n"
      ],
      "text/plain": [
       "----------------------------------------------------------------------------------------------------\n"
      ]
     },
     "metadata": {},
     "output_type": "display_data"
    },
    {
     "data": {
      "text/html": [
       "<pre style=\"white-space:pre;overflow-x:auto;line-height:normal;font-family:Menlo,'DejaVu Sans Mono',consolas,'Courier New',monospace\">الماء في الكون \n",
       "</pre>\n"
      ],
      "text/plain": [
       "الماء في الكون \n"
      ]
     },
     "metadata": {},
     "output_type": "display_data"
    },
    {
     "data": {
      "text/html": [
       "<pre style=\"white-space:pre;overflow-x:auto;line-height:normal;font-family:Menlo,'DejaVu Sans Mono',consolas,'Courier New',monospace\">----------------------------------------------------------------------------------------------------\n",
       "</pre>\n"
      ],
      "text/plain": [
       "----------------------------------------------------------------------------------------------------\n"
      ]
     },
     "metadata": {},
     "output_type": "display_data"
    },
    {
     "data": {
      "text/html": [
       "<pre style=\"white-space:pre;overflow-x:auto;line-height:normal;font-family:Menlo,'DejaVu Sans Mono',consolas,'Courier New',monospace\">باستثناء الماء الموجود على سطح الأرض، فإنّ معظم الماء الموجود في الكون هو نتاج ثانوي لولادة النجوم، والتي يترافق \n",
       "حدوثها بنشوء رياح تندفع خارجاً بقوّة، حاملةً معها الغاز والغبار. عندما يصطدم ذلك الدفق من المواد بالغاز المحيط بالجرم\n",
       "المولود يؤدّي ذلك إلى نشوء أمواج صدمة، ما يعمل على تسخين الغاز. يتشكل الماء الملاحظ في الكون بتلك الطريقة وبشكل سريع\n",
       "في ذلك الغاز المتكاثف الساخن. ظهر في سنة <span style=\"color: #008080; text-decoration-color: #008080; font-weight: bold\">2011</span> تقرير عن اكتشاف سحابة هائلة من بخار الماء في الكون وبكمّيّات تفوق \n",
       "الكمّيّة الموجودة على الأرض ب <span style=\"color: #008080; text-decoration-color: #008080; font-weight: bold\">140</span> تريليون مرّة، في محيط نجم زائف يبعد حوالي <span style=\"color: #008080; text-decoration-color: #008080; font-weight: bold\">12</span> مليار سنة ضوئيّة عن الأرض. وقد استنتج من\n",
       "ذلك أنّ الماء موجود في الكون منذ بداية نشأته.\n",
       "</pre>\n"
      ],
      "text/plain": [
       "باستثناء الماء الموجود على سطح الأرض، فإنّ معظم الماء الموجود في الكون هو نتاج ثانوي لولادة النجوم، والتي يترافق \n",
       "حدوثها بنشوء رياح تندفع خارجاً بقوّة، حاملةً معها الغاز والغبار. عندما يصطدم ذلك الدفق من المواد بالغاز المحيط بالجرم\n",
       "المولود يؤدّي ذلك إلى نشوء أمواج صدمة، ما يعمل على تسخين الغاز. يتشكل الماء الملاحظ في الكون بتلك الطريقة وبشكل سريع\n",
       "في ذلك الغاز المتكاثف الساخن. ظهر في سنة \u001b[1;36m2011\u001b[0m تقرير عن اكتشاف سحابة هائلة من بخار الماء في الكون وبكمّيّات تفوق \n",
       "الكمّيّة الموجودة على الأرض ب \u001b[1;36m140\u001b[0m تريليون مرّة، في محيط نجم زائف يبعد حوالي \u001b[1;36m12\u001b[0m مليار سنة ضوئيّة عن الأرض. وقد استنتج من\n",
       "ذلك أنّ الماء موجود في الكون منذ بداية نشأته.\n"
      ]
     },
     "metadata": {},
     "output_type": "display_data"
    },
    {
     "data": {
      "text/html": [
       "<pre style=\"white-space:pre;overflow-x:auto;line-height:normal;font-family:Menlo,'DejaVu Sans Mono',consolas,'Courier New',monospace\">----------------------------------------------------------------------------------------------------\n",
       "</pre>\n"
      ],
      "text/plain": [
       "----------------------------------------------------------------------------------------------------\n"
      ]
     },
     "metadata": {},
     "output_type": "display_data"
    },
    {
     "data": {
      "text/html": [
       "<pre style=\"white-space:pre;overflow-x:auto;line-height:normal;font-family:Menlo,'DejaVu Sans Mono',consolas,'Courier New',monospace\">يوجد الماء في الكون على العموم بحالاته الثلاثة الصلبة، والسائلة، والغازيّة، بالإضافة لإمكانيّة افتراضيّة لوجوده على\n",
       "شكل يدعى «ماء فائق التأيّن»، حيث يتبلور الأكسجين وتبقى أيونات الهيدروجين عائمةً بشكل حرّ داخل الشبكة البلوريّة \n",
       "للأكسجين. يوجد هذا الشكل افتراضياً تحت ضغط ودرجة حرارة كبيرين كما هو الحال في البنية الداخليّة لكوكبي أورانوس ونبتون.\n",
       "يعد وجود الماء بحالاته الثلاثة في نفس الوقت أحد أسباب وجود الحياة على سطح كوكب الأرض. ويرجع ذلك لموقع الأرض في \n",
       "النطاق الصالح للحياة في النظام الشمسي، بحيث لو أنّها كانت أقرب إلى الشمس أو أبعد منها بنسبة <span style=\"color: #008080; text-decoration-color: #008080; font-weight: bold\">5</span>% من المسافة الحاليّة \n",
       "<span style=\"font-weight: bold\">(</span>أي حوالي <span style=\"color: #008080; text-decoration-color: #008080; font-weight: bold\">8</span> ملايين كم<span style=\"font-weight: bold\">)</span> فإنّ الظروف التي تسمح بوجود الأشكال الثلاثة لن تكون متوفّرة، ممّا سيؤثّر على وجود الحياة.\n",
       "</pre>\n"
      ],
      "text/plain": [
       "يوجد الماء في الكون على العموم بحالاته الثلاثة الصلبة، والسائلة، والغازيّة، بالإضافة لإمكانيّة افتراضيّة لوجوده على\n",
       "شكل يدعى «ماء فائق التأيّن»، حيث يتبلور الأكسجين وتبقى أيونات الهيدروجين عائمةً بشكل حرّ داخل الشبكة البلوريّة \n",
       "للأكسجين. يوجد هذا الشكل افتراضياً تحت ضغط ودرجة حرارة كبيرين كما هو الحال في البنية الداخليّة لكوكبي أورانوس ونبتون.\n",
       "يعد وجود الماء بحالاته الثلاثة في نفس الوقت أحد أسباب وجود الحياة على سطح كوكب الأرض. ويرجع ذلك لموقع الأرض في \n",
       "النطاق الصالح للحياة في النظام الشمسي، بحيث لو أنّها كانت أقرب إلى الشمس أو أبعد منها بنسبة \u001b[1;36m5\u001b[0m% من المسافة الحاليّة \n",
       "\u001b[1m(\u001b[0mأي حوالي \u001b[1;36m8\u001b[0m ملايين كم\u001b[1m)\u001b[0m فإنّ الظروف التي تسمح بوجود الأشكال الثلاثة لن تكون متوفّرة، ممّا سيؤثّر على وجود الحياة.\n"
      ]
     },
     "metadata": {},
     "output_type": "display_data"
    },
    {
     "data": {
      "text/html": [
       "<pre style=\"white-space:pre;overflow-x:auto;line-height:normal;font-family:Menlo,'DejaVu Sans Mono',consolas,'Courier New',monospace\">----------------------------------------------------------------------------------------------------\n",
       "</pre>\n"
      ],
      "text/plain": [
       "----------------------------------------------------------------------------------------------------\n"
      ]
     },
     "metadata": {},
     "output_type": "display_data"
    },
    {
     "data": {
      "text/html": [
       "<pre style=\"white-space:pre;overflow-x:auto;line-height:normal;font-family:Menlo,'DejaVu Sans Mono',consolas,'Courier New',monospace\">على شكل بخار ماء \n",
       "يوجد الماء بحالته الغازيّة على هيئة بخار ماء، وقد عثر في الكون على هذا الشكل من الماء في الغلاف الجوّي للعديد من \n",
       "الأجرام في مجرّة درب التبّانة؛ وذلك في كلّ من:\n",
       "</pre>\n"
      ],
      "text/plain": [
       "على شكل بخار ماء \n",
       "يوجد الماء بحالته الغازيّة على هيئة بخار ماء، وقد عثر في الكون على هذا الشكل من الماء في الغلاف الجوّي للعديد من \n",
       "الأجرام في مجرّة درب التبّانة؛ وذلك في كلّ من:\n"
      ]
     },
     "metadata": {},
     "output_type": "display_data"
    },
    {
     "data": {
      "text/html": [
       "<pre style=\"white-space:pre;overflow-x:auto;line-height:normal;font-family:Menlo,'DejaVu Sans Mono',consolas,'Courier New',monospace\">----------------------------------------------------------------------------------------------------\n",
       "</pre>\n"
      ],
      "text/plain": [
       "----------------------------------------------------------------------------------------------------\n"
      ]
     },
     "metadata": {},
     "output_type": "display_data"
    },
    {
     "data": {
      "text/html": [
       "<pre style=\"white-space:pre;overflow-x:auto;line-height:normal;font-family:Menlo,'DejaVu Sans Mono',consolas,'Courier New',monospace\"> الغلاف الجوّي للشمس وذلك بكمّيّات نزرة قابلة للقياس.\n",
       " الغلاف الجوّي لعطارد بنسبة <span style=\"color: #008080; text-decoration-color: #008080; font-weight: bold\">3.4</span>%، ولكن توجد كمّيّات أكبر في الغلاف الخارجي.\n",
       " الغلاف الجوّي للزهرة بنسبة <span style=\"color: #008080; text-decoration-color: #008080; font-weight: bold\">0.002</span>%.\n",
       " الغلاف الجوّي للأرض بنسبة تقارب <span style=\"color: #008080; text-decoration-color: #008080; font-weight: bold\">0.40</span>% بالنسبة لكامل طبقات الغلاف الجوّي، إلّا أنّها تتراوح بين <span style=\"color: #008080; text-decoration-color: #008080; font-weight: bold\">1</span>-<span style=\"color: #008080; text-decoration-color: #008080; font-weight: bold\">4</span>% بالقرب من السطح،\n",
       "بالإضافة إلى وجود كمّيّات نزرة في الغلاف الجوّي للقمر.\n",
       " الغلاف الجوّي للمريخ بنسبة <span style=\"color: #008080; text-decoration-color: #008080; font-weight: bold\">0.03</span> %.\n",
       " الغلاف الجوّي للمشتري وذلك فقط في المواد المتطايرة بنسبة <span style=\"color: #008080; text-decoration-color: #008080; font-weight: bold\">0.0004</span>%، وكذلك في قمره أوروبا.\n",
       " الغلاف الجوّي لزحل وذلك فقط في المواد المتطايرة، وكذلك في أقماره تيتان وديون وإنسيلادوس.\n",
       " الغلاف الجوّي لأورانوس بكمّيّات نزرة دون <span style=\"color: #008080; text-decoration-color: #008080; font-weight: bold\">50</span> بار.\n",
       " الغلاف الجوّي لنبتون وذلك في الطبقات العميقة.\n",
       "</pre>\n"
      ],
      "text/plain": [
       " الغلاف الجوّي للشمس وذلك بكمّيّات نزرة قابلة للقياس.\n",
       " الغلاف الجوّي لعطارد بنسبة \u001b[1;36m3.4\u001b[0m%، ولكن توجد كمّيّات أكبر في الغلاف الخارجي.\n",
       " الغلاف الجوّي للزهرة بنسبة \u001b[1;36m0.002\u001b[0m%.\n",
       " الغلاف الجوّي للأرض بنسبة تقارب \u001b[1;36m0.40\u001b[0m% بالنسبة لكامل طبقات الغلاف الجوّي، إلّا أنّها تتراوح بين \u001b[1;36m1\u001b[0m-\u001b[1;36m4\u001b[0m% بالقرب من السطح،\n",
       "بالإضافة إلى وجود كمّيّات نزرة في الغلاف الجوّي للقمر.\n",
       " الغلاف الجوّي للمريخ بنسبة \u001b[1;36m0.03\u001b[0m %.\n",
       " الغلاف الجوّي للمشتري وذلك فقط في المواد المتطايرة بنسبة \u001b[1;36m0.0004\u001b[0m%، وكذلك في قمره أوروبا.\n",
       " الغلاف الجوّي لزحل وذلك فقط في المواد المتطايرة، وكذلك في أقماره تيتان وديون وإنسيلادوس.\n",
       " الغلاف الجوّي لأورانوس بكمّيّات نزرة دون \u001b[1;36m50\u001b[0m بار.\n",
       " الغلاف الجوّي لنبتون وذلك في الطبقات العميقة.\n"
      ]
     },
     "metadata": {},
     "output_type": "display_data"
    },
    {
     "data": {
      "text/html": [
       "<pre style=\"white-space:pre;overflow-x:auto;line-height:normal;font-family:Menlo,'DejaVu Sans Mono',consolas,'Courier New',monospace\">----------------------------------------------------------------------------------------------------\n",
       "</pre>\n"
      ],
      "text/plain": [
       "----------------------------------------------------------------------------------------------------\n"
      ]
     },
     "metadata": {},
     "output_type": "display_data"
    },
    {
     "data": {
      "text/html": [
       "<pre style=\"white-space:pre;overflow-x:auto;line-height:normal;font-family:Menlo,'DejaVu Sans Mono',consolas,'Courier New',monospace\">يوجد بخار الماء أيضاً في العديد من الأجرام الفلكيّة الأخرى داخل المجموعة الشمسيّة كما في الغلاف الجوي للكوكب القزم \n",
       "سيريس، بالإضافة إلى الأجرام خارج المجموعة الشمسيّة بما في ذلك الغلاف الجوّي لكل من HD <span style=\"color: #008080; text-decoration-color: #008080; font-weight: bold\">189733</span> b، وHD <span style=\"color: #008080; text-decoration-color: #008080; font-weight: bold\">209458</span> b، و Tau\n",
       "Boötis b، و HAT-P-11b، و XO-1b، وواسب-12b و WASP-17b و WASP-19b.\n",
       "</pre>\n"
      ],
      "text/plain": [
       "يوجد بخار الماء أيضاً في العديد من الأجرام الفلكيّة الأخرى داخل المجموعة الشمسيّة كما في الغلاف الجوي للكوكب القزم \n",
       "سيريس، بالإضافة إلى الأجرام خارج المجموعة الشمسيّة بما في ذلك الغلاف الجوّي لكل من HD \u001b[1;36m189733\u001b[0m b، وHD \u001b[1;36m209458\u001b[0m b، و Tau\n",
       "Boötis b، و HAT-P-11b، و XO-1b، وواسب-12b و WASP-17b و WASP-19b.\n"
      ]
     },
     "metadata": {},
     "output_type": "display_data"
    },
    {
     "data": {
      "text/html": [
       "<pre style=\"white-space:pre;overflow-x:auto;line-height:normal;font-family:Menlo,'DejaVu Sans Mono',consolas,'Courier New',monospace\">----------------------------------------------------------------------------------------------------\n",
       "</pre>\n"
      ],
      "text/plain": [
       "----------------------------------------------------------------------------------------------------\n"
      ]
     },
     "metadata": {},
     "output_type": "display_data"
    },
    {
     "data": {
      "text/html": [
       "<pre style=\"white-space:pre;overflow-x:auto;line-height:normal;font-family:Menlo,'DejaVu Sans Mono',consolas,'Courier New',monospace\">يوجد بخار الماء أيضاً في الغلاف الجوّي للنجوم وذلك بشكل لا يقتصر على النجوم الباردة فقط، إذ أنّه اكتشف حتى في النجوم\n",
       "الضخمة العملاقة مثل منكب الجوزاء ونجم الراقص في كوكبة الملتهب وقلب العقرب والسمّاك الرامح. كما اكتشف بخار الماء أيضاً\n",
       "في الأقراص النجميّة الدوّارة بما في ذلك أكثر من نصف نجوم تي الثور مثل AA Tauri، و TW Hydrae، و IRC +<span style=\"color: #008080; text-decoration-color: #008080; font-weight: bold\">10216</span>، و APM \n",
       "<span style=\"color: #008080; text-decoration-color: #008080; font-weight: bold\">08279</span>+<span style=\"color: #008080; text-decoration-color: #008080; font-weight: bold\">5255</span>، و S Persei.\n",
       "</pre>\n"
      ],
      "text/plain": [
       "يوجد بخار الماء أيضاً في الغلاف الجوّي للنجوم وذلك بشكل لا يقتصر على النجوم الباردة فقط، إذ أنّه اكتشف حتى في النجوم\n",
       "الضخمة العملاقة مثل منكب الجوزاء ونجم الراقص في كوكبة الملتهب وقلب العقرب والسمّاك الرامح. كما اكتشف بخار الماء أيضاً\n",
       "في الأقراص النجميّة الدوّارة بما في ذلك أكثر من نصف نجوم تي الثور مثل AA Tauri، و TW Hydrae، و IRC +\u001b[1;36m10216\u001b[0m، و APM \n",
       "\u001b[1;36m08279\u001b[0m+\u001b[1;36m5255\u001b[0m، و S Persei.\n"
      ]
     },
     "metadata": {},
     "output_type": "display_data"
    },
    {
     "data": {
      "text/html": [
       "<pre style=\"white-space:pre;overflow-x:auto;line-height:normal;font-family:Menlo,'DejaVu Sans Mono',consolas,'Courier New',monospace\">----------------------------------------------------------------------------------------------------\n",
       "</pre>\n"
      ],
      "text/plain": [
       "----------------------------------------------------------------------------------------------------\n"
      ]
     },
     "metadata": {},
     "output_type": "display_data"
    },
    {
     "data": {
      "text/html": [
       "<pre style=\"white-space:pre;overflow-x:auto;line-height:normal;font-family:Menlo,'DejaVu Sans Mono',consolas,'Courier New',monospace\">على شكل ماء سائل \n",
       "</pre>\n"
      ],
      "text/plain": [
       "على شكل ماء سائل \n"
      ]
     },
     "metadata": {},
     "output_type": "display_data"
    },
    {
     "data": {
      "text/html": [
       "<pre style=\"white-space:pre;overflow-x:auto;line-height:normal;font-family:Menlo,'DejaVu Sans Mono',consolas,'Courier New',monospace\">----------------------------------------------------------------------------------------------------\n",
       "</pre>\n"
      ],
      "text/plain": [
       "----------------------------------------------------------------------------------------------------\n"
      ]
     },
     "metadata": {},
     "output_type": "display_data"
    },
    {
     "data": {
      "text/html": [
       "<pre style=\"white-space:pre;overflow-x:auto;line-height:normal;font-family:Menlo,'DejaVu Sans Mono',consolas,'Courier New',monospace\">يوجد الماء السائل في الكون بشكل رئيسي على كوكب الأرض حيث يغطّي أكثر من <span style=\"color: #008080; text-decoration-color: #008080; font-weight: bold\">71</span>% من مساحته، بالإضافة إلى ذلك توجد كمّيّات\n",
       "كبيرة من الماء داخل الأرض وذلك في الطبقات العميقة تحت القشرة الأرضيّة. كما أنّ هناك دلائل على وجوده على سطح المريخ \n",
       "أيضاً ولكن بكمّيّات قليلة. هناك أبحاث تشير إلى أنّ الماء السائل قد يوجد بكمّيّات معتبرة في قمر إنسيلادوس الذي يدور في فلك\n",
       "زحل، حيث توجد طبقة سماكتها حوالي <span style=\"color: #008080; text-decoration-color: #008080; font-weight: bold\">10</span> كم في عمق <span style=\"color: #008080; text-decoration-color: #008080; font-weight: bold\">30</span>-<span style=\"color: #008080; text-decoration-color: #008080; font-weight: bold\">40</span> كم تحت سطح القطب الجنوبي لذلك القمر، كما يوجد في طبقة تحت سطح \n",
       "قمر تيتان، ومن المحتمل أن يكون ممزوجاً مع الأمونيا. أمّا قمر المشتري أوروبا فلسطحه ميّزات تشير إلى إمكانيّة وجود مياه\n",
       "محيط سائلة تحت سطحيّة، كما يمكن للماء السائل أن يوجد على قمر المشتري غانيميد في طبقة محصورة بين الجليد مرتفع الضغط \n",
       "والصخر.\n",
       "</pre>\n"
      ],
      "text/plain": [
       "يوجد الماء السائل في الكون بشكل رئيسي على كوكب الأرض حيث يغطّي أكثر من \u001b[1;36m71\u001b[0m% من مساحته، بالإضافة إلى ذلك توجد كمّيّات\n",
       "كبيرة من الماء داخل الأرض وذلك في الطبقات العميقة تحت القشرة الأرضيّة. كما أنّ هناك دلائل على وجوده على سطح المريخ \n",
       "أيضاً ولكن بكمّيّات قليلة. هناك أبحاث تشير إلى أنّ الماء السائل قد يوجد بكمّيّات معتبرة في قمر إنسيلادوس الذي يدور في فلك\n",
       "زحل، حيث توجد طبقة سماكتها حوالي \u001b[1;36m10\u001b[0m كم في عمق \u001b[1;36m30\u001b[0m-\u001b[1;36m40\u001b[0m كم تحت سطح القطب الجنوبي لذلك القمر، كما يوجد في طبقة تحت سطح \n",
       "قمر تيتان، ومن المحتمل أن يكون ممزوجاً مع الأمونيا. أمّا قمر المشتري أوروبا فلسطحه ميّزات تشير إلى إمكانيّة وجود مياه\n",
       "محيط سائلة تحت سطحيّة، كما يمكن للماء السائل أن يوجد على قمر المشتري غانيميد في طبقة محصورة بين الجليد مرتفع الضغط \n",
       "والصخر.\n"
      ]
     },
     "metadata": {},
     "output_type": "display_data"
    },
    {
     "data": {
      "text/html": [
       "<pre style=\"white-space:pre;overflow-x:auto;line-height:normal;font-family:Menlo,'DejaVu Sans Mono',consolas,'Courier New',monospace\">----------------------------------------------------------------------------------------------------\n",
       "</pre>\n"
      ],
      "text/plain": [
       "----------------------------------------------------------------------------------------------------\n"
      ]
     },
     "metadata": {},
     "output_type": "display_data"
    },
    {
     "data": {
      "text/html": [
       "<pre style=\"white-space:pre;overflow-x:auto;line-height:normal;font-family:Menlo,'DejaVu Sans Mono',consolas,'Courier New',monospace\">على شكل جليد \n",
       "يوجد الماء على شكل جليد في الكون في العديد من الأجرام والكواكب مثل كوكب المريخ وذلك تحت الحطام الصخري وعند القطبين،\n",
       "كما يوجد في حلقات زحل، وفي قطبي عطارد.\n",
       "</pre>\n"
      ],
      "text/plain": [
       "على شكل جليد \n",
       "يوجد الماء على شكل جليد في الكون في العديد من الأجرام والكواكب مثل كوكب المريخ وذلك تحت الحطام الصخري وعند القطبين،\n",
       "كما يوجد في حلقات زحل، وفي قطبي عطارد.\n"
      ]
     },
     "metadata": {},
     "output_type": "display_data"
    },
    {
     "data": {
      "text/html": [
       "<pre style=\"white-space:pre;overflow-x:auto;line-height:normal;font-family:Menlo,'DejaVu Sans Mono',consolas,'Courier New',monospace\">----------------------------------------------------------------------------------------------------\n",
       "</pre>\n"
      ],
      "text/plain": [
       "----------------------------------------------------------------------------------------------------\n"
      ]
     },
     "metadata": {},
     "output_type": "display_data"
    },
    {
     "data": {
      "text/html": [
       "<pre style=\"white-space:pre;overflow-x:auto;line-height:normal;font-family:Menlo,'DejaVu Sans Mono',consolas,'Courier New',monospace\">كما يوجد الجليد على شكل صفائح جليديّة في الأرض وفي الفوّهات والصخور البركانيّة في القمر، وفي أقمار أخرى مثل قمر شارون.\n",
       "</pre>\n"
      ],
      "text/plain": [
       "كما يوجد الجليد على شكل صفائح جليديّة في الأرض وفي الفوّهات والصخور البركانيّة في القمر، وفي أقمار أخرى مثل قمر شارون.\n"
      ]
     },
     "metadata": {},
     "output_type": "display_data"
    },
    {
     "data": {
      "text/html": [
       "<pre style=\"white-space:pre;overflow-x:auto;line-height:normal;font-family:Menlo,'DejaVu Sans Mono',consolas,'Courier New',monospace\">----------------------------------------------------------------------------------------------------\n",
       "</pre>\n"
      ],
      "text/plain": [
       "----------------------------------------------------------------------------------------------------\n"
      ]
     },
     "metadata": {},
     "output_type": "display_data"
    },
    {
     "data": {
      "text/html": [
       "<pre style=\"white-space:pre;overflow-x:auto;line-height:normal;font-family:Menlo,'DejaVu Sans Mono',consolas,'Courier New',monospace\">الماء في الأرض \n",
       "</pre>\n"
      ],
      "text/plain": [
       "الماء في الأرض \n"
      ]
     },
     "metadata": {},
     "output_type": "display_data"
    },
    {
     "data": {
      "text/html": [
       "<pre style=\"white-space:pre;overflow-x:auto;line-height:normal;font-family:Menlo,'DejaVu Sans Mono',consolas,'Courier New',monospace\">----------------------------------------------------------------------------------------------------\n",
       "</pre>\n"
      ],
      "text/plain": [
       "----------------------------------------------------------------------------------------------------\n"
      ]
     },
     "metadata": {},
     "output_type": "display_data"
    },
    {
     "data": {
      "text/html": [
       "<pre style=\"white-space:pre;overflow-x:auto;line-height:normal;font-family:Menlo,'DejaVu Sans Mono',consolas,'Courier New',monospace\">يوجد الماء على سطح الأرض في المسطّحات المائيّة والتي يمكن أن تكون على عدّة أشكال طبيعيّة مثل المحيطات والبحار والبحيرات\n",
       "والأنهار والجداول والبرك وغير ذلك، مع العلم أنّ أغلب الماء الموجود على سطح الأرض هو على شكل مياه مالحة في المحيطات \n",
       "والبحار، وخاصة في نصف الأرض الجنوبي حيث يوجد نصف الكرة المائي. تعرف كمّيّة الماء الكلّيّة الموجودة على الأرض ككلّ باسم\n",
       "غلاف الأرض المائي، ويقدّر حجمه بحوالي <span style=\"color: #008080; text-decoration-color: #008080; font-weight: bold\">1338</span> مليون كم3، ومعظم هذه الكمّيّة <span style=\"font-weight: bold\">(</span><span style=\"color: #008080; text-decoration-color: #008080; font-weight: bold\">97</span>%<span style=\"font-weight: bold\">)</span> عبارة عن ماء مالح في المحيطات، أما <span style=\"color: #008080; text-decoration-color: #008080; font-weight: bold\">3</span>%\n",
       "المتبقيّة، والتي تكافئ حوالي <span style=\"color: #008080; text-decoration-color: #008080; font-weight: bold\">48</span> مليون كم3 فهي ماء عذب، وحوالي ثلثي الماء العذب المتوفّر على الأرض هو جليد في القطبين\n",
       "على شكل مثالج وجبال جليديّة. تشكّل المياه الجوفيّة أغلب نسبة الثلث المتبقي من المياه العذبة <span style=\"font-weight: bold\">(</span><span style=\"color: #008080; text-decoration-color: #008080; font-weight: bold\">23.4</span> مليون كم3<span style=\"font-weight: bold\">)</span>، بحيث أنّ\n",
       "النسبة المتبقيّة من الماء العذب الموجودة في مجاري الأنهار وفي البحيرات الداخليّة <span style=\"font-weight: bold\">(</span><span style=\"color: #008080; text-decoration-color: #008080; font-weight: bold\">190</span> ألف كم3<span style=\"font-weight: bold\">)</span> وفي الغلاف الجوّي على\n",
       "شكل بخار ماء <span style=\"font-weight: bold\">(</span><span style=\"color: #008080; text-decoration-color: #008080; font-weight: bold\">13</span> ألف كم3<span style=\"font-weight: bold\">)</span> وفي الغلاف الصخري <span style=\"font-weight: bold\">(</span><span style=\"color: #008080; text-decoration-color: #008080; font-weight: bold\">16</span> ألف كم3<span style=\"font-weight: bold\">)</span> تبدو صغيرة نسبيّاً. إنّ أغلب ماء الأرض هو على شكل سائل \n",
       "<span style=\"font-weight: bold\">(</span><span style=\"color: #008080; text-decoration-color: #008080; font-weight: bold\">98.2</span>%<span style=\"font-weight: bold\">)</span>، والباقي على شكل صلب <span style=\"font-weight: bold\">(</span><span style=\"color: #008080; text-decoration-color: #008080; font-weight: bold\">1.8</span> %<span style=\"font-weight: bold\">)</span>، مع وجود نسبة ضئيلة <span style=\"font-weight: bold\">(</span><span style=\"color: #008080; text-decoration-color: #008080; font-weight: bold\">0.001</span> %<span style=\"font-weight: bold\">)</span> على شكل بخار ماء. تجدر الإشارة إلى أنّ هذه النسب\n",
       "تقريبيّة وتشير إلى الحالة الراهنة، إذ حدثت تفاوتات كبيرة في تاريخ مناخ الكرة الأرضيّة.\n",
       "</pre>\n"
      ],
      "text/plain": [
       "يوجد الماء على سطح الأرض في المسطّحات المائيّة والتي يمكن أن تكون على عدّة أشكال طبيعيّة مثل المحيطات والبحار والبحيرات\n",
       "والأنهار والجداول والبرك وغير ذلك، مع العلم أنّ أغلب الماء الموجود على سطح الأرض هو على شكل مياه مالحة في المحيطات \n",
       "والبحار، وخاصة في نصف الأرض الجنوبي حيث يوجد نصف الكرة المائي. تعرف كمّيّة الماء الكلّيّة الموجودة على الأرض ككلّ باسم\n",
       "غلاف الأرض المائي، ويقدّر حجمه بحوالي \u001b[1;36m1338\u001b[0m مليون كم3، ومعظم هذه الكمّيّة \u001b[1m(\u001b[0m\u001b[1;36m97\u001b[0m%\u001b[1m)\u001b[0m عبارة عن ماء مالح في المحيطات، أما \u001b[1;36m3\u001b[0m%\n",
       "المتبقيّة، والتي تكافئ حوالي \u001b[1;36m48\u001b[0m مليون كم3 فهي ماء عذب، وحوالي ثلثي الماء العذب المتوفّر على الأرض هو جليد في القطبين\n",
       "على شكل مثالج وجبال جليديّة. تشكّل المياه الجوفيّة أغلب نسبة الثلث المتبقي من المياه العذبة \u001b[1m(\u001b[0m\u001b[1;36m23.4\u001b[0m مليون كم3\u001b[1m)\u001b[0m، بحيث أنّ\n",
       "النسبة المتبقيّة من الماء العذب الموجودة في مجاري الأنهار وفي البحيرات الداخليّة \u001b[1m(\u001b[0m\u001b[1;36m190\u001b[0m ألف كم3\u001b[1m)\u001b[0m وفي الغلاف الجوّي على\n",
       "شكل بخار ماء \u001b[1m(\u001b[0m\u001b[1;36m13\u001b[0m ألف كم3\u001b[1m)\u001b[0m وفي الغلاف الصخري \u001b[1m(\u001b[0m\u001b[1;36m16\u001b[0m ألف كم3\u001b[1m)\u001b[0m تبدو صغيرة نسبيّاً. إنّ أغلب ماء الأرض هو على شكل سائل \n",
       "\u001b[1m(\u001b[0m\u001b[1;36m98.2\u001b[0m%\u001b[1m)\u001b[0m، والباقي على شكل صلب \u001b[1m(\u001b[0m\u001b[1;36m1.8\u001b[0m %\u001b[1m)\u001b[0m، مع وجود نسبة ضئيلة \u001b[1m(\u001b[0m\u001b[1;36m0.001\u001b[0m %\u001b[1m)\u001b[0m على شكل بخار ماء. تجدر الإشارة إلى أنّ هذه النسب\n",
       "تقريبيّة وتشير إلى الحالة الراهنة، إذ حدثت تفاوتات كبيرة في تاريخ مناخ الكرة الأرضيّة.\n"
      ]
     },
     "metadata": {},
     "output_type": "display_data"
    },
    {
     "data": {
      "text/html": [
       "<pre style=\"white-space:pre;overflow-x:auto;line-height:normal;font-family:Menlo,'DejaVu Sans Mono',consolas,'Courier New',monospace\">----------------------------------------------------------------------------------------------------\n",
       "</pre>\n"
      ],
      "text/plain": [
       "----------------------------------------------------------------------------------------------------\n"
      ]
     },
     "metadata": {},
     "output_type": "display_data"
    },
    {
     "data": {
      "text/html": [
       "<pre style=\"white-space:pre;overflow-x:auto;line-height:normal;font-family:Menlo,'DejaVu Sans Mono',consolas,'Courier New',monospace\">دورة الماء \n",
       "</pre>\n"
      ],
      "text/plain": [
       "دورة الماء \n"
      ]
     },
     "metadata": {},
     "output_type": "display_data"
    },
    {
     "data": {
      "text/html": [
       "<pre style=\"white-space:pre;overflow-x:auto;line-height:normal;font-family:Menlo,'DejaVu Sans Mono',consolas,'Courier New',monospace\">----------------------------------------------------------------------------------------------------\n",
       "</pre>\n"
      ],
      "text/plain": [
       "----------------------------------------------------------------------------------------------------\n"
      ]
     },
     "metadata": {},
     "output_type": "display_data"
    },
    {
     "data": {
      "text/html": [
       "<pre style=\"white-space:pre;overflow-x:auto;line-height:normal;font-family:Menlo,'DejaVu Sans Mono',consolas,'Courier New',monospace\">يشير مصطلح دورة الماء إلى التغيّر المستمرّ لحالات الماء ضمن الغلاف المائي للأرض وذلك بين الغلاف الجوّي للأرض والتربة\n",
       "والمياه السطحيّة والجوفيّة، بالإضافة إلى دور النباتات في تلك العمليّة.\n",
       "</pre>\n"
      ],
      "text/plain": [
       "يشير مصطلح دورة الماء إلى التغيّر المستمرّ لحالات الماء ضمن الغلاف المائي للأرض وذلك بين الغلاف الجوّي للأرض والتربة\n",
       "والمياه السطحيّة والجوفيّة، بالإضافة إلى دور النباتات في تلك العمليّة.\n"
      ]
     },
     "metadata": {},
     "output_type": "display_data"
    },
    {
     "data": {
      "text/html": [
       "<pre style=\"white-space:pre;overflow-x:auto;line-height:normal;font-family:Menlo,'DejaVu Sans Mono',consolas,'Courier New',monospace\">----------------------------------------------------------------------------------------------------\n",
       "</pre>\n"
      ],
      "text/plain": [
       "----------------------------------------------------------------------------------------------------\n"
      ]
     },
     "metadata": {},
     "output_type": "display_data"
    },
    {
     "data": {
      "text/html": [
       "<pre style=\"white-space:pre;overflow-x:auto;line-height:normal;font-family:Menlo,'DejaVu Sans Mono',consolas,'Courier New',monospace\">تتضمّن دورة الماء انتقال الماء بشكل مستمر ودون انقطاع عبر العمليّات التالية:\n",
       " تبخّر الماء من المحيطات والمسطّحات المائيّة، بالإضافة إلى عمليّة النتح من نباتات اليابسة على شكل بخار ماء إلى الهواء.\n",
       " تكاثف بخار الماء من الهواء وحدوث هطولات تضمن عودة الماء بالتساقط على الأرض.\n",
       " جريان وصولاً إلى المحيطات والمسطّحات المائيّة.\n",
       "</pre>\n"
      ],
      "text/plain": [
       "تتضمّن دورة الماء انتقال الماء بشكل مستمر ودون انقطاع عبر العمليّات التالية:\n",
       " تبخّر الماء من المحيطات والمسطّحات المائيّة، بالإضافة إلى عمليّة النتح من نباتات اليابسة على شكل بخار ماء إلى الهواء.\n",
       " تكاثف بخار الماء من الهواء وحدوث هطولات تضمن عودة الماء بالتساقط على الأرض.\n",
       " جريان وصولاً إلى المحيطات والمسطّحات المائيّة.\n"
      ]
     },
     "metadata": {},
     "output_type": "display_data"
    },
    {
     "data": {
      "text/html": [
       "<pre style=\"white-space:pre;overflow-x:auto;line-height:normal;font-family:Menlo,'DejaVu Sans Mono',consolas,'Courier New',monospace\">----------------------------------------------------------------------------------------------------\n",
       "</pre>\n"
      ],
      "text/plain": [
       "----------------------------------------------------------------------------------------------------\n"
      ]
     },
     "metadata": {},
     "output_type": "display_data"
    },
    {
     "data": {
      "text/html": [
       "<pre style=\"white-space:pre;overflow-x:auto;line-height:normal;font-family:Menlo,'DejaVu Sans Mono',consolas,'Courier New',monospace\">يتكاثف أغلب بخار الماء الموجود فوق المحيطات ويعود إليها، ولكن أحياناً ما تحمل الرياح بخار الماء إلى اليابسة بحيث \n",
       "يمكن أن يحدث الهطول والتساقط عليها، وهذا الأمر يتعلّق بالمنطقة الجغرافيّة ومناخ المنطقة. يمكن للهطولات أن تكون على \n",
       "أشكال مختلفة، أشهرها الهطولات المطريّة، ولكن قد يحدث الهطول على شكل ثلج أو بَرَد، كما يسهم تشكل الضباب والندى في عملية\n",
       "الهطول أيضاً. بالمقابل، يحدث القحط والجفاف عندما تمرّ فترات زمنيّة طويلة نسبيّاً قد تصل لشهور وأحياناً لسنوات دون هطول،\n",
       "ممّا يؤدّي إلى نقصان في مخزونها المائي تحت المعدّل الطبيعي لتلك المنطقة الجغرافيّة.\n",
       "</pre>\n"
      ],
      "text/plain": [
       "يتكاثف أغلب بخار الماء الموجود فوق المحيطات ويعود إليها، ولكن أحياناً ما تحمل الرياح بخار الماء إلى اليابسة بحيث \n",
       "يمكن أن يحدث الهطول والتساقط عليها، وهذا الأمر يتعلّق بالمنطقة الجغرافيّة ومناخ المنطقة. يمكن للهطولات أن تكون على \n",
       "أشكال مختلفة، أشهرها الهطولات المطريّة، ولكن قد يحدث الهطول على شكل ثلج أو بَرَد، كما يسهم تشكل الضباب والندى في عملية\n",
       "الهطول أيضاً. بالمقابل، يحدث القحط والجفاف عندما تمرّ فترات زمنيّة طويلة نسبيّاً قد تصل لشهور وأحياناً لسنوات دون هطول،\n",
       "ممّا يؤدّي إلى نقصان في مخزونها المائي تحت المعدّل الطبيعي لتلك المنطقة الجغرافيّة.\n"
      ]
     },
     "metadata": {},
     "output_type": "display_data"
    },
    {
     "data": {
      "text/html": [
       "<pre style=\"white-space:pre;overflow-x:auto;line-height:normal;font-family:Menlo,'DejaVu Sans Mono',consolas,'Courier New',monospace\">----------------------------------------------------------------------------------------------------\n",
       "</pre>\n"
      ],
      "text/plain": [
       "----------------------------------------------------------------------------------------------------\n"
      ]
     },
     "metadata": {},
     "output_type": "display_data"
    },
    {
     "data": {
      "text/html": [
       "<pre style=\"white-space:pre;overflow-x:auto;line-height:normal;font-family:Menlo,'DejaVu Sans Mono',consolas,'Courier New',monospace\">عند حدوث جريان الماء تتجمّع المياه على شكل مستجمعات، والتي تنجرف إلى الأنهار ومنها تكمل طريقها حسب مصبّها إلى \n",
       "المحيطات أو تتبخّر منها مباشرة. يعرف نموذج النقل الهيدرولوجي بأنّه إجراء عمليّة نمذجة رياضيّة لمحاكاة تدفّق نهر أو جدول،\n",
       "وحساب العوامل المؤثّرة على جودة الماء. يمكن أن يؤدّي الجريان إلى تعرية البيئة المحيطة ممّا يؤدّي إلى تشكيل الوديان أو\n",
       "مناطق جغرافية مميّزة وخصبة مثل الدلتا على سبيل المثال. يحدث الفيضان عندما تهطل كمّيّة كبيرة من الأمطار الغزيرة على \n",
       "أراضي منبسطة، بحيث أنّ معدّل الهطول في فترة زمنية يكون أكبر من معدّل التصريف، ممّا يؤدّي إلى ارتفاع مستوى المياه في\n",
       "الأنهار وغمرها للمناطق المحيطة.\n",
       "</pre>\n"
      ],
      "text/plain": [
       "عند حدوث جريان الماء تتجمّع المياه على شكل مستجمعات، والتي تنجرف إلى الأنهار ومنها تكمل طريقها حسب مصبّها إلى \n",
       "المحيطات أو تتبخّر منها مباشرة. يعرف نموذج النقل الهيدرولوجي بأنّه إجراء عمليّة نمذجة رياضيّة لمحاكاة تدفّق نهر أو جدول،\n",
       "وحساب العوامل المؤثّرة على جودة الماء. يمكن أن يؤدّي الجريان إلى تعرية البيئة المحيطة ممّا يؤدّي إلى تشكيل الوديان أو\n",
       "مناطق جغرافية مميّزة وخصبة مثل الدلتا على سبيل المثال. يحدث الفيضان عندما تهطل كمّيّة كبيرة من الأمطار الغزيرة على \n",
       "أراضي منبسطة، بحيث أنّ معدّل الهطول في فترة زمنية يكون أكبر من معدّل التصريف، ممّا يؤدّي إلى ارتفاع مستوى المياه في\n",
       "الأنهار وغمرها للمناطق المحيطة.\n"
      ]
     },
     "metadata": {},
     "output_type": "display_data"
    },
    {
     "data": {
      "text/html": [
       "<pre style=\"white-space:pre;overflow-x:auto;line-height:normal;font-family:Menlo,'DejaVu Sans Mono',consolas,'Courier New',monospace\">----------------------------------------------------------------------------------------------------\n",
       "</pre>\n"
      ],
      "text/plain": [
       "----------------------------------------------------------------------------------------------------\n"
      ]
     },
     "metadata": {},
     "output_type": "display_data"
    },
    {
     "data": {
      "text/html": [
       "<pre style=\"white-space:pre;overflow-x:auto;line-height:normal;font-family:Menlo,'DejaVu Sans Mono',consolas,'Courier New',monospace\">التأثير على المناخ \n",
       "يقوم الماء بدور محوري في التأثير على مناخ الأرض، وهو أساس كافّة الظواهر المتعلّقة بالطقس وحالة الجوّ، ويعود ذلك إلى\n",
       "خاصّيّة الماء المتميّزة والمتمثّلة بالحركيّة والسعة الحراريّة العالية. يتمّ تخزين طاقة الشمس في مياه المحيطات، حيث يؤدّي\n",
       "ذلك إلى تبخّر المياه، إلّا أنّ نسبة التعرّض للشمس تتفاوت من مكان لآخر حسب المنطقة الجغرافيّة، ممّا يؤدّي إلى تفاوت في درجة\n",
       "حرارة المياه وفي نسبة الملوحة، والذي يسبّب في النهاية بحدوث تيّارات محيطيّة تنقل معها كمّيّات كبيرة من الطاقة <span style=\"font-weight: bold\">(</span>على شكل\n",
       "حرارة<span style=\"font-weight: bold\">)</span>، مثل تيار الخليج وتيار همبولت. إنّ حدوث تيار الخليج الدافئ له تأثير كبير على مناخ أوروبا، إذ لولاه لكان \n",
       "المناخ هناك قطبياً.\n",
       "</pre>\n"
      ],
      "text/plain": [
       "التأثير على المناخ \n",
       "يقوم الماء بدور محوري في التأثير على مناخ الأرض، وهو أساس كافّة الظواهر المتعلّقة بالطقس وحالة الجوّ، ويعود ذلك إلى\n",
       "خاصّيّة الماء المتميّزة والمتمثّلة بالحركيّة والسعة الحراريّة العالية. يتمّ تخزين طاقة الشمس في مياه المحيطات، حيث يؤدّي\n",
       "ذلك إلى تبخّر المياه، إلّا أنّ نسبة التعرّض للشمس تتفاوت من مكان لآخر حسب المنطقة الجغرافيّة، ممّا يؤدّي إلى تفاوت في درجة\n",
       "حرارة المياه وفي نسبة الملوحة، والذي يسبّب في النهاية بحدوث تيّارات محيطيّة تنقل معها كمّيّات كبيرة من الطاقة \u001b[1m(\u001b[0mعلى شكل\n",
       "حرارة\u001b[1m)\u001b[0m، مثل تيار الخليج وتيار همبولت. إنّ حدوث تيار الخليج الدافئ له تأثير كبير على مناخ أوروبا، إذ لولاه لكان \n",
       "المناخ هناك قطبياً.\n"
      ]
     },
     "metadata": {},
     "output_type": "display_data"
    },
    {
     "data": {
      "text/html": [
       "<pre style=\"white-space:pre;overflow-x:auto;line-height:normal;font-family:Menlo,'DejaVu Sans Mono',consolas,'Courier New',monospace\">----------------------------------------------------------------------------------------------------\n",
       "</pre>\n"
      ],
      "text/plain": [
       "----------------------------------------------------------------------------------------------------\n"
      ]
     },
     "metadata": {},
     "output_type": "display_data"
    },
    {
     "data": {
      "text/html": [
       "<pre style=\"white-space:pre;overflow-x:auto;line-height:normal;font-family:Menlo,'DejaVu Sans Mono',consolas,'Courier New',monospace\">عندما تسخن مياه المحيطات يتبخّر الماء، وينتج نوعان من بخار الماء: «الجافّ» غير المتكاثف و«الرطب» المتكاثف على شكل \n",
       "سحاب وضباب، والذي يحوي وينقل الطاقة على شكل حرارة كامنة، والتي لها تأثير كبير على الظواهر الجوّية مثل الرطوبة الجوّيّة\n",
       "والعواصف الرعديّة.\n",
       "</pre>\n"
      ],
      "text/plain": [
       "عندما تسخن مياه المحيطات يتبخّر الماء، وينتج نوعان من بخار الماء: «الجافّ» غير المتكاثف و«الرطب» المتكاثف على شكل \n",
       "سحاب وضباب، والذي يحوي وينقل الطاقة على شكل حرارة كامنة، والتي لها تأثير كبير على الظواهر الجوّية مثل الرطوبة الجوّيّة\n",
       "والعواصف الرعديّة.\n"
      ]
     },
     "metadata": {},
     "output_type": "display_data"
    },
    {
     "data": {
      "text/html": [
       "<pre style=\"white-space:pre;overflow-x:auto;line-height:normal;font-family:Menlo,'DejaVu Sans Mono',consolas,'Courier New',monospace\">----------------------------------------------------------------------------------------------------\n",
       "</pre>\n"
      ],
      "text/plain": [
       "----------------------------------------------------------------------------------------------------\n"
      ]
     },
     "metadata": {},
     "output_type": "display_data"
    },
    {
     "data": {
      "text/html": [
       "<pre style=\"white-space:pre;overflow-x:auto;line-height:normal;font-family:Menlo,'DejaVu Sans Mono',consolas,'Courier New',monospace\">تؤدّي الهطولات المطريّة و/أو الثلجيّة إلى تأمين المحتوى المائي في المناطق الجغرافيّة، وتكون نسبة النتح التبخرّي إلى\n",
       "الهطولات مهمّة في تحديد مناخ المنطقة الجغرافيّة إن كانت قاحلة <span style=\"font-weight: bold\">(</span>سهوب وصحاري<span style=\"font-weight: bold\">)</span> أو رطبة <span style=\"font-weight: bold\">(</span>غابات<span style=\"font-weight: bold\">)</span>، وذلك للتأثير المباشر على\n",
       "الغطاء النباتي.\n",
       "</pre>\n"
      ],
      "text/plain": [
       "تؤدّي الهطولات المطريّة و/أو الثلجيّة إلى تأمين المحتوى المائي في المناطق الجغرافيّة، وتكون نسبة النتح التبخرّي إلى\n",
       "الهطولات مهمّة في تحديد مناخ المنطقة الجغرافيّة إن كانت قاحلة \u001b[1m(\u001b[0mسهوب وصحاري\u001b[1m)\u001b[0m أو رطبة \u001b[1m(\u001b[0mغابات\u001b[1m)\u001b[0m، وذلك للتأثير المباشر على\n",
       "الغطاء النباتي.\n"
      ]
     },
     "metadata": {},
     "output_type": "display_data"
    },
    {
     "data": {
      "text/html": [
       "<pre style=\"white-space:pre;overflow-x:auto;line-height:normal;font-family:Menlo,'DejaVu Sans Mono',consolas,'Courier New',monospace\">----------------------------------------------------------------------------------------------------\n",
       "</pre>\n"
      ],
      "text/plain": [
       "----------------------------------------------------------------------------------------------------\n"
      ]
     },
     "metadata": {},
     "output_type": "display_data"
    },
    {
     "data": {
      "text/html": [
       "<pre style=\"white-space:pre;overflow-x:auto;line-height:normal;font-family:Menlo,'DejaVu Sans Mono',consolas,'Courier New',monospace\">ماء البحر والمد والجزر \n",
       "</pre>\n"
      ],
      "text/plain": [
       "ماء البحر والمد والجزر \n"
      ]
     },
     "metadata": {},
     "output_type": "display_data"
    },
    {
     "data": {
      "text/html": [
       "<pre style=\"white-space:pre;overflow-x:auto;line-height:normal;font-family:Menlo,'DejaVu Sans Mono',consolas,'Courier New',monospace\">----------------------------------------------------------------------------------------------------\n",
       "</pre>\n"
      ],
      "text/plain": [
       "----------------------------------------------------------------------------------------------------\n"
      ]
     },
     "metadata": {},
     "output_type": "display_data"
    },
    {
     "data": {
      "text/html": [
       "<pre style=\"white-space:pre;overflow-x:auto;line-height:normal;font-family:Menlo,'DejaVu Sans Mono',consolas,'Courier New',monospace\">يحوي ماء البحر على نسبة من الأملاح الطبيعيّة <span style=\"font-weight: bold\">(</span>ما متوسطه <span style=\"color: #008080; text-decoration-color: #008080; font-weight: bold\">3.5</span>%، أكثرها وفرةً ملح كلوريد الصوديوم<span style=\"font-weight: bold\">)</span>، بالإضافة إلى كمّيّات\n",
       "أصغر من مواد أخرى. تتراوح نسبة الملوحة في مياه البحار من <span style=\"color: #008080; text-decoration-color: #008080; font-weight: bold\">0.7</span>% في بحر البلطيق إلى <span style=\"color: #008080; text-decoration-color: #008080; font-weight: bold\">4.0</span>% في البحر الأحمر، في حين تصل \n",
       "نسبة الأملاح في البحر الميّت إلى حوالي <span style=\"color: #008080; text-decoration-color: #008080; font-weight: bold\">35</span>%.\n",
       "</pre>\n"
      ],
      "text/plain": [
       "يحوي ماء البحر على نسبة من الأملاح الطبيعيّة \u001b[1m(\u001b[0mما متوسطه \u001b[1;36m3.5\u001b[0m%، أكثرها وفرةً ملح كلوريد الصوديوم\u001b[1m)\u001b[0m، بالإضافة إلى كمّيّات\n",
       "أصغر من مواد أخرى. تتراوح نسبة الملوحة في مياه البحار من \u001b[1;36m0.7\u001b[0m% في بحر البلطيق إلى \u001b[1;36m4.0\u001b[0m% في البحر الأحمر، في حين تصل \n",
       "نسبة الأملاح في البحر الميّت إلى حوالي \u001b[1;36m35\u001b[0m%.\n"
      ]
     },
     "metadata": {},
     "output_type": "display_data"
    },
    {
     "data": {
      "text/html": [
       "<pre style=\"white-space:pre;overflow-x:auto;line-height:normal;font-family:Menlo,'DejaVu Sans Mono',consolas,'Courier New',monospace\">----------------------------------------------------------------------------------------------------\n",
       "</pre>\n"
      ],
      "text/plain": [
       "----------------------------------------------------------------------------------------------------\n"
      ]
     },
     "metadata": {},
     "output_type": "display_data"
    },
    {
     "data": {
      "text/html": [
       "<pre style=\"white-space:pre;overflow-x:auto;line-height:normal;font-family:Menlo,'DejaVu Sans Mono',consolas,'Courier New',monospace\">يسمّى ارتفاع منسوب مياه البحر عند الشاطئ وانحساره باسم ظاهرة المدّ والجزر على الترتيب. ويعود سببها إلى قوّة ناشئة \n",
       "ومتولّدة عن قوّة جاذبيّة القمر والشمس، والتي تؤثّر على مياه المحيطات. يؤدّي حدوث ظاهرة المدّ والجزر إلى تغيّر في عمق\n",
       "المسطّحات المائيّة المجاورة للشواطئ وخاصة عند مصاب الأنهار، ممّا يؤدّي إلى حدوث تيّارات اهتزازيّة تعرف باسم المجاري\n",
       "المدّيّة. إنّ التغيّر في منسوب مياه البحر أثناء المدّ والجزر في مكان جغرافي ما يتعلّق بحركة القمر والشمس ووموقعهما في\n",
       "لحظة معيّنة بالنسبة للأرض، ويترافق ذلك مع تأثير كوريوليس الحاصل من دوران الأرض حول نفسها، بالإضافة إلى العامل \n",
       "المتعلّق بمدى عمق تلك النقطة الجغرافيّة. تسمّى المنطقة الساحليّة التي تغمر تحت تأثير المدّ وينحسر عنها الماء أثناء الجزر\n",
       "باسم البحر الوحلي، وهي منطقة ذات أهمّيّة بيئيّة كبيرة.\n",
       "</pre>\n"
      ],
      "text/plain": [
       "يسمّى ارتفاع منسوب مياه البحر عند الشاطئ وانحساره باسم ظاهرة المدّ والجزر على الترتيب. ويعود سببها إلى قوّة ناشئة \n",
       "ومتولّدة عن قوّة جاذبيّة القمر والشمس، والتي تؤثّر على مياه المحيطات. يؤدّي حدوث ظاهرة المدّ والجزر إلى تغيّر في عمق\n",
       "المسطّحات المائيّة المجاورة للشواطئ وخاصة عند مصاب الأنهار، ممّا يؤدّي إلى حدوث تيّارات اهتزازيّة تعرف باسم المجاري\n",
       "المدّيّة. إنّ التغيّر في منسوب مياه البحر أثناء المدّ والجزر في مكان جغرافي ما يتعلّق بحركة القمر والشمس ووموقعهما في\n",
       "لحظة معيّنة بالنسبة للأرض، ويترافق ذلك مع تأثير كوريوليس الحاصل من دوران الأرض حول نفسها، بالإضافة إلى العامل \n",
       "المتعلّق بمدى عمق تلك النقطة الجغرافيّة. تسمّى المنطقة الساحليّة التي تغمر تحت تأثير المدّ وينحسر عنها الماء أثناء الجزر\n",
       "باسم البحر الوحلي، وهي منطقة ذات أهمّيّة بيئيّة كبيرة.\n"
      ]
     },
     "metadata": {},
     "output_type": "display_data"
    },
    {
     "data": {
      "text/html": [
       "<pre style=\"white-space:pre;overflow-x:auto;line-height:normal;font-family:Menlo,'DejaVu Sans Mono',consolas,'Courier New',monospace\">----------------------------------------------------------------------------------------------------\n",
       "</pre>\n"
      ],
      "text/plain": [
       "----------------------------------------------------------------------------------------------------\n"
      ]
     },
     "metadata": {},
     "output_type": "display_data"
    },
    {
     "data": {
      "text/html": [
       "<pre style=\"white-space:pre;overflow-x:auto;line-height:normal;font-family:Menlo,'DejaVu Sans Mono',consolas,'Courier New',monospace\">الماء وعلوم الأرض \n",
       "يعرف العلم الذي يعنى بدراسة المياه وتوزيعها فوق الأرض وصفاتها وخواصها الطبيعيّة والكيميائيّة وتفاعلها مع البيئة \n",
       "والكائنات الحيّة باسم علم المياه، في حين أنّ علم وصف المياه يختصّ بدراسة التوزيع والحركة على الأرض، أمّا دراسة المياه\n",
       "الجوفيّة من حيث التوزيع والحركة فهو علم الهيدروجيولوجيا. في حال كان التخصّص في دراسة الجليد فيعرف العلم باسم علم \n",
       "الجليد، وفي حال التخصّص بالمياه الداخلية فيعرف العلم باسم علم المسطّحات المائيّة الداخليّة، أمّا دراسة توزّع الماء في\n",
       "المحيطات والخواص المتعلّقة فهو مجال اهتمام علم المحيطات.\n",
       "</pre>\n"
      ],
      "text/plain": [
       "الماء وعلوم الأرض \n",
       "يعرف العلم الذي يعنى بدراسة المياه وتوزيعها فوق الأرض وصفاتها وخواصها الطبيعيّة والكيميائيّة وتفاعلها مع البيئة \n",
       "والكائنات الحيّة باسم علم المياه، في حين أنّ علم وصف المياه يختصّ بدراسة التوزيع والحركة على الأرض، أمّا دراسة المياه\n",
       "الجوفيّة من حيث التوزيع والحركة فهو علم الهيدروجيولوجيا. في حال كان التخصّص في دراسة الجليد فيعرف العلم باسم علم \n",
       "الجليد، وفي حال التخصّص بالمياه الداخلية فيعرف العلم باسم علم المسطّحات المائيّة الداخليّة، أمّا دراسة توزّع الماء في\n",
       "المحيطات والخواص المتعلّقة فهو مجال اهتمام علم المحيطات.\n"
      ]
     },
     "metadata": {},
     "output_type": "display_data"
    },
    {
     "data": {
      "text/html": [
       "<pre style=\"white-space:pre;overflow-x:auto;line-height:normal;font-family:Menlo,'DejaVu Sans Mono',consolas,'Courier New',monospace\">----------------------------------------------------------------------------------------------------\n",
       "</pre>\n"
      ],
      "text/plain": [
       "----------------------------------------------------------------------------------------------------\n"
      ]
     },
     "metadata": {},
     "output_type": "display_data"
    },
    {
     "data": {
      "text/html": [
       "<pre style=\"white-space:pre;overflow-x:auto;line-height:normal;font-family:Menlo,'DejaVu Sans Mono',consolas,'Courier New',monospace\">يدخل الماء في العديد من العمليّات الجيولوجيّة المهمّة، حيث يوجد الماء في العديد من الصخور، ويؤثّر ذلك في تشكيل الصدوع،\n",
       "كما يسهم الماء في حدوث عمليّات التجوية الكيميائيّة والفيزيائيّة. تستطيع مياه الأمطار أن تتخلّل بعض أنواع الصخور المشكّلة\n",
       "للقشرة الأرضيّة بحيث تصل إلى طبقات المياه الجوفية. عندما تكون المياه الجوفيّة الموجودة في أعماق الأرض ضمن طبقات \n",
       "جيولوجيّة ساخنة فإنّ الماء يصعد إلى سطح الأرض على شكل مياه حمئة أو فوّارات حارّة.\n",
       "</pre>\n"
      ],
      "text/plain": [
       "يدخل الماء في العديد من العمليّات الجيولوجيّة المهمّة، حيث يوجد الماء في العديد من الصخور، ويؤثّر ذلك في تشكيل الصدوع،\n",
       "كما يسهم الماء في حدوث عمليّات التجوية الكيميائيّة والفيزيائيّة. تستطيع مياه الأمطار أن تتخلّل بعض أنواع الصخور المشكّلة\n",
       "للقشرة الأرضيّة بحيث تصل إلى طبقات المياه الجوفية. عندما تكون المياه الجوفيّة الموجودة في أعماق الأرض ضمن طبقات \n",
       "جيولوجيّة ساخنة فإنّ الماء يصعد إلى سطح الأرض على شكل مياه حمئة أو فوّارات حارّة.\n"
      ]
     },
     "metadata": {},
     "output_type": "display_data"
    },
    {
     "data": {
      "text/html": [
       "<pre style=\"white-space:pre;overflow-x:auto;line-height:normal;font-family:Menlo,'DejaVu Sans Mono',consolas,'Courier New',monospace\">----------------------------------------------------------------------------------------------------\n",
       "</pre>\n"
      ],
      "text/plain": [
       "----------------------------------------------------------------------------------------------------\n"
      ]
     },
     "metadata": {},
     "output_type": "display_data"
    },
    {
     "data": {
      "text/html": [
       "<pre style=\"white-space:pre;overflow-x:auto;line-height:normal;font-family:Menlo,'DejaVu Sans Mono',consolas,'Courier New',monospace\">الأهمّيّة الحيويّة \n",
       "</pre>\n"
      ],
      "text/plain": [
       "الأهمّيّة الحيويّة \n"
      ]
     },
     "metadata": {},
     "output_type": "display_data"
    },
    {
     "data": {
      "text/html": [
       "<pre style=\"white-space:pre;overflow-x:auto;line-height:normal;font-family:Menlo,'DejaVu Sans Mono',consolas,'Courier New',monospace\">----------------------------------------------------------------------------------------------------\n",
       "</pre>\n"
      ],
      "text/plain": [
       "----------------------------------------------------------------------------------------------------\n"
      ]
     },
     "metadata": {},
     "output_type": "display_data"
    },
    {
     "data": {
      "text/html": [
       "<pre style=\"white-space:pre;overflow-x:auto;line-height:normal;font-family:Menlo,'DejaVu Sans Mono',consolas,'Courier New',monospace\">الماء هو الحياة، ويمكن تفسير تلك المقولة من وجهة حيويّة بناءً على عدة خواص مميّزة يقوم بها الماء، والتي هي أساسيّة \n",
       "لاستمرار الحياة على وجه الأرض. من بين تلك الخواص الحيويّة قيامه بدور مذيب عام، إذ أنّ أغلب المواد الحيويّة تكون مذابة\n",
       "أو معلّقة فيه، ولهذا الأمر أهمّيّة في العمليّات الاستقلابيّة، كما يشكّل الماء وسطاً حيوياً يسمح بقيام تفاعلات عضويّة حيويّة\n",
       "تؤدّي في النهاية إلى تأمين التناسخ الذاتي، ممّا يضمن استمرار التناسل وبقاء الكائنات الحية.\n",
       "</pre>\n"
      ],
      "text/plain": [
       "الماء هو الحياة، ويمكن تفسير تلك المقولة من وجهة حيويّة بناءً على عدة خواص مميّزة يقوم بها الماء، والتي هي أساسيّة \n",
       "لاستمرار الحياة على وجه الأرض. من بين تلك الخواص الحيويّة قيامه بدور مذيب عام، إذ أنّ أغلب المواد الحيويّة تكون مذابة\n",
       "أو معلّقة فيه، ولهذا الأمر أهمّيّة في العمليّات الاستقلابيّة، كما يشكّل الماء وسطاً حيوياً يسمح بقيام تفاعلات عضويّة حيويّة\n",
       "تؤدّي في النهاية إلى تأمين التناسخ الذاتي، ممّا يضمن استمرار التناسل وبقاء الكائنات الحية.\n"
      ]
     },
     "metadata": {},
     "output_type": "display_data"
    },
    {
     "data": {
      "text/html": [
       "<pre style=\"white-space:pre;overflow-x:auto;line-height:normal;font-family:Menlo,'DejaVu Sans Mono',consolas,'Courier New',monospace\">----------------------------------------------------------------------------------------------------\n",
       "</pre>\n"
      ],
      "text/plain": [
       "----------------------------------------------------------------------------------------------------\n"
      ]
     },
     "metadata": {},
     "output_type": "display_data"
    },
    {
     "data": {
      "text/html": [
       "<pre style=\"white-space:pre;overflow-x:auto;line-height:normal;font-family:Menlo,'DejaVu Sans Mono',consolas,'Courier New',monospace\">يعدّ الماء أساسيّاً لحدوث عملية التركيب الضوئي وبالتالي التنفس الخلوي عند الكائنات الحيّة. تقوم خلايا النباتات أثناء\n",
       "عمليّة التركيب الضوئي باستخدام طاقة الشمس لفصم الهيدروجين عن الأكسجين في جزيء الماء، حيث يتحدّ الهيدروجين مع ثنائي \n",
       "أكسيد الكربون CO2 ليشكّل الغلوكوز ويحرّر الأكسجين. بالمقابل تستخدم الكائنات الحيّة الأكسجين لتحرق السكر <span style=\"font-weight: bold\">(</span>الكربوهيدرات\n",
       "بشكل عام<span style=\"font-weight: bold\">)</span> لتحرر الماء وغاز ثنائي أكسيد الكربون من أجل تأمين الطاقة لاستمرار الحياة. للماء أيضاً دور مهمّ في تأمين وسط\n",
       "معتدل أس هيدروجيني ~ <span style=\"color: #008080; text-decoration-color: #008080; font-weight: bold\">7</span>، وبالتالي في عمل الإنزيمات. بالنهاية تحتاج كلّ الكائنات الحيّة إلى كمّيّات من الماء للقيام \n",
       "بعمليّاتها الحيويّة، مثل التخلص من الفضلات على سبيل المثال.\n",
       "</pre>\n"
      ],
      "text/plain": [
       "يعدّ الماء أساسيّاً لحدوث عملية التركيب الضوئي وبالتالي التنفس الخلوي عند الكائنات الحيّة. تقوم خلايا النباتات أثناء\n",
       "عمليّة التركيب الضوئي باستخدام طاقة الشمس لفصم الهيدروجين عن الأكسجين في جزيء الماء، حيث يتحدّ الهيدروجين مع ثنائي \n",
       "أكسيد الكربون CO2 ليشكّل الغلوكوز ويحرّر الأكسجين. بالمقابل تستخدم الكائنات الحيّة الأكسجين لتحرق السكر \u001b[1m(\u001b[0mالكربوهيدرات\n",
       "بشكل عام\u001b[1m)\u001b[0m لتحرر الماء وغاز ثنائي أكسيد الكربون من أجل تأمين الطاقة لاستمرار الحياة. للماء أيضاً دور مهمّ في تأمين وسط\n",
       "معتدل أس هيدروجيني ~ \u001b[1;36m7\u001b[0m، وبالتالي في عمل الإنزيمات. بالنهاية تحتاج كلّ الكائنات الحيّة إلى كمّيّات من الماء للقيام \n",
       "بعمليّاتها الحيويّة، مثل التخلص من الفضلات على سبيل المثال.\n"
      ]
     },
     "metadata": {},
     "output_type": "display_data"
    },
    {
     "data": {
      "text/html": [
       "<pre style=\"white-space:pre;overflow-x:auto;line-height:normal;font-family:Menlo,'DejaVu Sans Mono',consolas,'Courier New',monospace\">----------------------------------------------------------------------------------------------------\n",
       "</pre>\n"
      ],
      "text/plain": [
       "----------------------------------------------------------------------------------------------------\n"
      ]
     },
     "metadata": {},
     "output_type": "display_data"
    },
    {
     "data": {
      "text/html": [
       "<pre style=\"white-space:pre;overflow-x:auto;line-height:normal;font-family:Menlo,'DejaVu Sans Mono',consolas,'Courier New',monospace\">الماء أساس الحياة \n",
       "</pre>\n"
      ],
      "text/plain": [
       "الماء أساس الحياة \n"
      ]
     },
     "metadata": {},
     "output_type": "display_data"
    },
    {
     "data": {
      "text/html": [
       "<pre style=\"white-space:pre;overflow-x:auto;line-height:normal;font-family:Menlo,'DejaVu Sans Mono',consolas,'Courier New',monospace\">----------------------------------------------------------------------------------------------------\n",
       "</pre>\n"
      ],
      "text/plain": [
       "----------------------------------------------------------------------------------------------------\n"
      ]
     },
     "metadata": {},
     "output_type": "display_data"
    },
    {
     "data": {
      "text/html": [
       "<pre style=\"white-space:pre;overflow-x:auto;line-height:normal;font-family:Menlo,'DejaVu Sans Mono',consolas,'Courier New',monospace\">بدأت أول أشكال الحياة في الماء ومنها تطوّرت إلى أشكال الحياة المعروفة الآن. من الأمثلة المعروفة على أشكال الحياة \n",
       "البدائيّة وجود نوع من بكتيريا مختزلة للكبريت وهي بدائيّة النواة وذاتيّة التغذية وتنتج الطاقة من حدوث تفاعل \n",
       "أكسدة-اختزال بين كبريتيد الهيدروجين وثنائي أكسيد الكربون بوجود أشعة الشمس ممّا أسهم في الحصول على منتجات للكربون \n",
       "بالإضافة إلى الماء.\n",
       "</pre>\n"
      ],
      "text/plain": [
       "بدأت أول أشكال الحياة في الماء ومنها تطوّرت إلى أشكال الحياة المعروفة الآن. من الأمثلة المعروفة على أشكال الحياة \n",
       "البدائيّة وجود نوع من بكتيريا مختزلة للكبريت وهي بدائيّة النواة وذاتيّة التغذية وتنتج الطاقة من حدوث تفاعل \n",
       "أكسدة-اختزال بين كبريتيد الهيدروجين وثنائي أكسيد الكربون بوجود أشعة الشمس ممّا أسهم في الحصول على منتجات للكربون \n",
       "بالإضافة إلى الماء.\n"
      ]
     },
     "metadata": {},
     "output_type": "display_data"
    },
    {
     "data": {
      "text/html": [
       "<pre style=\"white-space:pre;overflow-x:auto;line-height:normal;font-family:Menlo,'DejaVu Sans Mono',consolas,'Courier New',monospace\">----------------------------------------------------------------------------------------------------\n",
       "</pre>\n"
      ],
      "text/plain": [
       "----------------------------------------------------------------------------------------------------\n"
      ]
     },
     "metadata": {},
     "output_type": "display_data"
    },
    {
     "data": {
      "text/html": [
       "<pre style=\"white-space:pre;overflow-x:auto;line-height:normal;font-family:Menlo,'DejaVu Sans Mono',consolas,'Courier New',monospace\"> \n",
       "</pre>\n"
      ],
      "text/plain": [
       " \n"
      ]
     },
     "metadata": {},
     "output_type": "display_data"
    },
    {
     "data": {
      "text/html": [
       "<pre style=\"white-space:pre;overflow-x:auto;line-height:normal;font-family:Menlo,'DejaVu Sans Mono',consolas,'Courier New',monospace\">----------------------------------------------------------------------------------------------------\n",
       "</pre>\n"
      ],
      "text/plain": [
       "----------------------------------------------------------------------------------------------------\n"
      ]
     },
     "metadata": {},
     "output_type": "display_data"
    },
    {
     "data": {
      "text/html": [
       "<pre style=\"white-space:pre;overflow-x:auto;line-height:normal;font-family:Menlo,'DejaVu Sans Mono',consolas,'Courier New',monospace\">تلا ذلك وجود البكتريا الزرقاء وجميع أنواع حقيقيّات النوى ذاتيّة التغذية التي استخدمت الماء وثنائي أكسيد الكربون في \n",
       "تفاعل إنتاج الطاقة بوجود الضوء للحصول على الأكسجين والسكّر:\n",
       "</pre>\n"
      ],
      "text/plain": [
       "تلا ذلك وجود البكتريا الزرقاء وجميع أنواع حقيقيّات النوى ذاتيّة التغذية التي استخدمت الماء وثنائي أكسيد الكربون في \n",
       "تفاعل إنتاج الطاقة بوجود الضوء للحصول على الأكسجين والسكّر:\n"
      ]
     },
     "metadata": {},
     "output_type": "display_data"
    },
    {
     "data": {
      "text/html": [
       "<pre style=\"white-space:pre;overflow-x:auto;line-height:normal;font-family:Menlo,'DejaVu Sans Mono',consolas,'Courier New',monospace\">----------------------------------------------------------------------------------------------------\n",
       "</pre>\n"
      ],
      "text/plain": [
       "----------------------------------------------------------------------------------------------------\n"
      ]
     },
     "metadata": {},
     "output_type": "display_data"
    },
    {
     "data": {
      "text/html": [
       "<pre style=\"white-space:pre;overflow-x:auto;line-height:normal;font-family:Menlo,'DejaVu Sans Mono',consolas,'Courier New',monospace\"> \n",
       "</pre>\n"
      ],
      "text/plain": [
       " \n"
      ]
     },
     "metadata": {},
     "output_type": "display_data"
    },
    {
     "data": {
      "text/html": [
       "<pre style=\"white-space:pre;overflow-x:auto;line-height:normal;font-family:Menlo,'DejaVu Sans Mono',consolas,'Courier New',monospace\">----------------------------------------------------------------------------------------------------\n",
       "</pre>\n"
      ],
      "text/plain": [
       "----------------------------------------------------------------------------------------------------\n"
      ]
     },
     "metadata": {},
     "output_type": "display_data"
    },
    {
     "data": {
      "text/html": [
       "<pre style=\"white-space:pre;overflow-x:auto;line-height:normal;font-family:Menlo,'DejaVu Sans Mono',consolas,'Courier New',monospace\">من خلال هذه العمليّة ارتفع منسوب غاز الأكسجين في الماء وفي الغلاف الجوّي، وبذلك أصبح من الممكن الحصول على الطاقة عن\n",
       "طريق التنفّس الخلوي.\n",
       "</pre>\n"
      ],
      "text/plain": [
       "من خلال هذه العمليّة ارتفع منسوب غاز الأكسجين في الماء وفي الغلاف الجوّي، وبذلك أصبح من الممكن الحصول على الطاقة عن\n",
       "طريق التنفّس الخلوي.\n"
      ]
     },
     "metadata": {},
     "output_type": "display_data"
    },
    {
     "data": {
      "text/html": [
       "<pre style=\"white-space:pre;overflow-x:auto;line-height:normal;font-family:Menlo,'DejaVu Sans Mono',consolas,'Courier New',monospace\">----------------------------------------------------------------------------------------------------\n",
       "</pre>\n"
      ],
      "text/plain": [
       "----------------------------------------------------------------------------------------------------\n"
      ]
     },
     "metadata": {},
     "output_type": "display_data"
    },
    {
     "data": {
      "text/html": [
       "<pre style=\"white-space:pre;overflow-x:auto;line-height:normal;font-family:Menlo,'DejaVu Sans Mono',consolas,'Courier New',monospace\"> \n",
       "</pre>\n"
      ],
      "text/plain": [
       " \n"
      ]
     },
     "metadata": {},
     "output_type": "display_data"
    },
    {
     "data": {
      "text/html": [
       "<pre style=\"white-space:pre;overflow-x:auto;line-height:normal;font-family:Menlo,'DejaVu Sans Mono',consolas,'Courier New',monospace\">----------------------------------------------------------------------------------------------------\n",
       "</pre>\n"
      ],
      "text/plain": [
       "----------------------------------------------------------------------------------------------------\n"
      ]
     },
     "metadata": {},
     "output_type": "display_data"
    },
    {
     "data": {
      "text/html": [
       "<pre style=\"white-space:pre;overflow-x:auto;line-height:normal;font-family:Menlo,'DejaVu Sans Mono',consolas,'Courier New',monospace\">على هذا الأساس أصبح الماء هو الوسط الرئيسي في جميع الكائنات الحيّة من أجل تمام عمليات الاستقلاب الكيميائيّة الحيويّة\n",
       "للحصول على الطاقة وتخزينها. ويتمثّل ذلك في العمليّات الحيويّة التالية: التركيب الضوئي وتحلّل السكّر وتحلّل الدهن ودورة\n",
       "حمض الستريك ودورة اليوريا. يعود الفضل في ذلك إلى كون الماء من المذيبات القطبيّة ممّا يسهم في إذابة الإلكتروليتات \n",
       "والمركّبّات القطبيّة، ومن جهة أخرى تسهم لزوجة وكثافة الماء الملائمة في كونه وسطاً ناقلاً للمركّبات اللاقطبيّة غير القابلة\n",
       "للذوبان في الماء، مثل المغذّيّات والدهون ونتائج التقويض والهدم الاستقلابي والهرمونات. بالتالي فالماء هو أساس الأوساط\n",
       "الناقلة مثل الدم والبلازما واللمف عند الثديّيات والنسيج الوعائي الخشبي عند النباتات.\n",
       "</pre>\n"
      ],
      "text/plain": [
       "على هذا الأساس أصبح الماء هو الوسط الرئيسي في جميع الكائنات الحيّة من أجل تمام عمليات الاستقلاب الكيميائيّة الحيويّة\n",
       "للحصول على الطاقة وتخزينها. ويتمثّل ذلك في العمليّات الحيويّة التالية: التركيب الضوئي وتحلّل السكّر وتحلّل الدهن ودورة\n",
       "حمض الستريك ودورة اليوريا. يعود الفضل في ذلك إلى كون الماء من المذيبات القطبيّة ممّا يسهم في إذابة الإلكتروليتات \n",
       "والمركّبّات القطبيّة، ومن جهة أخرى تسهم لزوجة وكثافة الماء الملائمة في كونه وسطاً ناقلاً للمركّبات اللاقطبيّة غير القابلة\n",
       "للذوبان في الماء، مثل المغذّيّات والدهون ونتائج التقويض والهدم الاستقلابي والهرمونات. بالتالي فالماء هو أساس الأوساط\n",
       "الناقلة مثل الدم والبلازما واللمف عند الثديّيات والنسيج الوعائي الخشبي عند النباتات.\n"
      ]
     },
     "metadata": {},
     "output_type": "display_data"
    },
    {
     "data": {
      "text/html": [
       "<pre style=\"white-space:pre;overflow-x:auto;line-height:normal;font-family:Menlo,'DejaVu Sans Mono',consolas,'Courier New',monospace\">----------------------------------------------------------------------------------------------------\n",
       "</pre>\n"
      ],
      "text/plain": [
       "----------------------------------------------------------------------------------------------------\n"
      ]
     },
     "metadata": {},
     "output_type": "display_data"
    },
    {
     "data": {
      "text/html": [
       "<pre style=\"white-space:pre;overflow-x:auto;line-height:normal;font-family:Menlo,'DejaVu Sans Mono',consolas,'Courier New',monospace\">يقوم الماء بالإضافة إلى ذلك في ضبط حرارة جسم الكائنات الحيّة وذلك على شكل إدماع <span style=\"font-weight: bold\">(</span>تعرّق النبات<span style=\"font-weight: bold\">)</span> أو على شكل عَرَق عند\n",
       "البشر والحيوانات. من جهة أخرى تستخدم النباتات وبعض الحيوانات اللافقارية ظاهرة ضغط الامتلاء <span style=\"font-weight: bold\">(</span>أو ضغط الانتباج<span style=\"font-weight: bold\">)</span> \n",
       "بالاعتماد على امتلاء محتوى الخليّة بالماء للقيام بتحريك بسيط للأعضاء. تلاحظ هذه الظاهرة لدى بعض النباتات عند تحريك \n",
       "الأوراق، كما تلاحظ أيضاً عند شوكيات الجلد مثل قنفذ البحر ونجم البحر وخيار البحر.\n",
       "</pre>\n"
      ],
      "text/plain": [
       "يقوم الماء بالإضافة إلى ذلك في ضبط حرارة جسم الكائنات الحيّة وذلك على شكل إدماع \u001b[1m(\u001b[0mتعرّق النبات\u001b[1m)\u001b[0m أو على شكل عَرَق عند\n",
       "البشر والحيوانات. من جهة أخرى تستخدم النباتات وبعض الحيوانات اللافقارية ظاهرة ضغط الامتلاء \u001b[1m(\u001b[0mأو ضغط الانتباج\u001b[1m)\u001b[0m \n",
       "بالاعتماد على امتلاء محتوى الخليّة بالماء للقيام بتحريك بسيط للأعضاء. تلاحظ هذه الظاهرة لدى بعض النباتات عند تحريك \n",
       "الأوراق، كما تلاحظ أيضاً عند شوكيات الجلد مثل قنفذ البحر ونجم البحر وخيار البحر.\n"
      ]
     },
     "metadata": {},
     "output_type": "display_data"
    },
    {
     "data": {
      "text/html": [
       "<pre style=\"white-space:pre;overflow-x:auto;line-height:normal;font-family:Menlo,'DejaVu Sans Mono',consolas,'Courier New',monospace\">----------------------------------------------------------------------------------------------------\n",
       "</pre>\n"
      ],
      "text/plain": [
       "----------------------------------------------------------------------------------------------------\n"
      ]
     },
     "metadata": {},
     "output_type": "display_data"
    },
    {
     "data": {
      "text/html": [
       "<pre style=\"white-space:pre;overflow-x:auto;line-height:normal;font-family:Menlo,'DejaVu Sans Mono',consolas,'Courier New',monospace\">الحياة المائيّة \n",
       "</pre>\n"
      ],
      "text/plain": [
       "الحياة المائيّة \n"
      ]
     },
     "metadata": {},
     "output_type": "display_data"
    },
    {
     "data": {
      "text/html": [
       "<pre style=\"white-space:pre;overflow-x:auto;line-height:normal;font-family:Menlo,'DejaVu Sans Mono',consolas,'Courier New',monospace\">----------------------------------------------------------------------------------------------------\n",
       "</pre>\n"
      ],
      "text/plain": [
       "----------------------------------------------------------------------------------------------------\n"
      ]
     },
     "metadata": {},
     "output_type": "display_data"
    },
    {
     "data": {
      "text/html": [
       "<pre style=\"white-space:pre;overflow-x:auto;line-height:normal;font-family:Menlo,'DejaVu Sans Mono',consolas,'Courier New',monospace\">تزخر مياه الأرض السطحيّة بعدّة أشكال من التنوّع الحيوي فيها، وتتناقص كلما ازداد العمق. تعتمد الحياة المائيّة في البحار\n",
       "والمحيطات في وجودها على الماء كعامل أساسي للكتلة الحيويّة، ويكون العامل المحدّد للإنتاجيّة هو كمّيّة ومقدار المغذّيّات\n",
       "النباتيّة المذابة مثل الفوسفات ومركّبات النتروجين مثل الأمونيوم والنترات بالإضافة إلى ثنائي أكسيد الكربون CO2.\n",
       "</pre>\n"
      ],
      "text/plain": [
       "تزخر مياه الأرض السطحيّة بعدّة أشكال من التنوّع الحيوي فيها، وتتناقص كلما ازداد العمق. تعتمد الحياة المائيّة في البحار\n",
       "والمحيطات في وجودها على الماء كعامل أساسي للكتلة الحيويّة، ويكون العامل المحدّد للإنتاجيّة هو كمّيّة ومقدار المغذّيّات\n",
       "النباتيّة المذابة مثل الفوسفات ومركّبات النتروجين مثل الأمونيوم والنترات بالإضافة إلى ثنائي أكسيد الكربون CO2.\n"
      ]
     },
     "metadata": {},
     "output_type": "display_data"
    },
    {
     "data": {
      "text/html": [
       "<pre style=\"white-space:pre;overflow-x:auto;line-height:normal;font-family:Menlo,'DejaVu Sans Mono',consolas,'Courier New',monospace\">----------------------------------------------------------------------------------------------------\n",
       "</pre>\n"
      ],
      "text/plain": [
       "----------------------------------------------------------------------------------------------------\n"
      ]
     },
     "metadata": {},
     "output_type": "display_data"
    },
    {
     "data": {
      "text/html": [
       "<pre style=\"white-space:pre;overflow-x:auto;line-height:normal;font-family:Menlo,'DejaVu Sans Mono',consolas,'Courier New',monospace\">تنمو بعض النباتات في الماء مثل الطحالب وتعدّ أساساً للعديد من النظم البيئيّة تحت سطح الماء؛ كما تعيش العوالق \n",
       "<span style=\"font-weight: bold\">(</span>البلانكتون<span style=\"font-weight: bold\">)</span> أيضاً تحت سطح الماء، وهي متعضّيّات صغيرة جداً، وهي ذات أهمّيّة بالغة، إذ تعدّ الأساس في وجود السلسلة الغذائيّة\n",
       "في المحيطات. إنّ أوّل ظهور للشكل البدائي للحياة كان في الماء؛ مع وجود أصناف عديدة من الأسماك والعديد من اللافقاريات\n",
       "التي تعيش في الماء فقط بالإضافة إلى وجود البرمائيّات والتي تقضي حياتها بين اليابسة والمياه. يستمر التدرّج في كبر وحجم\n",
       "الأنواع حتى الوصول إلى الثديّيات البحريّة.\n",
       "</pre>\n"
      ],
      "text/plain": [
       "تنمو بعض النباتات في الماء مثل الطحالب وتعدّ أساساً للعديد من النظم البيئيّة تحت سطح الماء؛ كما تعيش العوالق \n",
       "\u001b[1m(\u001b[0mالبلانكتون\u001b[1m)\u001b[0m أيضاً تحت سطح الماء، وهي متعضّيّات صغيرة جداً، وهي ذات أهمّيّة بالغة، إذ تعدّ الأساس في وجود السلسلة الغذائيّة\n",
       "في المحيطات. إنّ أوّل ظهور للشكل البدائي للحياة كان في الماء؛ مع وجود أصناف عديدة من الأسماك والعديد من اللافقاريات\n",
       "التي تعيش في الماء فقط بالإضافة إلى وجود البرمائيّات والتي تقضي حياتها بين اليابسة والمياه. يستمر التدرّج في كبر وحجم\n",
       "الأنواع حتى الوصول إلى الثديّيات البحريّة.\n"
      ]
     },
     "metadata": {},
     "output_type": "display_data"
    },
    {
     "data": {
      "text/html": [
       "<pre style=\"white-space:pre;overflow-x:auto;line-height:normal;font-family:Menlo,'DejaVu Sans Mono',consolas,'Courier New',monospace\">----------------------------------------------------------------------------------------------------\n",
       "</pre>\n"
      ],
      "text/plain": [
       "----------------------------------------------------------------------------------------------------\n"
      ]
     },
     "metadata": {},
     "output_type": "display_data"
    },
    {
     "data": {
      "text/html": [
       "<pre style=\"white-space:pre;overflow-x:auto;line-height:normal;font-family:Menlo,'DejaVu Sans Mono',consolas,'Courier New',monospace\">تحتاج الفقاريّات المائيّة إلى الأكسجين لحياتها، وهي تفعل ذلك بطرق مختلفة. للأسماك مثلاً خياشيم بدلاً من الرئتين والتي\n",
       "تتمكّن من خلالها أن تعيش تحت الماء، رغم أنّه يتوفّر لدى بعض الأسماك مثل الأسماك الرئويّة كلا نظامي التنفّس. أمّا الثديّيات\n",
       "البحريّة مثل الدلفين والحوت وثعالب الماء وزعنفيّات الأقدام فهي تحتاج للصعود إلى السطح بشكل دوري لتنفّس الهواء. تقوم\n",
       "بعض البرمائيّات بالتنفّس عن طريق امتصاص الأكسجين من خلال جلدها. تمتلك اللافقاريّات العديد من التحويرات كي تبقى على قيد\n",
       "الحياة في بيئات ذات مياه فقيرة بالأكسجين وذلك باستخدام أنابيب تنفّس مثلاً.\n",
       "</pre>\n"
      ],
      "text/plain": [
       "تحتاج الفقاريّات المائيّة إلى الأكسجين لحياتها، وهي تفعل ذلك بطرق مختلفة. للأسماك مثلاً خياشيم بدلاً من الرئتين والتي\n",
       "تتمكّن من خلالها أن تعيش تحت الماء، رغم أنّه يتوفّر لدى بعض الأسماك مثل الأسماك الرئويّة كلا نظامي التنفّس. أمّا الثديّيات\n",
       "البحريّة مثل الدلفين والحوت وثعالب الماء وزعنفيّات الأقدام فهي تحتاج للصعود إلى السطح بشكل دوري لتنفّس الهواء. تقوم\n",
       "بعض البرمائيّات بالتنفّس عن طريق امتصاص الأكسجين من خلال جلدها. تمتلك اللافقاريّات العديد من التحويرات كي تبقى على قيد\n",
       "الحياة في بيئات ذات مياه فقيرة بالأكسجين وذلك باستخدام أنابيب تنفّس مثلاً.\n"
      ]
     },
     "metadata": {},
     "output_type": "display_data"
    },
    {
     "data": {
      "text/html": [
       "<pre style=\"white-space:pre;overflow-x:auto;line-height:normal;font-family:Menlo,'DejaVu Sans Mono',consolas,'Courier New',monospace\">----------------------------------------------------------------------------------------------------\n",
       "</pre>\n"
      ],
      "text/plain": [
       "----------------------------------------------------------------------------------------------------\n"
      ]
     },
     "metadata": {},
     "output_type": "display_data"
    },
    {
     "data": {
      "text/html": [
       "<pre style=\"white-space:pre;overflow-x:auto;line-height:normal;font-family:Menlo,'DejaVu Sans Mono',consolas,'Courier New',monospace\">يؤدّي تعلّق كثافة الماء بدرجة الحرارة إلى حدوث ظاهرة التطبُّق وإلى حدوث تيّارات مائيّة داخل كتلة الماء الموجودة في المسطّح\n",
       "المائي، والتي تعد ذات أهمّيّة كبيرة للموائل والأمكنة الحيوية في المياه العذبة وفي مياه المحيطات المالحة على حد سواء.\n",
       "إن شذوذ الكثافة لدى الماء يمكّن الكائنات البحريّة من البقاء على قيد الحياة في فصل الشتاء، إذ أنّ البيئات المائيّة بذلك\n",
       "لن تهبط عند التجمّد إلى القاع إنّما ستطفو على السطح.\n",
       "</pre>\n"
      ],
      "text/plain": [
       "يؤدّي تعلّق كثافة الماء بدرجة الحرارة إلى حدوث ظاهرة التطبُّق وإلى حدوث تيّارات مائيّة داخل كتلة الماء الموجودة في المسطّح\n",
       "المائي، والتي تعد ذات أهمّيّة كبيرة للموائل والأمكنة الحيوية في المياه العذبة وفي مياه المحيطات المالحة على حد سواء.\n",
       "إن شذوذ الكثافة لدى الماء يمكّن الكائنات البحريّة من البقاء على قيد الحياة في فصل الشتاء، إذ أنّ البيئات المائيّة بذلك\n",
       "لن تهبط عند التجمّد إلى القاع إنّما ستطفو على السطح.\n"
      ]
     },
     "metadata": {},
     "output_type": "display_data"
    },
    {
     "data": {
      "text/html": [
       "<pre style=\"white-space:pre;overflow-x:auto;line-height:normal;font-family:Menlo,'DejaVu Sans Mono',consolas,'Courier New',monospace\">----------------------------------------------------------------------------------------------------\n",
       "</pre>\n"
      ],
      "text/plain": [
       "----------------------------------------------------------------------------------------------------\n"
      ]
     },
     "metadata": {},
     "output_type": "display_data"
    },
    {
     "data": {
      "text/html": [
       "<pre style=\"white-space:pre;overflow-x:auto;line-height:normal;font-family:Menlo,'DejaVu Sans Mono',consolas,'Courier New',monospace\">الحياة البريّة \n",
       "يعدّ الماء أساسيّاً وعاملاً محدّداً للإنتاجية في النظم البيئيّة على الأرض، إذ أنّه ضروري الوجود من أجل عمليّة الاستقلاب عند\n",
       "الأحياء <span style=\"font-weight: bold\">(</span>الغلاف الحيوي<span style=\"font-weight: bold\">)</span>، كما له دور أساسي في تشكيل وتطبيع أماكن تواجدها، إن كان في غلاف الأرض الترابي أو الجوّي. \n",
       "تقوم الهطولات المطريّة و/أو الثلجيّة بتغذية المسطّحات المائيّة والمياه الجوفيّة كمصدر حيوي من أجل نمو النباتات ولتأمين\n",
       "مياه شرب للحيوانات.\n",
       "</pre>\n"
      ],
      "text/plain": [
       "الحياة البريّة \n",
       "يعدّ الماء أساسيّاً وعاملاً محدّداً للإنتاجية في النظم البيئيّة على الأرض، إذ أنّه ضروري الوجود من أجل عمليّة الاستقلاب عند\n",
       "الأحياء \u001b[1m(\u001b[0mالغلاف الحيوي\u001b[1m)\u001b[0m، كما له دور أساسي في تشكيل وتطبيع أماكن تواجدها، إن كان في غلاف الأرض الترابي أو الجوّي. \n",
       "تقوم الهطولات المطريّة و/أو الثلجيّة بتغذية المسطّحات المائيّة والمياه الجوفيّة كمصدر حيوي من أجل نمو النباتات ولتأمين\n",
       "مياه شرب للحيوانات.\n"
      ]
     },
     "metadata": {},
     "output_type": "display_data"
    },
    {
     "data": {
      "text/html": [
       "<pre style=\"white-space:pre;overflow-x:auto;line-height:normal;font-family:Menlo,'DejaVu Sans Mono',consolas,'Courier New',monospace\">----------------------------------------------------------------------------------------------------\n",
       "</pre>\n"
      ],
      "text/plain": [
       "----------------------------------------------------------------------------------------------------\n"
      ]
     },
     "metadata": {},
     "output_type": "display_data"
    },
    {
     "data": {
      "text/html": [
       "<pre style=\"white-space:pre;overflow-x:auto;line-height:normal;font-family:Menlo,'DejaVu Sans Mono',consolas,'Courier New',monospace\">يتم الاستفادة من خواص الماء من قبل العديد من الكائنات الحيّة، فعلى سبيل المثال تستغل الحشرات والعنكبيّات خاصّيّة التوتّر\n",
       "السطحي للماء في حياتها اليوميّة بشكل كبير.\n",
       "</pre>\n"
      ],
      "text/plain": [
       "يتم الاستفادة من خواص الماء من قبل العديد من الكائنات الحيّة، فعلى سبيل المثال تستغل الحشرات والعنكبيّات خاصّيّة التوتّر\n",
       "السطحي للماء في حياتها اليوميّة بشكل كبير.\n"
      ]
     },
     "metadata": {},
     "output_type": "display_data"
    },
    {
     "data": {
      "text/html": [
       "<pre style=\"white-space:pre;overflow-x:auto;line-height:normal;font-family:Menlo,'DejaVu Sans Mono',consolas,'Courier New',monospace\">----------------------------------------------------------------------------------------------------\n",
       "</pre>\n"
      ],
      "text/plain": [
       "----------------------------------------------------------------------------------------------------\n"
      ]
     },
     "metadata": {},
     "output_type": "display_data"
    },
    {
     "data": {
      "text/html": [
       "<pre style=\"white-space:pre;overflow-x:auto;line-height:normal;font-family:Menlo,'DejaVu Sans Mono',consolas,'Courier New',monospace\">الإنسان \n",
       "</pre>\n"
      ],
      "text/plain": [
       "الإنسان \n"
      ]
     },
     "metadata": {},
     "output_type": "display_data"
    },
    {
     "data": {
      "text/html": [
       "<pre style=\"white-space:pre;overflow-x:auto;line-height:normal;font-family:Menlo,'DejaVu Sans Mono',consolas,'Courier New',monospace\">----------------------------------------------------------------------------------------------------\n",
       "</pre>\n"
      ],
      "text/plain": [
       "----------------------------------------------------------------------------------------------------\n"
      ]
     },
     "metadata": {},
     "output_type": "display_data"
    },
    {
     "data": {
      "text/html": [
       "<pre style=\"white-space:pre;overflow-x:auto;line-height:normal;font-family:Menlo,'DejaVu Sans Mono',consolas,'Courier New',monospace\">إنّ حوالي ثلثي جسم الإنسان وزناً هو ماء، ممّا يبرز الأهمّيّة الحيويّة له بالنسبة لبقاء البشريّة. تتراوح نسبة الماء في\n",
       "الجسم بين <span style=\"color: #008080; text-decoration-color: #008080; font-weight: bold\">55</span>% إلى <span style=\"color: #008080; text-decoration-color: #008080; font-weight: bold\">78</span>% وذلك حسب الحجم. عندما تنقص كمّيّة الماء في الجسم يشعر الإنسان بالعطش؛ إذ لا يستطيع الإنسان أن\n",
       "يعيش دون شرب ماء لفترة طويلة. يؤدّي نقصان كمّيّة الماء في الجسم إلى آثار صحّيّة سلبيّة كبيرة، مثل حدوث التجفاف، ممّا يؤدّي\n",
       "إلى تعطّل بعض وظائف الجسم التي تحتاج الماء كي تعمل بانتظام. يؤدّي عدم شرب كمّيّات كافية من الماء إلى حدوث شعور بالدوار\n",
       "والغثيان، واضطرابات في التروية الدموية، بالإضافة إلى تشنّجات عضليّة.\n",
       "</pre>\n"
      ],
      "text/plain": [
       "إنّ حوالي ثلثي جسم الإنسان وزناً هو ماء، ممّا يبرز الأهمّيّة الحيويّة له بالنسبة لبقاء البشريّة. تتراوح نسبة الماء في\n",
       "الجسم بين \u001b[1;36m55\u001b[0m% إلى \u001b[1;36m78\u001b[0m% وذلك حسب الحجم. عندما تنقص كمّيّة الماء في الجسم يشعر الإنسان بالعطش؛ إذ لا يستطيع الإنسان أن\n",
       "يعيش دون شرب ماء لفترة طويلة. يؤدّي نقصان كمّيّة الماء في الجسم إلى آثار صحّيّة سلبيّة كبيرة، مثل حدوث التجفاف، ممّا يؤدّي\n",
       "إلى تعطّل بعض وظائف الجسم التي تحتاج الماء كي تعمل بانتظام. يؤدّي عدم شرب كمّيّات كافية من الماء إلى حدوث شعور بالدوار\n",
       "والغثيان، واضطرابات في التروية الدموية، بالإضافة إلى تشنّجات عضليّة.\n"
      ]
     },
     "metadata": {},
     "output_type": "display_data"
    },
    {
     "data": {
      "text/html": [
       "<pre style=\"white-space:pre;overflow-x:auto;line-height:normal;font-family:Menlo,'DejaVu Sans Mono',consolas,'Courier New',monospace\">----------------------------------------------------------------------------------------------------\n",
       "</pre>\n"
      ],
      "text/plain": [
       "----------------------------------------------------------------------------------------------------\n"
      ]
     },
     "metadata": {},
     "output_type": "display_data"
    },
    {
     "data": {
      "text/html": [
       "<pre style=\"white-space:pre;overflow-x:auto;line-height:normal;font-family:Menlo,'DejaVu Sans Mono',consolas,'Courier New',monospace\">تتفاوت التقديرات حول الكمّيّة الموصى بها لشرب الماء يوميّاً، ولكن لا ينبغي أن تقل عن <span style=\"color: #008080; text-decoration-color: #008080; font-weight: bold\">1.5</span> ليتر من الماء يوميّاً، وهي كمّيّة\n",
       "تقديريّة وسطيّة لتجنّب حدوث الجفاف <span style=\"font-weight: bold\">(</span><span style=\"color: #008080; text-decoration-color: #008080; font-weight: bold\">6</span>-<span style=\"color: #008080; text-decoration-color: #008080; font-weight: bold\">7</span> كاسات من الماء يوميّاً<span style=\"font-weight: bold\">)</span>. وللآن لا توجد أدلّة علميّة كافية تلزم الإنسان بشرب كمّيّة\n",
       "محدّدة من الماء يوميّاً، مثل القول أنه ينبغي شرب <span style=\"color: #008080; text-decoration-color: #008080; font-weight: bold\">8</span> كاسات من الماء كلّ يوم. من جهة أخرى، هناك عدد من الدراسات التي ربطت\n",
       "بين الاستهلاك المرتفع لماء الشرب مع حدوث اضطرابات ومشاكل في الوزن. ربّما تزداد الكمّيّة الموصى بها حسب المناخ، ففي \n",
       "البلدان ذات المناخ الحارّ يرتفع الطلب اليومي على شرب الماء، كما تزداد حاجة الجسم إلى الماء عند مزاولة جهد عضلي مثل \n",
       "الرياضة. بالمقابل، يؤدّي شرب كمّيّات فائضة من الماء عن الحاجة بشكل مبالغ يزيد عن <span style=\"color: #008080; text-decoration-color: #008080; font-weight: bold\">20</span> ليتر في اليوم إلى حدوث تسمّم بالماء\n",
       "وذلك بسبب حدوث اختلال توازن الكهرليتات ونقصان كمّيّة الأملاح في الجسم، وخاصّة نقص صوديوم الدم، ممّا يؤدّي إلى حدوث حالة\n",
       "تلف دائم في الخلايا العصبيّة تنتهي بالوفاة.\n",
       "</pre>\n"
      ],
      "text/plain": [
       "تتفاوت التقديرات حول الكمّيّة الموصى بها لشرب الماء يوميّاً، ولكن لا ينبغي أن تقل عن \u001b[1;36m1.5\u001b[0m ليتر من الماء يوميّاً، وهي كمّيّة\n",
       "تقديريّة وسطيّة لتجنّب حدوث الجفاف \u001b[1m(\u001b[0m\u001b[1;36m6\u001b[0m-\u001b[1;36m7\u001b[0m كاسات من الماء يوميّاً\u001b[1m)\u001b[0m. وللآن لا توجد أدلّة علميّة كافية تلزم الإنسان بشرب كمّيّة\n",
       "محدّدة من الماء يوميّاً، مثل القول أنه ينبغي شرب \u001b[1;36m8\u001b[0m كاسات من الماء كلّ يوم. من جهة أخرى، هناك عدد من الدراسات التي ربطت\n",
       "بين الاستهلاك المرتفع لماء الشرب مع حدوث اضطرابات ومشاكل في الوزن. ربّما تزداد الكمّيّة الموصى بها حسب المناخ، ففي \n",
       "البلدان ذات المناخ الحارّ يرتفع الطلب اليومي على شرب الماء، كما تزداد حاجة الجسم إلى الماء عند مزاولة جهد عضلي مثل \n",
       "الرياضة. بالمقابل، يؤدّي شرب كمّيّات فائضة من الماء عن الحاجة بشكل مبالغ يزيد عن \u001b[1;36m20\u001b[0m ليتر في اليوم إلى حدوث تسمّم بالماء\n",
       "وذلك بسبب حدوث اختلال توازن الكهرليتات ونقصان كمّيّة الأملاح في الجسم، وخاصّة نقص صوديوم الدم، ممّا يؤدّي إلى حدوث حالة\n",
       "تلف دائم في الخلايا العصبيّة تنتهي بالوفاة.\n"
      ]
     },
     "metadata": {},
     "output_type": "display_data"
    },
    {
     "data": {
      "text/html": [
       "<pre style=\"white-space:pre;overflow-x:auto;line-height:normal;font-family:Menlo,'DejaVu Sans Mono',consolas,'Courier New',monospace\">----------------------------------------------------------------------------------------------------\n",
       "</pre>\n"
      ],
      "text/plain": [
       "----------------------------------------------------------------------------------------------------\n"
      ]
     },
     "metadata": {},
     "output_type": "display_data"
    },
    {
     "data": {
      "text/html": [
       "<pre style=\"white-space:pre;overflow-x:auto;line-height:normal;font-family:Menlo,'DejaVu Sans Mono',consolas,'Courier New',monospace\">الأهمّيّة بالنسبة للحضارة البشريّة \n",
       "</pre>\n"
      ],
      "text/plain": [
       "الأهمّيّة بالنسبة للحضارة البشريّة \n"
      ]
     },
     "metadata": {},
     "output_type": "display_data"
    },
    {
     "data": {
      "text/html": [
       "<pre style=\"white-space:pre;overflow-x:auto;line-height:normal;font-family:Menlo,'DejaVu Sans Mono',consolas,'Courier New',monospace\">----------------------------------------------------------------------------------------------------\n",
       "</pre>\n"
      ],
      "text/plain": [
       "----------------------------------------------------------------------------------------------------\n"
      ]
     },
     "metadata": {},
     "output_type": "display_data"
    },
    {
     "data": {
      "text/html": [
       "<pre style=\"white-space:pre;overflow-x:auto;line-height:normal;font-family:Menlo,'DejaVu Sans Mono',consolas,'Courier New',monospace\">للماء دور حيوي في بقاء وتقدّم الحضارة الإنسانيّة؛ حيث ازدهرت الحضارات البشريّة عبر العصور في وديان الأنهار الكبيرة \n",
       "الرئيسيّة؛ كما هو الحال في حضارة بلاد الرافدين، والتي تعرف باسم مهد الحضارة، إذ أنّها شهدت ازدهار عدّة حضارات وذلك \n",
       "بسبب الموقع الجغرافي المتميّز بين نهري دجلة والفرات، وقيل أنّها سمّيّت بالعراق أي «الشاطئ» لكثرة ووفرة مياهها، التي\n",
       "شكلت عامل جذب للعديد من الأقوام الذين سكنوها وشادوا فيها أرقى الحضارات. كما أنّ حضارة المصريّين القدماء كانت قد تركّزت\n",
       "على ضفاف مجرى نهر النيل. بالإضافة إلى وادي السند في الهند وباكستان، ووادي هوانج في الصين. أنشأت كلّ هذه الحضارات \n",
       "أنظمة ريّ ساهمت في تطوير الأرض وجعلتها منتجة. وقد انهارت الحضارات حين نضوب موارد المياه أو عند إساءة استخدامها؛ إذ \n",
       "يعتقد كثير من المؤرّخين أنّ سقوط حضارة السومريّين في بلاد ما بين النهرين كان بسبب ضعف المهارة والخبرة في عمليّات الريّ.\n",
       "فقد تركّز الملح من مياه الريّ في الأرض بعد تبخّر المياه وأخذ يتراكم في التربة. وكان من الممكن تفادي تركّز الملح في \n",
       "التربة بغسل الملح بماء إضافي، وإذا لم يتمّ صرف ماء الأرض تصبح مشبّعة بالماء. فشل السومريون في تحقيق التوازن اللازم \n",
       "بين تركّز الملح في التربة وبين عمليات صرف المياه منها، وأدّت زيادة تركّز الملح في التربة وكذلك تشبّعها بالماء إلى \n",
       "الإضرار بالمحاصيل. ومن ثم انخفض الناتج الزراعي تدريجيّاً وتفاقم نقص الغذاء، ومع انهيار الزراعة انهارت الحضارة \n",
       "السومريّة.\n",
       "</pre>\n"
      ],
      "text/plain": [
       "للماء دور حيوي في بقاء وتقدّم الحضارة الإنسانيّة؛ حيث ازدهرت الحضارات البشريّة عبر العصور في وديان الأنهار الكبيرة \n",
       "الرئيسيّة؛ كما هو الحال في حضارة بلاد الرافدين، والتي تعرف باسم مهد الحضارة، إذ أنّها شهدت ازدهار عدّة حضارات وذلك \n",
       "بسبب الموقع الجغرافي المتميّز بين نهري دجلة والفرات، وقيل أنّها سمّيّت بالعراق أي «الشاطئ» لكثرة ووفرة مياهها، التي\n",
       "شكلت عامل جذب للعديد من الأقوام الذين سكنوها وشادوا فيها أرقى الحضارات. كما أنّ حضارة المصريّين القدماء كانت قد تركّزت\n",
       "على ضفاف مجرى نهر النيل. بالإضافة إلى وادي السند في الهند وباكستان، ووادي هوانج في الصين. أنشأت كلّ هذه الحضارات \n",
       "أنظمة ريّ ساهمت في تطوير الأرض وجعلتها منتجة. وقد انهارت الحضارات حين نضوب موارد المياه أو عند إساءة استخدامها؛ إذ \n",
       "يعتقد كثير من المؤرّخين أنّ سقوط حضارة السومريّين في بلاد ما بين النهرين كان بسبب ضعف المهارة والخبرة في عمليّات الريّ.\n",
       "فقد تركّز الملح من مياه الريّ في الأرض بعد تبخّر المياه وأخذ يتراكم في التربة. وكان من الممكن تفادي تركّز الملح في \n",
       "التربة بغسل الملح بماء إضافي، وإذا لم يتمّ صرف ماء الأرض تصبح مشبّعة بالماء. فشل السومريون في تحقيق التوازن اللازم \n",
       "بين تركّز الملح في التربة وبين عمليات صرف المياه منها، وأدّت زيادة تركّز الملح في التربة وكذلك تشبّعها بالماء إلى \n",
       "الإضرار بالمحاصيل. ومن ثم انخفض الناتج الزراعي تدريجيّاً وتفاقم نقص الغذاء، ومع انهيار الزراعة انهارت الحضارة \n",
       "السومريّة.\n"
      ]
     },
     "metadata": {},
     "output_type": "display_data"
    },
    {
     "data": {
      "text/html": [
       "<pre style=\"white-space:pre;overflow-x:auto;line-height:normal;font-family:Menlo,'DejaVu Sans Mono',consolas,'Courier New',monospace\">----------------------------------------------------------------------------------------------------\n",
       "</pre>\n"
      ],
      "text/plain": [
       "----------------------------------------------------------------------------------------------------\n"
      ]
     },
     "metadata": {},
     "output_type": "display_data"
    },
    {
     "data": {
      "text/html": [
       "<pre style=\"white-space:pre;overflow-x:auto;line-height:normal;font-family:Menlo,'DejaVu Sans Mono',consolas,'Courier New',monospace\">هناك عدد جيّد من حواضر المدن الكبيرة في العصر الحديث والتي يعود جزء من نجاحها إلى الموقع الجغرافي المائي المميّز، \n",
       "الذي يمكّن من الحركة التجاريّة كما هو الحال في هونغ كونغ وطوكيو وشنغهاي وروتردام ومونتريال.\n",
       "</pre>\n"
      ],
      "text/plain": [
       "هناك عدد جيّد من حواضر المدن الكبيرة في العصر الحديث والتي يعود جزء من نجاحها إلى الموقع الجغرافي المائي المميّز، \n",
       "الذي يمكّن من الحركة التجاريّة كما هو الحال في هونغ كونغ وطوكيو وشنغهاي وروتردام ومونتريال.\n"
      ]
     },
     "metadata": {},
     "output_type": "display_data"
    },
    {
     "data": {
      "text/html": [
       "<pre style=\"white-space:pre;overflow-x:auto;line-height:normal;font-family:Menlo,'DejaVu Sans Mono',consolas,'Courier New',monospace\">----------------------------------------------------------------------------------------------------\n",
       "</pre>\n"
      ],
      "text/plain": [
       "----------------------------------------------------------------------------------------------------\n"
      ]
     },
     "metadata": {},
     "output_type": "display_data"
    },
    {
     "data": {
      "text/html": [
       "<pre style=\"white-space:pre;overflow-x:auto;line-height:normal;font-family:Menlo,'DejaVu Sans Mono',consolas,'Courier New',monospace\">يستخدم الماء العذب بشكل رئيسي في المجتمعات البشريّة كمصدر آمن لمياه الشرب، بالإضافة إلى استخدامه في قضاء الحاجات \n",
       "المنزليّة الأساسيّة فيما يخصّ الطبخ والنظافة الخاصّة والاستحمام. أمّا على صعيد خارجي فسيتخدم الماء بشكل أساسي في \n",
       "الزراعة، وخاصة من أجل الريّ، وكذلك في الصناعة وخاصة صناعة الغذاء.\n",
       "</pre>\n"
      ],
      "text/plain": [
       "يستخدم الماء العذب بشكل رئيسي في المجتمعات البشريّة كمصدر آمن لمياه الشرب، بالإضافة إلى استخدامه في قضاء الحاجات \n",
       "المنزليّة الأساسيّة فيما يخصّ الطبخ والنظافة الخاصّة والاستحمام. أمّا على صعيد خارجي فسيتخدم الماء بشكل أساسي في \n",
       "الزراعة، وخاصة من أجل الريّ، وكذلك في الصناعة وخاصة صناعة الغذاء.\n"
      ]
     },
     "metadata": {},
     "output_type": "display_data"
    },
    {
     "data": {
      "text/html": [
       "<pre style=\"white-space:pre;overflow-x:auto;line-height:normal;font-family:Menlo,'DejaVu Sans Mono',consolas,'Courier New',monospace\">----------------------------------------------------------------------------------------------------\n",
       "</pre>\n"
      ],
      "text/plain": [
       "----------------------------------------------------------------------------------------------------\n"
      ]
     },
     "metadata": {},
     "output_type": "display_data"
    },
    {
     "data": {
      "text/html": [
       "<pre style=\"white-space:pre;overflow-x:auto;line-height:normal;font-family:Menlo,'DejaVu Sans Mono',consolas,'Courier New',monospace\">تاريخ استخدام الماء \n",
       "</pre>\n"
      ],
      "text/plain": [
       "تاريخ استخدام الماء \n"
      ]
     },
     "metadata": {},
     "output_type": "display_data"
    },
    {
     "data": {
      "text/html": [
       "<pre style=\"white-space:pre;overflow-x:auto;line-height:normal;font-family:Menlo,'DejaVu Sans Mono',consolas,'Courier New',monospace\">----------------------------------------------------------------------------------------------------\n",
       "</pre>\n"
      ],
      "text/plain": [
       "----------------------------------------------------------------------------------------------------\n"
      ]
     },
     "metadata": {},
     "output_type": "display_data"
    },
    {
     "data": {
      "text/html": [
       "<pre style=\"white-space:pre;overflow-x:auto;line-height:normal;font-family:Menlo,'DejaVu Sans Mono',consolas,'Courier New',monospace\">منذ فجر الحضارة البشريّة أولى الإنسان أهمّيّة كبيرة لتطوير وسائل وطرق من أجل جلب المياه وتخزينها وذلك للأهمّيّة الحيويّة\n",
       "الكبيرة لهذه المادّة في حياة الإنسان. خلال العصر الحجري الحديث تمكّن الإنسان لأوّل مرة من حفر الآبار الدائمة، حيث كان\n",
       "يرفع الماء إلى الأعلى باستخدام الشادوف أو السواقي أو النواعير. كما انتشرت الآبار المدرّجة في عدّة مناطق في الهند، \n",
       "بالإضافة إلى وجود نظام تصريف معقّد للمياه في بعض المناطق في شبه القارة الهنديّة، كما هو الحال في موهينجو دارو في \n",
       "حضارة وادي السند. كما عثر على نظام تصريف متقن للمياه أيضاً في آثار سكارا براي في إسكتلندا، والتي تعود إلى العصر \n",
       "الحجري الحديث.\n",
       "</pre>\n"
      ],
      "text/plain": [
       "منذ فجر الحضارة البشريّة أولى الإنسان أهمّيّة كبيرة لتطوير وسائل وطرق من أجل جلب المياه وتخزينها وذلك للأهمّيّة الحيويّة\n",
       "الكبيرة لهذه المادّة في حياة الإنسان. خلال العصر الحجري الحديث تمكّن الإنسان لأوّل مرة من حفر الآبار الدائمة، حيث كان\n",
       "يرفع الماء إلى الأعلى باستخدام الشادوف أو السواقي أو النواعير. كما انتشرت الآبار المدرّجة في عدّة مناطق في الهند، \n",
       "بالإضافة إلى وجود نظام تصريف معقّد للمياه في بعض المناطق في شبه القارة الهنديّة، كما هو الحال في موهينجو دارو في \n",
       "حضارة وادي السند. كما عثر على نظام تصريف متقن للمياه أيضاً في آثار سكارا براي في إسكتلندا، والتي تعود إلى العصر \n",
       "الحجري الحديث.\n"
      ]
     },
     "metadata": {},
     "output_type": "display_data"
    },
    {
     "data": {
      "text/html": [
       "<pre style=\"white-space:pre;overflow-x:auto;line-height:normal;font-family:Menlo,'DejaVu Sans Mono',consolas,'Courier New',monospace\">----------------------------------------------------------------------------------------------------\n",
       "</pre>\n"
      ],
      "text/plain": [
       "----------------------------------------------------------------------------------------------------\n"
      ]
     },
     "metadata": {},
     "output_type": "display_data"
    },
    {
     "data": {
      "text/html": [
       "<pre style=\"white-space:pre;overflow-x:auto;line-height:normal;font-family:Menlo,'DejaVu Sans Mono',consolas,'Courier New',monospace\">كانت حضارة الإغريق القدماء في كريت، والتي تعرف باسم الحضارة المينوسيّة، من أوائل الحضارات التي استخدمت أنابيب من \n",
       "الخزف من أجل تزويد وتصريف المياه. كما استخدم الإغريق في اليونان والأناضول نظام تصريف منزلي على شكل رشّاشات مضغوطة \n",
       "لغرض الاستحمام. شقّ الرومان القدماء قنوات لجرّ الماء، وأنشأوا القنوات والخزّانات المائيّة في أرجاء إمبراطوريّتهم، ولا\n",
       "تزال العديد من الآثار الرومانيّة في مجال صرف المياه حاضرةً في العديد من الدول العربيّة على سبيل المثال في بلاد الشام\n",
       "وعلى طول ساحل الشمال الإفريقي. تمكّن الرومان بذلك من إنشاء نظام لجلب وتصريف المياه للمنازل وفي الساحات العامّة، حيث\n",
       "صمّمت النوافير والسبل العامّة. استخدم الرومان قديماً الرصاص لصنع الأنابيب، ممّا أدّى إلى انتشار حدوث حالات من تسمّم\n",
       "الرصاص في ذلك الوقت. حفر الفرس أيضاً القنوات المائيّة في المدن والبلدات، كما قاموا ببناء خزّانات من اللِّبْن تدعى باسم\n",
       "«آب انبار».\n",
       "</pre>\n"
      ],
      "text/plain": [
       "كانت حضارة الإغريق القدماء في كريت، والتي تعرف باسم الحضارة المينوسيّة، من أوائل الحضارات التي استخدمت أنابيب من \n",
       "الخزف من أجل تزويد وتصريف المياه. كما استخدم الإغريق في اليونان والأناضول نظام تصريف منزلي على شكل رشّاشات مضغوطة \n",
       "لغرض الاستحمام. شقّ الرومان القدماء قنوات لجرّ الماء، وأنشأوا القنوات والخزّانات المائيّة في أرجاء إمبراطوريّتهم، ولا\n",
       "تزال العديد من الآثار الرومانيّة في مجال صرف المياه حاضرةً في العديد من الدول العربيّة على سبيل المثال في بلاد الشام\n",
       "وعلى طول ساحل الشمال الإفريقي. تمكّن الرومان بذلك من إنشاء نظام لجلب وتصريف المياه للمنازل وفي الساحات العامّة، حيث\n",
       "صمّمت النوافير والسبل العامّة. استخدم الرومان قديماً الرصاص لصنع الأنابيب، ممّا أدّى إلى انتشار حدوث حالات من تسمّم\n",
       "الرصاص في ذلك الوقت. حفر الفرس أيضاً القنوات المائيّة في المدن والبلدات، كما قاموا ببناء خزّانات من اللِّبْن تدعى باسم\n",
       "«آب انبار».\n"
      ]
     },
     "metadata": {},
     "output_type": "display_data"
    },
    {
     "data": {
      "text/html": [
       "<pre style=\"white-space:pre;overflow-x:auto;line-height:normal;font-family:Menlo,'DejaVu Sans Mono',consolas,'Courier New',monospace\">----------------------------------------------------------------------------------------------------\n",
       "</pre>\n"
      ],
      "text/plain": [
       "----------------------------------------------------------------------------------------------------\n"
      ]
     },
     "metadata": {},
     "output_type": "display_data"
    },
    {
     "data": {
      "text/html": [
       "<pre style=\"white-space:pre;overflow-x:auto;line-height:normal;font-family:Menlo,'DejaVu Sans Mono',consolas,'Courier New',monospace\">استمرّ التوسّع في شقّ القنوات وحفر الآبار مع ازدهار الحضارة الإسلاميّة، ومع التوسّع في إنشاء المواضئ في المساجد لأداء\n",
       "الصلوات، كما أنشئت الترع وحفرت العيون في الطرق والسبل العامّة، كما هو الحال في عين زبيدة التي حفرت خصيصاً للحجاج. \n",
       "بالإضافة إلى ذلك انتشر براعة المهندسون في الأندلس على وجه الخصوص في تصميم النوافير وإيجاد حيل هندسيّة أضفت لمسات \n",
       "بديعة في فنّ العمارة كما هو الحال في نافورة بهو السباع في قصر الحمراء في غرناطة.\n",
       "</pre>\n"
      ],
      "text/plain": [
       "استمرّ التوسّع في شقّ القنوات وحفر الآبار مع ازدهار الحضارة الإسلاميّة، ومع التوسّع في إنشاء المواضئ في المساجد لأداء\n",
       "الصلوات، كما أنشئت الترع وحفرت العيون في الطرق والسبل العامّة، كما هو الحال في عين زبيدة التي حفرت خصيصاً للحجاج. \n",
       "بالإضافة إلى ذلك انتشر براعة المهندسون في الأندلس على وجه الخصوص في تصميم النوافير وإيجاد حيل هندسيّة أضفت لمسات \n",
       "بديعة في فنّ العمارة كما هو الحال في نافورة بهو السباع في قصر الحمراء في غرناطة.\n"
      ]
     },
     "metadata": {},
     "output_type": "display_data"
    },
    {
     "data": {
      "text/html": [
       "<pre style=\"white-space:pre;overflow-x:auto;line-height:normal;font-family:Menlo,'DejaVu Sans Mono',consolas,'Courier New',monospace\">----------------------------------------------------------------------------------------------------\n",
       "</pre>\n"
      ],
      "text/plain": [
       "----------------------------------------------------------------------------------------------------\n"
      ]
     },
     "metadata": {},
     "output_type": "display_data"
    },
    {
     "data": {
      "text/html": [
       "<pre style=\"white-space:pre;overflow-x:auto;line-height:normal;font-family:Menlo,'DejaVu Sans Mono',consolas,'Courier New',monospace\">كان التطوّر في تقنيّات استخدام المياه متزامناً في عدد من الحضارات، حيث تمكّن شعب المايا في بالينكي من تطوير قنوات مائيّة\n",
       "تحت أرضيّة ومن تصميم نظام تصريف شبيه بنظام المرحاض الحديث. مع تقدّم العلوم والتطوّر في مواد البناء وعلوم الهندسة، \n",
       "بالإضافة إلى تحديث أساليب معالجة المياه أصبح من الممكن توفير أشكال مناسبة لتخزين المياه وتمديدها إلى البيوت وأماكن \n",
       "الإقامة، بحيث أصبح الوصول إليها سهلاً في العديد من المدن المتحضّرة.\n",
       "</pre>\n"
      ],
      "text/plain": [
       "كان التطوّر في تقنيّات استخدام المياه متزامناً في عدد من الحضارات، حيث تمكّن شعب المايا في بالينكي من تطوير قنوات مائيّة\n",
       "تحت أرضيّة ومن تصميم نظام تصريف شبيه بنظام المرحاض الحديث. مع تقدّم العلوم والتطوّر في مواد البناء وعلوم الهندسة، \n",
       "بالإضافة إلى تحديث أساليب معالجة المياه أصبح من الممكن توفير أشكال مناسبة لتخزين المياه وتمديدها إلى البيوت وأماكن \n",
       "الإقامة، بحيث أصبح الوصول إليها سهلاً في العديد من المدن المتحضّرة.\n"
      ]
     },
     "metadata": {},
     "output_type": "display_data"
    },
    {
     "data": {
      "text/html": [
       "<pre style=\"white-space:pre;overflow-x:auto;line-height:normal;font-family:Menlo,'DejaVu Sans Mono',consolas,'Courier New',monospace\">----------------------------------------------------------------------------------------------------\n",
       "</pre>\n"
      ],
      "text/plain": [
       "----------------------------------------------------------------------------------------------------\n"
      ]
     },
     "metadata": {},
     "output_type": "display_data"
    },
    {
     "data": {
      "text/html": [
       "<pre style=\"white-space:pre;overflow-x:auto;line-height:normal;font-family:Menlo,'DejaVu Sans Mono',consolas,'Courier New',monospace\">الاستخدامات الأساسيّة\n",
       "</pre>\n"
      ],
      "text/plain": [
       "الاستخدامات الأساسيّة\n"
      ]
     },
     "metadata": {},
     "output_type": "display_data"
    },
    {
     "data": {
      "text/html": [
       "<pre style=\"white-space:pre;overflow-x:auto;line-height:normal;font-family:Menlo,'DejaVu Sans Mono',consolas,'Courier New',monospace\">----------------------------------------------------------------------------------------------------\n",
       "</pre>\n"
      ],
      "text/plain": [
       "----------------------------------------------------------------------------------------------------\n"
      ]
     },
     "metadata": {},
     "output_type": "display_data"
    },
    {
     "data": {
      "text/html": [
       "<pre style=\"white-space:pre;overflow-x:auto;line-height:normal;font-family:Menlo,'DejaVu Sans Mono',consolas,'Courier New',monospace\">الاستخدامات المنزليّة \n",
       "</pre>\n"
      ],
      "text/plain": [
       "الاستخدامات المنزليّة \n"
      ]
     },
     "metadata": {},
     "output_type": "display_data"
    },
    {
     "data": {
      "text/html": [
       "<pre style=\"white-space:pre;overflow-x:auto;line-height:normal;font-family:Menlo,'DejaVu Sans Mono',consolas,'Courier New',monospace\">----------------------------------------------------------------------------------------------------\n",
       "</pre>\n"
      ],
      "text/plain": [
       "----------------------------------------------------------------------------------------------------\n"
      ]
     },
     "metadata": {},
     "output_type": "display_data"
    },
    {
     "data": {
      "text/html": [
       "<pre style=\"white-space:pre;overflow-x:auto;line-height:normal;font-family:Menlo,'DejaVu Sans Mono',consolas,'Courier New',monospace\">يستخدم الماء على صعيد منزلي للشرب والطبخ والاستحمام ولغسل الملابس بشكل أساسي. يعني مفهوم صناعة المياه تزويد ماء \n",
       "الشرب وخدمات الصرف الصحي <span style=\"font-weight: bold\">(</span>بما في ذلك معالجة الصرف الصحي<span style=\"font-weight: bold\">)</span> إلى المنازل بوسائل مختلفة. تتضمّن الوسائل التي تؤمّن إمداد\n",
       "المياه كل من الآبار والخزّانات الأرضيّة من أجل الحصاد المائي والتخزين بواسطة خزّانات وأبراج المياه والتغذية عن طريق\n",
       "شبكات وأنابيب المياه بالإضافة إلى وسائل تنقية المياه. تتولّى بلديّات المدن مسؤولية توزيع المياه للاستخدامات المنزليّة\n",
       "أو يمكن أن يتم الأمر عن طريق صهاريج. لغرض الترشيد في الموارد المائيّة العذبة تقوم بعض المدن مثل هونغ كونغ باستخدام \n",
       "مياه البحر دون معالجة من أجل شطف المراحيض في المنازل والمرافق العامّة.\n",
       "</pre>\n"
      ],
      "text/plain": [
       "يستخدم الماء على صعيد منزلي للشرب والطبخ والاستحمام ولغسل الملابس بشكل أساسي. يعني مفهوم صناعة المياه تزويد ماء \n",
       "الشرب وخدمات الصرف الصحي \u001b[1m(\u001b[0mبما في ذلك معالجة الصرف الصحي\u001b[1m)\u001b[0m إلى المنازل بوسائل مختلفة. تتضمّن الوسائل التي تؤمّن إمداد\n",
       "المياه كل من الآبار والخزّانات الأرضيّة من أجل الحصاد المائي والتخزين بواسطة خزّانات وأبراج المياه والتغذية عن طريق\n",
       "شبكات وأنابيب المياه بالإضافة إلى وسائل تنقية المياه. تتولّى بلديّات المدن مسؤولية توزيع المياه للاستخدامات المنزليّة\n",
       "أو يمكن أن يتم الأمر عن طريق صهاريج. لغرض الترشيد في الموارد المائيّة العذبة تقوم بعض المدن مثل هونغ كونغ باستخدام \n",
       "مياه البحر دون معالجة من أجل شطف المراحيض في المنازل والمرافق العامّة.\n"
      ]
     },
     "metadata": {},
     "output_type": "display_data"
    },
    {
     "data": {
      "text/html": [
       "<pre style=\"white-space:pre;overflow-x:auto;line-height:normal;font-family:Menlo,'DejaVu Sans Mono',consolas,'Courier New',monospace\">----------------------------------------------------------------------------------------------------\n",
       "</pre>\n"
      ],
      "text/plain": [
       "----------------------------------------------------------------------------------------------------\n"
      ]
     },
     "metadata": {},
     "output_type": "display_data"
    },
    {
     "data": {
      "text/html": [
       "<pre style=\"white-space:pre;overflow-x:auto;line-height:normal;font-family:Menlo,'DejaVu Sans Mono',consolas,'Courier New',monospace\">كان ماء الشرب في السابق يجمع عادةً من الينابيع والجداول أو من حفر الآبار أو بضخّه من البحيرات والأنهار. في العصر \n",
       "الراهن يتطلّب الأمر معالجة المياه وتنقيتها لإزالة الشوائب باستخدام مرشّحات المياه والتي تكون عادة من الرمل، كما يتطلّب\n",
       "الأمر أيضاً تعقيم المياه للتخلّص من المواد الضارّة المنحلّة والميكروبات وذلك باستخدام كلورة المياه أو أساليب أخرى. يمكن\n",
       "معالجة المياه أيضاً باستخدام التناضح العكسي أو بتحلية مياه البحر.\n",
       "</pre>\n"
      ],
      "text/plain": [
       "كان ماء الشرب في السابق يجمع عادةً من الينابيع والجداول أو من حفر الآبار أو بضخّه من البحيرات والأنهار. في العصر \n",
       "الراهن يتطلّب الأمر معالجة المياه وتنقيتها لإزالة الشوائب باستخدام مرشّحات المياه والتي تكون عادة من الرمل، كما يتطلّب\n",
       "الأمر أيضاً تعقيم المياه للتخلّص من المواد الضارّة المنحلّة والميكروبات وذلك باستخدام كلورة المياه أو أساليب أخرى. يمكن\n",
       "معالجة المياه أيضاً باستخدام التناضح العكسي أو بتحلية مياه البحر.\n"
      ]
     },
     "metadata": {},
     "output_type": "display_data"
    },
    {
     "data": {
      "text/html": [
       "<pre style=\"white-space:pre;overflow-x:auto;line-height:normal;font-family:Menlo,'DejaVu Sans Mono',consolas,'Courier New',monospace\">----------------------------------------------------------------------------------------------------\n",
       "</pre>\n"
      ],
      "text/plain": [
       "----------------------------------------------------------------------------------------------------\n"
      ]
     },
     "metadata": {},
     "output_type": "display_data"
    },
    {
     "data": {
      "text/html": [
       "<pre style=\"white-space:pre;overflow-x:auto;line-height:normal;font-family:Menlo,'DejaVu Sans Mono',consolas,'Courier New',monospace\">يمثّل الماء أمراً جوهرياً فيما يخص أمور النظافة بشكل عام والنظافة الشخصيّة بشكل خاص، وذلك فيما يتعلّق بالاستحمام وغسل\n",
       "الملابس وتنظيف المنازل بالإضافة إلى جلي الأواني، حيث يستخدم لذلك بالإضافة إلى الماء الصابون والمواد المنظّفة \n",
       "الملائمة. كما يعدّ الماء أساسيّاً للطبخ حيث يستخدم بطرق مختلفة من أجل تحضير الطعام وذلك إمّا بسلق الخضار والبيض في ماء\n",
       "مغلي، أو بإجراء الطهي عن طريق التبخير، أو السلق على نار هادئة، أو بالغلي عند درجات حرارة تقارب نقطة غليان الماء.\n",
       "</pre>\n"
      ],
      "text/plain": [
       "يمثّل الماء أمراً جوهرياً فيما يخص أمور النظافة بشكل عام والنظافة الشخصيّة بشكل خاص، وذلك فيما يتعلّق بالاستحمام وغسل\n",
       "الملابس وتنظيف المنازل بالإضافة إلى جلي الأواني، حيث يستخدم لذلك بالإضافة إلى الماء الصابون والمواد المنظّفة \n",
       "الملائمة. كما يعدّ الماء أساسيّاً للطبخ حيث يستخدم بطرق مختلفة من أجل تحضير الطعام وذلك إمّا بسلق الخضار والبيض في ماء\n",
       "مغلي، أو بإجراء الطهي عن طريق التبخير، أو السلق على نار هادئة، أو بالغلي عند درجات حرارة تقارب نقطة غليان الماء.\n"
      ]
     },
     "metadata": {},
     "output_type": "display_data"
    },
    {
     "data": {
      "text/html": [
       "<pre style=\"white-space:pre;overflow-x:auto;line-height:normal;font-family:Menlo,'DejaVu Sans Mono',consolas,'Courier New',monospace\">----------------------------------------------------------------------------------------------------\n",
       "</pre>\n"
      ],
      "text/plain": [
       "----------------------------------------------------------------------------------------------------\n"
      ]
     },
     "metadata": {},
     "output_type": "display_data"
    },
    {
     "data": {
      "text/html": [
       "<pre style=\"white-space:pre;overflow-x:auto;line-height:normal;font-family:Menlo,'DejaVu Sans Mono',consolas,'Courier New',monospace\">الزراعة \n",
       "</pre>\n"
      ],
      "text/plain": [
       "الزراعة \n"
      ]
     },
     "metadata": {},
     "output_type": "display_data"
    },
    {
     "data": {
      "text/html": [
       "<pre style=\"white-space:pre;overflow-x:auto;line-height:normal;font-family:Menlo,'DejaVu Sans Mono',consolas,'Courier New',monospace\">----------------------------------------------------------------------------------------------------\n",
       "</pre>\n"
      ],
      "text/plain": [
       "----------------------------------------------------------------------------------------------------\n"
      ]
     },
     "metadata": {},
     "output_type": "display_data"
    },
    {
     "data": {
      "text/html": [
       "<pre style=\"white-space:pre;overflow-x:auto;line-height:normal;font-family:Menlo,'DejaVu Sans Mono',consolas,'Courier New',monospace\">يعد الري الاستخدام الأهمّ للماء في الزراعة، وهو أساسي لإنتاج المحاصيل الغذائيّة. قد يصل سحب الماء من أجل ريّ المزروعات\n",
       "في بعض البلدان الناميّة إلى حوالي <span style=\"color: #008080; text-decoration-color: #008080; font-weight: bold\">90</span>% من السحب الإجمالي، وحتى في الدول المتقدّمة تصل نسبة سحب المياه من أجل الريّ إلى\n",
       "نسبة معتبرة، إذ أنّه في الولايات المتّحدة الأمريكيّة تصل نسبة السحب من المياه العذبة من أجل الري إلى حوالي <span style=\"color: #008080; text-decoration-color: #008080; font-weight: bold\">30</span>%.\n",
       "</pre>\n"
      ],
      "text/plain": [
       "يعد الري الاستخدام الأهمّ للماء في الزراعة، وهو أساسي لإنتاج المحاصيل الغذائيّة. قد يصل سحب الماء من أجل ريّ المزروعات\n",
       "في بعض البلدان الناميّة إلى حوالي \u001b[1;36m90\u001b[0m% من السحب الإجمالي، وحتى في الدول المتقدّمة تصل نسبة سحب المياه من أجل الريّ إلى\n",
       "نسبة معتبرة، إذ أنّه في الولايات المتّحدة الأمريكيّة تصل نسبة السحب من المياه العذبة من أجل الري إلى حوالي \u001b[1;36m30\u001b[0m%.\n"
      ]
     },
     "metadata": {},
     "output_type": "display_data"
    },
    {
     "data": {
      "text/html": [
       "<pre style=\"white-space:pre;overflow-x:auto;line-height:normal;font-family:Menlo,'DejaVu Sans Mono',consolas,'Courier New',monospace\">----------------------------------------------------------------------------------------------------\n",
       "</pre>\n"
      ],
      "text/plain": [
       "----------------------------------------------------------------------------------------------------\n"
      ]
     },
     "metadata": {},
     "output_type": "display_data"
    },
    {
     "data": {
      "text/html": [
       "<pre style=\"white-space:pre;overflow-x:auto;line-height:normal;font-family:Menlo,'DejaVu Sans Mono',consolas,'Courier New',monospace\">ازدادت أهمّيّة الوعي حول الترشيد في استخدام الموارد المائيّة في العقود الأخيرة، خاصّة مع ازدياد عدد سكان الأرض وازدياد\n",
       "حاجتهم بالتالي إلى الماء للشرب وللري للحصول على الغذاء، ممّا دعا إلى حاجة تطوير وسائل مثل الري بالتنقيط. أدّى التمدّد\n",
       "الحضري بالإضافة إلى ارتفاع الطلب على المياه من قطاعات أخرى، مثل إنتاج الطاقة البديلة <span style=\"font-weight: bold\">(</span>الوقود الحيوي<span style=\"font-weight: bold\">)</span>، إلى الحديث عن\n",
       "مفهوم ذروة الماء. يتوقّع في المستقبل أن يزداد الطلب على الماء بشكل أكبر ممّا هو عليه الآن وذلك لتأمين غذاء كاف مع \n",
       "تزايد عدد سكان الأرض، والذي يخمّن أن يصل إلى <span style=\"color: #008080; text-decoration-color: #008080; font-weight: bold\">9</span> بلايين في حلول سنة <span style=\"color: #008080; text-decoration-color: #008080; font-weight: bold\">2050</span>.\n",
       "</pre>\n"
      ],
      "text/plain": [
       "ازدادت أهمّيّة الوعي حول الترشيد في استخدام الموارد المائيّة في العقود الأخيرة، خاصّة مع ازدياد عدد سكان الأرض وازدياد\n",
       "حاجتهم بالتالي إلى الماء للشرب وللري للحصول على الغذاء، ممّا دعا إلى حاجة تطوير وسائل مثل الري بالتنقيط. أدّى التمدّد\n",
       "الحضري بالإضافة إلى ارتفاع الطلب على المياه من قطاعات أخرى، مثل إنتاج الطاقة البديلة \u001b[1m(\u001b[0mالوقود الحيوي\u001b[1m)\u001b[0m، إلى الحديث عن\n",
       "مفهوم ذروة الماء. يتوقّع في المستقبل أن يزداد الطلب على الماء بشكل أكبر ممّا هو عليه الآن وذلك لتأمين غذاء كاف مع \n",
       "تزايد عدد سكان الأرض، والذي يخمّن أن يصل إلى \u001b[1;36m9\u001b[0m بلايين في حلول سنة \u001b[1;36m2050\u001b[0m.\n"
      ]
     },
     "metadata": {},
     "output_type": "display_data"
    },
    {
     "data": {
      "text/html": [
       "<pre style=\"white-space:pre;overflow-x:auto;line-height:normal;font-family:Menlo,'DejaVu Sans Mono',consolas,'Courier New',monospace\">----------------------------------------------------------------------------------------------------\n",
       "</pre>\n"
      ],
      "text/plain": [
       "----------------------------------------------------------------------------------------------------\n"
      ]
     },
     "metadata": {},
     "output_type": "display_data"
    },
    {
     "data": {
      "text/html": [
       "<pre style=\"white-space:pre;overflow-x:auto;line-height:normal;font-family:Menlo,'DejaVu Sans Mono',consolas,'Courier New',monospace\">أجري تقييم لأسلوب إدارة المياه في الاستخدام الزراعي سنة <span style=\"color: #008080; text-decoration-color: #008080; font-weight: bold\">2007</span> من طرف المعهد الدولي لإدارة المياه في سريلانكا من أجل \n",
       "معرفة إن كان للعالم موارد من الماء كافيّة لتأمين الغذاء للعدد المتزايد من السكان في العالم. قامت عملية التقييم على \n",
       "أساس وفرة المصادر المائيّة في تلك السنة لاستخدامها في الزراعة على صعيد العالم، وقدّمت تحديداً للمواقع التي تعاني من\n",
       "ندرة المياه، حيث وجد أن خمس تعداد السكان في العالم، أي أكثر من <span style=\"color: #008080; text-decoration-color: #008080; font-weight: bold\">1.2</span> مليار نسمة، يعيشون في مناطق تعاني من ندرة مادّيّة\n",
       "للمياه حيث لا توجد كمّيّة كافية من الماء لتلبية كافّة الحاجيّات الضروريّة. كما وجد أنّ <span style=\"color: #008080; text-decoration-color: #008080; font-weight: bold\">1.6</span> مليار نسمة في العالم يعيشون في\n",
       "مناطق ندرة اقتصاديّة للمياه، حيث أنّ نقص الاستثمارات وضعف الحالة الاقتصاديّة يجعل من المستحيل على الهيئات الحكوميّة في\n",
       "تلك المناطق أن تلبّي حاجة الطلب إلى المياه. خلص التقرير إلى أنّ الاستمرار على نفس الوتيرة الحاليّة من إنتاج الغذاء \n",
       "واستخدام مياه الري من أجل زراعة المحاصيل ستؤدّي بالنهاية إلى حدوث أزمات في العديد من المناطق في العالم، وأنّه يمكّن\n",
       "تجنّب ذلك عندما يقوم المزارعون بزيادة الكفاءة والإنتاجيّة وذلك بالتقليل قدر الإمكان من الهدر بالترشيد واستخدام وسائل\n",
       "حديثة في الريّ.\n",
       "</pre>\n"
      ],
      "text/plain": [
       "أجري تقييم لأسلوب إدارة المياه في الاستخدام الزراعي سنة \u001b[1;36m2007\u001b[0m من طرف المعهد الدولي لإدارة المياه في سريلانكا من أجل \n",
       "معرفة إن كان للعالم موارد من الماء كافيّة لتأمين الغذاء للعدد المتزايد من السكان في العالم. قامت عملية التقييم على \n",
       "أساس وفرة المصادر المائيّة في تلك السنة لاستخدامها في الزراعة على صعيد العالم، وقدّمت تحديداً للمواقع التي تعاني من\n",
       "ندرة المياه، حيث وجد أن خمس تعداد السكان في العالم، أي أكثر من \u001b[1;36m1.2\u001b[0m مليار نسمة، يعيشون في مناطق تعاني من ندرة مادّيّة\n",
       "للمياه حيث لا توجد كمّيّة كافية من الماء لتلبية كافّة الحاجيّات الضروريّة. كما وجد أنّ \u001b[1;36m1.6\u001b[0m مليار نسمة في العالم يعيشون في\n",
       "مناطق ندرة اقتصاديّة للمياه، حيث أنّ نقص الاستثمارات وضعف الحالة الاقتصاديّة يجعل من المستحيل على الهيئات الحكوميّة في\n",
       "تلك المناطق أن تلبّي حاجة الطلب إلى المياه. خلص التقرير إلى أنّ الاستمرار على نفس الوتيرة الحاليّة من إنتاج الغذاء \n",
       "واستخدام مياه الري من أجل زراعة المحاصيل ستؤدّي بالنهاية إلى حدوث أزمات في العديد من المناطق في العالم، وأنّه يمكّن\n",
       "تجنّب ذلك عندما يقوم المزارعون بزيادة الكفاءة والإنتاجيّة وذلك بالتقليل قدر الإمكان من الهدر بالترشيد واستخدام وسائل\n",
       "حديثة في الريّ.\n"
      ]
     },
     "metadata": {},
     "output_type": "display_data"
    },
    {
     "data": {
      "text/html": [
       "<pre style=\"white-space:pre;overflow-x:auto;line-height:normal;font-family:Menlo,'DejaVu Sans Mono',consolas,'Courier New',monospace\">----------------------------------------------------------------------------------------------------\n",
       "</pre>\n"
      ],
      "text/plain": [
       "----------------------------------------------------------------------------------------------------\n"
      ]
     },
     "metadata": {},
     "output_type": "display_data"
    },
    {
     "data": {
      "text/html": [
       "<pre style=\"white-space:pre;overflow-x:auto;line-height:normal;font-family:Menlo,'DejaVu Sans Mono',consolas,'Courier New',monospace\">الصناعة \n",
       "للماء أهمّيّة كبيرة في الصناعة وله العديد من التطبيقات. يستخدم الماء بشكل أساسي كمادّة تبريد ووسط في المبادلات \n",
       "الحراريّة نظراً لوفرته وللسعة الحراريّة المرتفعة سواءً للتبريد أو التسخين. يمكن الحصول على الماء البارد من مصادر طبيعيّة\n",
       "متوفّرة كنهر جار أو بحيرة قريبة أو من البحر، كما أن تسخين الماء لنقل الحرارة عمليّة فعّالة عن طريق تبخير وتكثيف الماء\n",
       "وذلك بسبب حرارة التبخر العالية له. بالمقابل، إنّ من سيّئات استخدام البخار هو تعرّض المواد المعدنيّة المستخدمة في \n",
       "الصناعة مثل الفولاذ والنحاس للتآكل عند استخدام ماء غير معالج. في كافّة المحطّات الحراريّة يكون الماء هو السائل \n",
       "المستخدم لنقل الحرارة بدخوله في دورة مغلقة بين المرجل والعنفات والمكثّف، كما يستخدم أيضاً كمادّة حراريّة ناقلة في أبراج\n",
       "التبريد. في المحطّات والمفاعلات النوويّة يستخدم الماء كمهدّئ للنيوترونات وكمادّة تبريد في نفس الوقت.\n",
       "</pre>\n"
      ],
      "text/plain": [
       "الصناعة \n",
       "للماء أهمّيّة كبيرة في الصناعة وله العديد من التطبيقات. يستخدم الماء بشكل أساسي كمادّة تبريد ووسط في المبادلات \n",
       "الحراريّة نظراً لوفرته وللسعة الحراريّة المرتفعة سواءً للتبريد أو التسخين. يمكن الحصول على الماء البارد من مصادر طبيعيّة\n",
       "متوفّرة كنهر جار أو بحيرة قريبة أو من البحر، كما أن تسخين الماء لنقل الحرارة عمليّة فعّالة عن طريق تبخير وتكثيف الماء\n",
       "وذلك بسبب حرارة التبخر العالية له. بالمقابل، إنّ من سيّئات استخدام البخار هو تعرّض المواد المعدنيّة المستخدمة في \n",
       "الصناعة مثل الفولاذ والنحاس للتآكل عند استخدام ماء غير معالج. في كافّة المحطّات الحراريّة يكون الماء هو السائل \n",
       "المستخدم لنقل الحرارة بدخوله في دورة مغلقة بين المرجل والعنفات والمكثّف، كما يستخدم أيضاً كمادّة حراريّة ناقلة في أبراج\n",
       "التبريد. في المحطّات والمفاعلات النوويّة يستخدم الماء كمهدّئ للنيوترونات وكمادّة تبريد في نفس الوقت.\n"
      ]
     },
     "metadata": {},
     "output_type": "display_data"
    },
    {
     "data": {
      "text/html": [
       "<pre style=\"white-space:pre;overflow-x:auto;line-height:normal;font-family:Menlo,'DejaVu Sans Mono',consolas,'Courier New',monospace\">----------------------------------------------------------------------------------------------------\n",
       "</pre>\n"
      ],
      "text/plain": [
       "----------------------------------------------------------------------------------------------------\n"
      ]
     },
     "metadata": {},
     "output_type": "display_data"
    },
    {
     "data": {
      "text/html": [
       "<pre style=\"white-space:pre;overflow-x:auto;line-height:normal;font-family:Menlo,'DejaVu Sans Mono',consolas,'Courier New',monospace\">يدخل الماء العديد من التطبيقات المهمّة في الصناعات الكيميائيّة وذلك على شكل مذيب أو كاشف كيميائي؛ كما يستخدم في مختلف\n",
       "العمليّات الكيميائيّة كوسط للتفاعل على العموم وعلى الخصوص من أجل التنظيف والشطف <span style=\"font-weight: bold\">(</span>عادة مع مواد منظّفة أو محاليل قلويّة<span style=\"font-weight: bold\">)</span>\n",
       "أو للإذابة أو للاستخلاص ولإعادة التبلور. كما يستخدم الماء كوسط من أجل التحليل والطلي الكهربائي وفي صناعة البطّاريات.\n",
       "</pre>\n"
      ],
      "text/plain": [
       "يدخل الماء العديد من التطبيقات المهمّة في الصناعات الكيميائيّة وذلك على شكل مذيب أو كاشف كيميائي؛ كما يستخدم في مختلف\n",
       "العمليّات الكيميائيّة كوسط للتفاعل على العموم وعلى الخصوص من أجل التنظيف والشطف \u001b[1m(\u001b[0mعادة مع مواد منظّفة أو محاليل قلويّة\u001b[1m)\u001b[0m\n",
       "أو للإذابة أو للاستخلاص ولإعادة التبلور. كما يستخدم الماء كوسط من أجل التحليل والطلي الكهربائي وفي صناعة البطّاريات.\n"
      ]
     },
     "metadata": {},
     "output_type": "display_data"
    },
    {
     "data": {
      "text/html": [
       "<pre style=\"white-space:pre;overflow-x:auto;line-height:normal;font-family:Menlo,'DejaVu Sans Mono',consolas,'Courier New',monospace\">----------------------------------------------------------------------------------------------------\n",
       "</pre>\n"
      ],
      "text/plain": [
       "----------------------------------------------------------------------------------------------------\n"
      ]
     },
     "metadata": {},
     "output_type": "display_data"
    },
    {
     "data": {
      "text/html": [
       "<pre style=\"white-space:pre;overflow-x:auto;line-height:normal;font-family:Menlo,'DejaVu Sans Mono',consolas,'Courier New',monospace\">في العمليّات التقنيّة المختلفة يستخدم الماء كوسط لربط وتشكيل الجبس والإسمنت، بالإضافة إلى استخدامه في التصديع والقطع\n",
       "والتنظيف عندما يوضع تحت ضغط مرتفع، بالإضافة إلى استخدامه كوسط لنقل الضغط في بعض التطبيقات الهيدروليكيّة.\n",
       "</pre>\n"
      ],
      "text/plain": [
       "في العمليّات التقنيّة المختلفة يستخدم الماء كوسط لربط وتشكيل الجبس والإسمنت، بالإضافة إلى استخدامه في التصديع والقطع\n",
       "والتنظيف عندما يوضع تحت ضغط مرتفع، بالإضافة إلى استخدامه كوسط لنقل الضغط في بعض التطبيقات الهيدروليكيّة.\n"
      ]
     },
     "metadata": {},
     "output_type": "display_data"
    },
    {
     "data": {
      "text/html": [
       "<pre style=\"white-space:pre;overflow-x:auto;line-height:normal;font-family:Menlo,'DejaVu Sans Mono',consolas,'Courier New',monospace\">----------------------------------------------------------------------------------------------------\n",
       "</pre>\n"
      ],
      "text/plain": [
       "----------------------------------------------------------------------------------------------------\n"
      ]
     },
     "metadata": {},
     "output_type": "display_data"
    },
    {
     "data": {
      "text/html": [
       "<pre style=\"white-space:pre;overflow-x:auto;line-height:normal;font-family:Menlo,'DejaVu Sans Mono',consolas,'Courier New',monospace\">يستفاد من الطاقة المائيّة على هيئة طاقة كهرمائيّة في توليد الكهرباء، وذلك من القوّة الناشئة عن دفع المياه للعنفات التي\n",
       "تكون موصولة بمولّد كهربائي. تعدّ الطاقة الكهرمائية إحدى الطاقات النظيفة المتجدّدة، والتي يحصل عليها عادة من إنشاء \n",
       "السدود على الأنهار.\n",
       "</pre>\n"
      ],
      "text/plain": [
       "يستفاد من الطاقة المائيّة على هيئة طاقة كهرمائيّة في توليد الكهرباء، وذلك من القوّة الناشئة عن دفع المياه للعنفات التي\n",
       "تكون موصولة بمولّد كهربائي. تعدّ الطاقة الكهرمائية إحدى الطاقات النظيفة المتجدّدة، والتي يحصل عليها عادة من إنشاء \n",
       "السدود على الأنهار.\n"
      ]
     },
     "metadata": {},
     "output_type": "display_data"
    },
    {
     "data": {
      "text/html": [
       "<pre style=\"white-space:pre;overflow-x:auto;line-height:normal;font-family:Menlo,'DejaVu Sans Mono',consolas,'Courier New',monospace\">----------------------------------------------------------------------------------------------------\n",
       "</pre>\n"
      ],
      "text/plain": [
       "----------------------------------------------------------------------------------------------------\n"
      ]
     },
     "metadata": {},
     "output_type": "display_data"
    },
    {
     "data": {
      "text/html": [
       "<pre style=\"white-space:pre;overflow-x:auto;line-height:normal;font-family:Menlo,'DejaVu Sans Mono',consolas,'Courier New',monospace\">التجارة والنقل \n",
       "</pre>\n"
      ],
      "text/plain": [
       "التجارة والنقل \n"
      ]
     },
     "metadata": {},
     "output_type": "display_data"
    },
    {
     "data": {
      "text/html": [
       "<pre style=\"white-space:pre;overflow-x:auto;line-height:normal;font-family:Menlo,'DejaVu Sans Mono',consolas,'Courier New',monospace\">----------------------------------------------------------------------------------------------------\n",
       "</pre>\n"
      ],
      "text/plain": [
       "----------------------------------------------------------------------------------------------------\n"
      ]
     },
     "metadata": {},
     "output_type": "display_data"
    },
    {
     "data": {
      "text/html": [
       "<pre style=\"white-space:pre;overflow-x:auto;line-height:normal;font-family:Menlo,'DejaVu Sans Mono',consolas,'Courier New',monospace\">تستخدم المعابر المائيّة كوسيلة لنقل البضائع وللسفر. كان السفر في الماضي بواسطة السفن لغرض الاستكشاف والتجارة وسيلة \n",
       "أساسيّة لقطع المسافات البعيدة التي تفصل بينها البحار. في الوقت الحالي يقتصر السفر بواسطة السفن الكبيرة لغرض السياحة،\n",
       "في حين أنّ النصيب الأكبر من حركة السفن في الوقت الحالي هو لغرض تجاري. تمتاز بعض المعابر المائية بموقع إستراتيجي \n",
       "يمنحها أهمّيّة تجاريّة كبيرة مثل قناة السويس وقناة بنما.\n",
       "</pre>\n"
      ],
      "text/plain": [
       "تستخدم المعابر المائيّة كوسيلة لنقل البضائع وللسفر. كان السفر في الماضي بواسطة السفن لغرض الاستكشاف والتجارة وسيلة \n",
       "أساسيّة لقطع المسافات البعيدة التي تفصل بينها البحار. في الوقت الحالي يقتصر السفر بواسطة السفن الكبيرة لغرض السياحة،\n",
       "في حين أنّ النصيب الأكبر من حركة السفن في الوقت الحالي هو لغرض تجاري. تمتاز بعض المعابر المائية بموقع إستراتيجي \n",
       "يمنحها أهمّيّة تجاريّة كبيرة مثل قناة السويس وقناة بنما.\n"
      ]
     },
     "metadata": {},
     "output_type": "display_data"
    },
    {
     "data": {
      "text/html": [
       "<pre style=\"white-space:pre;overflow-x:auto;line-height:normal;font-family:Menlo,'DejaVu Sans Mono',consolas,'Courier New',monospace\">----------------------------------------------------------------------------------------------------\n",
       "</pre>\n"
      ],
      "text/plain": [
       "----------------------------------------------------------------------------------------------------\n"
      ]
     },
     "metadata": {},
     "output_type": "display_data"
    },
    {
     "data": {
      "text/html": [
       "<pre style=\"white-space:pre;overflow-x:auto;line-height:normal;font-family:Menlo,'DejaVu Sans Mono',consolas,'Courier New',monospace\">يدرج في الوقت الحالي استخدام الماء كسلعة تجاريّة، إذ تتمّ في بعض المناطق شراء الحقوق التجاريّة لينابيع وجداول المياه\n",
       "المعدنيّة العذبة أو المياه الجوفيّة وتعبئتها في قارورة <span style=\"font-weight: bold\">(</span>قنينة<span style=\"font-weight: bold\">)</span> زجاجيّة أو بلاستيكيّة وبيعها على هيئة مياه معبّأة، قد\n",
       "تكون أحياناً مكربنة <span style=\"font-weight: bold\">(</span>فوّارة<span style=\"font-weight: bold\">)</span> بإضافة غاز ثنائي أكسيد الكربون إليها. ينتشر استخدام المياه المعبّأة بشكل أساسي في البلدان\n",
       "التي تعاني من شحّ في الموارد الطبيعيّة للمياه العذبة، ممّا أدى إلى انتشار مفهوم «خصخصة المياه».\n",
       "</pre>\n"
      ],
      "text/plain": [
       "يدرج في الوقت الحالي استخدام الماء كسلعة تجاريّة، إذ تتمّ في بعض المناطق شراء الحقوق التجاريّة لينابيع وجداول المياه\n",
       "المعدنيّة العذبة أو المياه الجوفيّة وتعبئتها في قارورة \u001b[1m(\u001b[0mقنينة\u001b[1m)\u001b[0m زجاجيّة أو بلاستيكيّة وبيعها على هيئة مياه معبّأة، قد\n",
       "تكون أحياناً مكربنة \u001b[1m(\u001b[0mفوّارة\u001b[1m)\u001b[0m بإضافة غاز ثنائي أكسيد الكربون إليها. ينتشر استخدام المياه المعبّأة بشكل أساسي في البلدان\n",
       "التي تعاني من شحّ في الموارد الطبيعيّة للمياه العذبة، ممّا أدى إلى انتشار مفهوم «خصخصة المياه».\n"
      ]
     },
     "metadata": {},
     "output_type": "display_data"
    },
    {
     "data": {
      "text/html": [
       "<pre style=\"white-space:pre;overflow-x:auto;line-height:normal;font-family:Menlo,'DejaVu Sans Mono',consolas,'Courier New',monospace\">----------------------------------------------------------------------------------------------------\n",
       "</pre>\n"
      ],
      "text/plain": [
       "----------------------------------------------------------------------------------------------------\n"
      ]
     },
     "metadata": {},
     "output_type": "display_data"
    },
    {
     "data": {
      "text/html": [
       "<pre style=\"white-space:pre;overflow-x:auto;line-height:normal;font-family:Menlo,'DejaVu Sans Mono',consolas,'Courier New',monospace\">مع قلّة الموارد المائيّة واضطرار الدول الناميّة إلى تصدير المنتجات الزراعيّة التي استخدمت المياه العذبة لريّها؛ ظهر\n",
       "مفهوم الماء الافتراضي، وهو الكمّيّة المستهلكة من المياه لإنتاج محصول زراعي معيّن. على سبيل المثال يتطلّب <span style=\"color: #008080; text-decoration-color: #008080; font-weight: bold\">1600</span> متر مكعّب\n",
       "من الماء وسطيّاً لإنتاج طن واحد من القمح. يفيد هذا المفهوم في ضرورة معرفة اختيار نوع المحاصيل الزراعيّة وتصنيفها إلى\n",
       "التي ينبغي زراعتها وتصديرها والتي ينبغي استيرادها.\n",
       "</pre>\n"
      ],
      "text/plain": [
       "مع قلّة الموارد المائيّة واضطرار الدول الناميّة إلى تصدير المنتجات الزراعيّة التي استخدمت المياه العذبة لريّها؛ ظهر\n",
       "مفهوم الماء الافتراضي، وهو الكمّيّة المستهلكة من المياه لإنتاج محصول زراعي معيّن. على سبيل المثال يتطلّب \u001b[1;36m1600\u001b[0m متر مكعّب\n",
       "من الماء وسطيّاً لإنتاج طن واحد من القمح. يفيد هذا المفهوم في ضرورة معرفة اختيار نوع المحاصيل الزراعيّة وتصنيفها إلى\n",
       "التي ينبغي زراعتها وتصديرها والتي ينبغي استيرادها.\n"
      ]
     },
     "metadata": {},
     "output_type": "display_data"
    },
    {
     "data": {
      "text/html": [
       "<pre style=\"white-space:pre;overflow-x:auto;line-height:normal;font-family:Menlo,'DejaVu Sans Mono',consolas,'Courier New',monospace\">----------------------------------------------------------------------------------------------------\n",
       "</pre>\n"
      ],
      "text/plain": [
       "----------------------------------------------------------------------------------------------------\n"
      ]
     },
     "metadata": {},
     "output_type": "display_data"
    },
    {
     "data": {
      "text/html": [
       "<pre style=\"white-space:pre;overflow-x:auto;line-height:normal;font-family:Menlo,'DejaVu Sans Mono',consolas,'Courier New',monospace\">استخدامات أخرى\n",
       "</pre>\n"
      ],
      "text/plain": [
       "استخدامات أخرى\n"
      ]
     },
     "metadata": {},
     "output_type": "display_data"
    },
    {
     "data": {
      "text/html": [
       "<pre style=\"white-space:pre;overflow-x:auto;line-height:normal;font-family:Menlo,'DejaVu Sans Mono',consolas,'Courier New',monospace\">----------------------------------------------------------------------------------------------------\n",
       "</pre>\n"
      ],
      "text/plain": [
       "----------------------------------------------------------------------------------------------------\n"
      ]
     },
     "metadata": {},
     "output_type": "display_data"
    },
    {
     "data": {
      "text/html": [
       "<pre style=\"white-space:pre;overflow-x:auto;line-height:normal;font-family:Menlo,'DejaVu Sans Mono',consolas,'Courier New',monospace\">مكافحة الحريق \n",
       "</pre>\n"
      ],
      "text/plain": [
       "مكافحة الحريق \n"
      ]
     },
     "metadata": {},
     "output_type": "display_data"
    },
    {
     "data": {
      "text/html": [
       "<pre style=\"white-space:pre;overflow-x:auto;line-height:normal;font-family:Menlo,'DejaVu Sans Mono',consolas,'Courier New',monospace\">----------------------------------------------------------------------------------------------------\n",
       "</pre>\n"
      ],
      "text/plain": [
       "----------------------------------------------------------------------------------------------------\n"
      ]
     },
     "metadata": {},
     "output_type": "display_data"
    },
    {
     "data": {
      "text/html": [
       "<pre style=\"white-space:pre;overflow-x:auto;line-height:normal;font-family:Menlo,'DejaVu Sans Mono',consolas,'Courier New',monospace\">يستخدم الماء من أجل مكافحة الحريق وذلك بسبب وفرته وخموله الكيميائي النسبي ولارتفاع حرارة التبخّر. يعود التأثير \n",
       "الإخمادي للماء بسبب استهلاك الطاقة الناتجة عن تفاعل الاحتراق في تبخيره وتحويله إلى بخار ماء وبذلك يخمد الحريق. \n",
       "بالمقابل ينبغي تجنّب استخدام الماء عند إخماد حرائق الزيوت والوقود والمذيبات العضويّة، إذ أنّه في تلك الحالة يستخدم \n",
       "مطافئ الحريق التي تعتمد على حجب الأكسجين.\n",
       "</pre>\n"
      ],
      "text/plain": [
       "يستخدم الماء من أجل مكافحة الحريق وذلك بسبب وفرته وخموله الكيميائي النسبي ولارتفاع حرارة التبخّر. يعود التأثير \n",
       "الإخمادي للماء بسبب استهلاك الطاقة الناتجة عن تفاعل الاحتراق في تبخيره وتحويله إلى بخار ماء وبذلك يخمد الحريق. \n",
       "بالمقابل ينبغي تجنّب استخدام الماء عند إخماد حرائق الزيوت والوقود والمذيبات العضويّة، إذ أنّه في تلك الحالة يستخدم \n",
       "مطافئ الحريق التي تعتمد على حجب الأكسجين.\n"
      ]
     },
     "metadata": {},
     "output_type": "display_data"
    },
    {
     "data": {
      "text/html": [
       "<pre style=\"white-space:pre;overflow-x:auto;line-height:normal;font-family:Menlo,'DejaVu Sans Mono',consolas,'Courier New',monospace\">----------------------------------------------------------------------------------------------------\n",
       "</pre>\n"
      ],
      "text/plain": [
       "----------------------------------------------------------------------------------------------------\n"
      ]
     },
     "metadata": {},
     "output_type": "display_data"
    },
    {
     "data": {
      "text/html": [
       "<pre style=\"white-space:pre;overflow-x:auto;line-height:normal;font-family:Menlo,'DejaVu Sans Mono',consolas,'Courier New',monospace\">لدى استخدام الماء في إخماد الحرائق ينبغي الأخذ بالحسبان مخاطر حدوث انفجار بخاري، والذي يعود سببه إلى فرط الإحماء في\n",
       "زمن قصير وتشكّل كمّيّات كبيرة من البخار في حيّز مكاني ضيق. كما ينبغي توخّي الحذر من حدوث انفجارات بسبب غاز الهيدروجين\n",
       "الناتج عن تفكّك الماء، والذي يحدث عندما يستخدم الماء لإطفاء حرائق مواد قابلة للتفاعل معه؛ مثل حرائق الفلزّات والفحم.\n",
       "</pre>\n"
      ],
      "text/plain": [
       "لدى استخدام الماء في إخماد الحرائق ينبغي الأخذ بالحسبان مخاطر حدوث انفجار بخاري، والذي يعود سببه إلى فرط الإحماء في\n",
       "زمن قصير وتشكّل كمّيّات كبيرة من البخار في حيّز مكاني ضيق. كما ينبغي توخّي الحذر من حدوث انفجارات بسبب غاز الهيدروجين\n",
       "الناتج عن تفكّك الماء، والذي يحدث عندما يستخدم الماء لإطفاء حرائق مواد قابلة للتفاعل معه؛ مثل حرائق الفلزّات والفحم.\n"
      ]
     },
     "metadata": {},
     "output_type": "display_data"
    },
    {
     "data": {
      "text/html": [
       "<pre style=\"white-space:pre;overflow-x:auto;line-height:normal;font-family:Menlo,'DejaVu Sans Mono',consolas,'Courier New',monospace\">----------------------------------------------------------------------------------------------------\n",
       "</pre>\n"
      ],
      "text/plain": [
       "----------------------------------------------------------------------------------------------------\n"
      ]
     },
     "metadata": {},
     "output_type": "display_data"
    },
    {
     "data": {
      "text/html": [
       "<pre style=\"white-space:pre;overflow-x:auto;line-height:normal;font-family:Menlo,'DejaVu Sans Mono',consolas,'Courier New',monospace\">استخدامات علميّة \n",
       "استخدم الماء في السابق كأساس لتعريف وحدة الوزن الغرام، وذلك سنة <span style=\"color: #008080; text-decoration-color: #008080; font-weight: bold\">1795</span> في فرنسا، إذ عُرّف حينها أنّه يساوي «الوزن المطلق\n",
       "لحجم ماء نقي مساو لحجم مكعّب طول ضلعه واحد على المئة من المتر عند درجة حرارة ذوبان الجليد». لدوافع عمليّة ارتأى \n",
       "العلماء آنذاك صنع مقياس معدني كتلته أكبر بألف مرة، وهو الكيلوغرام. كما تمّ الاعتماد على النقطة الثلاثيّة للماء في \n",
       "تعريف مقياس كلفن لدرجة الحرارة، وبذلك نشأ مفهوم درجة الحرارة المطلقة، والتي لها نفس مقياس درجات سيلزيوس ولكن تجعل \n",
       "نقطة تجمد الماء <span style=\"font-weight: bold\">(</span><span style=\"color: #008080; text-decoration-color: #008080; font-weight: bold\">0</span> °س<span style=\"font-weight: bold\">)</span> عند <span style=\"color: #008080; text-decoration-color: #008080; font-weight: bold\">273.15</span> كلفن. يتكوّن الماء الطبيعي من نظائر هيدروجين-<span style=\"color: #008080; text-decoration-color: #008080; font-weight: bold\">1</span> وأكسجين-<span style=\"color: #008080; text-decoration-color: #008080; font-weight: bold\">16</span>، ولكن هناك كمّيّات ضئيلة\n",
       "من النظائر الأثقل لعنصري الهيدروجين والأكسجين والتي تدخل في تركيب الماء الثقيل، ممّا قد يؤثّر على خواص الماء. ممّا \n",
       "استدعى من الهيئات العلميّة وضع مقياس أو معيار اتّفق عليه وسمّي باسم معيار فيينا لمياه المحيط.\n",
       "</pre>\n"
      ],
      "text/plain": [
       "استخدامات علميّة \n",
       "استخدم الماء في السابق كأساس لتعريف وحدة الوزن الغرام، وذلك سنة \u001b[1;36m1795\u001b[0m في فرنسا، إذ عُرّف حينها أنّه يساوي «الوزن المطلق\n",
       "لحجم ماء نقي مساو لحجم مكعّب طول ضلعه واحد على المئة من المتر عند درجة حرارة ذوبان الجليد». لدوافع عمليّة ارتأى \n",
       "العلماء آنذاك صنع مقياس معدني كتلته أكبر بألف مرة، وهو الكيلوغرام. كما تمّ الاعتماد على النقطة الثلاثيّة للماء في \n",
       "تعريف مقياس كلفن لدرجة الحرارة، وبذلك نشأ مفهوم درجة الحرارة المطلقة، والتي لها نفس مقياس درجات سيلزيوس ولكن تجعل \n",
       "نقطة تجمد الماء \u001b[1m(\u001b[0m\u001b[1;36m0\u001b[0m °س\u001b[1m)\u001b[0m عند \u001b[1;36m273.15\u001b[0m كلفن. يتكوّن الماء الطبيعي من نظائر هيدروجين-\u001b[1;36m1\u001b[0m وأكسجين-\u001b[1;36m16\u001b[0m، ولكن هناك كمّيّات ضئيلة\n",
       "من النظائر الأثقل لعنصري الهيدروجين والأكسجين والتي تدخل في تركيب الماء الثقيل، ممّا قد يؤثّر على خواص الماء. ممّا \n",
       "استدعى من الهيئات العلميّة وضع مقياس أو معيار اتّفق عليه وسمّي باسم معيار فيينا لمياه المحيط.\n"
      ]
     },
     "metadata": {},
     "output_type": "display_data"
    },
    {
     "data": {
      "text/html": [
       "<pre style=\"white-space:pre;overflow-x:auto;line-height:normal;font-family:Menlo,'DejaVu Sans Mono',consolas,'Courier New',monospace\">----------------------------------------------------------------------------------------------------\n",
       "</pre>\n"
      ],
      "text/plain": [
       "----------------------------------------------------------------------------------------------------\n"
      ]
     },
     "metadata": {},
     "output_type": "display_data"
    },
    {
     "data": {
      "text/html": [
       "<pre style=\"white-space:pre;overflow-x:auto;line-height:normal;font-family:Menlo,'DejaVu Sans Mono',consolas,'Courier New',monospace\">للماء دور هام ومحوري في مجال علم الغذاء، ويستخدم للتعبير عن ذلك مفهوم النشاط المائي <span style=\"font-weight: bold\">(</span>أو فاعليّة الماء<span style=\"font-weight: bold\">)</span>. تؤثّر المواد\n",
       "المذابة في الماء على النشاط المائي، ممّا يؤثّر في النهاية على التفاعلات الكيميائيّة وعلى نموّ الميكروبات في الطعام.\n",
       "يعرّف النشاط المائي على أنّه نسبة ضغط البخار الجزئي للماء في المادّة الاستهلاكيّة إلى ضغط البخار للماء النقي. يفيد \n",
       "معرفة النشاط المائي للأغذية في معرفة كيفيّة حفظ الأغذية ووقايتها من الميكروبات وفي تقدير فترة الصلاحية.\n",
       "</pre>\n"
      ],
      "text/plain": [
       "للماء دور هام ومحوري في مجال علم الغذاء، ويستخدم للتعبير عن ذلك مفهوم النشاط المائي \u001b[1m(\u001b[0mأو فاعليّة الماء\u001b[1m)\u001b[0m. تؤثّر المواد\n",
       "المذابة في الماء على النشاط المائي، ممّا يؤثّر في النهاية على التفاعلات الكيميائيّة وعلى نموّ الميكروبات في الطعام.\n",
       "يعرّف النشاط المائي على أنّه نسبة ضغط البخار الجزئي للماء في المادّة الاستهلاكيّة إلى ضغط البخار للماء النقي. يفيد \n",
       "معرفة النشاط المائي للأغذية في معرفة كيفيّة حفظ الأغذية ووقايتها من الميكروبات وفي تقدير فترة الصلاحية.\n"
      ]
     },
     "metadata": {},
     "output_type": "display_data"
    },
    {
     "data": {
      "text/html": [
       "<pre style=\"white-space:pre;overflow-x:auto;line-height:normal;font-family:Menlo,'DejaVu Sans Mono',consolas,'Courier New',monospace\">----------------------------------------------------------------------------------------------------\n",
       "</pre>\n"
      ],
      "text/plain": [
       "----------------------------------------------------------------------------------------------------\n"
      ]
     },
     "metadata": {},
     "output_type": "display_data"
    },
    {
     "data": {
      "text/html": [
       "<pre style=\"white-space:pre;overflow-x:auto;line-height:normal;font-family:Menlo,'DejaVu Sans Mono',consolas,'Courier New',monospace\">الترفيه \n",
       "يستخدم الماء كعنصر مهمّ في التزيين والديكور الخارجي وذلك بإنشاء الجداول والشلّالات الصناعية بالإضافة إلى النوافير في\n",
       "الساحات والحدائق العامّة. تعدّ المناطق وفيرة المياه أماكن جذب للناس للنزهات والاصطياف ولقضاء الوقت وللترفيه عن النفس،\n",
       "وذلك على ضفاف الأنهار والبحيرات وعلى الشواطئ؛ كما يقصد الناس المتنزّهات المائيّة لغرض التسلية والاستمتاع.\n",
       "</pre>\n"
      ],
      "text/plain": [
       "الترفيه \n",
       "يستخدم الماء كعنصر مهمّ في التزيين والديكور الخارجي وذلك بإنشاء الجداول والشلّالات الصناعية بالإضافة إلى النوافير في\n",
       "الساحات والحدائق العامّة. تعدّ المناطق وفيرة المياه أماكن جذب للناس للنزهات والاصطياف ولقضاء الوقت وللترفيه عن النفس،\n",
       "وذلك على ضفاف الأنهار والبحيرات وعلى الشواطئ؛ كما يقصد الناس المتنزّهات المائيّة لغرض التسلية والاستمتاع.\n"
      ]
     },
     "metadata": {},
     "output_type": "display_data"
    },
    {
     "data": {
      "text/html": [
       "<pre style=\"white-space:pre;overflow-x:auto;line-height:normal;font-family:Menlo,'DejaVu Sans Mono',consolas,'Courier New',monospace\">----------------------------------------------------------------------------------------------------\n",
       "</pre>\n"
      ],
      "text/plain": [
       "----------------------------------------------------------------------------------------------------\n"
      ]
     },
     "metadata": {},
     "output_type": "display_data"
    },
    {
     "data": {
      "text/html": [
       "<pre style=\"white-space:pre;overflow-x:auto;line-height:normal;font-family:Menlo,'DejaVu Sans Mono',consolas,'Courier New',monospace\">هناك العديد من الرياضات المائيّة التي تعتمد على الماء لممارستها، مثل رياضة السباحة والتزلّج على الماء وركوب الأمواج\n",
       "والغطس. كما أنّ هناك بعض الرياضات تلعب على الجليد مثل هوكي الجليد والتزلج على الجليد، بالإضافة إلى الرياضات الشتويّة\n",
       "التي تلعب على الثلج بشكل رئيسي.\n",
       "</pre>\n"
      ],
      "text/plain": [
       "هناك العديد من الرياضات المائيّة التي تعتمد على الماء لممارستها، مثل رياضة السباحة والتزلّج على الماء وركوب الأمواج\n",
       "والغطس. كما أنّ هناك بعض الرياضات تلعب على الجليد مثل هوكي الجليد والتزلج على الجليد، بالإضافة إلى الرياضات الشتويّة\n",
       "التي تلعب على الثلج بشكل رئيسي.\n"
      ]
     },
     "metadata": {},
     "output_type": "display_data"
    },
    {
     "data": {
      "text/html": [
       "<pre style=\"white-space:pre;overflow-x:auto;line-height:normal;font-family:Menlo,'DejaVu Sans Mono',consolas,'Courier New',monospace\">----------------------------------------------------------------------------------------------------\n",
       "</pre>\n"
      ],
      "text/plain": [
       "----------------------------------------------------------------------------------------------------\n"
      ]
     },
     "metadata": {},
     "output_type": "display_data"
    },
    {
     "data": {
      "text/html": [
       "<pre style=\"white-space:pre;overflow-x:auto;line-height:normal;font-family:Menlo,'DejaVu Sans Mono',consolas,'Courier New',monospace\">إدارة المياه \n",
       "</pre>\n"
      ],
      "text/plain": [
       "إدارة المياه \n"
      ]
     },
     "metadata": {},
     "output_type": "display_data"
    },
    {
     "data": {
      "text/html": [
       "<pre style=\"white-space:pre;overflow-x:auto;line-height:normal;font-family:Menlo,'DejaVu Sans Mono',consolas,'Courier New',monospace\">----------------------------------------------------------------------------------------------------\n",
       "</pre>\n"
      ],
      "text/plain": [
       "----------------------------------------------------------------------------------------------------\n"
      ]
     },
     "metadata": {},
     "output_type": "display_data"
    },
    {
     "data": {
      "text/html": [
       "<pre style=\"white-space:pre;overflow-x:auto;line-height:normal;font-family:Menlo,'DejaVu Sans Mono',consolas,'Courier New',monospace\">يقصد بإدارة المياه المفهوم الشامل المتعلّق بإدارة الموارد المائيّة من حيث التخطيط والتطوير والتوزيع بالشكل الأمثل \n",
       "بشكل يوافق نهج الترشيد في الاستهلاك وأسلوب التعامل مع الأزمات ونقص الموارد وتلوّث المياه. كما يمكن التوسّع في مفهوم\n",
       "الإدارة أيضاً بحيث يشمل مراعاة الظروف البيئيّة التي تؤمّن حدوث دورة المياه في الطبيعة ودورة الاستهلاك البشريّة على أفضل\n",
       "وجه. تتولّى الهيئات الحكومية المختصّة عادةً مسؤولية وضع آليات ناظمة لتنقية المياه ومعالجتها وتوزيعها إلى المنازل في\n",
       "المدن عبر شبكات، والتي يتم ضبط معدّل الاستهلاك الفردي أو الصناعي للماء فيها عن طريق عدّادات، والتي تفيد في معرفة كلفة\n",
       "الاستهلاك مقابل خدمة التمديد. كما تتولّى تلك الهيئات أيضاً مسؤولية تصريف المياه بإنشاء مجاري مخصّصة لنقلها، بالإضافة\n",
       "إلى إنشاء محطّات مخصّصة لمعالجتها.\n",
       "</pre>\n"
      ],
      "text/plain": [
       "يقصد بإدارة المياه المفهوم الشامل المتعلّق بإدارة الموارد المائيّة من حيث التخطيط والتطوير والتوزيع بالشكل الأمثل \n",
       "بشكل يوافق نهج الترشيد في الاستهلاك وأسلوب التعامل مع الأزمات ونقص الموارد وتلوّث المياه. كما يمكن التوسّع في مفهوم\n",
       "الإدارة أيضاً بحيث يشمل مراعاة الظروف البيئيّة التي تؤمّن حدوث دورة المياه في الطبيعة ودورة الاستهلاك البشريّة على أفضل\n",
       "وجه. تتولّى الهيئات الحكومية المختصّة عادةً مسؤولية وضع آليات ناظمة لتنقية المياه ومعالجتها وتوزيعها إلى المنازل في\n",
       "المدن عبر شبكات، والتي يتم ضبط معدّل الاستهلاك الفردي أو الصناعي للماء فيها عن طريق عدّادات، والتي تفيد في معرفة كلفة\n",
       "الاستهلاك مقابل خدمة التمديد. كما تتولّى تلك الهيئات أيضاً مسؤولية تصريف المياه بإنشاء مجاري مخصّصة لنقلها، بالإضافة\n",
       "إلى إنشاء محطّات مخصّصة لمعالجتها.\n"
      ]
     },
     "metadata": {},
     "output_type": "display_data"
    },
    {
     "data": {
      "text/html": [
       "<pre style=\"white-space:pre;overflow-x:auto;line-height:normal;font-family:Menlo,'DejaVu Sans Mono',consolas,'Courier New',monospace\">----------------------------------------------------------------------------------------------------\n",
       "</pre>\n"
      ],
      "text/plain": [
       "----------------------------------------------------------------------------------------------------\n"
      ]
     },
     "metadata": {},
     "output_type": "display_data"
    },
    {
     "data": {
      "text/html": [
       "<pre style=\"white-space:pre;overflow-x:auto;line-height:normal;font-family:Menlo,'DejaVu Sans Mono',consolas,'Courier New',monospace\">تسمّى مجموعة القوانين التي تضبط وتنظّم شؤون إدارة الموارد المائيّة على صعيد محلّي باسم قانون المياه، والذي يمكن تعميمه\n",
       "عند حدوث تقاطعات مع دول أخرى مشاركة للمورد المائي أو عند ضرورة انتهاج سياسة حكوميّة في هذا الصدد فتصنّف القوانين \n",
       "والمعاهدات تحت بند السياسات المائيّة. تعاني دول المنطقة العربيّة عموماً من شحّ في مواردها المائيّة، ممّا دفع العديد منها\n",
       "لسنّ سياسات مائيّة متعلّقة كما هو الحال في المغرب ومصر على سبيل المثال.\n",
       "</pre>\n"
      ],
      "text/plain": [
       "تسمّى مجموعة القوانين التي تضبط وتنظّم شؤون إدارة الموارد المائيّة على صعيد محلّي باسم قانون المياه، والذي يمكن تعميمه\n",
       "عند حدوث تقاطعات مع دول أخرى مشاركة للمورد المائي أو عند ضرورة انتهاج سياسة حكوميّة في هذا الصدد فتصنّف القوانين \n",
       "والمعاهدات تحت بند السياسات المائيّة. تعاني دول المنطقة العربيّة عموماً من شحّ في مواردها المائيّة، ممّا دفع العديد منها\n",
       "لسنّ سياسات مائيّة متعلّقة كما هو الحال في المغرب ومصر على سبيل المثال.\n"
      ]
     },
     "metadata": {},
     "output_type": "display_data"
    },
    {
     "data": {
      "text/html": [
       "<pre style=\"white-space:pre;overflow-x:auto;line-height:normal;font-family:Menlo,'DejaVu Sans Mono',consolas,'Courier New',monospace\">----------------------------------------------------------------------------------------------------\n",
       "</pre>\n"
      ],
      "text/plain": [
       "----------------------------------------------------------------------------------------------------\n"
      ]
     },
     "metadata": {},
     "output_type": "display_data"
    },
    {
     "data": {
      "text/html": [
       "<pre style=\"white-space:pre;overflow-x:auto;line-height:normal;font-family:Menlo,'DejaVu Sans Mono',consolas,'Courier New',monospace\">أزمة المياه \n",
       "</pre>\n"
      ],
      "text/plain": [
       "أزمة المياه \n"
      ]
     },
     "metadata": {},
     "output_type": "display_data"
    },
    {
     "data": {
      "text/html": [
       "<pre style=\"white-space:pre;overflow-x:auto;line-height:normal;font-family:Menlo,'DejaVu Sans Mono',consolas,'Courier New',monospace\">----------------------------------------------------------------------------------------------------\n",
       "</pre>\n"
      ],
      "text/plain": [
       "----------------------------------------------------------------------------------------------------\n"
      ]
     },
     "metadata": {},
     "output_type": "display_data"
    },
    {
     "data": {
      "text/html": [
       "<pre style=\"white-space:pre;overflow-x:auto;line-height:normal;font-family:Menlo,'DejaVu Sans Mono',consolas,'Courier New',monospace\">يمثّل الماء مورداً إستراتيجيّاً مهمّاً لجميع دول العالم، وكان ولا يزال سبباً للعديد من النزاعات السياسيّة. تعاني حوالي <span style=\"color: #008080; text-decoration-color: #008080; font-weight: bold\">50</span>\n",
       "دولة، أي حوالي ثلث سكان العالم، من نقص متوسّط إلى حادّ في المياه، مع وجود <span style=\"color: #008080; text-decoration-color: #008080; font-weight: bold\">17</span> دولة من تلك الدول والتي تقوم باستخراج \n",
       "كمّيّات من الماء سنوياً تفوق التي تُستردّ إليها من دورة الماء الطبيعيّة. في سنة <span style=\"color: #008080; text-decoration-color: #008080; font-weight: bold\">1990</span> تمكن <span style=\"color: #008080; text-decoration-color: #008080; font-weight: bold\">1.6</span> مليار نسمة فقط من الحصول\n",
       "على مصدر آمن للماء العذب. مع ازدياد الوعي طرأ تحسّن في نسبة الأشخاص في الدول الناميّة القادرين على الحصول على المياه\n",
       "المأمونة، وذلك من مجرد <span style=\"color: #008080; text-decoration-color: #008080; font-weight: bold\">30</span>% سنة <span style=\"color: #008080; text-decoration-color: #008080; font-weight: bold\">1970</span>، إلى <span style=\"color: #008080; text-decoration-color: #008080; font-weight: bold\">71</span>% سنة <span style=\"color: #008080; text-decoration-color: #008080; font-weight: bold\">1990</span>، و <span style=\"color: #008080; text-decoration-color: #008080; font-weight: bold\">79</span>% سنة <span style=\"color: #008080; text-decoration-color: #008080; font-weight: bold\">2000</span> و <span style=\"color: #008080; text-decoration-color: #008080; font-weight: bold\">84</span>% سنة <span style=\"color: #008080; text-decoration-color: #008080; font-weight: bold\">2004</span>، وهذا الميل آخذ في الاستمرار؛ \n",
       "خاصّة أنّه كان أحد الأهداف الإنمائيّة للألفيّة التي وضعتها الأمم المتّحدة.\n",
       "</pre>\n"
      ],
      "text/plain": [
       "يمثّل الماء مورداً إستراتيجيّاً مهمّاً لجميع دول العالم، وكان ولا يزال سبباً للعديد من النزاعات السياسيّة. تعاني حوالي \u001b[1;36m50\u001b[0m\n",
       "دولة، أي حوالي ثلث سكان العالم، من نقص متوسّط إلى حادّ في المياه، مع وجود \u001b[1;36m17\u001b[0m دولة من تلك الدول والتي تقوم باستخراج \n",
       "كمّيّات من الماء سنوياً تفوق التي تُستردّ إليها من دورة الماء الطبيعيّة. في سنة \u001b[1;36m1990\u001b[0m تمكن \u001b[1;36m1.6\u001b[0m مليار نسمة فقط من الحصول\n",
       "على مصدر آمن للماء العذب. مع ازدياد الوعي طرأ تحسّن في نسبة الأشخاص في الدول الناميّة القادرين على الحصول على المياه\n",
       "المأمونة، وذلك من مجرد \u001b[1;36m30\u001b[0m% سنة \u001b[1;36m1970\u001b[0m، إلى \u001b[1;36m71\u001b[0m% سنة \u001b[1;36m1990\u001b[0m، و \u001b[1;36m79\u001b[0m% سنة \u001b[1;36m2000\u001b[0m و \u001b[1;36m84\u001b[0m% سنة \u001b[1;36m2004\u001b[0m، وهذا الميل آخذ في الاستمرار؛ \n",
       "خاصّة أنّه كان أحد الأهداف الإنمائيّة للألفيّة التي وضعتها الأمم المتّحدة.\n"
      ]
     },
     "metadata": {},
     "output_type": "display_data"
    },
    {
     "data": {
      "text/html": [
       "<pre style=\"white-space:pre;overflow-x:auto;line-height:normal;font-family:Menlo,'DejaVu Sans Mono',consolas,'Courier New',monospace\">----------------------------------------------------------------------------------------------------\n",
       "</pre>\n"
      ],
      "text/plain": [
       "----------------------------------------------------------------------------------------------------\n"
      ]
     },
     "metadata": {},
     "output_type": "display_data"
    },
    {
     "data": {
      "text/html": [
       "<pre style=\"white-space:pre;overflow-x:auto;line-height:normal;font-family:Menlo,'DejaVu Sans Mono',consolas,'Courier New',monospace\">مع ازدياد عدد السكان في الأرض ومع حدوث شحّ في الموارد المائيّة في عدد من دول العالم، وخاصة الناميّة منها، أقدمت الأمم\n",
       "المتّحدة بطلب من بوليفيا على سنّ قانون حقّ المياه <span style=\"font-weight: bold\">(</span>أو بشكل مفصّل حق الإنسان في المياه والصرف الصحي HRWS<span style=\"font-weight: bold\">)</span> وذلك في <span style=\"color: #008080; text-decoration-color: #008080; font-weight: bold\">28</span>\n",
       "تموز/يوليو <span style=\"color: #008080; text-decoration-color: #008080; font-weight: bold\">2010</span>، وعدّ ذلك حقّاً من حقوق الإنسان. قدّمت الأمم المتّحدة تقريراً سنة <span style=\"color: #008080; text-decoration-color: #008080; font-weight: bold\">2006</span> مفاده أنّ الموارد المائيّة الموجودة\n",
       "كافية للجميع، ولكن الوصول إليها يعطّل بسبب سوء الإدارة والفساد. كما قُدّمت دعوات إلى الهيئات الإغاثية المانحة برفع \n",
       "كفاءة المساعدات والمشاريع التنمويّة في البلدان التي تعاني من شحّ الموارد المائيّة، وإلى حكومات الدول بوضع سياسات فعّالة\n",
       "في إدارة المياه.\n",
       "</pre>\n"
      ],
      "text/plain": [
       "مع ازدياد عدد السكان في الأرض ومع حدوث شحّ في الموارد المائيّة في عدد من دول العالم، وخاصة الناميّة منها، أقدمت الأمم\n",
       "المتّحدة بطلب من بوليفيا على سنّ قانون حقّ المياه \u001b[1m(\u001b[0mأو بشكل مفصّل حق الإنسان في المياه والصرف الصحي HRWS\u001b[1m)\u001b[0m وذلك في \u001b[1;36m28\u001b[0m\n",
       "تموز/يوليو \u001b[1;36m2010\u001b[0m، وعدّ ذلك حقّاً من حقوق الإنسان. قدّمت الأمم المتّحدة تقريراً سنة \u001b[1;36m2006\u001b[0m مفاده أنّ الموارد المائيّة الموجودة\n",
       "كافية للجميع، ولكن الوصول إليها يعطّل بسبب سوء الإدارة والفساد. كما قُدّمت دعوات إلى الهيئات الإغاثية المانحة برفع \n",
       "كفاءة المساعدات والمشاريع التنمويّة في البلدان التي تعاني من شحّ الموارد المائيّة، وإلى حكومات الدول بوضع سياسات فعّالة\n",
       "في إدارة المياه.\n"
      ]
     },
     "metadata": {},
     "output_type": "display_data"
    },
    {
     "data": {
      "text/html": [
       "<pre style=\"white-space:pre;overflow-x:auto;line-height:normal;font-family:Menlo,'DejaVu Sans Mono',consolas,'Courier New',monospace\">----------------------------------------------------------------------------------------------------\n",
       "</pre>\n"
      ],
      "text/plain": [
       "----------------------------------------------------------------------------------------------------\n"
      ]
     },
     "metadata": {},
     "output_type": "display_data"
    },
    {
     "data": {
      "text/html": [
       "<pre style=\"white-space:pre;overflow-x:auto;line-height:normal;font-family:Menlo,'DejaVu Sans Mono',consolas,'Courier New',monospace\">هناك العديد من الاتفاقيّات الدوليّة المتعلّقة بالمياه مثل اتفاقيّة الأمم المتّحدة لمكافحة التصحّر واتفاقيّة ماربول للحدّ من\n",
       "تلوّث المياه من السفن، واتفاقيّة رامسار للحفاظ والاستخدام المستدام للمناطق الرطبة؛ كما خصّص يوم <span style=\"color: #008080; text-decoration-color: #008080; font-weight: bold\">22</span> آذار/مارس كيوم \n",
       "عالمي للماء، والثامن من حزيران/يونيو من كلّ عام كيوم عالمي للمحيطات. بالإضافة إلى ذلك هناك عدد من الهيئات والمنظّمات\n",
       "غير الحكوميّة التي تعنى بشؤون المياه وإدارتها مثل المعهد الدولي لإدارة المياه.\n",
       "</pre>\n"
      ],
      "text/plain": [
       "هناك العديد من الاتفاقيّات الدوليّة المتعلّقة بالمياه مثل اتفاقيّة الأمم المتّحدة لمكافحة التصحّر واتفاقيّة ماربول للحدّ من\n",
       "تلوّث المياه من السفن، واتفاقيّة رامسار للحفاظ والاستخدام المستدام للمناطق الرطبة؛ كما خصّص يوم \u001b[1;36m22\u001b[0m آذار/مارس كيوم \n",
       "عالمي للماء، والثامن من حزيران/يونيو من كلّ عام كيوم عالمي للمحيطات. بالإضافة إلى ذلك هناك عدد من الهيئات والمنظّمات\n",
       "غير الحكوميّة التي تعنى بشؤون المياه وإدارتها مثل المعهد الدولي لإدارة المياه.\n"
      ]
     },
     "metadata": {},
     "output_type": "display_data"
    },
    {
     "data": {
      "text/html": [
       "<pre style=\"white-space:pre;overflow-x:auto;line-height:normal;font-family:Menlo,'DejaVu Sans Mono',consolas,'Courier New',monospace\">----------------------------------------------------------------------------------------------------\n",
       "</pre>\n"
      ],
      "text/plain": [
       "----------------------------------------------------------------------------------------------------\n"
      ]
     },
     "metadata": {},
     "output_type": "display_data"
    },
    {
     "data": {
      "text/html": [
       "<pre style=\"white-space:pre;overflow-x:auto;line-height:normal;font-family:Menlo,'DejaVu Sans Mono',consolas,'Courier New',monospace\">تلوّث المياه \n",
       "</pre>\n"
      ],
      "text/plain": [
       "تلوّث المياه \n"
      ]
     },
     "metadata": {},
     "output_type": "display_data"
    },
    {
     "data": {
      "text/html": [
       "<pre style=\"white-space:pre;overflow-x:auto;line-height:normal;font-family:Menlo,'DejaVu Sans Mono',consolas,'Courier New',monospace\">----------------------------------------------------------------------------------------------------\n",
       "</pre>\n"
      ],
      "text/plain": [
       "----------------------------------------------------------------------------------------------------\n"
      ]
     },
     "metadata": {},
     "output_type": "display_data"
    },
    {
     "data": {
      "text/html": [
       "<pre style=\"white-space:pre;overflow-x:auto;line-height:normal;font-family:Menlo,'DejaVu Sans Mono',consolas,'Courier New',monospace\">يعرّف ماء الشرب بأنّه الماء الصالح للاستخدام والاستهلاك البشري في الأمور الأساسيّة كالشرب والاستخدامات المنزليّة \n",
       "الأساسيّة. يمكن تحويل الماء غير الصالح للشرب وجعله صالحاً لذلك بالترشيح أو بالتقطير أو بوسائل معالجة المياه الأخرى.\n",
       "يدعى الماء غير الصالح للشرب والصالح للاستخدام المنزلي لأمور النظافة باسم «مصدر ماء آمن» <span style=\"font-weight: bold\">(</span>أو مياه مأمونة<span style=\"font-weight: bold\">)</span>، وهي مياه \n",
       "يمكن تعقيمها بعد استخدامها بواسطة معالجة كيميائيّة بالكلور أو الأوزون أو الأشعّة فوق البنفسجيّة. تحدّد جودة الماء \n",
       "وملاءمته للاستخدام عادةً بإجراء التحاليل الكيميائية الموافقة في المختبرات الاختصاصية.\n",
       "</pre>\n"
      ],
      "text/plain": [
       "يعرّف ماء الشرب بأنّه الماء الصالح للاستخدام والاستهلاك البشري في الأمور الأساسيّة كالشرب والاستخدامات المنزليّة \n",
       "الأساسيّة. يمكن تحويل الماء غير الصالح للشرب وجعله صالحاً لذلك بالترشيح أو بالتقطير أو بوسائل معالجة المياه الأخرى.\n",
       "يدعى الماء غير الصالح للشرب والصالح للاستخدام المنزلي لأمور النظافة باسم «مصدر ماء آمن» \u001b[1m(\u001b[0mأو مياه مأمونة\u001b[1m)\u001b[0m، وهي مياه \n",
       "يمكن تعقيمها بعد استخدامها بواسطة معالجة كيميائيّة بالكلور أو الأوزون أو الأشعّة فوق البنفسجيّة. تحدّد جودة الماء \n",
       "وملاءمته للاستخدام عادةً بإجراء التحاليل الكيميائية الموافقة في المختبرات الاختصاصية.\n"
      ]
     },
     "metadata": {},
     "output_type": "display_data"
    },
    {
     "data": {
      "text/html": [
       "<pre style=\"white-space:pre;overflow-x:auto;line-height:normal;font-family:Menlo,'DejaVu Sans Mono',consolas,'Courier New',monospace\">----------------------------------------------------------------------------------------------------\n",
       "</pre>\n"
      ],
      "text/plain": [
       "----------------------------------------------------------------------------------------------------\n"
      ]
     },
     "metadata": {},
     "output_type": "display_data"
    },
    {
     "data": {
      "text/html": [
       "<pre style=\"white-space:pre;overflow-x:auto;line-height:normal;font-family:Menlo,'DejaVu Sans Mono',consolas,'Courier New',monospace\">يشار إلى المياه غير الصالحة للشرب والناتجة بعد الاستهلاك البشري لها باسم المياه الرماديّة، وهي التي يمكن معالجتها \n",
       "بسهولة نسبيّاً، في حين أنّ تعبير المياه السوداء يشير إلى مياه الصرف الصحّي التي تتطلّب معالجة شاملة، مع الإشارة إلى وجود\n",
       "اختلاف في تعريف هذه المسمّيات وذلك حسب القوانين الناظمة لكل بلد. عند غياب المعالجة الكافية والرقابة الحكومية تحدث \n",
       "حالات تلوّث للمياه على مستوى فردي وصناعي، خاصّة في الدول الناميّة، حيث أبرز تقرير سنة <span style=\"color: #008080; text-decoration-color: #008080; font-weight: bold\">2002</span> أنّ <span style=\"color: #008080; text-decoration-color: #008080; font-weight: bold\">90</span>% من مياه الصرف تترك\n",
       "بلا معالجة لتصب في الجداول والأنهار الجارية أو تترك لترشح إلى المياه الجوفيّة لتلوّثها.\n",
       "</pre>\n"
      ],
      "text/plain": [
       "يشار إلى المياه غير الصالحة للشرب والناتجة بعد الاستهلاك البشري لها باسم المياه الرماديّة، وهي التي يمكن معالجتها \n",
       "بسهولة نسبيّاً، في حين أنّ تعبير المياه السوداء يشير إلى مياه الصرف الصحّي التي تتطلّب معالجة شاملة، مع الإشارة إلى وجود\n",
       "اختلاف في تعريف هذه المسمّيات وذلك حسب القوانين الناظمة لكل بلد. عند غياب المعالجة الكافية والرقابة الحكومية تحدث \n",
       "حالات تلوّث للمياه على مستوى فردي وصناعي، خاصّة في الدول الناميّة، حيث أبرز تقرير سنة \u001b[1;36m2002\u001b[0m أنّ \u001b[1;36m90\u001b[0m% من مياه الصرف تترك\n",
       "بلا معالجة لتصب في الجداول والأنهار الجارية أو تترك لترشح إلى المياه الجوفيّة لتلوّثها.\n"
      ]
     },
     "metadata": {},
     "output_type": "display_data"
    },
    {
     "data": {
      "text/html": [
       "<pre style=\"white-space:pre;overflow-x:auto;line-height:normal;font-family:Menlo,'DejaVu Sans Mono',consolas,'Courier New',monospace\">----------------------------------------------------------------------------------------------------\n",
       "</pre>\n"
      ],
      "text/plain": [
       "----------------------------------------------------------------------------------------------------\n"
      ]
     },
     "metadata": {},
     "output_type": "display_data"
    },
    {
     "data": {
      "text/html": [
       "<pre style=\"white-space:pre;overflow-x:auto;line-height:normal;font-family:Menlo,'DejaVu Sans Mono',consolas,'Courier New',monospace\">إنّ تخفيض جودة المياه له آثار كارثية على صحّة الإنسان بشكل خاص وعلى البيئة بشكل عام. قدّرت منظّمة الصحّة العالميّة مثلاً\n",
       "أنّ حوالي <span style=\"color: #008080; text-decoration-color: #008080; font-weight: bold\">1.4</span> مليون طفل يموتون سنويّاً بسبب الإسهال الحاصل من الماء الملوّث.\n",
       "</pre>\n"
      ],
      "text/plain": [
       "إنّ تخفيض جودة المياه له آثار كارثية على صحّة الإنسان بشكل خاص وعلى البيئة بشكل عام. قدّرت منظّمة الصحّة العالميّة مثلاً\n",
       "أنّ حوالي \u001b[1;36m1.4\u001b[0m مليون طفل يموتون سنويّاً بسبب الإسهال الحاصل من الماء الملوّث.\n"
      ]
     },
     "metadata": {},
     "output_type": "display_data"
    },
    {
     "data": {
      "text/html": [
       "<pre style=\"white-space:pre;overflow-x:auto;line-height:normal;font-family:Menlo,'DejaVu Sans Mono',consolas,'Courier New',monospace\">----------------------------------------------------------------------------------------------------\n",
       "</pre>\n"
      ],
      "text/plain": [
       "----------------------------------------------------------------------------------------------------\n"
      ]
     },
     "metadata": {},
     "output_type": "display_data"
    },
    {
     "data": {
      "text/html": [
       "<pre style=\"white-space:pre;overflow-x:auto;line-height:normal;font-family:Menlo,'DejaVu Sans Mono',consolas,'Courier New',monospace\">في الحياة والثقافة العامة \n",
       "بالإضافة إلى الأهمّيّة المادّيّة للماء في مختلف جوانب الحياة، فإنّ له مكانة في معتقدات البشر وثقافاتهم على مرّ العصور.\n",
       "</pre>\n"
      ],
      "text/plain": [
       "في الحياة والثقافة العامة \n",
       "بالإضافة إلى الأهمّيّة المادّيّة للماء في مختلف جوانب الحياة، فإنّ له مكانة في معتقدات البشر وثقافاتهم على مرّ العصور.\n"
      ]
     },
     "metadata": {},
     "output_type": "display_data"
    },
    {
     "data": {
      "text/html": [
       "<pre style=\"white-space:pre;overflow-x:auto;line-height:normal;font-family:Menlo,'DejaVu Sans Mono',consolas,'Courier New',monospace\">----------------------------------------------------------------------------------------------------\n",
       "</pre>\n"
      ],
      "text/plain": [
       "----------------------------------------------------------------------------------------------------\n"
      ]
     },
     "metadata": {},
     "output_type": "display_data"
    },
    {
     "data": {
      "text/html": [
       "<pre style=\"white-space:pre;overflow-x:auto;line-height:normal;font-family:Menlo,'DejaVu Sans Mono',consolas,'Courier New',monospace\">الماء في الديانات \n",
       "</pre>\n"
      ],
      "text/plain": [
       "الماء في الديانات \n"
      ]
     },
     "metadata": {},
     "output_type": "display_data"
    },
    {
     "data": {
      "text/html": [
       "<pre style=\"white-space:pre;overflow-x:auto;line-height:normal;font-family:Menlo,'DejaVu Sans Mono',consolas,'Courier New',monospace\">----------------------------------------------------------------------------------------------------\n",
       "</pre>\n"
      ],
      "text/plain": [
       "----------------------------------------------------------------------------------------------------\n"
      ]
     },
     "metadata": {},
     "output_type": "display_data"
    },
    {
     "data": {
      "text/html": [
       "<pre style=\"white-space:pre;overflow-x:auto;line-height:normal;font-family:Menlo,'DejaVu Sans Mono',consolas,'Courier New',monospace\">للماء أهمّيّة كبيرة في أغلب الديانات، وهو ذو صلة وثيقة بالنظافة والطهارة والتحلّل من الذنوب، وذلك في الديانات \n",
       "السماوية، بالإضافة إلى الهندوسيّة <span style=\"font-weight: bold\">(</span>وذلك بالاغتسال في نهر الغانج<span style=\"font-weight: bold\">)</span> والسيخيّة والطاويّة والشنتو وغيرها.\n",
       "</pre>\n"
      ],
      "text/plain": [
       "للماء أهمّيّة كبيرة في أغلب الديانات، وهو ذو صلة وثيقة بالنظافة والطهارة والتحلّل من الذنوب، وذلك في الديانات \n",
       "السماوية، بالإضافة إلى الهندوسيّة \u001b[1m(\u001b[0mوذلك بالاغتسال في نهر الغانج\u001b[1m)\u001b[0m والسيخيّة والطاويّة والشنتو وغيرها.\n"
      ]
     },
     "metadata": {},
     "output_type": "display_data"
    },
    {
     "data": {
      "text/html": [
       "<pre style=\"white-space:pre;overflow-x:auto;line-height:normal;font-family:Menlo,'DejaVu Sans Mono',consolas,'Courier New',monospace\">----------------------------------------------------------------------------------------------------\n",
       "</pre>\n"
      ],
      "text/plain": [
       "----------------------------------------------------------------------------------------------------\n"
      ]
     },
     "metadata": {},
     "output_type": "display_data"
    },
    {
     "data": {
      "text/html": [
       "<pre style=\"white-space:pre;overflow-x:auto;line-height:normal;font-family:Menlo,'DejaVu Sans Mono',consolas,'Courier New',monospace\">يحظى الماء في الإسلام بمكانة كبيرة، إذ به يتمّ الوضوء قبل كل صلاة، وفي حال تعذّر وجوده يستعان يالتيمّم بالتراب الطاهر.\n",
       "كما يستعمل الماء للتطهّر من النجاسات بالغسل ولغسل الأموات قبل الدفن. وردت كلمة الماء في القرآن <span style=\"color: #008080; text-decoration-color: #008080; font-weight: bold\">63</span> مرة وغالباً ما كان\n",
       "ورودها بمعنى النعمة، لما للماء من أهمّيّة بالغة. ومن أبرز الآيات التي ذكر الماء فيها: ، وقد فسّر العلماء هذا بأنّ الله\n",
       "جعل الماء سبباً للحياة. وقال بعض المفسّرين في ذلك: «وجعلنا من الماء كلّ شيء حيّ، أي: وأحيينا بالماء الذي ينزل من السماء\n",
       "كلّ شيء حيّ، أي من الحيوان ويدخل فيه النبات والشجر، يعني أنه سبب لحياة كلّ شي»، وقال آخرون أنّه تذكير بنعمة الله على\n",
       "البشر. وورد كذلك في سورة النور  وفسّر هذا على أن المقصود هو النطفة، وجاء أيضًا:  وكذلك: . ويتّفق العلماء المعاصرون أنّ\n",
       "تلويث الماء بشتّى طرق التلوّث المختلفة هو إفساد في الأرض لما يترتّب عليه من أضرار جسيمة لكلّ من يستخدم هذا الماء الملوّث\n",
       "من البشر إلى جانب بقيّة الأحياء الحيوانيّة والنباتيّة والمائيّة، وهو بالتالي أمر حرام نظراً لأنّ الإسلام نهى عن الإفساد\n",
       "في الأرض نهياً قاطعاً. كما أجمع العلماء على أنّ التبوّل في المياه أو التغوّط فيها أمرٌ منهيٌّ عنه نظراً للمفاسد التي تترتّب\n",
       "على ذلك والأضرار التي تلحق بعامّة الناس، وسندهم في ذلك الحديث النبوي: . وإلى جانب هذه الأهمّيّة لمصادر المياه عموماً في\n",
       "الإسلام، تأتي أهمّيّة خاصّة لبئر زمزم، الواقع ضمن الحرم المكّي على بعد <span style=\"color: #008080; text-decoration-color: #008080; font-weight: bold\">20</span> متراً من الكعبة، إذ يعتبر ماء تلك البئر مباركاً\n",
       "عند المسلمين لما يحمله من معانِ دينيّة، فوفق المعتقد الإسلامي كان الملاك جبريل هو من فجّر تلك البئر بعقبه لإسماعيل \n",
       "وأمّه هاجر، حيث تركهما نبي الله وخليله إبراهيم بأمر من الله في ذلك الوادي القفر الذي لا زرع فيه ولا ماء، وذلك حين \n",
       "نفد ما معهما من زاد وماء.\n",
       "</pre>\n"
      ],
      "text/plain": [
       "يحظى الماء في الإسلام بمكانة كبيرة، إذ به يتمّ الوضوء قبل كل صلاة، وفي حال تعذّر وجوده يستعان يالتيمّم بالتراب الطاهر.\n",
       "كما يستعمل الماء للتطهّر من النجاسات بالغسل ولغسل الأموات قبل الدفن. وردت كلمة الماء في القرآن \u001b[1;36m63\u001b[0m مرة وغالباً ما كان\n",
       "ورودها بمعنى النعمة، لما للماء من أهمّيّة بالغة. ومن أبرز الآيات التي ذكر الماء فيها: ، وقد فسّر العلماء هذا بأنّ الله\n",
       "جعل الماء سبباً للحياة. وقال بعض المفسّرين في ذلك: «وجعلنا من الماء كلّ شيء حيّ، أي: وأحيينا بالماء الذي ينزل من السماء\n",
       "كلّ شيء حيّ، أي من الحيوان ويدخل فيه النبات والشجر، يعني أنه سبب لحياة كلّ شي»، وقال آخرون أنّه تذكير بنعمة الله على\n",
       "البشر. وورد كذلك في سورة النور  وفسّر هذا على أن المقصود هو النطفة، وجاء أيضًا:  وكذلك: . ويتّفق العلماء المعاصرون أنّ\n",
       "تلويث الماء بشتّى طرق التلوّث المختلفة هو إفساد في الأرض لما يترتّب عليه من أضرار جسيمة لكلّ من يستخدم هذا الماء الملوّث\n",
       "من البشر إلى جانب بقيّة الأحياء الحيوانيّة والنباتيّة والمائيّة، وهو بالتالي أمر حرام نظراً لأنّ الإسلام نهى عن الإفساد\n",
       "في الأرض نهياً قاطعاً. كما أجمع العلماء على أنّ التبوّل في المياه أو التغوّط فيها أمرٌ منهيٌّ عنه نظراً للمفاسد التي تترتّب\n",
       "على ذلك والأضرار التي تلحق بعامّة الناس، وسندهم في ذلك الحديث النبوي: . وإلى جانب هذه الأهمّيّة لمصادر المياه عموماً في\n",
       "الإسلام، تأتي أهمّيّة خاصّة لبئر زمزم، الواقع ضمن الحرم المكّي على بعد \u001b[1;36m20\u001b[0m متراً من الكعبة، إذ يعتبر ماء تلك البئر مباركاً\n",
       "عند المسلمين لما يحمله من معانِ دينيّة، فوفق المعتقد الإسلامي كان الملاك جبريل هو من فجّر تلك البئر بعقبه لإسماعيل \n",
       "وأمّه هاجر، حيث تركهما نبي الله وخليله إبراهيم بأمر من الله في ذلك الوادي القفر الذي لا زرع فيه ولا ماء، وذلك حين \n",
       "نفد ما معهما من زاد وماء.\n"
      ]
     },
     "metadata": {},
     "output_type": "display_data"
    },
    {
     "data": {
      "text/html": [
       "<pre style=\"white-space:pre;overflow-x:auto;line-height:normal;font-family:Menlo,'DejaVu Sans Mono',consolas,'Courier New',monospace\">----------------------------------------------------------------------------------------------------\n",
       "</pre>\n"
      ],
      "text/plain": [
       "----------------------------------------------------------------------------------------------------\n"
      ]
     },
     "metadata": {},
     "output_type": "display_data"
    },
    {
     "data": {
      "text/html": [
       "<pre style=\"white-space:pre;overflow-x:auto;line-height:normal;font-family:Menlo,'DejaVu Sans Mono',consolas,'Courier New',monospace\">في المسيحيّة يستعمل الماء للتعميد، إذ يعتقد أنّه من الأسرار المقدسة. والتعميد هو غمر الجسد أو قسم منه بالماء ضمن طقوس\n",
       "كنسيّة، ومن خلاله يبقى المرء مسيحيّاً للأبد. وقد فسّر العلماء ذلك عبر ربطهم المياه بخلق الحياة، بشكل شبيه بما ورد في\n",
       "القرآن، فقد جاء في سفر التكوين:  وجاء أيضاً في وصف الأرض قبل الخليقة: ، وقال المفسّرون أنّ الحياة خرجت من الماء على\n",
       "هذا الشكل، وأنّ هناك ربطًا ما بين الماء وروح الله. ويستند المسيحيّون إلى ما ورد في إنجيل يوحنا من أنّ التعميد بالمياه\n",
       "ضروري للميلاد الثاني، أي دخول الشخص في المسيحية، فقد ورد في هذا المجال: ، وفسّر العلماء ذلك بأنّ الولادة المذكورة هنا\n",
       "إنّما ذكرت صراحة وليس رمزيّاً. كذلك، يعدّ التبرّك بالماء المقدّس من الأمور ذات الأهمّيّة والمكانة عند أغلب الكنائس \n",
       "المسيحيّة.\n",
       "</pre>\n"
      ],
      "text/plain": [
       "في المسيحيّة يستعمل الماء للتعميد، إذ يعتقد أنّه من الأسرار المقدسة. والتعميد هو غمر الجسد أو قسم منه بالماء ضمن طقوس\n",
       "كنسيّة، ومن خلاله يبقى المرء مسيحيّاً للأبد. وقد فسّر العلماء ذلك عبر ربطهم المياه بخلق الحياة، بشكل شبيه بما ورد في\n",
       "القرآن، فقد جاء في سفر التكوين:  وجاء أيضاً في وصف الأرض قبل الخليقة: ، وقال المفسّرون أنّ الحياة خرجت من الماء على\n",
       "هذا الشكل، وأنّ هناك ربطًا ما بين الماء وروح الله. ويستند المسيحيّون إلى ما ورد في إنجيل يوحنا من أنّ التعميد بالمياه\n",
       "ضروري للميلاد الثاني، أي دخول الشخص في المسيحية، فقد ورد في هذا المجال: ، وفسّر العلماء ذلك بأنّ الولادة المذكورة هنا\n",
       "إنّما ذكرت صراحة وليس رمزيّاً. كذلك، يعدّ التبرّك بالماء المقدّس من الأمور ذات الأهمّيّة والمكانة عند أغلب الكنائس \n",
       "المسيحيّة.\n"
      ]
     },
     "metadata": {},
     "output_type": "display_data"
    },
    {
     "data": {
      "text/html": [
       "<pre style=\"white-space:pre;overflow-x:auto;line-height:normal;font-family:Menlo,'DejaVu Sans Mono',consolas,'Courier New',monospace\">----------------------------------------------------------------------------------------------------\n",
       "</pre>\n"
      ],
      "text/plain": [
       "----------------------------------------------------------------------------------------------------\n"
      ]
     },
     "metadata": {},
     "output_type": "display_data"
    },
    {
     "data": {
      "text/html": [
       "<pre style=\"white-space:pre;overflow-x:auto;line-height:normal;font-family:Menlo,'DejaVu Sans Mono',consolas,'Courier New',monospace\">وكذلك في الديانة اليهوديّة، يستعمل الماء للتطهّر والاغتسال، كما يتمّ غسل الموتى قبل الدفن أيضاً. وقد قدّست التوراة \n",
       "المياه بسبب ما ذكر سلفاً في سفر التكوين عن بداية الخليقة، فـ. وفي اليهوديّة أيضاً يستخدم الماء لتطهّر الفرد من نجاسات\n",
       "الدنيا وخطاياه، وتغسيل اليدين قبيل الأكل مثلاً واجب في اليهوديّة، للتطهّر قبل تذوّق نعمة الربّ، واليهود أيضاً لهم شكل من\n",
       "أشكال الغسل وهو الميكفاه، والرجل اليهودي المتديّن يمارس الميكفاه كلّ نهار جمعة وقبل الاحتفالات الدينيّة المهمّة، أمّا\n",
       "المرأة، فتغتسل قبل الزواج، وبعد الإنجاب، وبعد عبورها لدورتها الشهريّة أيضاً.\n",
       "</pre>\n"
      ],
      "text/plain": [
       "وكذلك في الديانة اليهوديّة، يستعمل الماء للتطهّر والاغتسال، كما يتمّ غسل الموتى قبل الدفن أيضاً. وقد قدّست التوراة \n",
       "المياه بسبب ما ذكر سلفاً في سفر التكوين عن بداية الخليقة، فـ. وفي اليهوديّة أيضاً يستخدم الماء لتطهّر الفرد من نجاسات\n",
       "الدنيا وخطاياه، وتغسيل اليدين قبيل الأكل مثلاً واجب في اليهوديّة، للتطهّر قبل تذوّق نعمة الربّ، واليهود أيضاً لهم شكل من\n",
       "أشكال الغسل وهو الميكفاه، والرجل اليهودي المتديّن يمارس الميكفاه كلّ نهار جمعة وقبل الاحتفالات الدينيّة المهمّة، أمّا\n",
       "المرأة، فتغتسل قبل الزواج، وبعد الإنجاب، وبعد عبورها لدورتها الشهريّة أيضاً.\n"
      ]
     },
     "metadata": {},
     "output_type": "display_data"
    },
    {
     "data": {
      "text/html": [
       "<pre style=\"white-space:pre;overflow-x:auto;line-height:normal;font-family:Menlo,'DejaVu Sans Mono',consolas,'Courier New',monospace\">----------------------------------------------------------------------------------------------------\n",
       "</pre>\n"
      ],
      "text/plain": [
       "----------------------------------------------------------------------------------------------------\n"
      ]
     },
     "metadata": {},
     "output_type": "display_data"
    },
    {
     "data": {
      "text/html": [
       "<pre style=\"white-space:pre;overflow-x:auto;line-height:normal;font-family:Menlo,'DejaVu Sans Mono',consolas,'Courier New',monospace\">الماء في الثقافة \n",
       "</pre>\n"
      ],
      "text/plain": [
       "الماء في الثقافة \n"
      ]
     },
     "metadata": {},
     "output_type": "display_data"
    },
    {
     "data": {
      "text/html": [
       "<pre style=\"white-space:pre;overflow-x:auto;line-height:normal;font-family:Menlo,'DejaVu Sans Mono',consolas,'Courier New',monospace\">----------------------------------------------------------------------------------------------------\n",
       "</pre>\n"
      ],
      "text/plain": [
       "----------------------------------------------------------------------------------------------------\n"
      ]
     },
     "metadata": {},
     "output_type": "display_data"
    },
    {
     "data": {
      "text/html": [
       "<pre style=\"white-space:pre;overflow-x:auto;line-height:normal;font-family:Menlo,'DejaVu Sans Mono',consolas,'Courier New',monospace\">اشتغل الفلاسفة اليونان في تفسير وجود الماء في الحياة، فاقترح طاليس، والذي كان يتّبع المدرسة الفلسفيّة الأحاديّة <span style=\"font-weight: bold\">(</span>أو\n",
       "الواحدية<span style=\"font-weight: bold\">)</span>، أنّ الأرض قد انبثقت من الماء، ولم يقتصر الأمر على الأرض وحدها بل اعتقد أنّ كلّ الأشياء مصنوعة من الماء. أمّا\n",
       "أفلاطون فتصوّر أنّ شكل الماء عشرونيّ السطوح، ولذلك فهو قادر على الجريان بخلاف الأرض مكعّبة الشكل حسب اعتقاده آنذاك.\n",
       "</pre>\n"
      ],
      "text/plain": [
       "اشتغل الفلاسفة اليونان في تفسير وجود الماء في الحياة، فاقترح طاليس، والذي كان يتّبع المدرسة الفلسفيّة الأحاديّة \u001b[1m(\u001b[0mأو\n",
       "الواحدية\u001b[1m)\u001b[0m، أنّ الأرض قد انبثقت من الماء، ولم يقتصر الأمر على الأرض وحدها بل اعتقد أنّ كلّ الأشياء مصنوعة من الماء. أمّا\n",
       "أفلاطون فتصوّر أنّ شكل الماء عشرونيّ السطوح، ولذلك فهو قادر على الجريان بخلاف الأرض مكعّبة الشكل حسب اعتقاده آنذاك.\n"
      ]
     },
     "metadata": {},
     "output_type": "display_data"
    },
    {
     "data": {
      "text/html": [
       "<pre style=\"white-space:pre;overflow-x:auto;line-height:normal;font-family:Menlo,'DejaVu Sans Mono',consolas,'Courier New',monospace\">----------------------------------------------------------------------------------------------------\n",
       "</pre>\n"
      ],
      "text/plain": [
       "----------------------------------------------------------------------------------------------------\n"
      ]
     },
     "metadata": {},
     "output_type": "display_data"
    },
    {
     "data": {
      "text/html": [
       "<pre style=\"white-space:pre;overflow-x:auto;line-height:normal;font-family:Menlo,'DejaVu Sans Mono',consolas,'Courier New',monospace\">كان الفيلسوف اليوناني إيمبيدوكليس أوّل من قدّم مفهوم نظرية العناصر الأربعة التي يتكوّن منها العالم، والتي سادت لفترة\n",
       "طويلة من الزمن. تعتمد النظرية على أربعة مواد وهي الماء والنار والهواء والتراب. أمّا في نظريّة الأخلاط الأربعة فاقترن\n",
       "الماء مع البلغم بكونه بارداً ورطباً. كان الماء أيضاً من العناصر التقليدية في نظريّة العناصر الخمسة حسب الفلسفة الصينيّة\n",
       "التقليديّة، وذلك بالإضافة إلى النار والتراب والمعدن والخشب. كما أنّ الماء يدخل في العديد من الفلسفات والمعتقدات مثل\n",
       "الطاوية، حيث ضرب به المثل في كتاب داوديجنغ بجمعه للأضداد كيف أنّه ضعيف ورئيف في حين؛ وكيف أنّه قويّ وشديد في حين آخر.\n",
       "</pre>\n"
      ],
      "text/plain": [
       "كان الفيلسوف اليوناني إيمبيدوكليس أوّل من قدّم مفهوم نظرية العناصر الأربعة التي يتكوّن منها العالم، والتي سادت لفترة\n",
       "طويلة من الزمن. تعتمد النظرية على أربعة مواد وهي الماء والنار والهواء والتراب. أمّا في نظريّة الأخلاط الأربعة فاقترن\n",
       "الماء مع البلغم بكونه بارداً ورطباً. كان الماء أيضاً من العناصر التقليدية في نظريّة العناصر الخمسة حسب الفلسفة الصينيّة\n",
       "التقليديّة، وذلك بالإضافة إلى النار والتراب والمعدن والخشب. كما أنّ الماء يدخل في العديد من الفلسفات والمعتقدات مثل\n",
       "الطاوية، حيث ضرب به المثل في كتاب داوديجنغ بجمعه للأضداد كيف أنّه ضعيف ورئيف في حين؛ وكيف أنّه قويّ وشديد في حين آخر.\n"
      ]
     },
     "metadata": {},
     "output_type": "display_data"
    },
    {
     "data": {
      "text/html": [
       "<pre style=\"white-space:pre;overflow-x:auto;line-height:normal;font-family:Menlo,'DejaVu Sans Mono',consolas,'Courier New',monospace\">----------------------------------------------------------------------------------------------------\n",
       "</pre>\n"
      ],
      "text/plain": [
       "----------------------------------------------------------------------------------------------------\n"
      ]
     },
     "metadata": {},
     "output_type": "display_data"
    },
    {
     "data": {
      "text/html": [
       "<pre style=\"white-space:pre;overflow-x:auto;line-height:normal;font-family:Menlo,'DejaVu Sans Mono',consolas,'Courier New',monospace\">دخل الماء في العديد من الأساطير والخرافات والحكايا الشعبيّة والروحيّات، منها أسطورة ماء الحياة للأخوين غريم \n",
       "الألمانيّين، والتي فيها إشارة إلى ينبوع الشباب، الذي يعيد الشباب لكل من يشربه أو يستحمّ به.\n",
       "</pre>\n"
      ],
      "text/plain": [
       "دخل الماء في العديد من الأساطير والخرافات والحكايا الشعبيّة والروحيّات، منها أسطورة ماء الحياة للأخوين غريم \n",
       "الألمانيّين، والتي فيها إشارة إلى ينبوع الشباب، الذي يعيد الشباب لكل من يشربه أو يستحمّ به.\n"
      ]
     },
     "metadata": {},
     "output_type": "display_data"
    },
    {
     "data": {
      "text/html": [
       "<pre style=\"white-space:pre;overflow-x:auto;line-height:normal;font-family:Menlo,'DejaVu Sans Mono',consolas,'Courier New',monospace\">----------------------------------------------------------------------------------------------------\n",
       "</pre>\n"
      ],
      "text/plain": [
       "----------------------------------------------------------------------------------------------------\n"
      ]
     },
     "metadata": {},
     "output_type": "display_data"
    },
    {
     "data": {
      "text/html": [
       "<pre style=\"white-space:pre;overflow-x:auto;line-height:normal;font-family:Menlo,'DejaVu Sans Mono',consolas,'Courier New',monospace\">الماء في اللغة العربية \n",
       "</pre>\n"
      ],
      "text/plain": [
       "الماء في اللغة العربية \n"
      ]
     },
     "metadata": {},
     "output_type": "display_data"
    },
    {
     "data": {
      "text/html": [
       "<pre style=\"white-space:pre;overflow-x:auto;line-height:normal;font-family:Menlo,'DejaVu Sans Mono',consolas,'Courier New',monospace\">----------------------------------------------------------------------------------------------------\n",
       "</pre>\n"
      ],
      "text/plain": [
       "----------------------------------------------------------------------------------------------------\n"
      ]
     },
     "metadata": {},
     "output_type": "display_data"
    },
    {
     "data": {
      "text/html": [
       "<pre style=\"white-space:pre;overflow-x:auto;line-height:normal;font-family:Menlo,'DejaVu Sans Mono',consolas,'Courier New',monospace\">يعود الأصل اللغوي لكلمة ماء في اللغة العربية إلى الجذر: <span style=\"font-weight: bold\">(</span>م وهـ<span style=\"font-weight: bold\">)</span>، تحرّكت الواو وانفتح ما قبلها فقُلبت ألفاً، فصار: \n",
       "<span style=\"font-weight: bold\">(</span>ماه<span style=\"font-weight: bold\">)</span>، ثم أبدلت الهاء همزة فصار: <span style=\"font-weight: bold\">(</span>ماء<span style=\"font-weight: bold\">)</span>، وتجمع الكلمة على مياه وأمواه.\n",
       "</pre>\n"
      ],
      "text/plain": [
       "يعود الأصل اللغوي لكلمة ماء في اللغة العربية إلى الجذر: \u001b[1m(\u001b[0mم وهـ\u001b[1m)\u001b[0m، تحرّكت الواو وانفتح ما قبلها فقُلبت ألفاً، فصار: \n",
       "\u001b[1m(\u001b[0mماه\u001b[1m)\u001b[0m، ثم أبدلت الهاء همزة فصار: \u001b[1m(\u001b[0mماء\u001b[1m)\u001b[0m، وتجمع الكلمة على مياه وأمواه.\n"
      ]
     },
     "metadata": {},
     "output_type": "display_data"
    },
    {
     "data": {
      "text/html": [
       "<pre style=\"white-space:pre;overflow-x:auto;line-height:normal;font-family:Menlo,'DejaVu Sans Mono',consolas,'Courier New',monospace\">----------------------------------------------------------------------------------------------------\n",
       "</pre>\n"
      ],
      "text/plain": [
       "----------------------------------------------------------------------------------------------------\n"
      ]
     },
     "metadata": {},
     "output_type": "display_data"
    },
    {
     "data": {
      "text/html": [
       "<pre style=\"white-space:pre;overflow-x:auto;line-height:normal;font-family:Menlo,'DejaVu Sans Mono',consolas,'Courier New',monospace\">ورد للماء عدد من المرادفات، ذُكرت في كتاب معجم أسماء الأشياء المسمّى «اللطائف في اللغة»؛ ومنها: الأبَاب، البِلال، \n",
       "العَتيق؛ ويقال عن الماء الكثير أنّه: السَّعْبَر، والطَرطَبِيس، والغُذارِم، والغَمْر، والجُباجِب؛ أمّا الماء القليل: فهو: الشَّوْل،\n",
       "والسَّمَلَة، والجُزْعَة. يقال عن الماء العذب البارد أنه: زلُال، ويسمّى أيضاً: البُسْر، والقَرُور، والسَّلْسال؛ في حين أن الماء الحار\n",
       "هو: السَّخين، والحَنيذ. يسمّى الماء العذب: الرَواء، والفُرات، والبَضيع، والفظيع، والنَّمير. بالمقابل، فإنّ الماء غير العذب\n",
       "هو: الآجِن، والصُّقْعُر، والطاهِل، والآسِن، والماج، والزُّعَاق.\n",
       "</pre>\n"
      ],
      "text/plain": [
       "ورد للماء عدد من المرادفات، ذُكرت في كتاب معجم أسماء الأشياء المسمّى «اللطائف في اللغة»؛ ومنها: الأبَاب، البِلال، \n",
       "العَتيق؛ ويقال عن الماء الكثير أنّه: السَّعْبَر، والطَرطَبِيس، والغُذارِم، والغَمْر، والجُباجِب؛ أمّا الماء القليل: فهو: الشَّوْل،\n",
       "والسَّمَلَة، والجُزْعَة. يقال عن الماء العذب البارد أنه: زلُال، ويسمّى أيضاً: البُسْر، والقَرُور، والسَّلْسال؛ في حين أن الماء الحار\n",
       "هو: السَّخين، والحَنيذ. يسمّى الماء العذب: الرَواء، والفُرات، والبَضيع، والفظيع، والنَّمير. بالمقابل، فإنّ الماء غير العذب\n",
       "هو: الآجِن، والصُّقْعُر، والطاهِل، والآسِن، والماج، والزُّعَاق.\n"
      ]
     },
     "metadata": {},
     "output_type": "display_data"
    },
    {
     "data": {
      "text/html": [
       "<pre style=\"white-space:pre;overflow-x:auto;line-height:normal;font-family:Menlo,'DejaVu Sans Mono',consolas,'Courier New',monospace\">----------------------------------------------------------------------------------------------------\n",
       "</pre>\n"
      ],
      "text/plain": [
       "----------------------------------------------------------------------------------------------------\n"
      ]
     },
     "metadata": {},
     "output_type": "display_data"
    },
    {
     "data": {
      "text/html": [
       "<pre style=\"white-space:pre;overflow-x:auto;line-height:normal;font-family:Menlo,'DejaVu Sans Mono',consolas,'Courier New',monospace\">يستخدم لفظ الماء في العديد من التعابير والأمثال العربية؛ فمثلاً يقال ماء الوجه للدلالة على الحياء أو الكرامة، ومن \n",
       "ذلك تعبير «أراق ماء وجهه»، ويقابله «حفظ ماء وجهه». يقال أيضاً «عادت المياه إلى مجاريها» للإشارة إلى حدوث صلح بعد \n",
       "نزاع، وعند عجز الإنسان عن التكلّم في موقف ما، يقال: «في فمي ماء!»، ويقال «فسَّر الماء بالماء» للدلالة على إسفاف الكلام\n",
       "وعدم تقديم إضافة معرفيّة للسامع أو للقارئ، ويعود التعبير الأخير إلى وصف بيت الشعر:\n",
       "</pre>\n"
      ],
      "text/plain": [
       "يستخدم لفظ الماء في العديد من التعابير والأمثال العربية؛ فمثلاً يقال ماء الوجه للدلالة على الحياء أو الكرامة، ومن \n",
       "ذلك تعبير «أراق ماء وجهه»، ويقابله «حفظ ماء وجهه». يقال أيضاً «عادت المياه إلى مجاريها» للإشارة إلى حدوث صلح بعد \n",
       "نزاع، وعند عجز الإنسان عن التكلّم في موقف ما، يقال: «في فمي ماء!»، ويقال «فسَّر الماء بالماء» للدلالة على إسفاف الكلام\n",
       "وعدم تقديم إضافة معرفيّة للسامع أو للقارئ، ويعود التعبير الأخير إلى وصف بيت الشعر:\n"
      ]
     },
     "metadata": {},
     "output_type": "display_data"
    },
    {
     "data": {
      "text/html": [
       "<pre style=\"white-space:pre;overflow-x:auto;line-height:normal;font-family:Menlo,'DejaVu Sans Mono',consolas,'Courier New',monospace\">----------------------------------------------------------------------------------------------------\n",
       "</pre>\n"
      ],
      "text/plain": [
       "----------------------------------------------------------------------------------------------------\n"
      ]
     },
     "metadata": {},
     "output_type": "display_data"
    },
    {
     "data": {
      "text/html": [
       "<pre style=\"white-space:pre;overflow-x:auto;line-height:normal;font-family:Menlo,'DejaVu Sans Mono',consolas,'Courier New',monospace\">والذي ردّ عليه القاضي ابن الذروي قائلاً:\n",
       "</pre>\n"
      ],
      "text/plain": [
       "والذي ردّ عليه القاضي ابن الذروي قائلاً:\n"
      ]
     },
     "metadata": {},
     "output_type": "display_data"
    },
    {
     "data": {
      "text/html": [
       "<pre style=\"white-space:pre;overflow-x:auto;line-height:normal;font-family:Menlo,'DejaVu Sans Mono',consolas,'Courier New',monospace\">----------------------------------------------------------------------------------------------------\n",
       "</pre>\n"
      ],
      "text/plain": [
       "----------------------------------------------------------------------------------------------------\n"
      ]
     },
     "metadata": {},
     "output_type": "display_data"
    },
    {
     "data": {
      "text/html": [
       "<pre style=\"white-space:pre;overflow-x:auto;line-height:normal;font-family:Menlo,'DejaVu Sans Mono',consolas,'Courier New',monospace\">وذلك في حادثةٍ مشهورة؛ على الرغم من أن البيت الأخير نسبه البعض إلى ابن الوردي، مثلما فعل البهاء العاملي في كتابه \n",
       "الكشكول.\n",
       "</pre>\n"
      ],
      "text/plain": [
       "وذلك في حادثةٍ مشهورة؛ على الرغم من أن البيت الأخير نسبه البعض إلى ابن الوردي، مثلما فعل البهاء العاملي في كتابه \n",
       "الكشكول.\n"
      ]
     },
     "metadata": {},
     "output_type": "display_data"
    },
    {
     "data": {
      "text/html": [
       "<pre style=\"white-space:pre;overflow-x:auto;line-height:normal;font-family:Menlo,'DejaVu Sans Mono',consolas,'Courier New',monospace\">----------------------------------------------------------------------------------------------------\n",
       "</pre>\n"
      ],
      "text/plain": [
       "----------------------------------------------------------------------------------------------------\n"
      ]
     },
     "metadata": {},
     "output_type": "display_data"
    },
    {
     "data": {
      "text/html": [
       "<pre style=\"white-space:pre;overflow-x:auto;line-height:normal;font-family:Menlo,'DejaVu Sans Mono',consolas,'Courier New',monospace\">على العموم، ورد ذكر الماء كثيراً في الشعر العربي في مناسبات أخرى عديدة.\n",
       "</pre>\n"
      ],
      "text/plain": [
       "على العموم، ورد ذكر الماء كثيراً في الشعر العربي في مناسبات أخرى عديدة.\n"
      ]
     },
     "metadata": {},
     "output_type": "display_data"
    },
    {
     "data": {
      "text/html": [
       "<pre style=\"white-space:pre;overflow-x:auto;line-height:normal;font-family:Menlo,'DejaVu Sans Mono',consolas,'Courier New',monospace\">----------------------------------------------------------------------------------------------------\n",
       "</pre>\n"
      ],
      "text/plain": [
       "----------------------------------------------------------------------------------------------------\n"
      ]
     },
     "metadata": {},
     "output_type": "display_data"
    },
    {
     "data": {
      "text/html": [
       "<pre style=\"white-space:pre;overflow-x:auto;line-height:normal;font-family:Menlo,'DejaVu Sans Mono',consolas,'Courier New',monospace\">الماء في الأغنية العربية \n",
       "بسبب دخوله في كافة أشكال الحياة اليومية، كان للماء نصيب وحضور في الأغنية العربية وذلك سواء بالفصحى أو بمختلف \n",
       "باللهجات.\n",
       "</pre>\n"
      ],
      "text/plain": [
       "الماء في الأغنية العربية \n",
       "بسبب دخوله في كافة أشكال الحياة اليومية، كان للماء نصيب وحضور في الأغنية العربية وذلك سواء بالفصحى أو بمختلف \n",
       "باللهجات.\n"
      ]
     },
     "metadata": {},
     "output_type": "display_data"
    },
    {
     "data": {
      "text/html": [
       "<pre style=\"white-space:pre;overflow-x:auto;line-height:normal;font-family:Menlo,'DejaVu Sans Mono',consolas,'Courier New',monospace\">----------------------------------------------------------------------------------------------------\n",
       "</pre>\n"
      ],
      "text/plain": [
       "----------------------------------------------------------------------------------------------------\n"
      ]
     },
     "metadata": {},
     "output_type": "display_data"
    },
    {
     "data": {
      "text/html": [
       "<pre style=\"white-space:pre;overflow-x:auto;line-height:normal;font-family:Menlo,'DejaVu Sans Mono',consolas,'Courier New',monospace\">ربما من أشهر الأغاني العربية بالفصحى التي تتضمن لفظ الماء أغنية «رسالة من تحت الماء» لعبد الحليم حافظ، من كلمات \n",
       "الشاعر نزار قباني وألحان محمد الموجي. ومن الأغاني الشهيرة بالعامية المصرية أغنية محمد عبد الوهاب «المي تروي \n",
       "العطشان». كما درج استخدام لفظ الماء بالعامية في أغاني بلاد الشام، وذلك بشكل مقترن بعين الماء على الأغلب، مثل أغنية \n",
       "«عين المي عين» و«ديروا المي» للسيّدة فيروز وأغنية «على عين المي» لنصري شمس الدين، بالإضافة إلى أغنية ذياب مشهور \n",
       "«عالماية عالماية».\n",
       "</pre>\n"
      ],
      "text/plain": [
       "ربما من أشهر الأغاني العربية بالفصحى التي تتضمن لفظ الماء أغنية «رسالة من تحت الماء» لعبد الحليم حافظ، من كلمات \n",
       "الشاعر نزار قباني وألحان محمد الموجي. ومن الأغاني الشهيرة بالعامية المصرية أغنية محمد عبد الوهاب «المي تروي \n",
       "العطشان». كما درج استخدام لفظ الماء بالعامية في أغاني بلاد الشام، وذلك بشكل مقترن بعين الماء على الأغلب، مثل أغنية \n",
       "«عين المي عين» و«ديروا المي» للسيّدة فيروز وأغنية «على عين المي» لنصري شمس الدين، بالإضافة إلى أغنية ذياب مشهور \n",
       "«عالماية عالماية».\n"
      ]
     },
     "metadata": {},
     "output_type": "display_data"
    },
    {
     "data": {
      "text/html": [
       "<pre style=\"white-space:pre;overflow-x:auto;line-height:normal;font-family:Menlo,'DejaVu Sans Mono',consolas,'Courier New',monospace\">----------------------------------------------------------------------------------------------------\n",
       "</pre>\n"
      ],
      "text/plain": [
       "----------------------------------------------------------------------------------------------------\n"
      ]
     },
     "metadata": {},
     "output_type": "display_data"
    },
    {
     "data": {
      "text/html": [
       "<pre style=\"white-space:pre;overflow-x:auto;line-height:normal;font-family:Menlo,'DejaVu Sans Mono',consolas,'Courier New',monospace\">اقرأ أيضًا \n",
       " أصل الماء على كوكب الأرض\n",
       " مخطط تصنيفي للماء\n",
       " ماء الينابيع\n",
       " ماء سائل خارج الأرض\n",
       " مياه الحقن\n",
       " لون الماء\n",
       "</pre>\n"
      ],
      "text/plain": [
       "اقرأ أيضًا \n",
       " أصل الماء على كوكب الأرض\n",
       " مخطط تصنيفي للماء\n",
       " ماء الينابيع\n",
       " ماء سائل خارج الأرض\n",
       " مياه الحقن\n",
       " لون الماء\n"
      ]
     },
     "metadata": {},
     "output_type": "display_data"
    },
    {
     "data": {
      "text/html": [
       "<pre style=\"white-space:pre;overflow-x:auto;line-height:normal;font-family:Menlo,'DejaVu Sans Mono',consolas,'Courier New',monospace\">----------------------------------------------------------------------------------------------------\n",
       "</pre>\n"
      ],
      "text/plain": [
       "----------------------------------------------------------------------------------------------------\n"
      ]
     },
     "metadata": {},
     "output_type": "display_data"
    },
    {
     "data": {
      "text/html": [
       "<pre style=\"white-space:pre;overflow-x:auto;line-height:normal;font-family:Menlo,'DejaVu Sans Mono',consolas,'Courier New',monospace\">المراجع\n",
       "</pre>\n"
      ],
      "text/plain": [
       "المراجع\n"
      ]
     },
     "metadata": {},
     "output_type": "display_data"
    },
    {
     "data": {
      "text/html": [
       "<pre style=\"white-space:pre;overflow-x:auto;line-height:normal;font-family:Menlo,'DejaVu Sans Mono',consolas,'Courier New',monospace\">----------------------------------------------------------------------------------------------------\n",
       "</pre>\n"
      ],
      "text/plain": [
       "----------------------------------------------------------------------------------------------------\n"
      ]
     },
     "metadata": {},
     "output_type": "display_data"
    },
    {
     "data": {
      "text/html": [
       "<pre style=\"white-space:pre;overflow-x:auto;line-height:normal;font-family:Menlo,'DejaVu Sans Mono',consolas,'Courier New',monospace\">باللغة الإنكليزية\n",
       "</pre>\n"
      ],
      "text/plain": [
       "باللغة الإنكليزية\n"
      ]
     },
     "metadata": {},
     "output_type": "display_data"
    },
    {
     "data": {
      "text/html": [
       "<pre style=\"white-space:pre;overflow-x:auto;line-height:normal;font-family:Menlo,'DejaVu Sans Mono',consolas,'Courier New',monospace\">----------------------------------------------------------------------------------------------------\n",
       "</pre>\n"
      ],
      "text/plain": [
       "----------------------------------------------------------------------------------------------------\n"
      ]
     },
     "metadata": {},
     "output_type": "display_data"
    },
    {
     "data": {
      "text/html": [
       "<pre style=\"white-space:pre;overflow-x:auto;line-height:normal;font-family:Menlo,'DejaVu Sans Mono',consolas,'Courier New',monospace\">باللغة العربية\n",
       "</pre>\n"
      ],
      "text/plain": [
       "باللغة العربية\n"
      ]
     },
     "metadata": {},
     "output_type": "display_data"
    },
    {
     "data": {
      "text/html": [
       "<pre style=\"white-space:pre;overflow-x:auto;line-height:normal;font-family:Menlo,'DejaVu Sans Mono',consolas,'Courier New',monospace\">----------------------------------------------------------------------------------------------------\n",
       "</pre>\n"
      ],
      "text/plain": [
       "----------------------------------------------------------------------------------------------------\n"
      ]
     },
     "metadata": {},
     "output_type": "display_data"
    },
    {
     "data": {
      "text/html": [
       "<pre style=\"white-space:pre;overflow-x:auto;line-height:normal;font-family:Menlo,'DejaVu Sans Mono',consolas,'Courier New',monospace\">وصلات خارجية \n",
       "</pre>\n"
      ],
      "text/plain": [
       "وصلات خارجية \n"
      ]
     },
     "metadata": {},
     "output_type": "display_data"
    },
    {
     "data": {
      "text/html": [
       "<pre style=\"white-space:pre;overflow-x:auto;line-height:normal;font-family:Menlo,'DejaVu Sans Mono',consolas,'Courier New',monospace\">----------------------------------------------------------------------------------------------------\n",
       "</pre>\n"
      ],
      "text/plain": [
       "----------------------------------------------------------------------------------------------------\n"
      ]
     },
     "metadata": {},
     "output_type": "display_data"
    },
    {
     "data": {
      "text/html": [
       "<pre style=\"white-space:pre;overflow-x:auto;line-height:normal;font-family:Menlo,'DejaVu Sans Mono',consolas,'Courier New',monospace\"> إحصاءات المياه من منظمة التعاون الاقتصادي والتنمية.\n",
       " صفحة بيانات المياه في العالم.\n",
       " قاعدة بيانات المياه الشاملة من منظمة الأغذية والزراعة.\n",
       "</pre>\n"
      ],
      "text/plain": [
       " إحصاءات المياه من منظمة التعاون الاقتصادي والتنمية.\n",
       " صفحة بيانات المياه في العالم.\n",
       " قاعدة بيانات المياه الشاملة من منظمة الأغذية والزراعة.\n"
      ]
     },
     "metadata": {},
     "output_type": "display_data"
    },
    {
     "data": {
      "text/html": [
       "<pre style=\"white-space:pre;overflow-x:auto;line-height:normal;font-family:Menlo,'DejaVu Sans Mono',consolas,'Courier New',monospace\">----------------------------------------------------------------------------------------------------\n",
       "</pre>\n"
      ],
      "text/plain": [
       "----------------------------------------------------------------------------------------------------\n"
      ]
     },
     "metadata": {},
     "output_type": "display_data"
    },
    {
     "data": {
      "text/html": [
       "<pre style=\"white-space:pre;overflow-x:auto;line-height:normal;font-family:Menlo,'DejaVu Sans Mono',consolas,'Courier New',monospace\"> \n",
       "مذيبات لاعضوية\n",
       "مركبات الأكسجين\n",
       "مركبات الهيدروجين\n",
       "مشروبات\n",
       "</pre>\n"
      ],
      "text/plain": [
       " \n",
       "مذيبات لاعضوية\n",
       "مركبات الأكسجين\n",
       "مركبات الهيدروجين\n",
       "مشروبات\n"
      ]
     },
     "metadata": {},
     "output_type": "display_data"
    },
    {
     "data": {
      "text/html": [
       "<pre style=\"white-space:pre;overflow-x:auto;line-height:normal;font-family:Menlo,'DejaVu Sans Mono',consolas,'Courier New',monospace\">----------------------------------------------------------------------------------------------------\n",
       "</pre>\n"
      ],
      "text/plain": [
       "----------------------------------------------------------------------------------------------------\n"
      ]
     },
     "metadata": {},
     "output_type": "display_data"
    }
   ],
   "source": [
    "for p in text.split('\\n\\n'):\n",
    "    print(p)\n",
    "    print('-' * 100)"
   ]
  },
  {
   "cell_type": "code",
   "execution_count": 10,
   "metadata": {},
   "outputs": [
    {
     "data": {
      "text/plain": [
       "128"
      ]
     },
     "execution_count": 10,
     "metadata": {},
     "output_type": "execute_result"
    }
   ],
   "source": [
    "len(text.split('\\n\\n'))"
   ]
  },
  {
   "cell_type": "code",
   "execution_count": 11,
   "metadata": {},
   "outputs": [
    {
     "data": {
      "text/plain": [
       "33"
      ]
     },
     "execution_count": 11,
     "metadata": {},
     "output_type": "execute_result"
    }
   ],
   "source": [
    "len(sent_tokenize(text))"
   ]
  },
  {
   "cell_type": "code",
   "execution_count": 12,
   "metadata": {},
   "outputs": [],
   "source": [
    "sent_lens1 = [len(s) for s in text.split('\\n\\n')]\n",
    "sent_lens2 = [len(s) for s in sent_tokenize(text)]"
   ]
  },
  {
   "cell_type": "code",
   "execution_count": 13,
   "metadata": {},
   "outputs": [
    {
     "data": {
      "image/png": "[encoded data removed]",
      "text/plain": [
       "<Figure size 640x480 with 1 Axes>"
      ]
     },
     "metadata": {},
     "output_type": "display_data"
    }
   ],
   "source": [
    "_ = sns.histplot(sent_lens1, bins=50)"
   ]
  },
  {
   "cell_type": "code",
   "execution_count": 14,
   "metadata": {},
   "outputs": [
    {
     "data": {
      "image/png": "[encoded data removed]",
      "text/plain": [
       "<Figure size 640x480 with 1 Axes>"
      ]
     },
     "metadata": {},
     "output_type": "display_data"
    }
   ],
   "source": [
    "_ = sns.histplot(sent_lens2, bins=50)"
   ]
  },
  {
   "cell_type": "code",
   "execution_count": 15,
   "metadata": {},
   "outputs": [
    {
     "data": {
      "application/vnd.jupyter.widget-view+json": {
       "model_id": "a984dc509619442b82a3e13916103c96",
       "version_major": 2,
       "version_minor": 0
      },
      "text/plain": [
       "Map (num_proc=16):   0%|          | 0/1219201 [00:00<?, ? examples/s]"
      ]
     },
     "metadata": {},
     "output_type": "display_data"
    },
    {
     "data": {
      "text/html": [
       "<pre style=\"white-space:pre;overflow-x:auto;line-height:normal;font-family:Menlo,'DejaVu Sans Mono',consolas,'Courier New',monospace\"><span style=\"color: #800080; text-decoration-color: #800080; font-weight: bold\">Dataset</span><span style=\"font-weight: bold\">({</span>\n",
       "    features: <span style=\"font-weight: bold\">[</span><span style=\"color: #008000; text-decoration-color: #008000\">'id'</span>, <span style=\"color: #008000; text-decoration-color: #008000\">'url'</span>, <span style=\"color: #008000; text-decoration-color: #008000\">'title'</span>, <span style=\"color: #008000; text-decoration-color: #008000\">'text'</span>, <span style=\"color: #008000; text-decoration-color: #008000\">'sentences'</span><span style=\"font-weight: bold\">]</span>,\n",
       "    num_rows: <span style=\"color: #008080; text-decoration-color: #008080; font-weight: bold\">1219201</span>\n",
       "<span style=\"font-weight: bold\">})</span>\n",
       "</pre>\n"
      ],
      "text/plain": [
       "\u001b[1;35mDataset\u001b[0m\u001b[1m(\u001b[0m\u001b[1m{\u001b[0m\n",
       "    features: \u001b[1m[\u001b[0m\u001b[32m'id'\u001b[0m, \u001b[32m'url'\u001b[0m, \u001b[32m'title'\u001b[0m, \u001b[32m'text'\u001b[0m, \u001b[32m'sentences'\u001b[0m\u001b[1m]\u001b[0m,\n",
       "    num_rows: \u001b[1;36m1219201\u001b[0m\n",
       "\u001b[1m}\u001b[0m\u001b[1m)\u001b[0m\n"
      ]
     },
     "metadata": {},
     "output_type": "display_data"
    }
   ],
   "source": [
    "ds = ds.map(lambda x: {'sentences': [s.split('\\n\\n')\n",
    "            for s in x['text']]}, batched=True, num_proc=16)\n",
    "print(ds)"
   ]
  },
  {
   "cell_type": "code",
   "execution_count": 16,
   "metadata": {},
   "outputs": [
    {
     "data": {
      "text/html": [
       "<pre style=\"white-space:pre;overflow-x:auto;line-height:normal;font-family:Menlo,'DejaVu Sans Mono',consolas,'Courier New',monospace\">الماء مادةٌ شفافةٌ عديمة اللون والرائحة، وهو المكوّن الأساسي للجداول والبحيرات والبحار والمحيطات وكذلك للسوائل في جميع\n",
       "الكائنات الحيّة، وهو أكثر المركّبات الكيميائيّة انتشاراً على سطح الأرض. يتألّف جزيء الماء من ذرّة أكسجين مركزية ترتبط بها\n",
       "ذرّتا هيدروجين على طرفيها برابطة تساهميّة بحيث تكون صيغته الكيميائية H2O. عند الظروف القياسية من الضغط ودرجة الحرارة\n",
       "يكون الماء سائلاً؛ أمّا الحالة الصلبة فتتشكّل عند نقطة التجمّد، وتدعى بالجليد؛ أمّا الحالة الغازية فتتشكّل عند نقطة\n",
       "الغليان، وتسمّى بخار الماء.\n",
       "</pre>\n"
      ],
      "text/plain": [
       "الماء مادةٌ شفافةٌ عديمة اللون والرائحة، وهو المكوّن الأساسي للجداول والبحيرات والبحار والمحيطات وكذلك للسوائل في جميع\n",
       "الكائنات الحيّة، وهو أكثر المركّبات الكيميائيّة انتشاراً على سطح الأرض. يتألّف جزيء الماء من ذرّة أكسجين مركزية ترتبط بها\n",
       "ذرّتا هيدروجين على طرفيها برابطة تساهميّة بحيث تكون صيغته الكيميائية H2O. عند الظروف القياسية من الضغط ودرجة الحرارة\n",
       "يكون الماء سائلاً؛ أمّا الحالة الصلبة فتتشكّل عند نقطة التجمّد، وتدعى بالجليد؛ أمّا الحالة الغازية فتتشكّل عند نقطة\n",
       "الغليان، وتسمّى بخار الماء.\n"
      ]
     },
     "metadata": {},
     "output_type": "display_data"
    }
   ],
   "source": [
    "print(ds[0]['sentences'][0])"
   ]
  },
  {
   "cell_type": "code",
   "execution_count": 17,
   "metadata": {},
   "outputs": [
    {
     "data": {
      "application/vnd.jupyter.widget-view+json": {
       "model_id": "65b5ad4d1cdb43e08bd68e82c7d320c0",
       "version_major": 2,
       "version_minor": 0
      },
      "text/plain": [
       "Map (num_proc=16):   0%|          | 0/1219201 [00:00<?, ? examples/s]"
      ]
     },
     "metadata": {},
     "output_type": "display_data"
    },
    {
     "data": {
      "text/html": [
       "<pre style=\"white-space:pre;overflow-x:auto;line-height:normal;font-family:Menlo,'DejaVu Sans Mono',consolas,'Courier New',monospace\"><span style=\"color: #800080; text-decoration-color: #800080; font-weight: bold\">Dataset</span><span style=\"font-weight: bold\">({</span>\n",
       "    features: <span style=\"font-weight: bold\">[</span><span style=\"color: #008000; text-decoration-color: #008000\">'id'</span>, <span style=\"color: #008000; text-decoration-color: #008000\">'url'</span>, <span style=\"color: #008000; text-decoration-color: #008000\">'title'</span>, <span style=\"color: #008000; text-decoration-color: #008000\">'text'</span>, <span style=\"color: #008000; text-decoration-color: #008000\">'sentences'</span><span style=\"font-weight: bold\">]</span>,\n",
       "    num_rows: <span style=\"color: #008080; text-decoration-color: #008080; font-weight: bold\">1219201</span>\n",
       "<span style=\"font-weight: bold\">})</span>\n",
       "</pre>\n"
      ],
      "text/plain": [
       "\u001b[1;35mDataset\u001b[0m\u001b[1m(\u001b[0m\u001b[1m{\u001b[0m\n",
       "    features: \u001b[1m[\u001b[0m\u001b[32m'id'\u001b[0m, \u001b[32m'url'\u001b[0m, \u001b[32m'title'\u001b[0m, \u001b[32m'text'\u001b[0m, \u001b[32m'sentences'\u001b[0m\u001b[1m]\u001b[0m,\n",
       "    num_rows: \u001b[1;36m1219201\u001b[0m\n",
       "\u001b[1m}\u001b[0m\u001b[1m)\u001b[0m\n"
      ]
     },
     "metadata": {},
     "output_type": "display_data"
    }
   ],
   "source": [
    "ds = ds.map(lambda x: {'sentences': [[strip_tashkeel(\n",
    "    s.strip()) for s in art] for art in x['sentences']]}, batched=True, num_proc=16)\n",
    "print(ds)"
   ]
  },
  {
   "cell_type": "code",
   "execution_count": 18,
   "metadata": {},
   "outputs": [
    {
     "data": {
      "text/html": [
       "<pre style=\"white-space:pre;overflow-x:auto;line-height:normal;font-family:Menlo,'DejaVu Sans Mono',consolas,'Courier New',monospace\">الماء مادة شفافة عديمة اللون والرائحة، وهو المكون الأساسي للجداول والبحيرات والبحار والمحيطات وكذلك للسوائل في جميع\n",
       "الكائنات الحية، وهو أكثر المركبات الكيميائية انتشارا على سطح الأرض. يتألف جزيء الماء من ذرة أكسجين مركزية ترتبط بها\n",
       "ذرتا هيدروجين على طرفيها برابطة تساهمية بحيث تكون صيغته الكيميائية H2O. عند الظروف القياسية من الضغط ودرجة الحرارة \n",
       "يكون الماء سائلا؛ أما الحالة الصلبة فتتشكل عند نقطة التجمد، وتدعى بالجليد؛ أما الحالة الغازية فتتشكل عند نقطة \n",
       "الغليان، وتسمى بخار الماء.\n",
       "</pre>\n"
      ],
      "text/plain": [
       "الماء مادة شفافة عديمة اللون والرائحة، وهو المكون الأساسي للجداول والبحيرات والبحار والمحيطات وكذلك للسوائل في جميع\n",
       "الكائنات الحية، وهو أكثر المركبات الكيميائية انتشارا على سطح الأرض. يتألف جزيء الماء من ذرة أكسجين مركزية ترتبط بها\n",
       "ذرتا هيدروجين على طرفيها برابطة تساهمية بحيث تكون صيغته الكيميائية H2O. عند الظروف القياسية من الضغط ودرجة الحرارة \n",
       "يكون الماء سائلا؛ أما الحالة الصلبة فتتشكل عند نقطة التجمد، وتدعى بالجليد؛ أما الحالة الغازية فتتشكل عند نقطة \n",
       "الغليان، وتسمى بخار الماء.\n"
      ]
     },
     "metadata": {},
     "output_type": "display_data"
    }
   ],
   "source": [
    "print(ds[0]['sentences'][0])"
   ]
  },
  {
   "cell_type": "code",
   "execution_count": 19,
   "metadata": {},
   "outputs": [
    {
     "data": {
      "application/vnd.jupyter.widget-view+json": {
       "model_id": "0d80a15b6f1d41b89258805809e16fa6",
       "version_major": 2,
       "version_minor": 0
      },
      "text/plain": [
       "Map (num_proc=16):   0%|          | 0/1219201 [00:00<?, ? examples/s]"
      ]
     },
     "metadata": {},
     "output_type": "display_data"
    },
    {
     "data": {
      "text/html": [
       "<pre style=\"white-space:pre;overflow-x:auto;line-height:normal;font-family:Menlo,'DejaVu Sans Mono',consolas,'Courier New',monospace\"><span style=\"color: #800080; text-decoration-color: #800080; font-weight: bold\">Dataset</span><span style=\"font-weight: bold\">({</span>\n",
       "    features: <span style=\"font-weight: bold\">[</span><span style=\"color: #008000; text-decoration-color: #008000\">'id'</span>, <span style=\"color: #008000; text-decoration-color: #008000\">'url'</span>, <span style=\"color: #008000; text-decoration-color: #008000\">'title'</span>, <span style=\"color: #008000; text-decoration-color: #008000\">'text'</span>, <span style=\"color: #008000; text-decoration-color: #008000\">'sentences'</span>, <span style=\"color: #008000; text-decoration-color: #008000\">'sentences_length'</span><span style=\"font-weight: bold\">]</span>,\n",
       "    num_rows: <span style=\"color: #008080; text-decoration-color: #008080; font-weight: bold\">1219201</span>\n",
       "<span style=\"font-weight: bold\">})</span>\n",
       "</pre>\n"
      ],
      "text/plain": [
       "\u001b[1;35mDataset\u001b[0m\u001b[1m(\u001b[0m\u001b[1m{\u001b[0m\n",
       "    features: \u001b[1m[\u001b[0m\u001b[32m'id'\u001b[0m, \u001b[32m'url'\u001b[0m, \u001b[32m'title'\u001b[0m, \u001b[32m'text'\u001b[0m, \u001b[32m'sentences'\u001b[0m, \u001b[32m'sentences_length'\u001b[0m\u001b[1m]\u001b[0m,\n",
       "    num_rows: \u001b[1;36m1219201\u001b[0m\n",
       "\u001b[1m}\u001b[0m\u001b[1m)\u001b[0m\n"
      ]
     },
     "metadata": {},
     "output_type": "display_data"
    }
   ],
   "source": [
    "ds = ds.map(lambda x: {'sentences_length': [\n",
    "            [len(s) for s in art] for art in x['sentences']]}, batched=True, num_proc=16)\n",
    "print(ds)"
   ]
  },
  {
   "cell_type": "code",
   "execution_count": 20,
   "metadata": {},
   "outputs": [],
   "source": [
    "sent_lens = []\n",
    "for sl in ds['sentences_length']:\n",
    "    sent_lens.extend(sl)"
   ]
  },
  {
   "cell_type": "code",
   "execution_count": 21,
   "metadata": {},
   "outputs": [
    {
     "data": {
      "image/png": "[encoded data removed]",
      "text/plain": [
       "<Figure size 640x480 with 1 Axes>"
      ]
     },
     "metadata": {},
     "output_type": "display_data"
    }
   ],
   "source": [
    "_ = sns.histplot(sent_lens, binrange=(0, 2000), bins=50)"
   ]
  },
  {
   "cell_type": "code",
   "execution_count": 22,
   "metadata": {},
   "outputs": [
    {
     "data": {
      "text/plain": [
       "(0, 156578)"
      ]
     },
     "execution_count": 22,
     "metadata": {},
     "output_type": "execute_result"
    }
   ],
   "source": [
    "min(sent_lens), max(sent_lens)"
   ]
  },
  {
   "cell_type": "code",
   "execution_count": 23,
   "metadata": {},
   "outputs": [
    {
     "data": {
      "image/png": "[encoded data removed]",
      "text/plain": [
       "<Figure size 640x480 with 1 Axes>"
      ]
     },
     "metadata": {},
     "output_type": "display_data"
    }
   ],
   "source": [
    "_ = sns.histplot(sent_lens, binrange=(0, 300), bins=30)"
   ]
  },
  {
   "cell_type": "code",
   "execution_count": 24,
   "metadata": {},
   "outputs": [
    {
     "data": {
      "text/html": [
       "<pre style=\"white-space:pre;overflow-x:auto;line-height:normal;font-family:Menlo,'DejaVu Sans Mono',consolas,'Courier New',monospace\">Number of sentences: <span style=\"color: #008080; text-decoration-color: #008080; font-weight: bold\">8465737</span>\n",
       "</pre>\n"
      ],
      "text/plain": [
       "Number of sentences: \u001b[1;36m8465737\u001b[0m\n"
      ]
     },
     "metadata": {},
     "output_type": "display_data"
    }
   ],
   "source": [
    "print(f'Number of sentences: {len(sent_lens)}')"
   ]
  },
  {
   "cell_type": "code",
   "execution_count": 25,
   "metadata": {},
   "outputs": [
    {
     "data": {
      "application/vnd.jupyter.widget-view+json": {
       "model_id": "66dfbec050a0487eb7f1acfe3cf10699",
       "version_major": 2,
       "version_minor": 0
      },
      "text/plain": [
       "Map (num_proc=16):   0%|          | 0/1219201 [00:00<?, ? examples/s]"
      ]
     },
     "metadata": {},
     "output_type": "display_data"
    },
    {
     "data": {
      "text/html": [
       "<pre style=\"white-space:pre;overflow-x:auto;line-height:normal;font-family:Menlo,'DejaVu Sans Mono',consolas,'Courier New',monospace\"><span style=\"color: #800080; text-decoration-color: #800080; font-weight: bold\">Dataset</span><span style=\"font-weight: bold\">({</span>\n",
       "    features: <span style=\"font-weight: bold\">[</span><span style=\"color: #008000; text-decoration-color: #008000\">'id'</span>, <span style=\"color: #008000; text-decoration-color: #008000\">'url'</span>, <span style=\"color: #008000; text-decoration-color: #008000\">'title'</span>, <span style=\"color: #008000; text-decoration-color: #008000\">'text'</span>, <span style=\"color: #008000; text-decoration-color: #008000\">'sentences'</span>, <span style=\"color: #008000; text-decoration-color: #008000\">'num_sentences'</span><span style=\"font-weight: bold\">]</span>,\n",
       "    num_rows: <span style=\"color: #008080; text-decoration-color: #008080; font-weight: bold\">1219201</span>\n",
       "<span style=\"font-weight: bold\">})</span>\n",
       "</pre>\n"
      ],
      "text/plain": [
       "\u001b[1;35mDataset\u001b[0m\u001b[1m(\u001b[0m\u001b[1m{\u001b[0m\n",
       "    features: \u001b[1m[\u001b[0m\u001b[32m'id'\u001b[0m, \u001b[32m'url'\u001b[0m, \u001b[32m'title'\u001b[0m, \u001b[32m'text'\u001b[0m, \u001b[32m'sentences'\u001b[0m, \u001b[32m'num_sentences'\u001b[0m\u001b[1m]\u001b[0m,\n",
       "    num_rows: \u001b[1;36m1219201\u001b[0m\n",
       "\u001b[1m}\u001b[0m\u001b[1m)\u001b[0m\n"
      ]
     },
     "metadata": {},
     "output_type": "display_data"
    }
   ],
   "source": [
    "# Filter sentences that are less than 20 characters and more than 1500 characters\n",
    "\n",
    "def filter_sentences(batch):\n",
    "    sentences = []\n",
    "    sents, lengths = batch['sentences'], batch['sentences_length']\n",
    "    for s, l in zip(sents, lengths):\n",
    "        sentences.append([s_ for s_, l_ in zip(s, l) if 20 <= l_ <= 1500])\n",
    "    return {'sentences': sentences, 'num_sentences': [len(art) for art in sentences]}\n",
    "\n",
    "\n",
    "ds = ds.map(filter_sentences, batched=True, num_proc=16,\n",
    "            remove_columns=['sentences_length'])\n",
    "print(ds)"
   ]
  },
  {
   "cell_type": "code",
   "execution_count": 26,
   "metadata": {},
   "outputs": [
    {
     "data": {
      "image/png": "[encoded data removed]",
      "text/plain": [
       "<Figure size 640x480 with 1 Axes>"
      ]
     },
     "metadata": {},
     "output_type": "display_data"
    }
   ],
   "source": [
    "# number of sentences per article\n",
    "_ = sns.histplot(ds['num_sentences'], bins=10, binrange=(0, 10))"
   ]
  },
  {
   "cell_type": "code",
   "execution_count": 27,
   "metadata": {},
   "outputs": [
    {
     "data": {
      "text/plain": [
       "(0, 729)"
      ]
     },
     "execution_count": 27,
     "metadata": {},
     "output_type": "execute_result"
    }
   ],
   "source": [
    "min(ds['num_sentences']), max(ds['num_sentences'])"
   ]
  },
  {
   "cell_type": "code",
   "execution_count": 28,
   "metadata": {},
   "outputs": [
    {
     "data": {
      "application/vnd.jupyter.widget-view+json": {
       "model_id": "1bf452b028fb49aa9176a849db4c1628",
       "version_major": 2,
       "version_minor": 0
      },
      "text/plain": [
       "Filter (num_proc=16):   0%|          | 0/1219201 [00:00<?, ? examples/s]"
      ]
     },
     "metadata": {},
     "output_type": "display_data"
    },
    {
     "data": {
      "text/html": [
       "<pre style=\"white-space:pre;overflow-x:auto;line-height:normal;font-family:Menlo,'DejaVu Sans Mono',consolas,'Courier New',monospace\"><span style=\"color: #800080; text-decoration-color: #800080; font-weight: bold\">Dataset</span><span style=\"font-weight: bold\">({</span>\n",
       "    features: <span style=\"font-weight: bold\">[</span><span style=\"color: #008000; text-decoration-color: #008000\">'id'</span>, <span style=\"color: #008000; text-decoration-color: #008000\">'url'</span>, <span style=\"color: #008000; text-decoration-color: #008000\">'title'</span>, <span style=\"color: #008000; text-decoration-color: #008000\">'text'</span>, <span style=\"color: #008000; text-decoration-color: #008000\">'sentences'</span>, <span style=\"color: #008000; text-decoration-color: #008000\">'num_sentences'</span><span style=\"font-weight: bold\">]</span>,\n",
       "    num_rows: <span style=\"color: #008080; text-decoration-color: #008080; font-weight: bold\">1217518</span>\n",
       "<span style=\"font-weight: bold\">})</span>\n",
       "</pre>\n"
      ],
      "text/plain": [
       "\u001b[1;35mDataset\u001b[0m\u001b[1m(\u001b[0m\u001b[1m{\u001b[0m\n",
       "    features: \u001b[1m[\u001b[0m\u001b[32m'id'\u001b[0m, \u001b[32m'url'\u001b[0m, \u001b[32m'title'\u001b[0m, \u001b[32m'text'\u001b[0m, \u001b[32m'sentences'\u001b[0m, \u001b[32m'num_sentences'\u001b[0m\u001b[1m]\u001b[0m,\n",
       "    num_rows: \u001b[1;36m1217518\u001b[0m\n",
       "\u001b[1m}\u001b[0m\u001b[1m)\u001b[0m\n"
      ]
     },
     "metadata": {},
     "output_type": "display_data"
    }
   ],
   "source": [
    "# filter articles with no sentences\n",
    "ds = ds.filter(lambda x: [\n",
    "               num_sents != 0 for num_sents in x['num_sentences']], batched=True, num_proc=16)\n",
    "print(ds)"
   ]
  },
  {
   "cell_type": "code",
   "execution_count": 29,
   "metadata": {},
   "outputs": [],
   "source": [
    "sentences = []\n",
    "for art in ds['sentences']:\n",
    "    sentences.extend(art)"
   ]
  },
  {
   "cell_type": "code",
   "execution_count": 30,
   "metadata": {},
   "outputs": [],
   "source": [
    "sentences = pd.DataFrame.from_dict({'text': sentences})"
   ]
  },
  {
   "cell_type": "code",
   "execution_count": 31,
   "metadata": {},
   "outputs": [],
   "source": [
    "sentences.to_csv('../data/wikipeda.csv', index=False)"
   ]
  }
 ],
 "metadata": {
  "kernelspec": {
   "display_name": "Python 3 (ipykernel)",
   "language": "python",
   "name": "python3"
  },
  "language_info": {
   "codemirror_mode": {
    "name": "ipython",
    "version": 3
   },
   "file_extension": ".py",
   "mimetype": "text/x-python",
   "name": "python",
   "nbconvert_exporter": "python",
   "pygments_lexer": "ipython3",
   "version": "3.11.9"
  },
  "widgets": {
   "application/vnd.jupyter.widget-state+json": {
    "state": {
     "04c9c9db236543a1af932b2b2dce7ced": {
      "model_module": "@jupyter-widgets/base",
      "model_module_version": "2.0.0",
      "model_name": "LayoutModel",
      "state": {}
     },
     "06f1954f1e5348a2ac4b77a1ac57afe9": {
      "model_module": "@jupyter-widgets/controls",
      "model_module_version": "2.0.0",
      "model_name": "HTMLStyleModel",
      "state": {
       "description_width": "",
       "font_size": null,
       "text_color": null
      }
     },
     "0910e2fc2255408ab59f232dd2e2fe90": {
      "model_module": "@jupyter-widgets/base",
      "model_module_version": "2.0.0",
      "model_name": "LayoutModel",
      "state": {}
     },
     "0a1c2ae7755447c2a96a86faef8be23f": {
      "model_module": "@jupyter-widgets/base",
      "model_module_version": "2.0.0",
      "model_name": "LayoutModel",
      "state": {}
     },
     "0a9091ae8d3240229c5c75a0f44b2195": {
      "model_module": "@jupyter-widgets/controls",
      "model_module_version": "2.0.0",
      "model_name": "HTMLModel",
      "state": {
       "layout": "IPY_MODEL_2676f31868704c7089f9f6309000b1bf",
       "style": "IPY_MODEL_06f1954f1e5348a2ac4b77a1ac57afe9",
       "value": "Map (num_proc=16): 100%"
      }
     },
     "0d80a15b6f1d41b89258805809e16fa6": {
      "model_module": "@jupyter-widgets/controls",
      "model_module_version": "2.0.0",
      "model_name": "HBoxModel",
      "state": {
       "children": [
        "IPY_MODEL_0a9091ae8d3240229c5c75a0f44b2195",
        "IPY_MODEL_855f1390e5c14c7bb61c95566ee791d2",
        "IPY_MODEL_81b9b677897b4601a74ebf20edf4b7a0"
       ],
       "layout": "IPY_MODEL_855178b6a84049c69c73bf3541019c3f"
      }
     },
     "114868ec0f434de78c7a6d6d3ea1507a": {
      "model_module": "@jupyter-widgets/controls",
      "model_module_version": "2.0.0",
      "model_name": "HTMLModel",
      "state": {
       "layout": "IPY_MODEL_a2c0a988d61b42e6b895ee58f71a8443",
       "style": "IPY_MODEL_35e1ce843ff441e383b45ee69e1f64aa",
       "value": " 1219201/1219201 [00:39&lt;00:00, 20673.41 examples/s]"
      }
     },
     "1199826cac27486a90d63d1deda8cb5d": {
      "model_module": "@jupyter-widgets/controls",
      "model_module_version": "2.0.0",
      "model_name": "ProgressStyleModel",
      "state": {
       "description_width": ""
      }
     },
     "1bf452b028fb49aa9176a849db4c1628": {
      "model_module": "@jupyter-widgets/controls",
      "model_module_version": "2.0.0",
      "model_name": "HBoxModel",
      "state": {
       "children": [
        "IPY_MODEL_b1d84e9af245421fb8254769796eb5e9",
        "IPY_MODEL_c41398702c0a4d4280d408f272d647c5",
        "IPY_MODEL_45d4fd408252425ba582fa7d39caffde"
       ],
       "layout": "IPY_MODEL_47acb47ac9e9405cb78f334b33da829c"
      }
     },
     "2459570bfd72457aa39bda2975d2b781": {
      "model_module": "@jupyter-widgets/base",
      "model_module_version": "2.0.0",
      "model_name": "LayoutModel",
      "state": {}
     },
     "2676f31868704c7089f9f6309000b1bf": {
      "model_module": "@jupyter-widgets/base",
      "model_module_version": "2.0.0",
      "model_name": "LayoutModel",
      "state": {}
     },
     "35e1ce843ff441e383b45ee69e1f64aa": {
      "model_module": "@jupyter-widgets/controls",
      "model_module_version": "2.0.0",
      "model_name": "HTMLStyleModel",
      "state": {
       "description_width": "",
       "font_size": null,
       "text_color": null
      }
     },
     "3c04eae8bfb3402290e913e1b1ba4f3e": {
      "model_module": "@jupyter-widgets/base",
      "model_module_version": "2.0.0",
      "model_name": "LayoutModel",
      "state": {}
     },
     "45d4fd408252425ba582fa7d39caffde": {
      "model_module": "@jupyter-widgets/controls",
      "model_module_version": "2.0.0",
      "model_name": "HTMLModel",
      "state": {
       "layout": "IPY_MODEL_a6ff8b3012a14240988f1cca79b1a349",
       "style": "IPY_MODEL_47ad8be98a9541059ffc84bbbd9ae5ff",
       "value": " 1219201/1219201 [00:03&lt;00:00, 387618.08 examples/s]"
      }
     },
     "479b8eb22529412d9de988fc3234b1e3": {
      "model_module": "@jupyter-widgets/controls",
      "model_module_version": "2.0.0",
      "model_name": "FloatProgressModel",
      "state": {
       "bar_style": "success",
       "layout": "IPY_MODEL_2459570bfd72457aa39bda2975d2b781",
       "max": 1219201,
       "style": "IPY_MODEL_e4e5fb30698343f6aabc217ff4ea3c4a",
       "value": 1219201
      }
     },
     "47acb47ac9e9405cb78f334b33da829c": {
      "model_module": "@jupyter-widgets/base",
      "model_module_version": "2.0.0",
      "model_name": "LayoutModel",
      "state": {}
     },
     "47ad8be98a9541059ffc84bbbd9ae5ff": {
      "model_module": "@jupyter-widgets/controls",
      "model_module_version": "2.0.0",
      "model_name": "HTMLStyleModel",
      "state": {
       "description_width": "",
       "font_size": null,
       "text_color": null
      }
     },
     "4ab084c23740427f8c0f13ec6900dd9d": {
      "model_module": "@jupyter-widgets/controls",
      "model_module_version": "2.0.0",
      "model_name": "HTMLStyleModel",
      "state": {
       "description_width": "",
       "font_size": null,
       "text_color": null
      }
     },
     "4f779ba11c0847768ecdfa1a2f936921": {
      "model_module": "@jupyter-widgets/controls",
      "model_module_version": "2.0.0",
      "model_name": "HTMLStyleModel",
      "state": {
       "description_width": "",
       "font_size": null,
       "text_color": null
      }
     },
     "6239f6b07a324f9da4812a10be800c6b": {
      "model_module": "@jupyter-widgets/controls",
      "model_module_version": "2.0.0",
      "model_name": "HTMLModel",
      "state": {
       "layout": "IPY_MODEL_bd171df6d0b14a6aacf5a9d681dc5b28",
       "style": "IPY_MODEL_b95a797513a249ed918dee1fa5d63262",
       "value": "Map (num_proc=16): 100%"
      }
     },
     "65b5ad4d1cdb43e08bd68e82c7d320c0": {
      "model_module": "@jupyter-widgets/controls",
      "model_module_version": "2.0.0",
      "model_name": "HBoxModel",
      "state": {
       "children": [
        "IPY_MODEL_b3f6d766cacc41a488f3b196d37f94c6",
        "IPY_MODEL_a4f4b28c84f346f5bcc89062a7eda081",
        "IPY_MODEL_a7388b38d1824d24b6e47936edb0b434"
       ],
       "layout": "IPY_MODEL_0910e2fc2255408ab59f232dd2e2fe90"
      }
     },
     "66dfbec050a0487eb7f1acfe3cf10699": {
      "model_module": "@jupyter-widgets/controls",
      "model_module_version": "2.0.0",
      "model_name": "HBoxModel",
      "state": {
       "children": [
        "IPY_MODEL_a83deb9d66ab45e880c9aad7ee94cf22",
        "IPY_MODEL_fb0c751f3645448aafa998bf52f6a9a3",
        "IPY_MODEL_91717c342b874f9885c1cfb53b5d07c7"
       ],
       "layout": "IPY_MODEL_de6d06897ed341b693f18f4e43f0017b"
      }
     },
     "70648f10522849bd9fc3d88f09d8feef": {
      "model_module": "@jupyter-widgets/base",
      "model_module_version": "2.0.0",
      "model_name": "LayoutModel",
      "state": {}
     },
     "70818403883045d5b67eda9eb5254e5b": {
      "model_module": "@jupyter-widgets/base",
      "model_module_version": "2.0.0",
      "model_name": "LayoutModel",
      "state": {}
     },
     "7aaed05e8ffd42a6a9a6b05b29c3cec0": {
      "model_module": "@jupyter-widgets/base",
      "model_module_version": "2.0.0",
      "model_name": "LayoutModel",
      "state": {}
     },
     "81215feba4654bb4992b14f2160b146a": {
      "model_module": "@jupyter-widgets/controls",
      "model_module_version": "2.0.0",
      "model_name": "HTMLStyleModel",
      "state": {
       "description_width": "",
       "font_size": null,
       "text_color": null
      }
     },
     "81b9b677897b4601a74ebf20edf4b7a0": {
      "model_module": "@jupyter-widgets/controls",
      "model_module_version": "2.0.0",
      "model_name": "HTMLModel",
      "state": {
       "layout": "IPY_MODEL_b3b4229d9c7b409280e630d1e4e1d957",
       "style": "IPY_MODEL_4ab084c23740427f8c0f13ec6900dd9d",
       "value": " 1219201/1219201 [00:59&lt;00:00, 19465.20 examples/s]"
      }
     },
     "855178b6a84049c69c73bf3541019c3f": {
      "model_module": "@jupyter-widgets/base",
      "model_module_version": "2.0.0",
      "model_name": "LayoutModel",
      "state": {}
     },
     "855f1390e5c14c7bb61c95566ee791d2": {
      "model_module": "@jupyter-widgets/controls",
      "model_module_version": "2.0.0",
      "model_name": "FloatProgressModel",
      "state": {
       "bar_style": "success",
       "layout": "IPY_MODEL_70648f10522849bd9fc3d88f09d8feef",
       "max": 1219201,
       "style": "IPY_MODEL_fb3257e0727d4a3285e5c224212e7092",
       "value": 1219201
      }
     },
     "91717c342b874f9885c1cfb53b5d07c7": {
      "model_module": "@jupyter-widgets/controls",
      "model_module_version": "2.0.0",
      "model_name": "HTMLModel",
      "state": {
       "layout": "IPY_MODEL_7aaed05e8ffd42a6a9a6b05b29c3cec0",
       "style": "IPY_MODEL_81215feba4654bb4992b14f2160b146a",
       "value": " 1219201/1219201 [00:49&lt;00:00, 17608.73 examples/s]"
      }
     },
     "927a975dde8a47269210af46a17012a3": {
      "model_module": "@jupyter-widgets/controls",
      "model_module_version": "2.0.0",
      "model_name": "HTMLStyleModel",
      "state": {
       "description_width": "",
       "font_size": null,
       "text_color": null
      }
     },
     "a2c0a988d61b42e6b895ee58f71a8443": {
      "model_module": "@jupyter-widgets/base",
      "model_module_version": "2.0.0",
      "model_name": "LayoutModel",
      "state": {}
     },
     "a4f4b28c84f346f5bcc89062a7eda081": {
      "model_module": "@jupyter-widgets/controls",
      "model_module_version": "2.0.0",
      "model_name": "FloatProgressModel",
      "state": {
       "bar_style": "success",
       "layout": "IPY_MODEL_04c9c9db236543a1af932b2b2dce7ced",
       "max": 1219201,
       "style": "IPY_MODEL_bfcabb32cf5a413d8d941b84cb75c918",
       "value": 1219201
      }
     },
     "a6ff8b3012a14240988f1cca79b1a349": {
      "model_module": "@jupyter-widgets/base",
      "model_module_version": "2.0.0",
      "model_name": "LayoutModel",
      "state": {}
     },
     "a7388b38d1824d24b6e47936edb0b434": {
      "model_module": "@jupyter-widgets/controls",
      "model_module_version": "2.0.0",
      "model_name": "HTMLModel",
      "state": {
       "layout": "IPY_MODEL_f413716d13004b1aac1ae229793c0aa1",
       "style": "IPY_MODEL_b06433509c37482793b3f8b2de6c3399",
       "value": " 1219201/1219201 [01:18&lt;00:00, 4169.79 examples/s]"
      }
     },
     "a83deb9d66ab45e880c9aad7ee94cf22": {
      "model_module": "@jupyter-widgets/controls",
      "model_module_version": "2.0.0",
      "model_name": "HTMLModel",
      "state": {
       "layout": "IPY_MODEL_3c04eae8bfb3402290e913e1b1ba4f3e",
       "style": "IPY_MODEL_927a975dde8a47269210af46a17012a3",
       "value": "Map (num_proc=16): 100%"
      }
     },
     "a984dc509619442b82a3e13916103c96": {
      "model_module": "@jupyter-widgets/controls",
      "model_module_version": "2.0.0",
      "model_name": "HBoxModel",
      "state": {
       "children": [
        "IPY_MODEL_6239f6b07a324f9da4812a10be800c6b",
        "IPY_MODEL_479b8eb22529412d9de988fc3234b1e3",
        "IPY_MODEL_114868ec0f434de78c7a6d6d3ea1507a"
       ],
       "layout": "IPY_MODEL_d6d316af5f784256a4f4aa312749bbbf"
      }
     },
     "b06433509c37482793b3f8b2de6c3399": {
      "model_module": "@jupyter-widgets/controls",
      "model_module_version": "2.0.0",
      "model_name": "HTMLStyleModel",
      "state": {
       "description_width": "",
       "font_size": null,
       "text_color": null
      }
     },
     "b1d84e9af245421fb8254769796eb5e9": {
      "model_module": "@jupyter-widgets/controls",
      "model_module_version": "2.0.0",
      "model_name": "HTMLModel",
      "state": {
       "layout": "IPY_MODEL_b1fb1c3a42064eab935be4e13e37f898",
       "style": "IPY_MODEL_d3dacef016a54a88bda68934580271eb",
       "value": "Filter (num_proc=16): 100%"
      }
     },
     "b1fb1c3a42064eab935be4e13e37f898": {
      "model_module": "@jupyter-widgets/base",
      "model_module_version": "2.0.0",
      "model_name": "LayoutModel",
      "state": {}
     },
     "b3b4229d9c7b409280e630d1e4e1d957": {
      "model_module": "@jupyter-widgets/base",
      "model_module_version": "2.0.0",
      "model_name": "LayoutModel",
      "state": {}
     },
     "b3f6d766cacc41a488f3b196d37f94c6": {
      "model_module": "@jupyter-widgets/controls",
      "model_module_version": "2.0.0",
      "model_name": "HTMLModel",
      "state": {
       "layout": "IPY_MODEL_70818403883045d5b67eda9eb5254e5b",
       "style": "IPY_MODEL_4f779ba11c0847768ecdfa1a2f936921",
       "value": "Map (num_proc=16): 100%"
      }
     },
     "b95a797513a249ed918dee1fa5d63262": {
      "model_module": "@jupyter-widgets/controls",
      "model_module_version": "2.0.0",
      "model_name": "HTMLStyleModel",
      "state": {
       "description_width": "",
       "font_size": null,
       "text_color": null
      }
     },
     "bac2492bf14a426aab0fb011f1a89def": {
      "model_module": "@jupyter-widgets/controls",
      "model_module_version": "2.0.0",
      "model_name": "ProgressStyleModel",
      "state": {
       "description_width": ""
      }
     },
     "bd171df6d0b14a6aacf5a9d681dc5b28": {
      "model_module": "@jupyter-widgets/base",
      "model_module_version": "2.0.0",
      "model_name": "LayoutModel",
      "state": {}
     },
     "bfcabb32cf5a413d8d941b84cb75c918": {
      "model_module": "@jupyter-widgets/controls",
      "model_module_version": "2.0.0",
      "model_name": "ProgressStyleModel",
      "state": {
       "description_width": ""
      }
     },
     "c41398702c0a4d4280d408f272d647c5": {
      "model_module": "@jupyter-widgets/controls",
      "model_module_version": "2.0.0",
      "model_name": "FloatProgressModel",
      "state": {
       "bar_style": "success",
       "layout": "IPY_MODEL_0a1c2ae7755447c2a96a86faef8be23f",
       "max": 1219201,
       "style": "IPY_MODEL_bac2492bf14a426aab0fb011f1a89def",
       "value": 1219201
      }
     },
     "d3dacef016a54a88bda68934580271eb": {
      "model_module": "@jupyter-widgets/controls",
      "model_module_version": "2.0.0",
      "model_name": "HTMLStyleModel",
      "state": {
       "description_width": "",
       "font_size": null,
       "text_color": null
      }
     },
     "d6d316af5f784256a4f4aa312749bbbf": {
      "model_module": "@jupyter-widgets/base",
      "model_module_version": "2.0.0",
      "model_name": "LayoutModel",
      "state": {}
     },
     "de6d06897ed341b693f18f4e43f0017b": {
      "model_module": "@jupyter-widgets/base",
      "model_module_version": "2.0.0",
      "model_name": "LayoutModel",
      "state": {}
     },
     "e4320bd6ce1644818a19dffd25928d06": {
      "model_module": "@jupyter-widgets/base",
      "model_module_version": "2.0.0",
      "model_name": "LayoutModel",
      "state": {}
     },
     "e4e5fb30698343f6aabc217ff4ea3c4a": {
      "model_module": "@jupyter-widgets/controls",
      "model_module_version": "2.0.0",
      "model_name": "ProgressStyleModel",
      "state": {
       "description_width": ""
      }
     },
     "f413716d13004b1aac1ae229793c0aa1": {
      "model_module": "@jupyter-widgets/base",
      "model_module_version": "2.0.0",
      "model_name": "LayoutModel",
      "state": {}
     },
     "fb0c751f3645448aafa998bf52f6a9a3": {
      "model_module": "@jupyter-widgets/controls",
      "model_module_version": "2.0.0",
      "model_name": "FloatProgressModel",
      "state": {
       "bar_style": "success",
       "layout": "IPY_MODEL_e4320bd6ce1644818a19dffd25928d06",
       "max": 1219201,
       "style": "IPY_MODEL_1199826cac27486a90d63d1deda8cb5d",
       "value": 1219201
      }
     },
     "fb3257e0727d4a3285e5c224212e7092": {
      "model_module": "@jupyter-widgets/controls",
      "model_module_version": "2.0.0",
      "model_name": "ProgressStyleModel",
      "state": {
       "description_width": ""
      }
     }
    },
    "version_major": 2,
    "version_minor": 0
   }
  }
 },
 "nbformat": 4,
 "nbformat_minor": 4
}
