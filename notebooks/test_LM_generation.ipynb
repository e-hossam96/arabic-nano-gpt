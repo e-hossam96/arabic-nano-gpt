{
 "cells": [
  {
   "cell_type": "markdown",
   "metadata": {},
   "source": [
    "# LM Text Generation\n",
    "\n",
    "In this notebook, we will test the text generation capability of the model with sample prompts.\n"
   ]
  },
  {
   "cell_type": "code",
   "execution_count": 1,
   "metadata": {},
   "outputs": [],
   "source": [
    "from rich import print\n",
    "from transformers import pipeline"
   ]
  },
  {
   "cell_type": "code",
   "execution_count": 2,
   "metadata": {},
   "outputs": [],
   "source": [
    "model_ckpt = '../models/arabic-nano-gpt/'"
   ]
  },
  {
   "cell_type": "code",
   "execution_count": 3,
   "metadata": {},
   "outputs": [],
   "source": [
    "lm = pipeline(task='text-generation', model=model_ckpt, device='cuda')"
   ]
  },
  {
   "cell_type": "code",
   "execution_count": 4,
   "metadata": {},
   "outputs": [
    {
     "data": {
      "text/html": [
       "<pre style=\"white-space:pre;overflow-x:auto;line-height:normal;font-family:Menlo,'DejaVu Sans Mono',consolas,'Courier New',monospace\">الماء هو\n",
       "</pre>\n"
      ],
      "text/plain": [
       "الماء هو\n"
      ]
     },
     "metadata": {},
     "output_type": "display_data"
    }
   ],
   "source": [
    "prompt = '''\n",
    "الماء هو\n",
    "'''\n",
    "print(prompt.strip())"
   ]
  },
  {
   "cell_type": "code",
   "execution_count": 5,
   "metadata": {},
   "outputs": [
    {
     "data": {
      "text/html": [
       "<pre style=\"white-space:pre;overflow-x:auto;line-height:normal;font-family:Menlo,'DejaVu Sans Mono',consolas,'Courier New',monospace\">GenerationConfig <span style=\"font-weight: bold\">{</span>\n",
       "  <span style=\"color: #008000; text-decoration-color: #008000\">\"bos_token_id\"</span>: <span style=\"color: #008080; text-decoration-color: #008080; font-weight: bold\">0</span>,\n",
       "  <span style=\"color: #008000; text-decoration-color: #008000\">\"eos_token_id\"</span>: <span style=\"color: #008080; text-decoration-color: #008080; font-weight: bold\">0</span>\n",
       "<span style=\"font-weight: bold\">}</span>\n",
       "\n",
       "</pre>\n"
      ],
      "text/plain": [
       "GenerationConfig \u001b[1m{\u001b[0m\n",
       "  \u001b[32m\"bos_token_id\"\u001b[0m: \u001b[1;36m0\u001b[0m,\n",
       "  \u001b[32m\"eos_token_id\"\u001b[0m: \u001b[1;36m0\u001b[0m\n",
       "\u001b[1m}\u001b[0m\n",
       "\n"
      ]
     },
     "metadata": {},
     "output_type": "display_data"
    }
   ],
   "source": [
    "print(lm.model.generation_config)"
   ]
  },
  {
   "cell_type": "code",
   "execution_count": 6,
   "metadata": {},
   "outputs": [],
   "source": [
    "output = lm(prompt, max_new_tokens=128)"
   ]
  },
  {
   "cell_type": "code",
   "execution_count": 7,
   "metadata": {},
   "outputs": [
    {
     "data": {
      "text/html": [
       "<pre style=\"white-space:pre;overflow-x:auto;line-height:normal;font-family:Menlo,'DejaVu Sans Mono',consolas,'Courier New',monospace\">\n",
       "الماء هو\n",
       "\n",
       "\n",
       "فيها\n",
       "لار\n",
       "أال\n",
       "وفيات ونب\n",
       "كتاب:\n",
       " \n",
       " أغيد بكاس\n",
       " ألف\n",
       " جس\n",
       " بن\n",
       "\n",
       " م\n",
       "و\n",
       "\n",
       "\n",
       " الفيمشوم\n",
       " الله\n",
       " إك\n",
       " حار\n",
       " من شين\n",
       " عف\n",
       "\n",
       " غاب \n",
       " بن \n",
       "\n",
       " نمونه\n",
       " يضار\n",
       " عبد الله\n",
       " في عري\n",
       "\n",
       " أنع\n",
       "\n",
       " يذح\n",
       " من بمس\n",
       " الله<span style=\"font-weight: bold\">)</span> يأ <span style=\"font-weight: bold\">(</span>س\n",
       "\n",
       "م\n",
       " أم\n",
       "نلي\n",
       " عبدم\n",
       "\n",
       "\n",
       " الله\n",
       " محمد بن،\n",
       "ن\n",
       "</pre>\n"
      ],
      "text/plain": [
       "\n",
       "الماء هو\n",
       "\n",
       "\n",
       "فيها\n",
       "لار\n",
       "أال\n",
       "وفيات ونب\n",
       "كتاب:\n",
       " \n",
       " أغيد بكاس\n",
       " ألف\n",
       " جس\n",
       " بن\n",
       "\n",
       " م\n",
       "و\n",
       "\n",
       "\n",
       " الفيمشوم\n",
       " الله\n",
       " إك\n",
       " حار\n",
       " من شين\n",
       " عف\n",
       "\n",
       " غاب \n",
       " بن \n",
       "\n",
       " نمونه\n",
       " يضار\n",
       " عبد الله\n",
       " في عري\n",
       "\n",
       " أنع\n",
       "\n",
       " يذح\n",
       " من بمس\n",
       " الله\u001b[1m)\u001b[0m يأ \u001b[1m(\u001b[0mس\n",
       "\n",
       "م\n",
       " أم\n",
       "نلي\n",
       " عبدم\n",
       "\n",
       "\n",
       " الله\n",
       " محمد بن،\n",
       "ن\n"
      ]
     },
     "metadata": {},
     "output_type": "display_data"
    }
   ],
   "source": [
    "print(output[0]['generated_text'])"
   ]
  }
 ],
 "metadata": {
  "kernelspec": {
   "display_name": "Python 3 (ipykernel)",
   "language": "python",
   "name": "python3"
  },
  "language_info": {
   "codemirror_mode": {
    "name": "ipython",
    "version": 3
   },
   "file_extension": ".py",
   "mimetype": "text/x-python",
   "name": "python",
   "nbconvert_exporter": "python",
   "pygments_lexer": "ipython3",
   "version": "3.11.9"
  },
  "widgets": {
   "application/vnd.jupyter.widget-state+json": {
    "state": {},
    "version_major": 2,
    "version_minor": 0
   }
  }
 },
 "nbformat": 4,
 "nbformat_minor": 4
}
