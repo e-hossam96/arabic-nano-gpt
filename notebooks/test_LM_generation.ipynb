{
 "cells": [
  {
   "cell_type": "markdown",
   "metadata": {},
   "source": [
    "# LM Text Generation\n",
    "\n",
    "In this notebook, we will test the text generation capability of the model with sample prompts.\n"
   ]
  },
  {
   "cell_type": "code",
   "execution_count": 1,
   "metadata": {},
   "outputs": [],
   "source": [
    "from rich import print\n",
    "from transformers import pipeline"
   ]
  },
  {
   "cell_type": "code",
   "execution_count": 2,
   "metadata": {},
   "outputs": [],
   "source": [
    "model_ckpt = \"../models/arabic-nano-gpt-v0/\""
   ]
  },
  {
   "cell_type": "code",
   "execution_count": 3,
   "metadata": {},
   "outputs": [],
   "source": [
    "lm = pipeline(task=\"text-generation\", model=model_ckpt, device=\"cuda\")"
   ]
  },
  {
   "cell_type": "code",
   "execution_count": 4,
   "metadata": {},
   "outputs": [
    {
     "data": {
      "text/html": [
       "<pre style=\"white-space:pre;overflow-x:auto;line-height:normal;font-family:Menlo,'DejaVu Sans Mono',consolas,'Courier New',monospace\">الماء هو سر الحياة وهو المكون الرئيسي\n",
       "</pre>\n"
      ],
      "text/plain": [
       "الماء هو سر الحياة وهو المكون الرئيسي\n"
      ]
     },
     "metadata": {},
     "output_type": "display_data"
    }
   ],
   "source": [
    "prompt = \"\"\"\n",
    "الماء هو سر الحياة وهو المكون الرئيسي\n",
    "\"\"\"\n",
    "print(prompt.strip())"
   ]
  },
  {
   "cell_type": "code",
   "execution_count": 5,
   "metadata": {},
   "outputs": [
    {
     "data": {
      "text/html": [
       "<pre style=\"white-space:pre;overflow-x:auto;line-height:normal;font-family:Menlo,'DejaVu Sans Mono',consolas,'Courier New',monospace\">GenerationConfig <span style=\"font-weight: bold\">{</span>\n",
       "  <span style=\"color: #008000; text-decoration-color: #008000\">\"bos_token_id\"</span>: <span style=\"color: #008080; text-decoration-color: #008080; font-weight: bold\">0</span>,\n",
       "  <span style=\"color: #008000; text-decoration-color: #008000\">\"eos_token_id\"</span>: <span style=\"color: #008080; text-decoration-color: #008080; font-weight: bold\">0</span>\n",
       "<span style=\"font-weight: bold\">}</span>\n",
       "\n",
       "</pre>\n"
      ],
      "text/plain": [
       "GenerationConfig \u001b[1m{\u001b[0m\n",
       "  \u001b[32m\"bos_token_id\"\u001b[0m: \u001b[1;36m0\u001b[0m,\n",
       "  \u001b[32m\"eos_token_id\"\u001b[0m: \u001b[1;36m0\u001b[0m\n",
       "\u001b[1m}\u001b[0m\n",
       "\n"
      ]
     },
     "metadata": {},
     "output_type": "display_data"
    }
   ],
   "source": [
    "print(lm.model.generation_config)"
   ]
  },
  {
   "cell_type": "code",
   "execution_count": 6,
   "metadata": {},
   "outputs": [],
   "source": [
    "output = lm(\n",
    "    prompt,\n",
    "    max_new_tokens=512,\n",
    "    # num_beams=8,\n",
    "    # temperature=2.0,\n",
    "    repetition_penalty=2.0,\n",
    ")"
   ]
  },
  {
   "cell_type": "code",
   "execution_count": 7,
   "metadata": {},
   "outputs": [
    {
     "data": {
      "text/html": [
       "<pre style=\"white-space:pre;overflow-x:auto;line-height:normal;font-family:Menlo,'DejaVu Sans Mono',consolas,'Courier New',monospace\">\n",
       "الماء هو سر الحياة وهو المكون الرئيسي\n",
       "القرن الثامن عشر والثالث في القرن التاسع والعشرين.  التغير الإيجابي الذي يمكن أن يكون له قريب من الشمس والتي يتم \n",
       "قياسها بأول أكسيد الكربون عن طريق الأشعة فوق البنفسجية <span style=\"font-weight: bold\">(</span> بما فيه العديد <span style=\"font-weight: bold\">)</span> ولكن لا تعتبر موصوفة بالنوع الهغلي للآلة \n",
       "الفلكية على شكل ذراعية غير مستقر ومع ذلك ، قد تصبح هذه المقالة موزعة بشكل خاص عندما تتلخص أرقام قياسية معينة مع قيم\n",
       "كل واحدة أو أكثر إلى حد كبير بين الأرض التي تكون سطرا بكتلة تبلغ <span style=\"color: #008080; text-decoration-color: #008080; font-weight: bold\">800</span> - <span style=\"color: #008080; text-decoration-color: #008080; font-weight: bold\">10</span> قدم لكل ثانية طبقا لقياس كتلة ثابتة عند \n",
       "<span style=\"color: #008080; text-decoration-color: #008080; font-weight: bold\">100</span> متر مكعب يداه حوالي <span style=\"color: #008080; text-decoration-color: #008080; font-weight: bold\">20</span> درجة <span style=\"color: #800080; text-decoration-color: #800080\">/</span> <span style=\"color: #008080; text-decoration-color: #008080; font-weight: bold\">11</span> ° و <span style=\"color: #008080; text-decoration-color: #008080; font-weight: bold\">2203000</span> سنة ضوئية كافية للدقة أكبر حيث تتساوي مساحة أقرب بكثير فقط <span style=\"color: #008080; text-decoration-color: #008080; font-weight: bold\">350</span> \n",
       "نيوتن فوسفات الثقيل ذات الطاقة المنخفضة خلال السنة الخمسة الأخيرة وبعد عام واحد سيكون السلم مقطوعة نسبيا لأعداد \n",
       "كبيرة بمعدل أعلى مقارنة بـ <span style=\"color: #008080; text-decoration-color: #008080; font-weight: bold\">1</span>, <span style=\"color: #008080; text-decoration-color: #008080; font-weight: bold\">24</span> ساعة تقريبا حتى هذا العام بالنسبة للأيونات الحركية الناضجة حول العالم بحيث تفقد \n",
       "الأجرام الصغيرة قدراتها <span style=\"color: #008080; text-decoration-color: #008080; font-weight: bold\">4</span> ملايين جسيم يتفوق فيها سطح القمر المرتفع كما يحدث بعده سرعة تقارب <span style=\"color: #008080; text-decoration-color: #008080; font-weight: bold\">17</span> كيلومترا فما كان \n",
       "عليه ما يزيد الحد الأقصى لهذا النجم المكسور قبل موسمين يبلغ عمرانه <span style=\"color: #008080; text-decoration-color: #008080; font-weight: bold\">50</span> عاما ويقدر حسابيا بحوالي 407كم بينما تشير \n",
       "التقارير أيضا أنها عجزت بنحو <span style=\"color: #008080; text-decoration-color: #008080; font-weight: bold\">65</span> مليون نسمة وتختلف الكثافة السكانية والسرعة حسب تقديرات العمر النسبي للشمس ويمكن \n",
       "لهذه التجربة وفقا لصوف المسافة المستقيمة فإن مقدار كمية الكتلة هي <span style=\"color: #008080; text-decoration-color: #008080; font-weight: bold\">02</span> كم وارتفاع قيمة الدوال الأخرى مما يعني عدم \n",
       "توفر طاقة مرتفعة للكوكب بنسبة <span style=\"color: #008080; text-decoration-color: #008080; font-weight: bold\">80</span> % منها تحت معدل الراجع الصوتي للنقاط المحلية داخل نطاق التبادل ؛ وبالتالي تختلف \n",
       "عوامل النمو والأثر الكبير لذلك فهو يحتاج إليه المزيد منه لأن الزخم يسارع مرة أخرى للحرك بسرعة عالية نتيجة لهاما معا\n",
       "للتسبب بها بسبب التغيرات المعتمدة عليها وذلك باختصارها كالضوضاء ونترات متزايدة ولجارة محسنة جدا وقد تصل أعداد \n",
       "الوفيات الناتئة دون تدفق الماء المحشوبة باستخدام حجم الجسم الناتج عنها لتطور الحالة الحرارية وكذلك العرق المبكر \n",
       "لإنتفاخ الهواء عبر انحراف ضغط الضوء العالي للعقلاني وبذلك لم تكن قابلة لإعادة تحديد عدد ضاغيتها منذ سنوات عديدة ضمن\n",
       "درجات حرارة إضافية وإنسانية وظهور ظروف زمن البلازك وبإمكانياتها تبريث الجاذبية المتنبؤ بخواصته الطبيعية زيادة كثافة\n",
       "الكوكب المضيفة مثل المياه العذبية والمجرة\n",
       "</pre>\n"
      ],
      "text/plain": [
       "\n",
       "الماء هو سر الحياة وهو المكون الرئيسي\n",
       "القرن الثامن عشر والثالث في القرن التاسع والعشرين.  التغير الإيجابي الذي يمكن أن يكون له قريب من الشمس والتي يتم \n",
       "قياسها بأول أكسيد الكربون عن طريق الأشعة فوق البنفسجية \u001b[1m(\u001b[0m بما فيه العديد \u001b[1m)\u001b[0m ولكن لا تعتبر موصوفة بالنوع الهغلي للآلة \n",
       "الفلكية على شكل ذراعية غير مستقر ومع ذلك ، قد تصبح هذه المقالة موزعة بشكل خاص عندما تتلخص أرقام قياسية معينة مع قيم\n",
       "كل واحدة أو أكثر إلى حد كبير بين الأرض التي تكون سطرا بكتلة تبلغ \u001b[1;36m800\u001b[0m - \u001b[1;36m10\u001b[0m قدم لكل ثانية طبقا لقياس كتلة ثابتة عند \n",
       "\u001b[1;36m100\u001b[0m متر مكعب يداه حوالي \u001b[1;36m20\u001b[0m درجة \u001b[35m/\u001b[0m \u001b[1;36m11\u001b[0m ° و \u001b[1;36m2203000\u001b[0m سنة ضوئية كافية للدقة أكبر حيث تتساوي مساحة أقرب بكثير فقط \u001b[1;36m350\u001b[0m \n",
       "نيوتن فوسفات الثقيل ذات الطاقة المنخفضة خلال السنة الخمسة الأخيرة وبعد عام واحد سيكون السلم مقطوعة نسبيا لأعداد \n",
       "كبيرة بمعدل أعلى مقارنة بـ \u001b[1;36m1\u001b[0m, \u001b[1;36m24\u001b[0m ساعة تقريبا حتى هذا العام بالنسبة للأيونات الحركية الناضجة حول العالم بحيث تفقد \n",
       "الأجرام الصغيرة قدراتها \u001b[1;36m4\u001b[0m ملايين جسيم يتفوق فيها سطح القمر المرتفع كما يحدث بعده سرعة تقارب \u001b[1;36m17\u001b[0m كيلومترا فما كان \n",
       "عليه ما يزيد الحد الأقصى لهذا النجم المكسور قبل موسمين يبلغ عمرانه \u001b[1;36m50\u001b[0m عاما ويقدر حسابيا بحوالي 407كم بينما تشير \n",
       "التقارير أيضا أنها عجزت بنحو \u001b[1;36m65\u001b[0m مليون نسمة وتختلف الكثافة السكانية والسرعة حسب تقديرات العمر النسبي للشمس ويمكن \n",
       "لهذه التجربة وفقا لصوف المسافة المستقيمة فإن مقدار كمية الكتلة هي \u001b[1;36m02\u001b[0m كم وارتفاع قيمة الدوال الأخرى مما يعني عدم \n",
       "توفر طاقة مرتفعة للكوكب بنسبة \u001b[1;36m80\u001b[0m % منها تحت معدل الراجع الصوتي للنقاط المحلية داخل نطاق التبادل ؛ وبالتالي تختلف \n",
       "عوامل النمو والأثر الكبير لذلك فهو يحتاج إليه المزيد منه لأن الزخم يسارع مرة أخرى للحرك بسرعة عالية نتيجة لهاما معا\n",
       "للتسبب بها بسبب التغيرات المعتمدة عليها وذلك باختصارها كالضوضاء ونترات متزايدة ولجارة محسنة جدا وقد تصل أعداد \n",
       "الوفيات الناتئة دون تدفق الماء المحشوبة باستخدام حجم الجسم الناتج عنها لتطور الحالة الحرارية وكذلك العرق المبكر \n",
       "لإنتفاخ الهواء عبر انحراف ضغط الضوء العالي للعقلاني وبذلك لم تكن قابلة لإعادة تحديد عدد ضاغيتها منذ سنوات عديدة ضمن\n",
       "درجات حرارة إضافية وإنسانية وظهور ظروف زمن البلازك وبإمكانياتها تبريث الجاذبية المتنبؤ بخواصته الطبيعية زيادة كثافة\n",
       "الكوكب المضيفة مثل المياه العذبية والمجرة\n"
      ]
     },
     "metadata": {},
     "output_type": "display_data"
    }
   ],
   "source": [
    "print(output[0][\"generated_text\"])"
   ]
  }
 ],
 "metadata": {
  "kernelspec": {
   "display_name": "nanogpt",
   "language": "python",
   "name": "python3"
  },
  "language_info": {
   "codemirror_mode": {
    "name": "ipython",
    "version": 3
   },
   "file_extension": ".py",
   "mimetype": "text/x-python",
   "name": "python",
   "nbconvert_exporter": "python",
   "pygments_lexer": "ipython3",
   "version": "3.11.9"
  },
  "widgets": {
   "application/vnd.jupyter.widget-state+json": {
    "state": {},
    "version_major": 2,
    "version_minor": 0
   }
  }
 },
 "nbformat": 4,
 "nbformat_minor": 4
}
