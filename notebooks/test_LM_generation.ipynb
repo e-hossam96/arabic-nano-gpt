{
 "cells": [
  {
   "cell_type": "markdown",
   "metadata": {},
   "source": [
    "# LM Text Generation\n",
    "\n",
    "In this notebook, we will test the text generation capability of the model with sample prompts.\n"
   ]
  },
  {
   "cell_type": "code",
   "execution_count": 1,
   "metadata": {},
   "outputs": [],
   "source": [
    "from rich import print\n",
    "from transformers import pipeline"
   ]
  },
  {
   "cell_type": "code",
   "execution_count": 2,
   "metadata": {},
   "outputs": [],
   "source": [
    "model_ckpt = \"../models/arabic-nano-gpt-v2/\""
   ]
  },
  {
   "cell_type": "code",
   "execution_count": 3,
   "metadata": {},
   "outputs": [],
   "source": [
    "lm = pipeline(task=\"text-generation\", model=model_ckpt, device=\"cuda\")"
   ]
  },
  {
   "cell_type": "code",
   "execution_count": 4,
   "metadata": {},
   "outputs": [
    {
     "data": {
      "text/html": [
       "<pre style=\"white-space:pre;overflow-x:auto;line-height:normal;font-family:Menlo,'DejaVu Sans Mono',consolas,'Courier New',monospace\">المحرك النفاث هو محرك ينفث الموائع <span style=\"font-weight: bold\">(</span>الماء أو الهواء<span style=\"font-weight: bold\">)</span> بسرعة فائقة لينتج قوة دافعة اعتمادا على مبدأ قانون نيوتن \n",
       "الثالث للحركة. هذا التعريف الواسع للمحركات النفاثة يتضمن أيضا\n",
       "</pre>\n"
      ],
      "text/plain": [
       "المحرك النفاث هو محرك ينفث الموائع \u001b[1m(\u001b[0mالماء أو الهواء\u001b[1m)\u001b[0m بسرعة فائقة لينتج قوة دافعة اعتمادا على مبدأ قانون نيوتن \n",
       "الثالث للحركة. هذا التعريف الواسع للمحركات النفاثة يتضمن أيضا\n"
      ]
     },
     "metadata": {},
     "output_type": "display_data"
    }
   ],
   "source": [
    "prompt = \"\"\"المحرك النفاث هو محرك ينفث الموائع (الماء أو الهواء) بسرعة فائقة \\\n",
    "لينتج قوة دافعة اعتمادا على مبدأ قانون نيوتن الثالث للحركة. \\\n",
    "هذا التعريف الواسع للمحركات النفاثة يتضمن أيضا\"\"\"\n",
    "print(prompt.strip())"
   ]
  },
  {
   "cell_type": "code",
   "execution_count": 5,
   "metadata": {},
   "outputs": [],
   "source": [
    "output = lm(\n",
    "    prompt,\n",
    "    max_new_tokens=128,\n",
    "    # temperature=0.6,\n",
    "    # repetition_penalty=1.2,\n",
    ")"
   ]
  },
  {
   "cell_type": "code",
   "execution_count": 6,
   "metadata": {},
   "outputs": [
    {
     "data": {
      "text/html": [
       "<pre style=\"white-space:pre;overflow-x:auto;line-height:normal;font-family:Menlo,'DejaVu Sans Mono',consolas,'Courier New',monospace\">المحرك النفاث هو محرك ينفث الموائع <span style=\"font-weight: bold\">(</span>الماء أو الهواء<span style=\"font-weight: bold\">)</span> بسرعة فائقة لينتج قوة دافعة اعتمادا على مبدأ قانون نيوتن \n",
       "الثالث للحركة. هذا التعريف الواسع للمحركات النفاثة يتضمن أيضا محولات لونية وتغييرات في المحركات النفاثة عند مرور \n",
       "وقت أقل من ساعات أخرى. يستخدم هذا النظام في معظم أنظمة نقل الغاز والنفط والمواد الكيماوية. تم تطوير هذا النظام من \n",
       "قبل شركة بريتيش بتروليوم. \n",
       "ويمكن أن يشمل تشغيل المحرك النفاث نظام الدفع النفاث ، ونظام النقل النفاث ، والصاروخ ، ونظام الدفع النفاث ، ونظام \n",
       "تحكم الغلاف الجوي. \n",
       "وتم دمج محركات الطائرات النفاثة مع محركات نفاثة ذاتية الدفع مثل LCV ، ومركبة هبوط الفضاء ، والصاروخ ، ومشغلات \n",
       "الرادار ، ومحركات الطائرات الآلية. \n",
       "نظم الجناح النفاث ، وتجهيزها\n",
       "</pre>\n"
      ],
      "text/plain": [
       "المحرك النفاث هو محرك ينفث الموائع \u001b[1m(\u001b[0mالماء أو الهواء\u001b[1m)\u001b[0m بسرعة فائقة لينتج قوة دافعة اعتمادا على مبدأ قانون نيوتن \n",
       "الثالث للحركة. هذا التعريف الواسع للمحركات النفاثة يتضمن أيضا محولات لونية وتغييرات في المحركات النفاثة عند مرور \n",
       "وقت أقل من ساعات أخرى. يستخدم هذا النظام في معظم أنظمة نقل الغاز والنفط والمواد الكيماوية. تم تطوير هذا النظام من \n",
       "قبل شركة بريتيش بتروليوم. \n",
       "ويمكن أن يشمل تشغيل المحرك النفاث نظام الدفع النفاث ، ونظام النقل النفاث ، والصاروخ ، ونظام الدفع النفاث ، ونظام \n",
       "تحكم الغلاف الجوي. \n",
       "وتم دمج محركات الطائرات النفاثة مع محركات نفاثة ذاتية الدفع مثل LCV ، ومركبة هبوط الفضاء ، والصاروخ ، ومشغلات \n",
       "الرادار ، ومحركات الطائرات الآلية. \n",
       "نظم الجناح النفاث ، وتجهيزها\n"
      ]
     },
     "metadata": {},
     "output_type": "display_data"
    }
   ],
   "source": [
    "print(output[0][\"generated_text\"])"
   ]
  }
 ],
 "metadata": {
  "kernelspec": {
   "display_name": "nanogpt",
   "language": "python",
   "name": "python3"
  },
  "language_info": {
   "codemirror_mode": {
    "name": "ipython",
    "version": 3
   },
   "file_extension": ".py",
   "mimetype": "text/x-python",
   "name": "python",
   "nbconvert_exporter": "python",
   "pygments_lexer": "ipython3",
   "version": "3.11.9"
  },
  "widgets": {
   "application/vnd.jupyter.widget-state+json": {
    "state": {},
    "version_major": 2,
    "version_minor": 0
   }
  }
 },
 "nbformat": 4,
 "nbformat_minor": 4
}
