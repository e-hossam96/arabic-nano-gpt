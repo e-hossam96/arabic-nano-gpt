{
 "cells": [
  {
   "cell_type": "markdown",
   "metadata": {},
   "source": [
    "# LM Text Generation\n",
    "\n",
    "In this notebook, we will test the text generation capability of the model with sample prompts.\n"
   ]
  },
  {
   "cell_type": "code",
   "execution_count": 1,
   "metadata": {},
   "outputs": [],
   "source": [
    "from rich import print\n",
    "from transformers import pipeline"
   ]
  },
  {
   "cell_type": "code",
   "execution_count": 2,
   "metadata": {},
   "outputs": [],
   "source": [
    "model_ckpt = '../models/arabic-nano-gpt/'"
   ]
  },
  {
   "cell_type": "code",
   "execution_count": 3,
   "metadata": {},
   "outputs": [],
   "source": [
    "lm = pipeline(task='text-generation', model=model_ckpt, device='cuda')"
   ]
  },
  {
   "cell_type": "code",
   "execution_count": 8,
   "metadata": {},
   "outputs": [
    {
     "data": {
      "text/html": [
       "<pre style=\"white-space:pre;overflow-x:auto;line-height:normal;font-family:Menlo,'DejaVu Sans Mono',consolas,'Courier New',monospace\">الماء هو سر الحياة.\n",
       "</pre>\n"
      ],
      "text/plain": [
       "الماء هو سر الحياة.\n"
      ]
     },
     "metadata": {},
     "output_type": "display_data"
    }
   ],
   "source": [
    "prompt = '''\n",
    "الماء هو سر الحياة. \n",
    "'''\n",
    "print(prompt.strip())"
   ]
  },
  {
   "cell_type": "code",
   "execution_count": 9,
   "metadata": {},
   "outputs": [
    {
     "data": {
      "text/html": [
       "<pre style=\"white-space:pre;overflow-x:auto;line-height:normal;font-family:Menlo,'DejaVu Sans Mono',consolas,'Courier New',monospace\">GenerationConfig <span style=\"font-weight: bold\">{</span>\n",
       "  <span style=\"color: #008000; text-decoration-color: #008000\">\"bos_token_id\"</span>: <span style=\"color: #008080; text-decoration-color: #008080; font-weight: bold\">0</span>,\n",
       "  <span style=\"color: #008000; text-decoration-color: #008000\">\"eos_token_id\"</span>: <span style=\"color: #008080; text-decoration-color: #008080; font-weight: bold\">0</span>\n",
       "<span style=\"font-weight: bold\">}</span>\n",
       "\n",
       "</pre>\n"
      ],
      "text/plain": [
       "GenerationConfig \u001b[1m{\u001b[0m\n",
       "  \u001b[32m\"bos_token_id\"\u001b[0m: \u001b[1;36m0\u001b[0m,\n",
       "  \u001b[32m\"eos_token_id\"\u001b[0m: \u001b[1;36m0\u001b[0m\n",
       "\u001b[1m}\u001b[0m\n",
       "\n"
      ]
     },
     "metadata": {},
     "output_type": "display_data"
    }
   ],
   "source": [
    "print(lm.model.generation_config)"
   ]
  },
  {
   "cell_type": "code",
   "execution_count": 10,
   "metadata": {},
   "outputs": [],
   "source": [
    "output = lm(prompt, max_new_tokens=128)"
   ]
  },
  {
   "cell_type": "code",
   "execution_count": 11,
   "metadata": {},
   "outputs": [
    {
     "data": {
      "text/html": [
       "<pre style=\"white-space:pre;overflow-x:auto;line-height:normal;font-family:Menlo,'DejaVu Sans Mono',consolas,'Courier New',monospace\">\n",
       "الماء هو سر الحياة. \n",
       " مدينة «جندري بن جمة في البلاد.\n",
       " مذان بن أحمد جبر بن الحس،  بن ق، لاعب كرة قدم قيد بن علي المائة، حلم: شاب، سقما، زك، محمد بن زير، محمد بن أبي راه،\n",
       "عبد الله جفر بن محمد علي أبو بن علي بن عبد العزيز، غبر بن محمد عبد الله معال، محمد الله بن بن أبو نين، وعصر،: قلف \n",
       "بن عبد الله مهر بن الصعب بن عبد الله أحمد بن عبد الرحمن بن عبد الله عبد الرحمن القت بن سيم، من: القير\n",
       "</pre>\n"
      ],
      "text/plain": [
       "\n",
       "الماء هو سر الحياة. \n",
       " مدينة «جندري بن جمة في البلاد.\n",
       " مذان بن أحمد جبر بن الحس،  بن ق، لاعب كرة قدم قيد بن علي المائة، حلم: شاب، سقما، زك، محمد بن زير، محمد بن أبي راه،\n",
       "عبد الله جفر بن محمد علي أبو بن علي بن عبد العزيز، غبر بن محمد عبد الله معال، محمد الله بن بن أبو نين، وعصر،: قلف \n",
       "بن عبد الله مهر بن الصعب بن عبد الله أحمد بن عبد الرحمن بن عبد الله عبد الرحمن القت بن سيم، من: القير\n"
      ]
     },
     "metadata": {},
     "output_type": "display_data"
    }
   ],
   "source": [
    "print(output[0]['generated_text'])"
   ]
  }
 ],
 "metadata": {
  "kernelspec": {
   "display_name": "Python 3 (ipykernel)",
   "language": "python",
   "name": "python3"
  },
  "language_info": {
   "codemirror_mode": {
    "name": "ipython",
    "version": 3
   },
   "file_extension": ".py",
   "mimetype": "text/x-python",
   "name": "python",
   "nbconvert_exporter": "python",
   "pygments_lexer": "ipython3",
   "version": "3.11.9"
  },
  "widgets": {
   "application/vnd.jupyter.widget-state+json": {
    "state": {},
    "version_major": 2,
    "version_minor": 0
   }
  }
 },
 "nbformat": 4,
 "nbformat_minor": 4
}
